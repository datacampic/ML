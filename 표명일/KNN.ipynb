{
 "cells": [
  {
   "cell_type": "code",
   "execution_count": 1,
   "metadata": {},
   "outputs": [],
   "source": [
    "import pandas as pd\n",
    "import numpy as np\n",
    "import matplotlib.pyplot as plt\n",
    "import seaborn as sns\n",
    "\n",
    "import os"
   ]
  },
  {
   "cell_type": "code",
   "execution_count": 2,
   "metadata": {},
   "outputs": [],
   "source": [
    "glass = pd.read_csv('glass.csv', encoding = 'cp949')"
   ]
  },
  {
   "cell_type": "code",
   "execution_count": 3,
   "metadata": {},
   "outputs": [
    {
     "name": "stdout",
     "output_type": "stream",
     "text": [
      "<class 'pandas.core.frame.DataFrame'>\n",
      "RangeIndex: 214 entries, 0 to 213\n",
      "Data columns (total 10 columns):\n",
      " #   Column  Non-Null Count  Dtype  \n",
      "---  ------  --------------  -----  \n",
      " 0   RI      214 non-null    float64\n",
      " 1   Na      214 non-null    float64\n",
      " 2   Mg      214 non-null    float64\n",
      " 3   Al      214 non-null    float64\n",
      " 4   Si      214 non-null    float64\n",
      " 5   K       214 non-null    float64\n",
      " 6   Ca      214 non-null    float64\n",
      " 7   Ba      214 non-null    float64\n",
      " 8   Fe      214 non-null    float64\n",
      " 9   Type    214 non-null    int64  \n",
      "dtypes: float64(9), int64(1)\n",
      "memory usage: 16.8 KB\n"
     ]
    }
   ],
   "source": [
    "glass.info()"
   ]
  },
  {
   "cell_type": "code",
   "execution_count": 4,
   "metadata": {},
   "outputs": [
    {
     "data": {
      "text/html": [
       "<div>\n",
       "<style scoped>\n",
       "    .dataframe tbody tr th:only-of-type {\n",
       "        vertical-align: middle;\n",
       "    }\n",
       "\n",
       "    .dataframe tbody tr th {\n",
       "        vertical-align: top;\n",
       "    }\n",
       "\n",
       "    .dataframe thead th {\n",
       "        text-align: right;\n",
       "    }\n",
       "</style>\n",
       "<table border=\"1\" class=\"dataframe\">\n",
       "  <thead>\n",
       "    <tr style=\"text-align: right;\">\n",
       "      <th></th>\n",
       "      <th>RI</th>\n",
       "      <th>Na</th>\n",
       "      <th>Mg</th>\n",
       "      <th>Al</th>\n",
       "      <th>Si</th>\n",
       "      <th>K</th>\n",
       "      <th>Ca</th>\n",
       "      <th>Ba</th>\n",
       "      <th>Fe</th>\n",
       "      <th>Type</th>\n",
       "    </tr>\n",
       "  </thead>\n",
       "  <tbody>\n",
       "    <tr>\n",
       "      <th>0</th>\n",
       "      <td>1.52101</td>\n",
       "      <td>13.64</td>\n",
       "      <td>4.49</td>\n",
       "      <td>1.10</td>\n",
       "      <td>71.78</td>\n",
       "      <td>0.06</td>\n",
       "      <td>8.75</td>\n",
       "      <td>0.0</td>\n",
       "      <td>0.0</td>\n",
       "      <td>1</td>\n",
       "    </tr>\n",
       "    <tr>\n",
       "      <th>1</th>\n",
       "      <td>1.51761</td>\n",
       "      <td>13.89</td>\n",
       "      <td>3.60</td>\n",
       "      <td>1.36</td>\n",
       "      <td>72.73</td>\n",
       "      <td>0.48</td>\n",
       "      <td>7.83</td>\n",
       "      <td>0.0</td>\n",
       "      <td>0.0</td>\n",
       "      <td>1</td>\n",
       "    </tr>\n",
       "    <tr>\n",
       "      <th>2</th>\n",
       "      <td>1.51618</td>\n",
       "      <td>13.53</td>\n",
       "      <td>3.55</td>\n",
       "      <td>1.54</td>\n",
       "      <td>72.99</td>\n",
       "      <td>0.39</td>\n",
       "      <td>7.78</td>\n",
       "      <td>0.0</td>\n",
       "      <td>0.0</td>\n",
       "      <td>1</td>\n",
       "    </tr>\n",
       "    <tr>\n",
       "      <th>3</th>\n",
       "      <td>1.51766</td>\n",
       "      <td>13.21</td>\n",
       "      <td>3.69</td>\n",
       "      <td>1.29</td>\n",
       "      <td>72.61</td>\n",
       "      <td>0.57</td>\n",
       "      <td>8.22</td>\n",
       "      <td>0.0</td>\n",
       "      <td>0.0</td>\n",
       "      <td>1</td>\n",
       "    </tr>\n",
       "    <tr>\n",
       "      <th>4</th>\n",
       "      <td>1.51742</td>\n",
       "      <td>13.27</td>\n",
       "      <td>3.62</td>\n",
       "      <td>1.24</td>\n",
       "      <td>73.08</td>\n",
       "      <td>0.55</td>\n",
       "      <td>8.07</td>\n",
       "      <td>0.0</td>\n",
       "      <td>0.0</td>\n",
       "      <td>1</td>\n",
       "    </tr>\n",
       "  </tbody>\n",
       "</table>\n",
       "</div>"
      ],
      "text/plain": [
       "        RI     Na    Mg    Al     Si     K    Ca   Ba   Fe  Type\n",
       "0  1.52101  13.64  4.49  1.10  71.78  0.06  8.75  0.0  0.0     1\n",
       "1  1.51761  13.89  3.60  1.36  72.73  0.48  7.83  0.0  0.0     1\n",
       "2  1.51618  13.53  3.55  1.54  72.99  0.39  7.78  0.0  0.0     1\n",
       "3  1.51766  13.21  3.69  1.29  72.61  0.57  8.22  0.0  0.0     1\n",
       "4  1.51742  13.27  3.62  1.24  73.08  0.55  8.07  0.0  0.0     1"
      ]
     },
     "execution_count": 4,
     "metadata": {},
     "output_type": "execute_result"
    }
   ],
   "source": [
    "glass.head()"
   ]
  },
  {
   "cell_type": "code",
   "execution_count": 5,
   "metadata": {},
   "outputs": [
    {
     "data": {
      "text/plain": [
       "(214, 10)"
      ]
     },
     "execution_count": 5,
     "metadata": {},
     "output_type": "execute_result"
    }
   ],
   "source": [
    "glass.shape"
   ]
  },
  {
   "cell_type": "code",
   "execution_count": 6,
   "metadata": {},
   "outputs": [
    {
     "data": {
      "text/plain": [
       "array([1, 2, 3, 5, 6, 7], dtype=int64)"
      ]
     },
     "execution_count": 6,
     "metadata": {},
     "output_type": "execute_result"
    }
   ],
   "source": [
    "glass['Type'].unique()"
   ]
  },
  {
   "cell_type": "code",
   "execution_count": 7,
   "metadata": {
    "scrolled": true
   },
   "outputs": [
    {
     "data": {
      "text/plain": [
       "2    76\n",
       "1    70\n",
       "7    29\n",
       "3    17\n",
       "5    13\n",
       "6     9\n",
       "Name: Type, dtype: int64"
      ]
     },
     "execution_count": 7,
     "metadata": {},
     "output_type": "execute_result"
    }
   ],
   "source": [
    "glass['Type'].value_counts()"
   ]
  },
  {
   "cell_type": "code",
   "execution_count": 8,
   "metadata": {},
   "outputs": [],
   "source": [
    "X = glass.drop(['Type'], axis = 1)\n",
    "Y = glass['Type']"
   ]
  },
  {
   "cell_type": "code",
   "execution_count": 9,
   "metadata": {},
   "outputs": [],
   "source": [
    "from sklearn.model_selection import train_test_split\n",
    "\n",
    "X_train, X_test, y_train, y_test = train_test_split(X,Y, test_size = 0.3)"
   ]
  },
  {
   "cell_type": "code",
   "execution_count": 10,
   "metadata": {},
   "outputs": [],
   "source": [
    "from sklearn.preprocessing import StandardScaler\n",
    "scaler = StandardScaler()\n",
    "scaler.fit(X_train)\n",
    "\n",
    "X_train = scaler.fit_transform(X_train)\n",
    "X_test = scaler.fit_transform(X_test)"
   ]
  },
  {
   "cell_type": "code",
   "execution_count": 11,
   "metadata": {},
   "outputs": [
    {
     "data": {
      "text/plain": [
       "KNeighborsClassifier(n_neighbors=3)"
      ]
     },
     "execution_count": 11,
     "metadata": {},
     "output_type": "execute_result"
    }
   ],
   "source": [
    "from sklearn.neighbors import KNeighborsClassifier\n",
    "\n",
    "knn = KNeighborsClassifier(n_neighbors=3).fit(X_train, y_train)\n",
    "#n_neighbors : 기본적인 인접 항목 수 보통 홀수로 사용(짝수일경우 인접 항목 수가 k/2: k/2로 분류가 안 될 수 있기 때문)\n",
    "#algorithm : 가장 가까운 이웃을 찾는데 사용하는 알고리즘으로 'Kd_Tree', 'ball_Tree', 'brute'가 있다. default값은 'auto'이다.\n",
    "## 'auto'는 데이터를 파악해서 가장 좋은 알고리즘을 자동으로 선택한다.\n",
    "#metric : 사용될 거리지표를 선정하는 파라미터로 default값은 '민노우스키 거리'이다. 하지만 대부분 '유클리드 거리'를 사용한다.\n",
    "knn"
   ]
  },
  {
   "cell_type": "markdown",
   "metadata": {},
   "source": [
    "### Nearest Neighbor Algorithms\n",
    "#### Brute Force(브루트 포스) : 무차별적으로 데이터 집합의 모든 데이터 쌍의 거리를 계산한다. 소규모 데이터 셋에서는 좋을 수 있으나 데이터 셋이 클경우에는 시간이 오래걸린다.\n",
    "#### K-D Tree : 비효율적인 brute-force 접근법을 해결하기 위해서, 트리 기반으로 이루어진 알고리즘으로 거리 집계 정보를 효율적으로 인코딩해서 필요한 거리 계산 수를 줄이려고 시도한다. \n",
    "#### Ball Tree : K-D Tree의 비효율성을 줄이기 위해 개발된 트리 구조로 매우 높은 차원이나 매우 구조화된 데이터에서 효율적으로 사용할 수 있다."
   ]
  },
  {
   "cell_type": "markdown",
   "metadata": {},
   "source": [
    "### <a href = \"https://scikit-learn.org/stable/modules/generated/sklearn.neighbors.DistanceMetric.html#sklearn.neighbors.DistanceMetric\" >거리지표</a> "
   ]
  },
  {
   "cell_type": "markdown",
   "metadata": {},
   "source": [
    "#### (KNN에서 주로 사용하는 지표) <a href = \"https://syj9700.tistory.com/8\"> 참고 </a>\n",
    "#### 유클리디안 거리 : 두 관측치사이의 직선거리로 가장 흔히 사용하는 거리이다.\n",
    "<img src = \"https://wikimedia.org/api/rest_v1/media/math/render/svg/2e0c9ce1b3455cb9e92c6bad6684dbda02f69c82\"></img>\n",
    "#### 맨하튼 거리 : 격자를 이용한 거리로 각 좌표축 방향으로만 이동할 경우에 계산되는 거리이다. \n",
    "<img src = \"https://wikimedia.org/api/rest_v1/media/math/render/svg/4704625b5a645aae2cd0177cab7e8892b8f962bf\"></img>\n",
    "#### 마할라노비스 거리 : 변수내 분산, 변수간 공분산을 반영한 거리이다. 공분산 행렬이 단위행렬이면 유클리디안 거리가 된다.\n",
    "<img src = \"마할라노비스 거리.jpg\"></img>"
   ]
  },
  {
   "cell_type": "code",
   "execution_count": 12,
   "metadata": {},
   "outputs": [],
   "source": [
    "y_pred = knn.predict(X_test)"
   ]
  },
  {
   "cell_type": "code",
   "execution_count": 13,
   "metadata": {},
   "outputs": [
    {
     "name": "stdout",
     "output_type": "stream",
     "text": [
      "141    2\n",
      "131    2\n",
      "108    2\n",
      "165    5\n",
      "71     2\n",
      "      ..\n",
      "72     2\n",
      "119    2\n",
      "31     1\n",
      "8      1\n",
      "198    7\n",
      "Name: Type, Length: 65, dtype: int64\n",
      "[1 5 2 5 2 2 2 7 7 1 2 1 7 1 1 1 7 1 2 5 1 2 7 2 1 1 2 2 1 2 1 1 2 7 3 1 1\n",
      " 7 2 1 2 1 1 1 2 1 2 1 1 1 2 7 2 1 2 1 2 1 1 1 2 2 1 1 7]\n"
     ]
    }
   ],
   "source": [
    "print(y_test)\n",
    "print(y_pred)"
   ]
  },
  {
   "cell_type": "code",
   "execution_count": 14,
   "metadata": {},
   "outputs": [
    {
     "name": "stdout",
     "output_type": "stream",
     "text": [
      "[[17  2  1  0  0  0]\n",
      " [ 9 19  0  2  0  0]\n",
      " [ 4  1  0  0  0  0]\n",
      " [ 0  0  0  1  0  0]\n",
      " [ 0  0  0  0  0  1]\n",
      " [ 0  0  0  0  0  8]]\n",
      "              precision    recall  f1-score   support\n",
      "\n",
      "           1       0.57      0.85      0.68        20\n",
      "           2       0.86      0.63      0.73        30\n",
      "           3       0.00      0.00      0.00         5\n",
      "           5       0.33      1.00      0.50         1\n",
      "           6       0.00      0.00      0.00         1\n",
      "           7       0.89      1.00      0.94         8\n",
      "\n",
      "    accuracy                           0.69        65\n",
      "   macro avg       0.44      0.58      0.48        65\n",
      "weighted avg       0.69      0.69      0.67        65\n",
      "\n"
     ]
    },
    {
     "name": "stderr",
     "output_type": "stream",
     "text": [
      "C:\\ProgramData\\Anaconda3\\lib\\site-packages\\sklearn\\metrics\\_classification.py:1308: UndefinedMetricWarning: Precision and F-score are ill-defined and being set to 0.0 in labels with no predicted samples. Use `zero_division` parameter to control this behavior.\n",
      "  _warn_prf(average, modifier, msg_start, len(result))\n",
      "C:\\ProgramData\\Anaconda3\\lib\\site-packages\\sklearn\\metrics\\_classification.py:1308: UndefinedMetricWarning: Precision and F-score are ill-defined and being set to 0.0 in labels with no predicted samples. Use `zero_division` parameter to control this behavior.\n",
      "  _warn_prf(average, modifier, msg_start, len(result))\n",
      "C:\\ProgramData\\Anaconda3\\lib\\site-packages\\sklearn\\metrics\\_classification.py:1308: UndefinedMetricWarning: Precision and F-score are ill-defined and being set to 0.0 in labels with no predicted samples. Use `zero_division` parameter to control this behavior.\n",
      "  _warn_prf(average, modifier, msg_start, len(result))\n"
     ]
    }
   ],
   "source": [
    "from sklearn import metrics\n",
    "knn_matrix = metrics.confusion_matrix(y_test, y_pred)\n",
    "knn_report = metrics.classification_report(y_test, y_pred)\n",
    "\n",
    "print(knn_matrix)\n",
    "print(knn_report)"
   ]
  },
  {
   "cell_type": "code",
   "execution_count": 15,
   "metadata": {},
   "outputs": [
    {
     "data": {
      "image/png": "[encoded data removed]",
      "text/plain": [
       "<Figure size 432x288 with 1 Axes>"
      ]
     },
     "metadata": {
      "needs_background": "light"
     },
     "output_type": "display_data"
    }
   ],
   "source": [
    "train_list = []\n",
    "\n",
    "test_list = []\n",
    "\n",
    "n_range = range(1, 10)\n",
    "\n",
    "\n",
    "\n",
    "for i in n_range:\n",
    "\n",
    "    knn = KNeighborsClassifier(n_neighbors=i, n_jobs=-1)\n",
    "\n",
    "    knn.fit(X_train, y_train)\n",
    "\n",
    "    tr_score = knn.score(X_train, y_train)\n",
    "    te_score = knn.score(X_test, y_test)\n",
    "\n",
    "    train_list.append(tr_score)\n",
    "    test_list.append(te_score)\n",
    "    \n",
    "plt.plot(n_range, train_list, color='red', ls='--', lw=2, label='train accuracy') # ls = linestyle, lw= linewidth\n",
    "\n",
    "plt.plot(n_range, test_list, color='green', lw=2, label='test accuracy')\n",
    "\n",
    "plt.xticks(n_range)\n",
    "\n",
    "plt.xlabel('n_neighbors')\n",
    "\n",
    "plt.ylabel('accuracy')\n",
    "\n",
    "plt.legend() \n",
    "\n",
    "plt.show()"
   ]
  },
  {
   "cell_type": "code",
   "execution_count": 16,
   "metadata": {},
   "outputs": [
    {
     "data": {
      "text/plain": [
       "KNeighborsClassifier(metric='euclidean', n_neighbors=3)"
      ]
     },
     "execution_count": 16,
     "metadata": {},
     "output_type": "execute_result"
    }
   ],
   "source": [
    "from sklearn.neighbors import KNeighborsClassifier\n",
    "from sklearn.neighbors import DistanceMetric\n",
    "knn = KNeighborsClassifier(n_neighbors=3, metric = 'euclidean').fit(X_train, y_train)\n",
    "knn"
   ]
  },
  {
   "cell_type": "code",
   "execution_count": 17,
   "metadata": {},
   "outputs": [
    {
     "name": "stdout",
     "output_type": "stream",
     "text": [
      "[[17  2  1  0  0  0]\n",
      " [ 9 19  0  2  0  0]\n",
      " [ 4  1  0  0  0  0]\n",
      " [ 0  0  0  1  0  0]\n",
      " [ 0  0  0  0  0  1]\n",
      " [ 0  0  0  0  0  8]]\n",
      "              precision    recall  f1-score   support\n",
      "\n",
      "           1       0.57      0.85      0.68        20\n",
      "           2       0.86      0.63      0.73        30\n",
      "           3       0.00      0.00      0.00         5\n",
      "           5       0.33      1.00      0.50         1\n",
      "           6       0.00      0.00      0.00         1\n",
      "           7       0.89      1.00      0.94         8\n",
      "\n",
      "    accuracy                           0.69        65\n",
      "   macro avg       0.44      0.58      0.48        65\n",
      "weighted avg       0.69      0.69      0.67        65\n",
      "\n"
     ]
    },
    {
     "name": "stderr",
     "output_type": "stream",
     "text": [
      "C:\\ProgramData\\Anaconda3\\lib\\site-packages\\sklearn\\metrics\\_classification.py:1308: UndefinedMetricWarning: Precision and F-score are ill-defined and being set to 0.0 in labels with no predicted samples. Use `zero_division` parameter to control this behavior.\n",
      "  _warn_prf(average, modifier, msg_start, len(result))\n",
      "C:\\ProgramData\\Anaconda3\\lib\\site-packages\\sklearn\\metrics\\_classification.py:1308: UndefinedMetricWarning: Precision and F-score are ill-defined and being set to 0.0 in labels with no predicted samples. Use `zero_division` parameter to control this behavior.\n",
      "  _warn_prf(average, modifier, msg_start, len(result))\n",
      "C:\\ProgramData\\Anaconda3\\lib\\site-packages\\sklearn\\metrics\\_classification.py:1308: UndefinedMetricWarning: Precision and F-score are ill-defined and being set to 0.0 in labels with no predicted samples. Use `zero_division` parameter to control this behavior.\n",
      "  _warn_prf(average, modifier, msg_start, len(result))\n"
     ]
    }
   ],
   "source": [
    "y_pred = knn.predict(X_test)\n",
    "\n",
    "from sklearn import metrics\n",
    "knn_matrix = metrics.confusion_matrix(y_test, y_pred)\n",
    "knn_report = metrics.classification_report(y_test, y_pred)\n",
    "\n",
    "print(knn_matrix)\n",
    "print(knn_report)"
   ]
  },
  {
   "cell_type": "code",
   "execution_count": 18,
   "metadata": {},
   "outputs": [
    {
     "data": {
      "image/png": "[encoded data removed]",
      "text/plain": [
       "<Figure size 432x288 with 1 Axes>"
      ]
     },
     "metadata": {
      "needs_background": "light"
     },
     "output_type": "display_data"
    }
   ],
   "source": [
    "train_list = []\n",
    "\n",
    "test_list = []\n",
    "\n",
    "n_range = range(1, 10)\n",
    "\n",
    "\n",
    "\n",
    "for i in n_range:\n",
    "\n",
    "    knn = KNeighborsClassifier(n_neighbors=i, n_jobs=-1, metric = 'euclidean')\n",
    "\n",
    "    knn.fit(X_train, y_train)\n",
    "\n",
    "    tr_score = knn.score(X_train, y_train)\n",
    "    te_score = knn.score(X_test, y_test)\n",
    "\n",
    "    train_list.append(tr_score)\n",
    "    test_list.append(te_score)\n",
    "    \n",
    "plt.plot(n_range, train_list, color='red', ls='--', lw=2, label='train accuracy') # ls = linestyle, lw= linewidth\n",
    "\n",
    "plt.plot(n_range, test_list, color='green', lw=2, label='test accuracy')\n",
    "\n",
    "plt.xticks(n_range)\n",
    "\n",
    "plt.xlabel('n_neighbors')\n",
    "\n",
    "plt.ylabel('accuracy')\n",
    "\n",
    "plt.legend() \n",
    "\n",
    "plt.show()"
   ]
  },
  {
   "cell_type": "code",
   "execution_count": 19,
   "metadata": {},
   "outputs": [
    {
     "data": {
      "text/plain": [
       "KNeighborsClassifier(metric='manhattan', n_neighbors=3)"
      ]
     },
     "execution_count": 19,
     "metadata": {},
     "output_type": "execute_result"
    }
   ],
   "source": [
    "from sklearn.neighbors import KNeighborsClassifier\n",
    "from sklearn.neighbors import DistanceMetric\n",
    "knn = KNeighborsClassifier(n_neighbors=3, metric = 'manhattan').fit(X_train, y_train)\n",
    "knn"
   ]
  },
  {
   "cell_type": "code",
   "execution_count": 20,
   "metadata": {},
   "outputs": [
    {
     "name": "stdout",
     "output_type": "stream",
     "text": [
      "[[15  3  2  0  0  0]\n",
      " [ 6 19  2  2  1  0]\n",
      " [ 4  1  0  0  0  0]\n",
      " [ 0  0  0  1  0  0]\n",
      " [ 1  0  0  0  0  0]\n",
      " [ 0  0  0  0  0  8]]\n",
      "              precision    recall  f1-score   support\n",
      "\n",
      "           1       0.58      0.75      0.65        20\n",
      "           2       0.83      0.63      0.72        30\n",
      "           3       0.00      0.00      0.00         5\n",
      "           5       0.33      1.00      0.50         1\n",
      "           6       0.00      0.00      0.00         1\n",
      "           7       1.00      1.00      1.00         8\n",
      "\n",
      "    accuracy                           0.66        65\n",
      "   macro avg       0.46      0.56      0.48        65\n",
      "weighted avg       0.69      0.66      0.66        65\n",
      "\n"
     ]
    }
   ],
   "source": [
    "y_pred = knn.predict(X_test)\n",
    "\n",
    "from sklearn import metrics\n",
    "knn_matrix = metrics.confusion_matrix(y_test, y_pred)\n",
    "knn_report = metrics.classification_report(y_test, y_pred)\n",
    "\n",
    "print(knn_matrix)\n",
    "print(knn_report)"
   ]
  },
  {
   "cell_type": "code",
   "execution_count": 21,
   "metadata": {},
   "outputs": [
    {
     "data": {
      "image/png": "[encoded data removed]",
      "text/plain": [
       "<Figure size 432x288 with 1 Axes>"
      ]
     },
     "metadata": {
      "needs_background": "light"
     },
     "output_type": "display_data"
    }
   ],
   "source": [
    "train_list = []\n",
    "\n",
    "test_list = []\n",
    "\n",
    "n_range = range(1, 10)\n",
    "\n",
    "\n",
    "\n",
    "for i in n_range:\n",
    "\n",
    "    knn = KNeighborsClassifier(n_neighbors=i, metric = 'manhattan')\n",
    "\n",
    "    knn.fit(X_train, y_train)\n",
    "\n",
    "    tr_score = knn.score(X_train, y_train)\n",
    "    te_score = knn.score(X_test, y_test)\n",
    "\n",
    "    train_list.append(tr_score)\n",
    "    test_list.append(te_score)\n",
    "    \n",
    "plt.plot(n_range, train_list, color='red', ls='--', lw=2, label='train accuracy') # ls = linestyle, lw= linewidth\n",
    "\n",
    "plt.plot(n_range, test_list, color='green', lw=2, label='test accuracy')\n",
    "\n",
    "plt.xticks(n_range)\n",
    "\n",
    "plt.xlabel('n_neighbors')\n",
    "\n",
    "plt.ylabel('accuracy')\n",
    "\n",
    "plt.legend() \n",
    "\n",
    "plt.show()"
   ]
  },
  {
   "cell_type": "code",
   "execution_count": null,
   "metadata": {},
   "outputs": [],
   "source": []
  }
 ],
 "metadata": {
  "kernelspec": {
   "display_name": "Python 3",
   "language": "python",
   "name": "python3"
  },
  "language_info": {
   "codemirror_mode": {
    "name": "ipython",
    "version": 3
   },
   "file_extension": ".py",
   "mimetype": "text/x-python",
   "name": "python",
   "nbconvert_exporter": "python",
   "pygments_lexer": "ipython3",
   "version": "3.8.3"
  }
 },
 "nbformat": 4,
 "nbformat_minor": 4
}
