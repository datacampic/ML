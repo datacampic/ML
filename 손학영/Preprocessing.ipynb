{
 "cells": [
  {
   "cell_type": "code",
   "execution_count": 2,
   "metadata": {},
   "outputs": [],
   "source": [
    "import pandas as pd \n",
    "import numpy as np"
   ]
  },
  {
   "cell_type": "code",
   "execution_count": 3,
   "metadata": {},
   "outputs": [
    {
     "data": {
      "text/html": [
       "<div>\n",
       "<style scoped>\n",
       "    .dataframe tbody tr th:only-of-type {\n",
       "        vertical-align: middle;\n",
       "    }\n",
       "\n",
       "    .dataframe tbody tr th {\n",
       "        vertical-align: top;\n",
       "    }\n",
       "\n",
       "    .dataframe thead th {\n",
       "        text-align: right;\n",
       "    }\n",
       "</style>\n",
       "<table border=\"1\" class=\"dataframe\">\n",
       "  <thead>\n",
       "    <tr style=\"text-align: right;\">\n",
       "      <th></th>\n",
       "      <th>datetime</th>\n",
       "      <th>season</th>\n",
       "      <th>holiday</th>\n",
       "      <th>workingday</th>\n",
       "      <th>weather</th>\n",
       "      <th>temp</th>\n",
       "      <th>atemp</th>\n",
       "      <th>humidity</th>\n",
       "      <th>windspeed</th>\n",
       "      <th>casual</th>\n",
       "      <th>registered</th>\n",
       "      <th>count</th>\n",
       "    </tr>\n",
       "  </thead>\n",
       "  <tbody>\n",
       "    <tr>\n",
       "      <th>0</th>\n",
       "      <td>2011-01-01 00:00:00</td>\n",
       "      <td>1</td>\n",
       "      <td>0</td>\n",
       "      <td>0</td>\n",
       "      <td>1</td>\n",
       "      <td>9.84</td>\n",
       "      <td>14.395</td>\n",
       "      <td>81</td>\n",
       "      <td>0.0</td>\n",
       "      <td>3</td>\n",
       "      <td>13</td>\n",
       "      <td>16</td>\n",
       "    </tr>\n",
       "    <tr>\n",
       "      <th>1</th>\n",
       "      <td>2011-01-01 01:00:00</td>\n",
       "      <td>1</td>\n",
       "      <td>0</td>\n",
       "      <td>0</td>\n",
       "      <td>1</td>\n",
       "      <td>9.02</td>\n",
       "      <td>13.635</td>\n",
       "      <td>80</td>\n",
       "      <td>0.0</td>\n",
       "      <td>8</td>\n",
       "      <td>32</td>\n",
       "      <td>40</td>\n",
       "    </tr>\n",
       "    <tr>\n",
       "      <th>2</th>\n",
       "      <td>2011-01-01 02:00:00</td>\n",
       "      <td>1</td>\n",
       "      <td>0</td>\n",
       "      <td>0</td>\n",
       "      <td>1</td>\n",
       "      <td>9.02</td>\n",
       "      <td>13.635</td>\n",
       "      <td>80</td>\n",
       "      <td>0.0</td>\n",
       "      <td>5</td>\n",
       "      <td>27</td>\n",
       "      <td>32</td>\n",
       "    </tr>\n",
       "    <tr>\n",
       "      <th>3</th>\n",
       "      <td>2011-01-01 03:00:00</td>\n",
       "      <td>1</td>\n",
       "      <td>0</td>\n",
       "      <td>0</td>\n",
       "      <td>1</td>\n",
       "      <td>9.84</td>\n",
       "      <td>14.395</td>\n",
       "      <td>75</td>\n",
       "      <td>0.0</td>\n",
       "      <td>3</td>\n",
       "      <td>10</td>\n",
       "      <td>13</td>\n",
       "    </tr>\n",
       "    <tr>\n",
       "      <th>4</th>\n",
       "      <td>2011-01-01 04:00:00</td>\n",
       "      <td>1</td>\n",
       "      <td>0</td>\n",
       "      <td>0</td>\n",
       "      <td>1</td>\n",
       "      <td>9.84</td>\n",
       "      <td>14.395</td>\n",
       "      <td>75</td>\n",
       "      <td>0.0</td>\n",
       "      <td>0</td>\n",
       "      <td>1</td>\n",
       "      <td>1</td>\n",
       "    </tr>\n",
       "  </tbody>\n",
       "</table>\n",
       "</div>"
      ],
      "text/plain": [
       "              datetime  season  holiday  workingday  weather  temp   atemp  \\\n",
       "0  2011-01-01 00:00:00       1        0           0        1  9.84  14.395   \n",
       "1  2011-01-01 01:00:00       1        0           0        1  9.02  13.635   \n",
       "2  2011-01-01 02:00:00       1        0           0        1  9.02  13.635   \n",
       "3  2011-01-01 03:00:00       1        0           0        1  9.84  14.395   \n",
       "4  2011-01-01 04:00:00       1        0           0        1  9.84  14.395   \n",
       "\n",
       "   humidity  windspeed  casual  registered  count  \n",
       "0        81        0.0       3          13     16  \n",
       "1        80        0.0       8          32     40  \n",
       "2        80        0.0       5          27     32  \n",
       "3        75        0.0       3          10     13  \n",
       "4        75        0.0       0           1      1  "
      ]
     },
     "execution_count": 3,
     "metadata": {},
     "output_type": "execute_result"
    }
   ],
   "source": [
    "df_bi = pd.read_csv(\"./data/train_bicycle.csv\")\n",
    "df_bi.head()"
   ]
  },
  {
   "cell_type": "code",
   "execution_count": null,
   "metadata": {},
   "outputs": [],
   "source": [
    "# df_ve = pd.read_csv(\"./data/train_vegetable.csv\")\n",
    "# df_ve.head()"
   ]
  },
  {
   "cell_type": "markdown",
   "metadata": {},
   "source": [
    "# Section 04 \n",
    "## 4-1 원핫인코딩"
   ]
  },
  {
   "cell_type": "code",
   "execution_count": 11,
   "metadata": {},
   "outputs": [
    {
     "data": {
      "text/plain": [
       "Index(['datetime', 'season', 'holiday', 'workingday', 'weather', 'temp',\n",
       "       'atemp', 'humidity', 'windspeed', 'casual', 'registered', 'count'],\n",
       "      dtype='object')"
      ]
     },
     "execution_count": 11,
     "metadata": {},
     "output_type": "execute_result"
    }
   ],
   "source": [
    "df_bi.columns"
   ]
  },
  {
   "cell_type": "markdown",
   "metadata": {},
   "source": [
    "카테고리형 feature  알아보기 "
   ]
  },
  {
   "cell_type": "code",
   "execution_count": 17,
   "metadata": {},
   "outputs": [
    {
     "name": "stdout",
     "output_type": "stream",
     "text": [
      "s :  [1 2 3 4]\n",
      "h :  [0 1]\n",
      "w :  [0 1]\n",
      "w :  [1 2 3 4]\n"
     ]
    }
   ],
   "source": [
    "print(\"s : \" , df_bi['season'].unique())\n",
    "print(\"h : \", df_bi['holiday'].unique())\n",
    "print(\"w : \", df_bi['workingday'].unique())\n",
    "print(\"w : \", df_bi['weather'].unique())\n",
    "# print(\"c : \", df_bi['casual'].unique())\n",
    "# print(\"r : \", df_bi['registered'].unique())\n"
   ]
  },
  {
   "cell_type": "markdown",
   "metadata": {},
   "source": [
    "season, "
   ]
  },
  {
   "cell_type": "code",
   "execution_count": 4,
   "metadata": {},
   "outputs": [
    {
     "name": "stdout",
     "output_type": "stream",
     "text": [
      "전 :  (10886, 12)\n",
      "후 :  (10886, 18)\n"
     ]
    },
    {
     "data": {
      "text/html": [
       "<div>\n",
       "<style scoped>\n",
       "    .dataframe tbody tr th:only-of-type {\n",
       "        vertical-align: middle;\n",
       "    }\n",
       "\n",
       "    .dataframe tbody tr th {\n",
       "        vertical-align: top;\n",
       "    }\n",
       "\n",
       "    .dataframe thead th {\n",
       "        text-align: right;\n",
       "    }\n",
       "</style>\n",
       "<table border=\"1\" class=\"dataframe\">\n",
       "  <thead>\n",
       "    <tr style=\"text-align: right;\">\n",
       "      <th></th>\n",
       "      <th>datetime</th>\n",
       "      <th>holiday</th>\n",
       "      <th>workingday</th>\n",
       "      <th>temp</th>\n",
       "      <th>atemp</th>\n",
       "      <th>humidity</th>\n",
       "      <th>windspeed</th>\n",
       "      <th>casual</th>\n",
       "      <th>registered</th>\n",
       "      <th>count</th>\n",
       "      <th>season_1</th>\n",
       "      <th>season_2</th>\n",
       "      <th>season_3</th>\n",
       "      <th>season_4</th>\n",
       "      <th>weather_1</th>\n",
       "      <th>weather_2</th>\n",
       "      <th>weather_3</th>\n",
       "      <th>weather_4</th>\n",
       "    </tr>\n",
       "  </thead>\n",
       "  <tbody>\n",
       "    <tr>\n",
       "      <th>0</th>\n",
       "      <td>2011-01-01 00:00:00</td>\n",
       "      <td>0</td>\n",
       "      <td>0</td>\n",
       "      <td>9.84</td>\n",
       "      <td>14.395</td>\n",
       "      <td>81</td>\n",
       "      <td>0.0</td>\n",
       "      <td>3</td>\n",
       "      <td>13</td>\n",
       "      <td>16</td>\n",
       "      <td>1</td>\n",
       "      <td>0</td>\n",
       "      <td>0</td>\n",
       "      <td>0</td>\n",
       "      <td>1</td>\n",
       "      <td>0</td>\n",
       "      <td>0</td>\n",
       "      <td>0</td>\n",
       "    </tr>\n",
       "    <tr>\n",
       "      <th>1</th>\n",
       "      <td>2011-01-01 01:00:00</td>\n",
       "      <td>0</td>\n",
       "      <td>0</td>\n",
       "      <td>9.02</td>\n",
       "      <td>13.635</td>\n",
       "      <td>80</td>\n",
       "      <td>0.0</td>\n",
       "      <td>8</td>\n",
       "      <td>32</td>\n",
       "      <td>40</td>\n",
       "      <td>1</td>\n",
       "      <td>0</td>\n",
       "      <td>0</td>\n",
       "      <td>0</td>\n",
       "      <td>1</td>\n",
       "      <td>0</td>\n",
       "      <td>0</td>\n",
       "      <td>0</td>\n",
       "    </tr>\n",
       "    <tr>\n",
       "      <th>2</th>\n",
       "      <td>2011-01-01 02:00:00</td>\n",
       "      <td>0</td>\n",
       "      <td>0</td>\n",
       "      <td>9.02</td>\n",
       "      <td>13.635</td>\n",
       "      <td>80</td>\n",
       "      <td>0.0</td>\n",
       "      <td>5</td>\n",
       "      <td>27</td>\n",
       "      <td>32</td>\n",
       "      <td>1</td>\n",
       "      <td>0</td>\n",
       "      <td>0</td>\n",
       "      <td>0</td>\n",
       "      <td>1</td>\n",
       "      <td>0</td>\n",
       "      <td>0</td>\n",
       "      <td>0</td>\n",
       "    </tr>\n",
       "    <tr>\n",
       "      <th>3</th>\n",
       "      <td>2011-01-01 03:00:00</td>\n",
       "      <td>0</td>\n",
       "      <td>0</td>\n",
       "      <td>9.84</td>\n",
       "      <td>14.395</td>\n",
       "      <td>75</td>\n",
       "      <td>0.0</td>\n",
       "      <td>3</td>\n",
       "      <td>10</td>\n",
       "      <td>13</td>\n",
       "      <td>1</td>\n",
       "      <td>0</td>\n",
       "      <td>0</td>\n",
       "      <td>0</td>\n",
       "      <td>1</td>\n",
       "      <td>0</td>\n",
       "      <td>0</td>\n",
       "      <td>0</td>\n",
       "    </tr>\n",
       "    <tr>\n",
       "      <th>4</th>\n",
       "      <td>2011-01-01 04:00:00</td>\n",
       "      <td>0</td>\n",
       "      <td>0</td>\n",
       "      <td>9.84</td>\n",
       "      <td>14.395</td>\n",
       "      <td>75</td>\n",
       "      <td>0.0</td>\n",
       "      <td>0</td>\n",
       "      <td>1</td>\n",
       "      <td>1</td>\n",
       "      <td>1</td>\n",
       "      <td>0</td>\n",
       "      <td>0</td>\n",
       "      <td>0</td>\n",
       "      <td>1</td>\n",
       "      <td>0</td>\n",
       "      <td>0</td>\n",
       "      <td>0</td>\n",
       "    </tr>\n",
       "  </tbody>\n",
       "</table>\n",
       "</div>"
      ],
      "text/plain": [
       "              datetime  holiday  workingday  temp   atemp  humidity  \\\n",
       "0  2011-01-01 00:00:00        0           0  9.84  14.395        81   \n",
       "1  2011-01-01 01:00:00        0           0  9.02  13.635        80   \n",
       "2  2011-01-01 02:00:00        0           0  9.02  13.635        80   \n",
       "3  2011-01-01 03:00:00        0           0  9.84  14.395        75   \n",
       "4  2011-01-01 04:00:00        0           0  9.84  14.395        75   \n",
       "\n",
       "   windspeed  casual  registered  count  season_1  season_2  season_3  \\\n",
       "0        0.0       3          13     16         1         0         0   \n",
       "1        0.0       8          32     40         1         0         0   \n",
       "2        0.0       5          27     32         1         0         0   \n",
       "3        0.0       3          10     13         1         0         0   \n",
       "4        0.0       0           1      1         1         0         0   \n",
       "\n",
       "   season_4  weather_1  weather_2  weather_3  weather_4  \n",
       "0         0          1          0          0          0  \n",
       "1         0          1          0          0          0  \n",
       "2         0          1          0          0          0  \n",
       "3         0          1          0          0          0  \n",
       "4         0          1          0          0          0  "
      ]
     },
     "execution_count": 4,
     "metadata": {},
     "output_type": "execute_result"
    }
   ],
   "source": [
    "# from sklearn.preprocessing import OneHotEncoder \n",
    "print(\"전 : \",df_bi.shape)\n",
    "df_bi = pd.get_dummies(df_bi, columns= ['season', 'weather'])\n",
    "print(\"후 : \", df_bi.shape)\n",
    "df_bi.head()\n"
   ]
  },
  {
   "cell_type": "markdown",
   "metadata": {},
   "source": [
    "## 4-2 특성 스케일링"
   ]
  },
  {
   "cell_type": "markdown",
   "metadata": {},
   "source": [
    "> 정규화 표준화 차이는 무엇일까? \n",
    "[참고1](https://bskyvision.com/849) [참고2](https://mkjjo.github.io/python/2019/01/10/scaler.html)\n",
    "\n",
    "- 정규화 : 특성 값의 범위를 `0~1` 로 옮김 \n",
    "    - **이상치 존재에 매우 민감하다**\n",
    "\n",
    "- 표준화 : 뮤 = 특성의 평균값, 시그마 = 표준편차 => `정규분포의 표준화` \n",
    "    - 표준화는 어떤 특성의 값을 정규분포(종모양의 분포)를 따른다고 가정하는 것 \n",
    "    - `평균은 0`으로, `표준편차는 1`을 갖도록 변화하는 것 \n",
    "    - 표준화를 해주면 정규화처럼 특성값의 범위가 `0~1 범위로 바뀌지 X` \n",
    "    - **이상치가 있는 경우 균형잡힌 척도를 보장할 수 없다**\n",
    "\n",
    "\n",
    "> 그럼 둘 중에 어떤 것이 더 나은가? \n",
    "- 둘 다 해보고 성능을 비교해서 결정하는 것이 낫다. \n",
    "- 그리고 둘의 차이는 엄청 크다. 따라서 곡 비교해줘야 한다. \n",
    "\n",
    "> 추가 scaler \n",
    "- MaxAbsScaler : 최대절대값과 0이 각각 1과 0이 되도록 스케일링 \n",
    "     - **큰 이상치 존재에 민감하다**\n",
    "- RobustScaler : 중앙값과 `IQR`사용. 아웃라이어의 영향을 최소화 \n",
    "+ `IQR` : Q3 - Q1 (상위 75% - 하위 25%) = box plot의 기본이 되는 수치  (Q1 - 1.5 X IQR ~ Q3 - 1.5 X IQR)\n",
    "\n",
    "\n",
    "> 이상치 제거 필수 \n",
    "- 결론적으로 모든 스케일러 처리 전에는 아웃라이어 제거가 선행되어야 한다. \n",
    "\n"
   ]
  },
  {
   "cell_type": "code",
   "execution_count": 5,
   "metadata": {},
   "outputs": [],
   "source": [
    "# 이상치 확인 \n",
    "import warnings \n",
    "warnings.filterwarnings('ignore')\n",
    "\n",
    "import matplotlib.pyplot as plt \n",
    "import seaborn as sns \n"
   ]
  },
  {
   "cell_type": "code",
   "execution_count": 6,
   "metadata": {},
   "outputs": [
    {
     "data": {
      "image/png": "[encoded data removed]",
      "text/plain": [
       "<Figure size 1440x432 with 6 Axes>"
      ]
     },
     "metadata": {
      "needs_background": "light"
     },
     "output_type": "display_data"
    }
   ],
   "source": [
    "li_col = ['temp', 'atemp', 'humidity',\n",
    "       'windspeed', 'casual', 'registered']\n",
    "\n",
    "fig, ax = plt.subplots(1,6, figsize = (20,6))\n",
    "count = 0\n",
    "for col in li_col : \n",
    "    sns.boxenplot(data = df_bi[col], ax = ax[count])\n",
    "    ax[count].set_title(col)\n",
    "    count +=1 \n",
    "plt.show()"
   ]
  },
  {
   "cell_type": "markdown",
   "metadata": {},
   "source": [
    "각 feature 별로 이상치가 humidity 빼고 다 있는 것을 확인할 수 있음 \n",
    "- [이상치제거](https://hwi-doc.tistory.com/entry/IQR-%EB%B0%A9%EC%8B%9D%EC%9D%84-%EC%9D%B4%EC%9A%A9%ED%95%9C-%EC%9D%B4%EC%83%81%EC%B9%98-%EB%8D%B0%EC%9D%B4%ED%84%B0Outlier-%EC%A0%9C%EA%B1%B0) "
   ]
  },
  {
   "cell_type": "code",
   "execution_count": 7,
   "metadata": {},
   "outputs": [],
   "source": [
    "# 이상치 제거 \n",
    "def get_outlier(df, col) : \n",
    "    Q25= np.percentile(df[col].values, 25)\n",
    "    Q75= np.percentile(df[col].values, 75)\n",
    "    \n",
    "    IQR = Q75-Q25 \n",
    "    \n",
    "    lowest = Q25 - 1.5*IQR\n",
    "    highest = Q75 + 1.5*IQR \n",
    "    \n",
    "    outlier_idx = df[col][(df[col] < lowest) | (df[col] > highest)].index \n",
    "    \n",
    "    return outlier_idx \n",
    "\n",
    "for col in li_col : \n",
    "    outlier_idx = get_outlier(df_bi, col)\n",
    "    df_bi.drop(outlier_idx, axis = 0, inplace= True)\n",
    "    \n"
   ]
  },
  {
   "cell_type": "code",
   "execution_count": 51,
   "metadata": {},
   "outputs": [
    {
     "data": {
      "text/plain": [
       "(9383, 18)"
      ]
     },
     "execution_count": 51,
     "metadata": {},
     "output_type": "execute_result"
    }
   ],
   "source": [
    "df_bi.shape"
   ]
  },
  {
   "cell_type": "code",
   "execution_count": 14,
   "metadata": {},
   "outputs": [
    {
     "data": {
      "image/png": "[encoded data removed]",
      "text/plain": [
       "<Figure size 1440x432 with 6 Axes>"
      ]
     },
     "metadata": {
      "needs_background": "light"
     },
     "output_type": "display_data"
    }
   ],
   "source": [
    "# 제거 확인 \n",
    "fig, ax = plt.subplots(1,6, figsize = (20,6))\n",
    "count = 0\n",
    "for col in li_col : \n",
    "    sns.boxenplot(data = df_bi[col], ax = ax[count])\n",
    "    ax[count].set_title(col)\n",
    "    count +=1 \n",
    "plt.show()"
   ]
  },
  {
   "cell_type": "code",
   "execution_count": 8,
   "metadata": {},
   "outputs": [
    {
     "data": {
      "text/html": [
       "<div>\n",
       "<style scoped>\n",
       "    .dataframe tbody tr th:only-of-type {\n",
       "        vertical-align: middle;\n",
       "    }\n",
       "\n",
       "    .dataframe tbody tr th {\n",
       "        vertical-align: top;\n",
       "    }\n",
       "\n",
       "    .dataframe thead th {\n",
       "        text-align: right;\n",
       "    }\n",
       "</style>\n",
       "<table border=\"1\" class=\"dataframe\">\n",
       "  <thead>\n",
       "    <tr style=\"text-align: right;\">\n",
       "      <th></th>\n",
       "      <th>datetime</th>\n",
       "      <th>holiday</th>\n",
       "      <th>workingday</th>\n",
       "      <th>temp</th>\n",
       "      <th>atemp</th>\n",
       "      <th>humidity</th>\n",
       "      <th>windspeed</th>\n",
       "      <th>casual</th>\n",
       "      <th>registered</th>\n",
       "      <th>count</th>\n",
       "      <th>season_1</th>\n",
       "      <th>season_2</th>\n",
       "      <th>season_3</th>\n",
       "      <th>season_4</th>\n",
       "      <th>weather_1</th>\n",
       "      <th>weather_2</th>\n",
       "      <th>weather_3</th>\n",
       "      <th>weather_4</th>\n",
       "    </tr>\n",
       "  </thead>\n",
       "  <tbody>\n",
       "    <tr>\n",
       "      <th>0</th>\n",
       "      <td>2011-01-01 00:00:00</td>\n",
       "      <td>0</td>\n",
       "      <td>0</td>\n",
       "      <td>0.224490</td>\n",
       "      <td>0.305068</td>\n",
       "      <td>0.793478</td>\n",
       "      <td>0.0</td>\n",
       "      <td>0.025862</td>\n",
       "      <td>0.028384</td>\n",
       "      <td>16</td>\n",
       "      <td>1</td>\n",
       "      <td>0</td>\n",
       "      <td>0</td>\n",
       "      <td>0</td>\n",
       "      <td>1</td>\n",
       "      <td>0</td>\n",
       "      <td>0</td>\n",
       "      <td>0</td>\n",
       "    </tr>\n",
       "    <tr>\n",
       "      <th>1</th>\n",
       "      <td>2011-01-01 01:00:00</td>\n",
       "      <td>0</td>\n",
       "      <td>0</td>\n",
       "      <td>0.204082</td>\n",
       "      <td>0.288064</td>\n",
       "      <td>0.782609</td>\n",
       "      <td>0.0</td>\n",
       "      <td>0.068966</td>\n",
       "      <td>0.069869</td>\n",
       "      <td>40</td>\n",
       "      <td>1</td>\n",
       "      <td>0</td>\n",
       "      <td>0</td>\n",
       "      <td>0</td>\n",
       "      <td>1</td>\n",
       "      <td>0</td>\n",
       "      <td>0</td>\n",
       "      <td>0</td>\n",
       "    </tr>\n",
       "    <tr>\n",
       "      <th>2</th>\n",
       "      <td>2011-01-01 02:00:00</td>\n",
       "      <td>0</td>\n",
       "      <td>0</td>\n",
       "      <td>0.204082</td>\n",
       "      <td>0.288064</td>\n",
       "      <td>0.782609</td>\n",
       "      <td>0.0</td>\n",
       "      <td>0.043103</td>\n",
       "      <td>0.058952</td>\n",
       "      <td>32</td>\n",
       "      <td>1</td>\n",
       "      <td>0</td>\n",
       "      <td>0</td>\n",
       "      <td>0</td>\n",
       "      <td>1</td>\n",
       "      <td>0</td>\n",
       "      <td>0</td>\n",
       "      <td>0</td>\n",
       "    </tr>\n",
       "    <tr>\n",
       "      <th>3</th>\n",
       "      <td>2011-01-01 03:00:00</td>\n",
       "      <td>0</td>\n",
       "      <td>0</td>\n",
       "      <td>0.224490</td>\n",
       "      <td>0.305068</td>\n",
       "      <td>0.728261</td>\n",
       "      <td>0.0</td>\n",
       "      <td>0.025862</td>\n",
       "      <td>0.021834</td>\n",
       "      <td>13</td>\n",
       "      <td>1</td>\n",
       "      <td>0</td>\n",
       "      <td>0</td>\n",
       "      <td>0</td>\n",
       "      <td>1</td>\n",
       "      <td>0</td>\n",
       "      <td>0</td>\n",
       "      <td>0</td>\n",
       "    </tr>\n",
       "    <tr>\n",
       "      <th>4</th>\n",
       "      <td>2011-01-01 04:00:00</td>\n",
       "      <td>0</td>\n",
       "      <td>0</td>\n",
       "      <td>0.224490</td>\n",
       "      <td>0.305068</td>\n",
       "      <td>0.728261</td>\n",
       "      <td>0.0</td>\n",
       "      <td>0.000000</td>\n",
       "      <td>0.002183</td>\n",
       "      <td>1</td>\n",
       "      <td>1</td>\n",
       "      <td>0</td>\n",
       "      <td>0</td>\n",
       "      <td>0</td>\n",
       "      <td>1</td>\n",
       "      <td>0</td>\n",
       "      <td>0</td>\n",
       "      <td>0</td>\n",
       "    </tr>\n",
       "  </tbody>\n",
       "</table>\n",
       "</div>"
      ],
      "text/plain": [
       "              datetime  holiday  workingday      temp     atemp  humidity  \\\n",
       "0  2011-01-01 00:00:00        0           0  0.224490  0.305068  0.793478   \n",
       "1  2011-01-01 01:00:00        0           0  0.204082  0.288064  0.782609   \n",
       "2  2011-01-01 02:00:00        0           0  0.204082  0.288064  0.782609   \n",
       "3  2011-01-01 03:00:00        0           0  0.224490  0.305068  0.728261   \n",
       "4  2011-01-01 04:00:00        0           0  0.224490  0.305068  0.728261   \n",
       "\n",
       "   windspeed    casual  registered  count  season_1  season_2  season_3  \\\n",
       "0        0.0  0.025862    0.028384     16         1         0         0   \n",
       "1        0.0  0.068966    0.069869     40         1         0         0   \n",
       "2        0.0  0.043103    0.058952     32         1         0         0   \n",
       "3        0.0  0.025862    0.021834     13         1         0         0   \n",
       "4        0.0  0.000000    0.002183      1         1         0         0   \n",
       "\n",
       "   season_4  weather_1  weather_2  weather_3  weather_4  \n",
       "0         0          1          0          0          0  \n",
       "1         0          1          0          0          0  \n",
       "2         0          1          0          0          0  \n",
       "3         0          1          0          0          0  \n",
       "4         0          1          0          0          0  "
      ]
     },
     "execution_count": 8,
     "metadata": {},
     "output_type": "execute_result"
    }
   ],
   "source": [
    "# 정규화 중 하나 minmax scaler \n",
    "# (x-min(x)) / (max(x) - min(x))\n",
    "\n",
    "\n",
    "for col in li_col : \n",
    "    df_bi[col] = (df_bi[col] - min(df_bi[col])) / (max(df_bi[col]) - min(df_bi[col]))\n",
    "\n",
    "df_bi.head()\n",
    "\n",
    "\n",
    "# from sklearn.preprocessing import MinMaxScaler \n",
    "# scaler = MinMaxScaler()\n",
    "# df_bi = scaler.fit_transform(df_bi)"
   ]
  },
  {
   "cell_type": "code",
   "execution_count": 16,
   "metadata": {},
   "outputs": [
    {
     "data": {
      "text/html": [
       "<div>\n",
       "<style scoped>\n",
       "    .dataframe tbody tr th:only-of-type {\n",
       "        vertical-align: middle;\n",
       "    }\n",
       "\n",
       "    .dataframe tbody tr th {\n",
       "        vertical-align: top;\n",
       "    }\n",
       "\n",
       "    .dataframe thead th {\n",
       "        text-align: right;\n",
       "    }\n",
       "</style>\n",
       "<table border=\"1\" class=\"dataframe\">\n",
       "  <thead>\n",
       "    <tr style=\"text-align: right;\">\n",
       "      <th></th>\n",
       "      <th>holiday</th>\n",
       "      <th>workingday</th>\n",
       "      <th>temp</th>\n",
       "      <th>atemp</th>\n",
       "      <th>humidity</th>\n",
       "      <th>windspeed</th>\n",
       "      <th>casual</th>\n",
       "      <th>registered</th>\n",
       "      <th>count</th>\n",
       "      <th>season_1</th>\n",
       "      <th>...</th>\n",
       "      <th>month_03</th>\n",
       "      <th>month_04</th>\n",
       "      <th>month_05</th>\n",
       "      <th>month_06</th>\n",
       "      <th>month_07</th>\n",
       "      <th>month_08</th>\n",
       "      <th>month_09</th>\n",
       "      <th>month_10</th>\n",
       "      <th>month_11</th>\n",
       "      <th>month_12</th>\n",
       "    </tr>\n",
       "  </thead>\n",
       "  <tbody>\n",
       "    <tr>\n",
       "      <th>count</th>\n",
       "      <td>9383.000000</td>\n",
       "      <td>9383.000000</td>\n",
       "      <td>9383.000000</td>\n",
       "      <td>9383.000000</td>\n",
       "      <td>9383.000000</td>\n",
       "      <td>9383.000000</td>\n",
       "      <td>9383.000000</td>\n",
       "      <td>9383.000000</td>\n",
       "      <td>9383.000000</td>\n",
       "      <td>9383.000000</td>\n",
       "      <td>...</td>\n",
       "      <td>9383.000000</td>\n",
       "      <td>9383.000000</td>\n",
       "      <td>9383.000000</td>\n",
       "      <td>9383.000000</td>\n",
       "      <td>9383.000000</td>\n",
       "      <td>9383.000000</td>\n",
       "      <td>9383.000000</td>\n",
       "      <td>9383.000000</td>\n",
       "      <td>9383.000000</td>\n",
       "      <td>9383.000000</td>\n",
       "    </tr>\n",
       "    <tr>\n",
       "      <th>mean</th>\n",
       "      <td>0.026751</td>\n",
       "      <td>0.709581</td>\n",
       "      <td>0.465373</td>\n",
       "      <td>0.495639</td>\n",
       "      <td>0.606894</td>\n",
       "      <td>0.390589</td>\n",
       "      <td>0.203378</td>\n",
       "      <td>0.264467</td>\n",
       "      <td>144.717787</td>\n",
       "      <td>0.260897</td>\n",
       "      <td>...</td>\n",
       "      <td>0.083022</td>\n",
       "      <td>0.080145</td>\n",
       "      <td>0.082490</td>\n",
       "      <td>0.077800</td>\n",
       "      <td>0.078866</td>\n",
       "      <td>0.082170</td>\n",
       "      <td>0.077587</td>\n",
       "      <td>0.081424</td>\n",
       "      <td>0.086966</td>\n",
       "      <td>0.091655</td>\n",
       "    </tr>\n",
       "    <tr>\n",
       "      <th>std</th>\n",
       "      <td>0.161362</td>\n",
       "      <td>0.453980</td>\n",
       "      <td>0.190963</td>\n",
       "      <td>0.186875</td>\n",
       "      <td>0.203075</td>\n",
       "      <td>0.240114</td>\n",
       "      <td>0.230723</td>\n",
       "      <td>0.233188</td>\n",
       "      <td>124.423204</td>\n",
       "      <td>0.439147</td>\n",
       "      <td>...</td>\n",
       "      <td>0.275931</td>\n",
       "      <td>0.271532</td>\n",
       "      <td>0.275124</td>\n",
       "      <td>0.267871</td>\n",
       "      <td>0.269544</td>\n",
       "      <td>0.274638</td>\n",
       "      <td>0.267535</td>\n",
       "      <td>0.273500</td>\n",
       "      <td>0.281800</td>\n",
       "      <td>0.288554</td>\n",
       "    </tr>\n",
       "    <tr>\n",
       "      <th>min</th>\n",
       "      <td>0.000000</td>\n",
       "      <td>0.000000</td>\n",
       "      <td>0.000000</td>\n",
       "      <td>0.000000</td>\n",
       "      <td>0.000000</td>\n",
       "      <td>0.000000</td>\n",
       "      <td>0.000000</td>\n",
       "      <td>0.000000</td>\n",
       "      <td>1.000000</td>\n",
       "      <td>0.000000</td>\n",
       "      <td>...</td>\n",
       "      <td>0.000000</td>\n",
       "      <td>0.000000</td>\n",
       "      <td>0.000000</td>\n",
       "      <td>0.000000</td>\n",
       "      <td>0.000000</td>\n",
       "      <td>0.000000</td>\n",
       "      <td>0.000000</td>\n",
       "      <td>0.000000</td>\n",
       "      <td>0.000000</td>\n",
       "      <td>0.000000</td>\n",
       "    </tr>\n",
       "    <tr>\n",
       "      <th>25%</th>\n",
       "      <td>0.000000</td>\n",
       "      <td>0.000000</td>\n",
       "      <td>0.306122</td>\n",
       "      <td>0.338964</td>\n",
       "      <td>0.445652</td>\n",
       "      <td>0.225848</td>\n",
       "      <td>0.025862</td>\n",
       "      <td>0.061135</td>\n",
       "      <td>33.000000</td>\n",
       "      <td>0.000000</td>\n",
       "      <td>...</td>\n",
       "      <td>0.000000</td>\n",
       "      <td>0.000000</td>\n",
       "      <td>0.000000</td>\n",
       "      <td>0.000000</td>\n",
       "      <td>0.000000</td>\n",
       "      <td>0.000000</td>\n",
       "      <td>0.000000</td>\n",
       "      <td>0.000000</td>\n",
       "      <td>0.000000</td>\n",
       "      <td>0.000000</td>\n",
       "    </tr>\n",
       "    <tr>\n",
       "      <th>50%</th>\n",
       "      <td>0.000000</td>\n",
       "      <td>1.000000</td>\n",
       "      <td>0.448980</td>\n",
       "      <td>0.491442</td>\n",
       "      <td>0.619565</td>\n",
       "      <td>0.354874</td>\n",
       "      <td>0.103448</td>\n",
       "      <td>0.216157</td>\n",
       "      <td>119.000000</td>\n",
       "      <td>0.000000</td>\n",
       "      <td>...</td>\n",
       "      <td>0.000000</td>\n",
       "      <td>0.000000</td>\n",
       "      <td>0.000000</td>\n",
       "      <td>0.000000</td>\n",
       "      <td>0.000000</td>\n",
       "      <td>0.000000</td>\n",
       "      <td>0.000000</td>\n",
       "      <td>0.000000</td>\n",
       "      <td>0.000000</td>\n",
       "      <td>0.000000</td>\n",
       "    </tr>\n",
       "    <tr>\n",
       "      <th>75%</th>\n",
       "      <td>0.000000</td>\n",
       "      <td>1.000000</td>\n",
       "      <td>0.632653</td>\n",
       "      <td>0.661036</td>\n",
       "      <td>0.771739</td>\n",
       "      <td>0.548303</td>\n",
       "      <td>0.310345</td>\n",
       "      <td>0.399563</td>\n",
       "      <td>226.000000</td>\n",
       "      <td>1.000000</td>\n",
       "      <td>...</td>\n",
       "      <td>0.000000</td>\n",
       "      <td>0.000000</td>\n",
       "      <td>0.000000</td>\n",
       "      <td>0.000000</td>\n",
       "      <td>0.000000</td>\n",
       "      <td>0.000000</td>\n",
       "      <td>0.000000</td>\n",
       "      <td>0.000000</td>\n",
       "      <td>0.000000</td>\n",
       "      <td>0.000000</td>\n",
       "    </tr>\n",
       "    <tr>\n",
       "      <th>max</th>\n",
       "      <td>1.000000</td>\n",
       "      <td>1.000000</td>\n",
       "      <td>1.000000</td>\n",
       "      <td>1.000000</td>\n",
       "      <td>1.000000</td>\n",
       "      <td>1.000000</td>\n",
       "      <td>1.000000</td>\n",
       "      <td>1.000000</td>\n",
       "      <td>563.000000</td>\n",
       "      <td>1.000000</td>\n",
       "      <td>...</td>\n",
       "      <td>1.000000</td>\n",
       "      <td>1.000000</td>\n",
       "      <td>1.000000</td>\n",
       "      <td>1.000000</td>\n",
       "      <td>1.000000</td>\n",
       "      <td>1.000000</td>\n",
       "      <td>1.000000</td>\n",
       "      <td>1.000000</td>\n",
       "      <td>1.000000</td>\n",
       "      <td>1.000000</td>\n",
       "    </tr>\n",
       "  </tbody>\n",
       "</table>\n",
       "<p>8 rows × 55 columns</p>\n",
       "</div>"
      ],
      "text/plain": [
       "           holiday   workingday         temp        atemp     humidity  \\\n",
       "count  9383.000000  9383.000000  9383.000000  9383.000000  9383.000000   \n",
       "mean      0.026751     0.709581     0.465373     0.495639     0.606894   \n",
       "std       0.161362     0.453980     0.190963     0.186875     0.203075   \n",
       "min       0.000000     0.000000     0.000000     0.000000     0.000000   \n",
       "25%       0.000000     0.000000     0.306122     0.338964     0.445652   \n",
       "50%       0.000000     1.000000     0.448980     0.491442     0.619565   \n",
       "75%       0.000000     1.000000     0.632653     0.661036     0.771739   \n",
       "max       1.000000     1.000000     1.000000     1.000000     1.000000   \n",
       "\n",
       "         windspeed       casual   registered        count     season_1  ...  \\\n",
       "count  9383.000000  9383.000000  9383.000000  9383.000000  9383.000000  ...   \n",
       "mean      0.390589     0.203378     0.264467   144.717787     0.260897  ...   \n",
       "std       0.240114     0.230723     0.233188   124.423204     0.439147  ...   \n",
       "min       0.000000     0.000000     0.000000     1.000000     0.000000  ...   \n",
       "25%       0.225848     0.025862     0.061135    33.000000     0.000000  ...   \n",
       "50%       0.354874     0.103448     0.216157   119.000000     0.000000  ...   \n",
       "75%       0.548303     0.310345     0.399563   226.000000     1.000000  ...   \n",
       "max       1.000000     1.000000     1.000000   563.000000     1.000000  ...   \n",
       "\n",
       "          month_03     month_04     month_05     month_06     month_07  \\\n",
       "count  9383.000000  9383.000000  9383.000000  9383.000000  9383.000000   \n",
       "mean      0.083022     0.080145     0.082490     0.077800     0.078866   \n",
       "std       0.275931     0.271532     0.275124     0.267871     0.269544   \n",
       "min       0.000000     0.000000     0.000000     0.000000     0.000000   \n",
       "25%       0.000000     0.000000     0.000000     0.000000     0.000000   \n",
       "50%       0.000000     0.000000     0.000000     0.000000     0.000000   \n",
       "75%       0.000000     0.000000     0.000000     0.000000     0.000000   \n",
       "max       1.000000     1.000000     1.000000     1.000000     1.000000   \n",
       "\n",
       "          month_08     month_09     month_10     month_11     month_12  \n",
       "count  9383.000000  9383.000000  9383.000000  9383.000000  9383.000000  \n",
       "mean      0.082170     0.077587     0.081424     0.086966     0.091655  \n",
       "std       0.274638     0.267535     0.273500     0.281800     0.288554  \n",
       "min       0.000000     0.000000     0.000000     0.000000     0.000000  \n",
       "25%       0.000000     0.000000     0.000000     0.000000     0.000000  \n",
       "50%       0.000000     0.000000     0.000000     0.000000     0.000000  \n",
       "75%       0.000000     0.000000     0.000000     0.000000     0.000000  \n",
       "max       1.000000     1.000000     1.000000     1.000000     1.000000  \n",
       "\n",
       "[8 rows x 55 columns]"
      ]
     },
     "execution_count": 16,
     "metadata": {},
     "output_type": "execute_result"
    }
   ],
   "source": [
    "df_bi.describe()"
   ]
  },
  {
   "cell_type": "code",
   "execution_count": 12,
   "metadata": {},
   "outputs": [],
   "source": [
    "# 표준화 \n",
    "# from sklearn.preprocessing import StandardScaler \n",
    "# scaler = StandardScaler()\n",
    "# df_bi = scaler.fit_transform(df_bi)"
   ]
  },
  {
   "cell_type": "code",
   "execution_count": null,
   "metadata": {},
   "outputs": [],
   "source": [
    "# MaxAbsScaler \n",
    "# from sklearn.preprocessing import MaxAbsScaler \n",
    "# scaler = MaxAbsScaler()\n",
    "# df_bi = scaler.fit_transform(df_bi)"
   ]
  },
  {
   "cell_type": "markdown",
   "metadata": {},
   "source": [
    "> 파이프라인이란? \n",
    "[참고](https://m.blog.naver.com/PostView.naver?isHttpsRedirect=true&blogId=gdpresent&logNo=221730873049)\n",
    "- `GridSearchCV`를 전에는 그냥 사용해도 됐음 왜냐면, 이미 데이터 전처리가 깔끔했기 때문에 \n",
    "하지만, 현실에선 오류가 계속 발생한다. \n",
    "- 스케일이 들쭉날쭉한 데이터에 취약한 모델 ex) SVM \n",
    "- 그래서 MinMaxscaler 로 전처리한다고 했을 때! \n",
    "    - 1) train_set 전처리하고 \n",
    "    - 2) grid search 하고 \n",
    "    - 3) 최적의 파라미터가 적용된 모델 선언해주고 \n",
    "    - 4) 그걸로 테스트 평가 \n",
    "    - 5) 정밀도나 재현율까지 봐! \n",
    "    - => 그러면 안된다!!!! 왜냐!!! 머신러닝은 `미래에 새롭게 들어올 데이터를 예측`하기 위해 사용 \n",
    "- 그러면 2019년 데이터로 2020년을 예측하려고 하는데, how?? \n",
    "    - 2010년까지만 학습시켜서 2011년 잘 예측하나보고, 2011로 학습해서 2012 예측하나보고.. \n",
    "    - 근데!! 모든 학습 데이터를 다 scale해서 그걸로 교차검증을 수행하면 **미래참조**임 \n",
    "    - 교차 검증할 때, val_set은 전처리안하고 예측하게 하는 것 => `파이프라인` \n",
    "\n",
    "> 어떻게 사용하는가? \n",
    "- 나의 일의 진행 순서를 튜플로 넣어준다. \n",
    "- `Pipeline([(1번째 변환기 클랙스 객체의 이름, 객체), (2번째 변환기 클랙스 객체의 이름, 객체)...])\n",
    "- 파이프 라인의 마지막 객체를 제외한 나머지 객체는 transform, fit_transform 메소드를 제공하는 변환기만 가능 \n",
    "- 알아서 fit, transform, score까지 할 수 있게 해줌"
   ]
  },
  {
   "cell_type": "code",
   "execution_count": null,
   "metadata": {},
   "outputs": [],
   "source": [
    "# from sklearn.pipeline import Pipeline\n",
    "# scaler = MinMaxScaler()\n",
    "# base_model = SVC()\n",
    "\n",
    "# 내가 할 일 순서를 튜플로 넣어준다\n",
    "# pipe = Pipeline(steps = [('scaler', scaler),\n",
    "#                          'base_model', base_model])\n",
    "\n"
   ]
  },
  {
   "cell_type": "markdown",
   "metadata": {},
   "source": [
    "# Section 05\n",
    "\n",
    "## 5-1. 이상치 처리 \n",
    "[참고](https://towardsdatascience.com/5-ways-to-detect-outliers-that-every-data-scientist-should-know-python-code-70a54335a623)\n",
    "(이게 scaler 보다 앞에서 수행되어야 할 것으로 생각됨)"
   ]
  },
  {
   "cell_type": "code",
   "execution_count": 12,
   "metadata": {},
   "outputs": [
    {
     "data": {
      "text/plain": [
       "datetime      0\n",
       "holiday       0\n",
       "workingday    0\n",
       "temp          0\n",
       "atemp         0\n",
       "humidity      0\n",
       "windspeed     0\n",
       "casual        0\n",
       "registered    0\n",
       "count         0\n",
       "season_1      0\n",
       "season_2      0\n",
       "season_3      0\n",
       "season_4      0\n",
       "weather_1     0\n",
       "weather_2     0\n",
       "weather_3     0\n",
       "weather_4     0\n",
       "dtype: int64"
      ]
     },
     "execution_count": 12,
     "metadata": {},
     "output_type": "execute_result"
    }
   ],
   "source": [
    "# 결측치 확인 \n",
    "df_bi.isnull().sum()"
   ]
  },
  {
   "cell_type": "code",
   "execution_count": 92,
   "metadata": {},
   "outputs": [
    {
     "data": {
      "text/plain": [
       "Index(['datetime', 'season', 'holiday', 'workingday', 'weather', 'temp',\n",
       "       'atemp', 'humidity', 'windspeed', 'casual', 'registered', 'count'],\n",
       "      dtype='object')"
      ]
     },
     "execution_count": 92,
     "metadata": {},
     "output_type": "execute_result"
    }
   ],
   "source": [
    "df_bi.columns"
   ]
  },
  {
   "cell_type": "code",
   "execution_count": 94,
   "metadata": {},
   "outputs": [
    {
     "data": {
      "image/png": "[encoded data removed]",
      "text/plain": [
       "<Figure size 432x288 with 1 Axes>"
      ]
     },
     "metadata": {
      "needs_background": "light"
     },
     "output_type": "display_data"
    }
   ],
   "source": [
    "sns.boxplot(x=\"season\", \n",
    "\n",
    "            y=\"temp\", \n",
    "\n",
    "            data=df_bi)\n",
    "\n",
    "plt.show()\n"
   ]
  },
  {
   "cell_type": "code",
   "execution_count": 84,
   "metadata": {},
   "outputs": [
    {
     "data": {
      "text/plain": [
       "<matplotlib.collections.PathCollection at 0x1fa02bcdb38>"
      ]
     },
     "execution_count": 84,
     "metadata": {},
     "output_type": "execute_result"
    },
    {
     "data": {
      "image/png": "[encoded data removed]",
      "text/plain": [
       "<Figure size 432x288 with 1 Axes>"
      ]
     },
     "metadata": {
      "needs_background": "light"
     },
     "output_type": "display_data"
    }
   ],
   "source": [
    "plt.scatter(x=df_bi['temp'], y = df_bi['atemp'])\n",
    "# plt.scatter(x=df_bi['atemp'], y = df_bi['count'])\n",
    "# plt.scatter(x=df_bi['humidity'], y = df_bi['count'])\n"
   ]
  },
  {
   "cell_type": "code",
   "execution_count": null,
   "metadata": {},
   "outputs": [],
   "source": [
    "# 결측치 대체 \n",
    "## 평균값 대체 \n",
    "# df_bi[col] = df_bi[col].fillna(df_bi[col].mean())\n",
    "\n",
    "## 열 제거 \n",
    "# df_bi.dropna(inplace= True)"
   ]
  },
  {
   "cell_type": "code",
   "execution_count": 14,
   "metadata": {},
   "outputs": [
    {
     "data": {
      "text/plain": [
       "0"
      ]
     },
     "execution_count": 14,
     "metadata": {},
     "output_type": "execute_result"
    }
   ],
   "source": [
    "# 중복값 확인 \n",
    "df_bi.duplicated().sum()"
   ]
  },
  {
   "cell_type": "code",
   "execution_count": null,
   "metadata": {},
   "outputs": [],
   "source": [
    "# 중복 제거 \n",
    "# df_bi.drop_duplicated(keep = 'first', inplace = True)"
   ]
  },
  {
   "cell_type": "markdown",
   "metadata": {},
   "source": [
    "### 이상치 제거 1 : IQR\n",
    "### 이상치 제거 2 : Z-Score\n",
    "- `Z-Score` : 데이터 포인트가 평균에서 얼마나 많은 표준 편차를 가지는지 나타냄 \n",
    "- ex) Z-Score = 1이면 데이터 포인트가 평균에서 1 표준편차 높다는 것 \n",
    "- 이상치 : 3보다 크거나 -3보다 작은 모든 Z-Score는 이상치 "
   ]
  },
  {
   "cell_type": "code",
   "execution_count": 8,
   "metadata": {},
   "outputs": [],
   "source": [
    "def outlier_z_score(data) : \n",
    "    threshold = 3 \n",
    "    mean = np.mean(data)\n",
    "    std = np.std(data)\n",
    "    z_scores = [(y-mean)/std for y in data]\n",
    "    \n",
    "    return np.where(np.abs(z_scores) > threshold)\n"
   ]
  },
  {
   "cell_type": "markdown",
   "metadata": {},
   "source": [
    "### 이상치 제거 3 : DBSCAN "
   ]
  },
  {
   "cell_type": "code",
   "execution_count": 9,
   "metadata": {},
   "outputs": [
    {
     "name": "stdout",
     "output_type": "stream",
     "text": [
      "0\n"
     ]
    }
   ],
   "source": [
    "from sklearn.cluster import DBSCAN\n",
    "from random import seed\n",
    "seed(1)\n",
    "\n",
    "outlier_detection = DBSCAN(min_samples=2, eps =3) # 반경(eps) 내에 점들이 min_samples개이면 corepoint야!\n",
    "clusters = outlier_detection.fit_predict(np.array(df_bi['temp']).reshape(-1,1))\n",
    "\n",
    "print(list(clusters).count(-1))\n",
    "\n",
    "# 0이 나왔기에 noise인 이상치는 존재하지 않음 "
   ]
  },
  {
   "cell_type": "code",
   "execution_count": 10,
   "metadata": {},
   "outputs": [],
   "source": [
    "def outlier_dbscan(data) : \n",
    "    outlier_detection = DBSCAN(min_samples=2, eps =3) # 반경(eps) 내에 점들이 min_samples개이면 corepoint야!\n",
    "    clusters = outlier_detection.fit_predict(np.array(data).reshape(-1,1))\n",
    "\n",
    "    print(list(clusters).count(-1))"
   ]
  },
  {
   "cell_type": "code",
   "execution_count": 11,
   "metadata": {},
   "outputs": [
    {
     "name": "stdout",
     "output_type": "stream",
     "text": [
      "0\n",
      "0\n",
      "0\n",
      "0\n",
      "0\n",
      "0\n"
     ]
    }
   ],
   "source": [
    "for i in ['temp', 'atemp', 'humidity',\n",
    "       'windspeed', 'casual', 'registered'] : \n",
    "    outlier_dbscan(df_bi[i])"
   ]
  },
  {
   "cell_type": "markdown",
   "metadata": {},
   "source": [
    "### 이상치 제거 4 : Isolation Forest \n",
    "[참고](https://john-analyst.medium.com/isolation-forest%EB%A5%BC-%ED%86%B5%ED%95%9C-%EC%9D%B4%EC%83%81%ED%83%90%EC%A7%80-%EB%AA%A8%EB%8D%B8-9b10b43eb4ac)\n",
    "\n",
    "- 군집기반 이상탐지 알고리즘에 비해 계산량이 매우 적다. \n",
    "- robust한 모델을 만들 수 있다\n",
    "\n",
    "- `다차원 데이터셋`에서 효율적으로 작동하는 아웃라이어 제거 방법 \n",
    "- 의사결정 트리기반 이상탐지 기법 \n",
    "- 랜덤하게 칼럼을 선택하고, 선택된 칼럼의 최대값과 최소값을 분리하는 값을 랜덤으로 선택하는 방법 \n",
    "\n",
    "- -1 이면 이상치, 1이면 정상"
   ]
  },
  {
   "cell_type": "code",
   "execution_count": 12,
   "metadata": {},
   "outputs": [
    {
     "name": "stdout",
     "output_type": "stream",
     "text": [
      "temp [-1 -1 -1 ...  1  1  1]\n",
      "atemp [-1 -1 -1 ...  1  1  1]\n",
      "humidity [ 1 -1 -1 ...  1  1  1]\n",
      "windspeed [-1 -1 -1 ...  1 -1  1]\n",
      "casual [1 1 1 ... 1 1 1]\n",
      "registered [-1 -1 -1 ...  1  1  1]\n"
     ]
    }
   ],
   "source": [
    "from sklearn.ensemble import IsolationForest\n",
    "\n",
    "def iso(data) : \n",
    "    clf = IsolationForest(behaviour= 'new', max_samples=100, random_state=1, contamination= 'auto')\n",
    "    pred = clf.fit_predict(np.array(data).reshape(-1,1))\n",
    "    print(pred)\n",
    "    \n",
    "for i in ['temp', 'atemp', 'humidity',\n",
    "       'windspeed', 'casual', 'registered'] : \n",
    "    print(i, end = ' ')\n",
    "    iso(df_bi[i])"
   ]
  },
  {
   "cell_type": "markdown",
   "metadata": {},
   "source": [
    "근데 결과값이 이렇게 이상치가 많다고..?"
   ]
  },
  {
   "cell_type": "markdown",
   "metadata": {},
   "source": [
    "### 이상치 제거 5 : LOF (local outlier factor)\n",
    "[참고](https://godongyoung.github.io/%EB%A8%B8%EC%8B%A0%EB%9F%AC%EB%8B%9D/2019/03/11/Local-Outlier-Factor(LOF).html)\n",
    "\n",
    "> 배경 \n",
    "- 기존 이상치 제거 방법들은 **local 정보에 대한 고려가 없음**\n",
    "    - density based methond \n",
    "        - 밀도가 상이한 클러스터들이 있을 때 문제 발생 ('dense'라는 개념을 정의하기 위해, 특정한 window size나 최소 개수를 이용)\n",
    "        - dense가 상이하면 dense에 대한 절대적인 기준을 지정할 수 X 문제 발생 \n",
    "- **=> local의 상대적인 dense를 비교하여 outlier를 정하자!!**\n",
    "\n",
    "> 방법은? \n",
    "- 1) `k-distance(p)` \n",
    "    - 특정데이터(p)에서의 k개의 nearest neighbor까지의 거리이다 ex) 3_distance(p) : 3번째로 가까운 데이터와의 거리 => 이게 상대적인 dense로 작용 \n",
    "    - 거리가 *연속형*이면 괜찮지만, *이산형*이면 겹치는 경우가 존재해서 3-distance 안에 5개든 10개든 존재할 수 있음 \n",
    "    - 그래서 그 안에 들어온 데이터 개수를 `Nk(p)`라고 한다. \n",
    "\n",
    "- 2) `reachapbility distance(p,o)`\n",
    "    - 관심데이터 p가 주변데이터 o의 k-distance 내에 들어와 있으면 o의 **k-distance**를, 아니면 **p와 0의 거리**를 잰다. \n",
    "    - reach-distance(p,o)=max{k_distance(o),dist(p,o)}\n",
    "\n",
    "- 3) `local reachability density(p)` \n",
    "    - p 주변의 k-neighbor들과의 reach_dist의 평균을 역수로 취한 것 \n",
    "\n",
    "- 4) `Local Outlier Factor(p)` \n",
    "    - p의 `Nk(p)`에 속하는 모든 다른점 O에 대해서 `lrd`의 비율을 구하고, 이를 평균낸 것이다. \n",
    "    - lof가 1에 가까우면 `정상데이터`, lof >= 1이면 `이상치` \n",
    "\n",
    "\n"
   ]
  },
  {
   "cell_type": "code",
   "execution_count": 13,
   "metadata": {},
   "outputs": [
    {
     "data": {
      "text/plain": [
       "(9383, 12)"
      ]
     },
     "execution_count": 13,
     "metadata": {},
     "output_type": "execute_result"
    }
   ],
   "source": [
    "df_bi.shape"
   ]
  },
  {
   "cell_type": "code",
   "execution_count": 18,
   "metadata": {},
   "outputs": [
    {
     "name": "stdout",
     "output_type": "stream",
     "text": [
      "[1 1 1 ... 1 1 1]\n"
     ]
    }
   ],
   "source": [
    "from sklearn.neighbors import LocalOutlierFactor \n",
    "\n",
    "clf = LocalOutlierFactor(n_neighbors= 10, contamination=0.1) \n",
    "# 경험적으로 k =20이 좋다고 한다. threshold = contamination (train data 중 몇 %가 outlier인지 지정)\n",
    "y_pred = clf.fit_predict(np.array(df_bi['temp']).reshape(-1,1))\n",
    "print(y_pred)\n"
   ]
  },
  {
   "cell_type": "code",
   "execution_count": 32,
   "metadata": {},
   "outputs": [
    {
     "data": {
      "image/png": "[encoded data removed]",
      "text/plain": [
       "<Figure size 432x288 with 1 Axes>"
      ]
     },
     "metadata": {
      "needs_background": "light"
     },
     "output_type": "display_data"
    }
   ],
   "source": [
    "plt.scatter(df_bi['temp'], df_bi['atemp'])\n",
    "plt.grid()"
   ]
  },
  {
   "cell_type": "markdown",
   "metadata": {},
   "source": [
    "이상치 존재 확인 "
   ]
  },
  {
   "cell_type": "code",
   "execution_count": 72,
   "metadata": {},
   "outputs": [
    {
     "data": {
      "text/plain": [
       "<matplotlib.collections.PathCollection at 0x1fa025b2c18>"
      ]
     },
     "execution_count": 72,
     "metadata": {},
     "output_type": "execute_result"
    },
    {
     "data": {
      "image/png": "[encoded data removed]",
      "text/plain": [
       "<Figure size 432x288 with 1 Axes>"
      ]
     },
     "metadata": {
      "needs_background": "light"
     },
     "output_type": "display_data"
    }
   ],
   "source": [
    "from numpy import where \n",
    "# model specification\n",
    "model1 = LocalOutlierFactor(n_neighbors = 4, contamination = 0.1)\n",
    "# model fitting\n",
    "y_pred = model1.fit_predict(df_bi[['temp', 'atemp']])\n",
    "# filter outlier index\n",
    "outlier_index = where(y_pred == -1) # negative values are outliers and positives inliers\n",
    "# filter outlier values\n",
    "outlier_values = df_bi.iloc[outlier_index]\n",
    "# plot data\n",
    "plt.scatter(df_bi[\"temp\"], df_bi[\"atemp\"], color = \"b\", s = 65)\n",
    "# plot outlier values\n",
    "plt.scatter(outlier_values[\"temp\"], outlier_values[\"atemp\"], color = \"r\")"
   ]
  },
  {
   "cell_type": "markdown",
   "metadata": {},
   "source": [
    "아................ 왜 이상치가 아닌 애들도 이상치라고 판단하는 거지?? \n",
    "그러면 이상치 제거를 어떻게 해야 하는거지 ....? \n",
    "\n",
    "> 궁금한 점 \n",
    "- 이상치를 컬럼별로 제거하고? (이건 연속형에만 해당될 것 같음)\n",
    "- 컬럼끼리 묶어서 이상치 확인하고 (temp랑 atemp한 것처럼, 연속형끼리도 있고, 연속형 - 이산형끼리도 있을 듯)\n",
    "- 근데 그 때 이상치가 아닌데도 삭제되면 우짬? \n"
   ]
  },
  {
   "cell_type": "markdown",
   "metadata": {},
   "source": [
    "# Section 06 \n"
   ]
  },
  {
   "cell_type": "markdown",
   "metadata": {},
   "source": [
    "## 6-1 중요 특성 찾기 \n",
    "\n",
    "- 일단 회귀 모델을 사용하기 때문에 내 생각엔 datetime 처리를 위해서 section 07을 먼저 수행하고 해야 한다 \n",
    "- 그리고 다중공산성은 언제 함??? "
   ]
  },
  {
   "cell_type": "code",
   "execution_count": 15,
   "metadata": {},
   "outputs": [],
   "source": [
    "from sklearn.model_selection import train_test_split\n",
    "X = df_bi.drop(['count', 'casual', 'registered'], axis = 1)\n",
    "y = df_bi['count']\n",
    "\n",
    "x_train, x_test, y_train, y_test = train_test_split(X, y , random_state = 0)"
   ]
  },
  {
   "cell_type": "markdown",
   "metadata": {},
   "source": [
    "### 선형회귀모델로 성능 확인하기"
   ]
  },
  {
   "cell_type": "code",
   "execution_count": 142,
   "metadata": {},
   "outputs": [
    {
     "data": {
      "text/plain": [
       "((8164, 52), (2722, 52))"
      ]
     },
     "execution_count": 142,
     "metadata": {},
     "output_type": "execute_result"
    }
   ],
   "source": [
    "x_train.shape, x_test.shape"
   ]
  },
  {
   "cell_type": "code",
   "execution_count": 143,
   "metadata": {},
   "outputs": [
    {
     "name": "stdout",
     "output_type": "stream",
     "text": [
      "lr.coef_: [-5.65033056e+00  3.79313194e+00  1.28671416e+02  6.43876583e+01\n",
      " -8.29111067e+01 -3.94360364e+01  2.85463898e+13  4.70857988e+13\n",
      "  2.78631611e+13  4.77337756e+13 -1.17671472e+13 -1.17671472e+13\n",
      " -1.17671472e+13 -1.17671472e+13 -6.63730208e+10 -6.63730208e+10\n",
      " -6.63730208e+10 -6.63730209e+10 -6.63730209e+10 -6.63730208e+10\n",
      " -6.63730208e+10 -6.63730206e+10 -6.63730205e+10 -6.63730206e+10\n",
      " -6.63730207e+10 -6.63730207e+10 -6.63730206e+10 -6.63730206e+10\n",
      " -6.63730207e+10 -6.63730206e+10 -6.63730206e+10 -6.63730204e+10\n",
      " -6.63730205e+10 -6.63730206e+10 -6.63730207e+10 -6.63730207e+10\n",
      " -6.63730207e+10 -6.63730208e+10 -1.29687770e+10 -1.29687769e+10\n",
      "  7.32178919e+12  7.32178919e+12  7.32178919e+12 -1.12176198e+13\n",
      " -1.12176198e+13 -1.12176198e+13  8.00501790e+12  8.00501790e+12\n",
      "  8.00501790e+12 -1.18655966e+13 -1.18655966e+13 -1.18655966e+13]\n",
      "lr.intercept_ : -24021690062499.09\n",
      "훈련 세트의 정확도 : 0.70\n",
      "테스트 세트의 정확도 : 0.69\n"
     ]
    }
   ],
   "source": [
    "from sklearn.linear_model import LinearRegression\n",
    "lr = LinearRegression().fit(x_train, y_train)\n",
    "\n",
    "print(\"lr.coef_: {}\".format(lr.coef_)) # 기울기 파라미터 (가중치 w)\n",
    "\n",
    "print(\"lr.intercept_ : {}\".format(lr.intercept_)) # 절편 (b)\n",
    "\n",
    "print(\"훈련 세트의 정확도 : {:.2f}\".format(lr.score(x_train,y_train)))\n",
    "\n",
    "print(\"테스트 세트의 정확도 : {:.2f}\".format(lr.score(x_test,y_test)))"
   ]
  },
  {
   "cell_type": "markdown",
   "metadata": {},
   "source": [
    "### 라쏘 (L1-norm)"
   ]
  },
  {
   "cell_type": "code",
   "execution_count": 151,
   "metadata": {},
   "outputs": [
    {
     "name": "stdout",
     "output_type": "stream",
     "text": [
      "훈련 세트의 정확도 : 0.67\n",
      "테스트 세트의 정확도 : 0.67\n",
      "사용한 특성의 수 : 33\n",
      "사용한 max_iter : 159\n",
      "\n",
      "훈련 세트의 정확도 : 0.70\n",
      "테스트 세트의 정확도 : 0.69\n",
      "사용한 특성의 수 : 51\n",
      "사용한 max_iter : 174\n",
      "\n",
      "훈련 세트의 정확도 : 0.70\n",
      "테스트 세트의 정확도 : 0.69\n",
      "사용한 특성의 수 : 51\n",
      "사용한 max_iter : 174\n",
      "\n"
     ]
    }
   ],
   "source": [
    "from sklearn.linear_model import Lasso \n",
    "\n",
    "lasso = Lasso().fit(x_train, y_train)\n",
    "\n",
    "print(\"훈련 세트의 정확도 : {:.2f}\".format(lasso.score(x_train, y_train)))\n",
    "\n",
    "print(\"테스트 세트의 정확도 : {:.2f}\".format(lasso.score(x_test, y_test)))\n",
    "\n",
    "print(\"사용한 특성의 수 : {}\".format(np.sum(lasso.coef_ != 0)))\n",
    "\n",
    "print(\"사용한 max_iter : {}\".format(lasso.n_iter_))\n",
    "\n",
    "print()\n",
    "\n",
    "# 55개의 특성 중 33개 사용함 \n",
    "\n",
    "\n",
    "lasso001 = Lasso(alpha=0.01, max_iter=100000).fit(x_train, y_train)\n",
    "\n",
    "print(\"훈련 세트의 정확도 : {:.2f}\".format(lasso001.score(x_train, y_train)))\n",
    "\n",
    "print(\"테스트 세트의 정확도 : {:.2f}\".format(lasso001.score(x_test, y_test)))\n",
    "\n",
    "print(\"사용한 특성의 수 : {}\".format(np.sum(lasso001.coef_ != 0)))\n",
    "\n",
    "print(\"사용한 max_iter : {}\".format(lasso001.n_iter_))\n",
    "\n",
    "print()\n",
    "\n",
    "lasso00001 = Lasso(alpha=0.0001, max_iter=100000).fit(x_train, y_train)\n",
    "\n",
    "print(\"훈련 세트의 정확도 : {:.2f}\".format(lasso001.score(x_train, y_train)))\n",
    "\n",
    "print(\"테스트 세트의 정확도 : {:.2f}\".format(lasso001.score(x_test, y_test)))\n",
    "\n",
    "print(\"사용한 특성의 수 : {}\".format(np.sum(lasso001.coef_ != 0)))\n",
    "\n",
    "print(\"사용한 max_iter : {}\".format(lasso001.n_iter_))\n",
    "\n",
    "print()"
   ]
  },
  {
   "cell_type": "markdown",
   "metadata": {},
   "source": [
    "### 릿지 (L2-norm)"
   ]
  },
  {
   "cell_type": "code",
   "execution_count": 146,
   "metadata": {},
   "outputs": [
    {
     "name": "stdout",
     "output_type": "stream",
     "text": [
      "훈련 세트의 정확도 : 0.70\n",
      "테스트 세트의 정확도 : 0.69\n"
     ]
    }
   ],
   "source": [
    "from sklearn.linear_model import Ridge\n",
    "ridge = Ridge().fit(x_train, y_train)\n",
    "\n",
    "print(\"훈련 세트의 정확도 : {:.2f}\".format(ridge.score(x_train,y_train)))\n",
    "\n",
    "print(\"테스트 세트의 정확도 : {:.2f}\".format(ridge.score(x_test,y_test)))\n"
   ]
  },
  {
   "cell_type": "code",
   "execution_count": 150,
   "metadata": {},
   "outputs": [
    {
     "name": "stdout",
     "output_type": "stream",
     "text": [
      "훈련 세트의 정확도 : 0.70\n",
      "테스트 세트의 정확도 : 0.69\n",
      "훈련 세트의 정확도 : 0.70\n",
      "테스트 세트의 정확도 : 0.69\n"
     ]
    }
   ],
   "source": [
    "# alpha값을 바꿔서 확인해보자.\n",
    "\n",
    "ridge10 = Ridge(alpha=10).fit(x_train, y_train)\n",
    "\n",
    "\n",
    "\n",
    "print(\"훈련 세트의 정확도 : {:.2f}\".format(ridge10.score(x_train,y_train)))\n",
    "\n",
    "print(\"테스트 세트의 정확도 : {:.2f}\".format(ridge10.score(x_test,y_test)))\n",
    "\n",
    "\n",
    "\n",
    "\n",
    "\n",
    "# 반대로 alpha값을 줄이면 계수에 대한 제약이 그만큼 풀리면서 LinearRegression으로 만든 모델과 거의 같아진다.\n",
    "\n",
    "ridge01 = Ridge(alpha=0.1).fit(x_train, y_train)\n",
    "\n",
    "\n",
    "\n",
    "print(\"훈련 세트의 정확도 : {:.2f}\".format(ridge01.score(x_train,y_train)))\n",
    "\n",
    "print(\"테스트 세트의 정확도 : {:.2f}\".format(ridge01.score(x_test,y_test)))\n",
    "\n",
    "# 훈련 세트의 정확도 : 0.92\n",
    "\n",
    "# 테스트 세트의 정확도 : 0.82"
   ]
  },
  {
   "cell_type": "code",
   "execution_count": 152,
   "metadata": {},
   "outputs": [
    {
     "data": {
      "image/png": "[encoded data removed]",
      "text/plain": [
       "<Figure size 432x288 with 1 Axes>"
      ]
     },
     "metadata": {
      "needs_background": "light"
     },
     "output_type": "display_data"
    }
   ],
   "source": [
    "plt.plot(lasso.coef_, 's', label=\"Lasso alpha=1\")\n",
    "\n",
    "plt.plot(lasso001.coef_, '^', label=\"Lasso alpha=0.01\")\n",
    "\n",
    "plt.plot(lasso00001.coef_, 'v', label=\"Lasso alpha=0.0001\")\n",
    "\n",
    "plt.plot(ridge01.coef_, 'o', label=\"Ridge alpha=0.1\")\n",
    "\n",
    "plt.legend(ncol=2, loc=(0, 1.05))\n",
    "\n",
    "plt.xlabel(\"w list\")\n",
    "\n",
    "plt.ylabel(\"w size\")\n",
    "\n",
    "# plt.hlines(0, 0, len(lr.coef_))\n",
    "\n",
    "plt.ylim(-25, 25)\n",
    "\n",
    "plt.show()"
   ]
  },
  {
   "cell_type": "markdown",
   "metadata": {},
   "source": [
    "- alpha가 1일 때, 대부분이 0이다 \n",
    "- alpah가 0.01로 줄이면 0.0001과 큰 차이가 없음 \n",
    "\n",
    "- ridge는 성능은 비슷하나 0인 계수는 없다"
   ]
  },
  {
   "cell_type": "markdown",
   "metadata": {},
   "source": [
    "### 엘라스틱넷"
   ]
  },
  {
   "cell_type": "code",
   "execution_count": 162,
   "metadata": {},
   "outputs": [
    {
     "name": "stdout",
     "output_type": "stream",
     "text": [
      "0.6769770377617443\n",
      "0.6824916870991569\n",
      "0.6855437487945137\n"
     ]
    }
   ],
   "source": [
    "from sklearn.linear_model import ElasticNet\n",
    "alpha=0.01\n",
    "ratios = [0.2, 0.5, 0.8] # 이거 정확히 이해 못함 \n",
    "\n",
    "\n",
    "for ratio in ratios:\n",
    "    elasticnet = ElasticNet(alpha=alpha, l1_ratio=ratio, random_state=10)\n",
    "    elasticnet.fit(x_train, y_train)\n",
    "    pred = elasticnet.predict(x_test)\n",
    "    print(elasticnet.score(x_test, y_test))"
   ]
  },
  {
   "cell_type": "code",
   "execution_count": 171,
   "metadata": {},
   "outputs": [
    {
     "data": {
      "text/plain": [
       "array([  0.        ,   0.77313506,   0.99178905,   3.75289772,\n",
       "         3.83271619,   4.764932  ,   4.7722564 ,   5.06065561,\n",
       "         6.16656582,   6.52996797,   7.74716895,   9.89265679,\n",
       "        11.89889622,  12.70899032,  14.01146525,  16.94020198,\n",
       "        17.1580881 ,  18.08901455,  19.57353616,  23.96536718,\n",
       "        26.62072053,  27.44561758,  27.46378738,  27.88034787,\n",
       "        28.74116331,  32.25803096,  34.69632393,  35.09212583,\n",
       "        36.62890022,  40.77317137,  40.80166132,  41.54854403,\n",
       "        41.83713172,  44.55983932,  50.99598143,  51.35181103,\n",
       "        88.03833351,  88.65726027,  89.15398239,  89.76273447,\n",
       "        94.08359948, 101.97198902, 108.10511872, 118.76382338,\n",
       "       137.44641296, 143.20677806, 150.67998663, 157.76994156,\n",
       "       159.58465128, 186.70761025, 214.53412376, 245.50362342])"
      ]
     },
     "execution_count": 171,
     "metadata": {},
     "output_type": "execute_result"
    }
   ],
   "source": [
    "abs_coef = np.abs(elasticnet.coef_) # 계수 절대값 \n",
    "before = np.argsort(abs_coef) # 계수 정렬 전 index 담기 "
   ]
  },
  {
   "cell_type": "code",
   "execution_count": 180,
   "metadata": {},
   "outputs": [
    {
     "data": {
      "text/plain": [
       "array([20, 37,  4,  3, 30,  2, 33, 14, 15, 19, 16, 17, 18, 22, 32, 31],\n",
       "      dtype=int64)"
      ]
     },
     "execution_count": 180,
     "metadata": {},
     "output_type": "execute_result"
    }
   ],
   "source": [
    "before[-16:] # 계수 중요 top16의 index 뽑기 "
   ]
  },
  {
   "cell_type": "code",
   "execution_count": 181,
   "metadata": {},
   "outputs": [
    {
     "name": "stdout",
     "output_type": "stream",
     "text": [
      "hour_03:00:00\n",
      "hour_20:00:00\n",
      "humidity\n",
      "atemp\n",
      "hour_13:00:00\n",
      "temp\n",
      "hour_16:00:00\n",
      "weather_2\n",
      "weather_3\n",
      "hour_02:00:00\n",
      "weather_4\n",
      "hour_00:00:00\n",
      "hour_01:00:00\n",
      "hour_05:00:00\n",
      "hour_15:00:00\n",
      "hour_14:00:00\n"
     ]
    }
   ],
   "source": [
    "for i in before[-16:] : \n",
    "    print(df_bi.columns[i]) # 제일 중요한 top16 변수 명 출력 "
   ]
  },
  {
   "cell_type": "markdown",
   "metadata": {},
   "source": [
    "## 6-2 특성선택 "
   ]
  },
  {
   "cell_type": "markdown",
   "metadata": {},
   "source": [
    "### 단변량 특성 선택"
   ]
  },
  {
   "cell_type": "code",
   "execution_count": 27,
   "metadata": {},
   "outputs": [
    {
     "name": "stdout",
     "output_type": "stream",
     "text": [
      "(7037, 52)\n",
      "(7037, 36)\n"
     ]
    }
   ],
   "source": [
    "from sklearn.feature_selection import SelectPercentile\n",
    "\n",
    "select = SelectPercentile(percentile=70).fit(x_train, y_train) # 70%만 사용 \n",
    "\n",
    "x_train_select = select.transform(x_train)\n",
    "x_test_selected  = select.transform(x_test)\n",
    "\n",
    "print(x_train.shape)\n",
    "print(x_train_select.shape)\n"
   ]
  },
  {
   "cell_type": "code",
   "execution_count": 28,
   "metadata": {},
   "outputs": [
    {
     "name": "stdout",
     "output_type": "stream",
     "text": [
      "temp / atemp / humidity / windspeed / season_1 / season_2 / season_3 / season_4 / hour_00:00:00 / hour_01:00:00 / hour_02:00:00 / hour_03:00:00 / hour_04:00:00 / hour_05:00:00 / hour_07:00:00 / hour_08:00:00 / hour_09:00:00 / hour_10:00:00 / hour_11:00:00 / hour_12:00:00 / hour_13:00:00 / hour_14:00:00 / hour_15:00:00 / hour_16:00:00 / hour_17:00:00 / hour_18:00:00 / hour_19:00:00 / hour_20:00:00 / hour_21:00:00 / hour_22:00:00 / hour_23:00:00 / year_2011 / year_2012 / month_06 / month_07 / month_08 / "
     ]
    }
   ],
   "source": [
    "# 어떤 특성이 선택되었는가 \n",
    "idx = select.get_support()\n",
    "for index, value in enumerate(idx) : \n",
    "    if value : \n",
    "        print(x_train.columns[index], end = ' / ')"
   ]
  },
  {
   "cell_type": "code",
   "execution_count": 29,
   "metadata": {},
   "outputs": [
    {
     "name": "stdout",
     "output_type": "stream",
     "text": [
      "전체 특성을 사용한 점수: \n",
      "0.709\n",
      "선택된 특성을 사용한 점수 \n",
      "0.690\n"
     ]
    }
   ],
   "source": [
    "# 성능 비교 \n",
    "\n",
    "from sklearn.linear_model import LinearRegression\n",
    "lr = LinearRegression().fit(x_train, y_train)\n",
    "print('전체 특성을 사용한 점수: \\n{:.3f}'.format(lr.score(x_test, y_test))) # 0.709\n",
    "\n",
    "\n",
    "\n",
    "### 일부특성을 사용했을 때 정확도\n",
    "lr = LinearRegression().fit(x_train_select, y_train)\n",
    "print('선택된 특성을 사용한 점수 \\n{:.3f}'.format(lr.score(x_test_selected, y_test))) # 0.690"
   ]
  },
  {
   "cell_type": "markdown",
   "metadata": {},
   "source": [
    "### 모델 기반 특성 선택 \n",
    "[참고](https://blog.naver.com/PostView.nhn?blogId=bosongmoon&logNo=221807565642)"
   ]
  },
  {
   "cell_type": "code",
   "execution_count": null,
   "metadata": {},
   "outputs": [],
   "source": [
    "from sklearn.ensemble import RandomForestClassifier\n",
    "\n",
    "# 분류기\n",
    "forest = RandomForestClassifier(n_estimators = 500, random_state = 1)\n",
    "\n",
    "forest.fit(x_train, y_train)\n",
    "importances = forest.feature_importances_ \n",
    "\n",
    "from sklearn.feature_selection import SelectFromModel\n",
    "\n",
    "sfm = SelectFromModel(forest, threshold = 0.1, prefit = True)\n",
    "# forest 모델 내 특성 중 지니계수 혹은 엔트로피 등 기준의 값이 0.1 이상일 경우의 특징을 선택 \n",
    "\n",
    "x_selected = sfm.transform(x_train)\n",
    "\n",
    "\n",
    "print('이 임계 조건을 만족하는 샘플의 수:', x_selected.shape[1])\n"
   ]
  },
  {
   "cell_type": "markdown",
   "metadata": {},
   "source": [
    "# Section 07 특성생성 "
   ]
  },
  {
   "cell_type": "markdown",
   "metadata": {},
   "source": [
    "## 7-1 특성추가 "
   ]
  },
  {
   "cell_type": "code",
   "execution_count": 10,
   "metadata": {},
   "outputs": [
    {
     "data": {
      "text/plain": [
       "array(['00:00:00', '01:00:00', '02:00:00', '03:00:00', '04:00:00',\n",
       "       '05:00:00', '06:00:00', '07:00:00', '08:00:00', '09:00:00',\n",
       "       '10:00:00', '11:00:00', '12:00:00', '13:00:00', '14:00:00',\n",
       "       '15:00:00', '16:00:00', '17:00:00', '18:00:00', '19:00:00',\n",
       "       '20:00:00', '21:00:00', '22:00:00', '23:00:00'], dtype=object)"
      ]
     },
     "execution_count": 10,
     "metadata": {},
     "output_type": "execute_result"
    }
   ],
   "source": [
    "# 시간 추출 \n",
    "def hour_split(x) : \n",
    "    result = x.split()\n",
    "    return result[1]\n",
    "\n",
    "df_bi['hour'] =  df_bi['datetime'].apply(hour_split)\n",
    "df_bi['hour'].unique()"
   ]
  },
  {
   "cell_type": "code",
   "execution_count": 11,
   "metadata": {},
   "outputs": [
    {
     "data": {
      "text/plain": [
       "array(['2011', '2012'], dtype=object)"
      ]
     },
     "execution_count": 11,
     "metadata": {},
     "output_type": "execute_result"
    }
   ],
   "source": [
    "# 연도 추출\n",
    "def year_split(x) : \n",
    "    result = x.split()\n",
    "    return result[0][:4]\n",
    "df_bi['year'] = df_bi['datetime'].apply(year_split)\n",
    "df_bi['year'].unique()"
   ]
  },
  {
   "cell_type": "code",
   "execution_count": 12,
   "metadata": {},
   "outputs": [
    {
     "data": {
      "text/plain": [
       "array(['01', '02', '03', '04', '05', '06', '07', '08', '09', '10', '11',\n",
       "       '12'], dtype=object)"
      ]
     },
     "execution_count": 12,
     "metadata": {},
     "output_type": "execute_result"
    }
   ],
   "source": [
    "# 월 추출 \n",
    "def month_split(x) : \n",
    "    result = x.split()\n",
    "    return result[0][5:7]\n",
    "df_bi['month'] = df_bi['datetime'].apply(month_split)\n",
    "df_bi['month'].unique()\n",
    "\n",
    "# 일자는 사용 안 함 "
   ]
  },
  {
   "cell_type": "code",
   "execution_count": 13,
   "metadata": {},
   "outputs": [
    {
     "data": {
      "text/html": [
       "<div>\n",
       "<style scoped>\n",
       "    .dataframe tbody tr th:only-of-type {\n",
       "        vertical-align: middle;\n",
       "    }\n",
       "\n",
       "    .dataframe tbody tr th {\n",
       "        vertical-align: top;\n",
       "    }\n",
       "\n",
       "    .dataframe thead th {\n",
       "        text-align: right;\n",
       "    }\n",
       "</style>\n",
       "<table border=\"1\" class=\"dataframe\">\n",
       "  <thead>\n",
       "    <tr style=\"text-align: right;\">\n",
       "      <th></th>\n",
       "      <th>holiday</th>\n",
       "      <th>workingday</th>\n",
       "      <th>temp</th>\n",
       "      <th>atemp</th>\n",
       "      <th>humidity</th>\n",
       "      <th>windspeed</th>\n",
       "      <th>casual</th>\n",
       "      <th>registered</th>\n",
       "      <th>count</th>\n",
       "      <th>season_1</th>\n",
       "      <th>season_2</th>\n",
       "      <th>season_3</th>\n",
       "      <th>season_4</th>\n",
       "      <th>weather_1</th>\n",
       "      <th>weather_2</th>\n",
       "      <th>weather_3</th>\n",
       "      <th>weather_4</th>\n",
       "      <th>hour</th>\n",
       "      <th>year</th>\n",
       "      <th>month</th>\n",
       "    </tr>\n",
       "  </thead>\n",
       "  <tbody>\n",
       "    <tr>\n",
       "      <th>0</th>\n",
       "      <td>0</td>\n",
       "      <td>0</td>\n",
       "      <td>0.224490</td>\n",
       "      <td>0.305068</td>\n",
       "      <td>0.793478</td>\n",
       "      <td>0.0</td>\n",
       "      <td>0.025862</td>\n",
       "      <td>0.028384</td>\n",
       "      <td>16</td>\n",
       "      <td>1</td>\n",
       "      <td>0</td>\n",
       "      <td>0</td>\n",
       "      <td>0</td>\n",
       "      <td>1</td>\n",
       "      <td>0</td>\n",
       "      <td>0</td>\n",
       "      <td>0</td>\n",
       "      <td>00:00:00</td>\n",
       "      <td>2011</td>\n",
       "      <td>01</td>\n",
       "    </tr>\n",
       "    <tr>\n",
       "      <th>1</th>\n",
       "      <td>0</td>\n",
       "      <td>0</td>\n",
       "      <td>0.204082</td>\n",
       "      <td>0.288064</td>\n",
       "      <td>0.782609</td>\n",
       "      <td>0.0</td>\n",
       "      <td>0.068966</td>\n",
       "      <td>0.069869</td>\n",
       "      <td>40</td>\n",
       "      <td>1</td>\n",
       "      <td>0</td>\n",
       "      <td>0</td>\n",
       "      <td>0</td>\n",
       "      <td>1</td>\n",
       "      <td>0</td>\n",
       "      <td>0</td>\n",
       "      <td>0</td>\n",
       "      <td>01:00:00</td>\n",
       "      <td>2011</td>\n",
       "      <td>01</td>\n",
       "    </tr>\n",
       "  </tbody>\n",
       "</table>\n",
       "</div>"
      ],
      "text/plain": [
       "   holiday  workingday      temp     atemp  humidity  windspeed    casual  \\\n",
       "0        0           0  0.224490  0.305068  0.793478        0.0  0.025862   \n",
       "1        0           0  0.204082  0.288064  0.782609        0.0  0.068966   \n",
       "\n",
       "   registered  count  season_1  season_2  season_3  season_4  weather_1  \\\n",
       "0    0.028384     16         1         0         0         0          1   \n",
       "1    0.069869     40         1         0         0         0          1   \n",
       "\n",
       "   weather_2  weather_3  weather_4      hour  year month  \n",
       "0          0          0          0  00:00:00  2011    01  \n",
       "1          0          0          0  01:00:00  2011    01  "
      ]
     },
     "execution_count": 13,
     "metadata": {},
     "output_type": "execute_result"
    }
   ],
   "source": [
    "# datetime 제거 \n",
    "df_bi.drop('datetime', axis = 1, inplace= True)\n",
    "df_bi.head(2)"
   ]
  },
  {
   "cell_type": "code",
   "execution_count": 14,
   "metadata": {},
   "outputs": [
    {
     "name": "stdout",
     "output_type": "stream",
     "text": [
      "전 :  (9383, 20)\n",
      "후 :  (9383, 55)\n"
     ]
    },
    {
     "data": {
      "text/html": [
       "<div>\n",
       "<style scoped>\n",
       "    .dataframe tbody tr th:only-of-type {\n",
       "        vertical-align: middle;\n",
       "    }\n",
       "\n",
       "    .dataframe tbody tr th {\n",
       "        vertical-align: top;\n",
       "    }\n",
       "\n",
       "    .dataframe thead th {\n",
       "        text-align: right;\n",
       "    }\n",
       "</style>\n",
       "<table border=\"1\" class=\"dataframe\">\n",
       "  <thead>\n",
       "    <tr style=\"text-align: right;\">\n",
       "      <th></th>\n",
       "      <th>holiday</th>\n",
       "      <th>workingday</th>\n",
       "      <th>temp</th>\n",
       "      <th>atemp</th>\n",
       "      <th>humidity</th>\n",
       "      <th>windspeed</th>\n",
       "      <th>casual</th>\n",
       "      <th>registered</th>\n",
       "      <th>count</th>\n",
       "      <th>season_1</th>\n",
       "      <th>...</th>\n",
       "      <th>month_03</th>\n",
       "      <th>month_04</th>\n",
       "      <th>month_05</th>\n",
       "      <th>month_06</th>\n",
       "      <th>month_07</th>\n",
       "      <th>month_08</th>\n",
       "      <th>month_09</th>\n",
       "      <th>month_10</th>\n",
       "      <th>month_11</th>\n",
       "      <th>month_12</th>\n",
       "    </tr>\n",
       "  </thead>\n",
       "  <tbody>\n",
       "    <tr>\n",
       "      <th>0</th>\n",
       "      <td>0</td>\n",
       "      <td>0</td>\n",
       "      <td>0.224490</td>\n",
       "      <td>0.305068</td>\n",
       "      <td>0.793478</td>\n",
       "      <td>0.0</td>\n",
       "      <td>0.025862</td>\n",
       "      <td>0.028384</td>\n",
       "      <td>16</td>\n",
       "      <td>1</td>\n",
       "      <td>...</td>\n",
       "      <td>0</td>\n",
       "      <td>0</td>\n",
       "      <td>0</td>\n",
       "      <td>0</td>\n",
       "      <td>0</td>\n",
       "      <td>0</td>\n",
       "      <td>0</td>\n",
       "      <td>0</td>\n",
       "      <td>0</td>\n",
       "      <td>0</td>\n",
       "    </tr>\n",
       "    <tr>\n",
       "      <th>1</th>\n",
       "      <td>0</td>\n",
       "      <td>0</td>\n",
       "      <td>0.204082</td>\n",
       "      <td>0.288064</td>\n",
       "      <td>0.782609</td>\n",
       "      <td>0.0</td>\n",
       "      <td>0.068966</td>\n",
       "      <td>0.069869</td>\n",
       "      <td>40</td>\n",
       "      <td>1</td>\n",
       "      <td>...</td>\n",
       "      <td>0</td>\n",
       "      <td>0</td>\n",
       "      <td>0</td>\n",
       "      <td>0</td>\n",
       "      <td>0</td>\n",
       "      <td>0</td>\n",
       "      <td>0</td>\n",
       "      <td>0</td>\n",
       "      <td>0</td>\n",
       "      <td>0</td>\n",
       "    </tr>\n",
       "    <tr>\n",
       "      <th>2</th>\n",
       "      <td>0</td>\n",
       "      <td>0</td>\n",
       "      <td>0.204082</td>\n",
       "      <td>0.288064</td>\n",
       "      <td>0.782609</td>\n",
       "      <td>0.0</td>\n",
       "      <td>0.043103</td>\n",
       "      <td>0.058952</td>\n",
       "      <td>32</td>\n",
       "      <td>1</td>\n",
       "      <td>...</td>\n",
       "      <td>0</td>\n",
       "      <td>0</td>\n",
       "      <td>0</td>\n",
       "      <td>0</td>\n",
       "      <td>0</td>\n",
       "      <td>0</td>\n",
       "      <td>0</td>\n",
       "      <td>0</td>\n",
       "      <td>0</td>\n",
       "      <td>0</td>\n",
       "    </tr>\n",
       "    <tr>\n",
       "      <th>3</th>\n",
       "      <td>0</td>\n",
       "      <td>0</td>\n",
       "      <td>0.224490</td>\n",
       "      <td>0.305068</td>\n",
       "      <td>0.728261</td>\n",
       "      <td>0.0</td>\n",
       "      <td>0.025862</td>\n",
       "      <td>0.021834</td>\n",
       "      <td>13</td>\n",
       "      <td>1</td>\n",
       "      <td>...</td>\n",
       "      <td>0</td>\n",
       "      <td>0</td>\n",
       "      <td>0</td>\n",
       "      <td>0</td>\n",
       "      <td>0</td>\n",
       "      <td>0</td>\n",
       "      <td>0</td>\n",
       "      <td>0</td>\n",
       "      <td>0</td>\n",
       "      <td>0</td>\n",
       "    </tr>\n",
       "    <tr>\n",
       "      <th>4</th>\n",
       "      <td>0</td>\n",
       "      <td>0</td>\n",
       "      <td>0.224490</td>\n",
       "      <td>0.305068</td>\n",
       "      <td>0.728261</td>\n",
       "      <td>0.0</td>\n",
       "      <td>0.000000</td>\n",
       "      <td>0.002183</td>\n",
       "      <td>1</td>\n",
       "      <td>1</td>\n",
       "      <td>...</td>\n",
       "      <td>0</td>\n",
       "      <td>0</td>\n",
       "      <td>0</td>\n",
       "      <td>0</td>\n",
       "      <td>0</td>\n",
       "      <td>0</td>\n",
       "      <td>0</td>\n",
       "      <td>0</td>\n",
       "      <td>0</td>\n",
       "      <td>0</td>\n",
       "    </tr>\n",
       "  </tbody>\n",
       "</table>\n",
       "<p>5 rows × 55 columns</p>\n",
       "</div>"
      ],
      "text/plain": [
       "   holiday  workingday      temp     atemp  humidity  windspeed    casual  \\\n",
       "0        0           0  0.224490  0.305068  0.793478        0.0  0.025862   \n",
       "1        0           0  0.204082  0.288064  0.782609        0.0  0.068966   \n",
       "2        0           0  0.204082  0.288064  0.782609        0.0  0.043103   \n",
       "3        0           0  0.224490  0.305068  0.728261        0.0  0.025862   \n",
       "4        0           0  0.224490  0.305068  0.728261        0.0  0.000000   \n",
       "\n",
       "   registered  count  season_1  ...  month_03  month_04  month_05  month_06  \\\n",
       "0    0.028384     16         1  ...         0         0         0         0   \n",
       "1    0.069869     40         1  ...         0         0         0         0   \n",
       "2    0.058952     32         1  ...         0         0         0         0   \n",
       "3    0.021834     13         1  ...         0         0         0         0   \n",
       "4    0.002183      1         1  ...         0         0         0         0   \n",
       "\n",
       "   month_07  month_08  month_09  month_10  month_11  month_12  \n",
       "0         0         0         0         0         0         0  \n",
       "1         0         0         0         0         0         0  \n",
       "2         0         0         0         0         0         0  \n",
       "3         0         0         0         0         0         0  \n",
       "4         0         0         0         0         0         0  \n",
       "\n",
       "[5 rows x 55 columns]"
      ]
     },
     "execution_count": 14,
     "metadata": {},
     "output_type": "execute_result"
    }
   ],
   "source": [
    "# 원핫인코딩 \n",
    "print(\"전 : \",df_bi.shape)\n",
    "df_bi = pd.get_dummies(df_bi, columns= ['hour', 'year', 'month'])\n",
    "print(\"후 : \", df_bi.shape)\n",
    "df_bi.head()"
   ]
  },
  {
   "cell_type": "code",
   "execution_count": null,
   "metadata": {},
   "outputs": [],
   "source": []
  }
 ],
 "metadata": {
  "interpreter": {
   "hash": "8ca95d9937370959fe53b3f81cea8b7fb579a8b2e40b3ed544c9c6bb9cfba242"
  },
  "kernelspec": {
   "display_name": "Python 3.7.3 64-bit ('base': conda)",
   "language": "python",
   "name": "python3"
  },
  "language_info": {
   "codemirror_mode": {
    "name": "ipython",
    "version": 3
   },
   "file_extension": ".py",
   "mimetype": "text/x-python",
   "name": "python",
   "nbconvert_exporter": "python",
   "pygments_lexer": "ipython3",
   "version": "3.7.3"
  },
  "orig_nbformat": 4
 },
 "nbformat": 4,
 "nbformat_minor": 2
}
