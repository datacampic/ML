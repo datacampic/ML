{
 "cells": [
  {
   "cell_type": "markdown",
   "metadata": {},
   "source": [
    "# Multiclass 알고리즘"
   ]
  },
  {
   "cell_type": "markdown",
   "metadata": {},
   "source": [
    "## 1. Inherently multiclass \n",
    "- Naive Bayes \n",
    "- Decision Tree\n",
    "- Ensemble ExtraTree Classifier \n",
    "- Knn"
   ]
  },
  {
   "cell_type": "markdown",
   "metadata": {},
   "source": [
    "## 2. One vs All\n",
    "- 다중 클래스 분류용 선형 모델 (일대다 방법)\n",
    "- `로지스틱 회귀`를 제외한 선형 분류 모델은 태생적으로 `이진 분류`만을 지원한다. \n",
    "- 따라서 `다중 클래스 분류` 알고리즘으로 확장하기 위해 주로 일대다 방법을 사용한다.\n",
    "\n",
    "> 일대다 방법이란? \n",
    "- 이진 분류 알고리즘을 다중 클래스 분류 알고리즘으로 확장하는 방법\n",
    "\n",
    "> 일대다 방법 절차 \n",
    "1) 각 클래스를 다른 모든 클래스와 구분하도록 `이진 분류`모델을 학습\n",
    "2) 그 결과 클래스의 수만큼 `이진 분류`모델 만들어짐\n",
    "3) 예측할 때 만들어둔 모든 이진 분류기를 작동하여 <span style = \"color : red;\">가장 높은 점수를 내는 분류기의 클래스를 예측값으로 선택</span>"
   ]
  },
  {
   "cell_type": "markdown",
   "metadata": {},
   "source": []
  },
  {
   "cell_type": "markdown",
   "metadata": {},
   "source": [
    "## 3. One vs One \n",
    "\n",
    "> One vs One 방법이란? \n",
    "- n개의 클래스가 있는 경우, n*(n-1)/2 이진분류기 모델 생성해야 함 \n",
    "\n",
    "> 예시 \n",
    "- class : green, blue, red \n",
    "1) n*(n-1)/2 =3 이진 분류기 문제로 나눔 (즉, 모든 경우의 수를 본다는 것)\n",
    "    - g vs b \n",
    "    - g vs r \n",
    "    - b vs r \n",
    "2) 각 이진 분류기는 하나의 클래스 레이블을 예측한다 \n",
    "3) 분류기에 테스트 데이터를 넣으면 결과적으로 다수가 포함된 모델이 완성됨 "
   ]
  },
  {
   "cell_type": "code",
   "execution_count": null,
   "metadata": {},
   "outputs": [],
   "source": []
  }
 ],
 "metadata": {
  "language_info": {
   "name": "python"
  },
  "orig_nbformat": 4
 },
 "nbformat": 4,
 "nbformat_minor": 2
}
