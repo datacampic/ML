{
 "cells": [
  {
   "cell_type": "markdown",
   "metadata": {},
   "source": [
    "# Naive Bayes \n",
    "\n",
    "> 베이즈 추청이란? \n",
    "- 표본 정보와 사전 정보를 함께 사용하여 모수를 추정하는 것이 바람직 \n",
    "- 스팸일 때, 그 단어가 나올 확률을 기반으로 그 단어가 나올 때, 스팸일 확률을 구하는 것 \n",
    "\n",
    "> 나이브 베이즈의 특징 \n",
    "- 지도학습\n",
    "- `모든 feature가 독립`이라고 가정 \n",
    "- 가장 단순한 지도학습 중 하나 \n",
    "- 정확도가 높고 대용량 데이터에 대해 속도가 빠름 \n",
    "\n",
    "> 어떻게 동작하는가? \n",
    "- 사전 확률, 사후확률 구함 \n",
    "    - 그 단어가 나올 때, 스팸일 확률은? \n",
    "    - 사전 확률 : 단어가 나올 확률, 스팸인 확률 \n",
    "    - 사후 확률 : 스팸일 때, 그 단어가 나올 확률 \n",
    "- 베이즈 정리 공식에 대입 \n",
    "\n",
    "> 장점 \n",
    "- 간단하고, 빠르며, 정확한 모델이다.\n",
    "- computation cost가 작다 \n",
    "- 큰 데이터 셋에 적합하다. \n",
    "- 연속형보다 `이산형 데이터`에서 성능이 좋다 => glass 데이터에는 그래서 정확도 안좋군 \n",
    "- multiple class 예측을 위해서 사용할 수 있다. \n",
    "\n",
    "> 단점 \n",
    "- feature 간의 독립성이 있어야 한다. (하지만 실제 데이터에서는 모든 feature가 독립인 경우는 드물다)\n",
    "- feature간의 상관성이 없다고 해야 함 \n",
    "- 독립성이 있다는 가정하에 성립되는 모델이기에 실생활에 바로 적용하기에는 어려움이 있다.\n",
    "\n",
    "\n"
   ]
  },
  {
   "cell_type": "code",
   "execution_count": 3,
   "metadata": {},
   "outputs": [
    {
     "data": {
      "text/html": [
       "<div>\n",
       "<style scoped>\n",
       "    .dataframe tbody tr th:only-of-type {\n",
       "        vertical-align: middle;\n",
       "    }\n",
       "\n",
       "    .dataframe tbody tr th {\n",
       "        vertical-align: top;\n",
       "    }\n",
       "\n",
       "    .dataframe thead th {\n",
       "        text-align: right;\n",
       "    }\n",
       "</style>\n",
       "<table border=\"1\" class=\"dataframe\">\n",
       "  <thead>\n",
       "    <tr style=\"text-align: right;\">\n",
       "      <th></th>\n",
       "      <th>RI</th>\n",
       "      <th>Na</th>\n",
       "      <th>Mg</th>\n",
       "      <th>Al</th>\n",
       "      <th>Si</th>\n",
       "      <th>K</th>\n",
       "      <th>Ca</th>\n",
       "      <th>Ba</th>\n",
       "      <th>Fe</th>\n",
       "      <th>Type</th>\n",
       "    </tr>\n",
       "  </thead>\n",
       "  <tbody>\n",
       "    <tr>\n",
       "      <th>0</th>\n",
       "      <td>1.52101</td>\n",
       "      <td>13.64</td>\n",
       "      <td>4.49</td>\n",
       "      <td>1.10</td>\n",
       "      <td>71.78</td>\n",
       "      <td>0.06</td>\n",
       "      <td>8.75</td>\n",
       "      <td>0.0</td>\n",
       "      <td>0.0</td>\n",
       "      <td>1</td>\n",
       "    </tr>\n",
       "    <tr>\n",
       "      <th>1</th>\n",
       "      <td>1.51761</td>\n",
       "      <td>13.89</td>\n",
       "      <td>3.60</td>\n",
       "      <td>1.36</td>\n",
       "      <td>72.73</td>\n",
       "      <td>0.48</td>\n",
       "      <td>7.83</td>\n",
       "      <td>0.0</td>\n",
       "      <td>0.0</td>\n",
       "      <td>1</td>\n",
       "    </tr>\n",
       "    <tr>\n",
       "      <th>2</th>\n",
       "      <td>1.51618</td>\n",
       "      <td>13.53</td>\n",
       "      <td>3.55</td>\n",
       "      <td>1.54</td>\n",
       "      <td>72.99</td>\n",
       "      <td>0.39</td>\n",
       "      <td>7.78</td>\n",
       "      <td>0.0</td>\n",
       "      <td>0.0</td>\n",
       "      <td>1</td>\n",
       "    </tr>\n",
       "    <tr>\n",
       "      <th>3</th>\n",
       "      <td>1.51766</td>\n",
       "      <td>13.21</td>\n",
       "      <td>3.69</td>\n",
       "      <td>1.29</td>\n",
       "      <td>72.61</td>\n",
       "      <td>0.57</td>\n",
       "      <td>8.22</td>\n",
       "      <td>0.0</td>\n",
       "      <td>0.0</td>\n",
       "      <td>1</td>\n",
       "    </tr>\n",
       "    <tr>\n",
       "      <th>4</th>\n",
       "      <td>1.51742</td>\n",
       "      <td>13.27</td>\n",
       "      <td>3.62</td>\n",
       "      <td>1.24</td>\n",
       "      <td>73.08</td>\n",
       "      <td>0.55</td>\n",
       "      <td>8.07</td>\n",
       "      <td>0.0</td>\n",
       "      <td>0.0</td>\n",
       "      <td>1</td>\n",
       "    </tr>\n",
       "  </tbody>\n",
       "</table>\n",
       "</div>"
      ],
      "text/plain": [
       "        RI     Na    Mg    Al     Si     K    Ca   Ba   Fe  Type\n",
       "0  1.52101  13.64  4.49  1.10  71.78  0.06  8.75  0.0  0.0     1\n",
       "1  1.51761  13.89  3.60  1.36  72.73  0.48  7.83  0.0  0.0     1\n",
       "2  1.51618  13.53  3.55  1.54  72.99  0.39  7.78  0.0  0.0     1\n",
       "3  1.51766  13.21  3.69  1.29  72.61  0.57  8.22  0.0  0.0     1\n",
       "4  1.51742  13.27  3.62  1.24  73.08  0.55  8.07  0.0  0.0     1"
      ]
     },
     "execution_count": 3,
     "metadata": {},
     "output_type": "execute_result"
    }
   ],
   "source": [
    "import pandas as pd \n",
    "\n",
    "df = pd.read_csv('./data/glass.csv')\n",
    "df.head()"
   ]
  },
  {
   "cell_type": "code",
   "execution_count": 4,
   "metadata": {},
   "outputs": [
    {
     "data": {
      "text/plain": [
       "array([1, 2, 3, 5, 6, 7], dtype=int64)"
      ]
     },
     "execution_count": 4,
     "metadata": {},
     "output_type": "execute_result"
    }
   ],
   "source": [
    "df.Type.unique()"
   ]
  },
  {
   "cell_type": "code",
   "execution_count": 6,
   "metadata": {},
   "outputs": [],
   "source": [
    "from sklearn.preprocessing import MinMaxScaler\n",
    "scaler = MinMaxScaler()\n",
    "\n",
    "df_x = scaler.fit_transform(df.drop('Type', axis = 1))\n"
   ]
  },
  {
   "cell_type": "code",
   "execution_count": 7,
   "metadata": {},
   "outputs": [],
   "source": [
    "from sklearn.model_selection import train_test_split\n",
    "\n",
    "x_train, x_test, y_train, y_test = train_test_split(df_x, df['Type'])"
   ]
  },
  {
   "cell_type": "code",
   "execution_count": 8,
   "metadata": {},
   "outputs": [
    {
     "data": {
      "text/plain": [
       "0.5185185185185185"
      ]
     },
     "execution_count": 8,
     "metadata": {},
     "output_type": "execute_result"
    }
   ],
   "source": [
    "# 나이브베이즈 \n",
    "\n",
    "from sklearn.naive_bayes import GaussianNB\n",
    "\n",
    "model = GaussianNB()\n",
    "\n",
    "model.fit(x_train, y_train)\n",
    "\n",
    "model.score(x_test, y_test)"
   ]
  },
  {
   "cell_type": "code",
   "execution_count": 12,
   "metadata": {},
   "outputs": [
    {
     "data": {
      "text/plain": [
       "0.5185185185185185"
      ]
     },
     "execution_count": 12,
     "metadata": {},
     "output_type": "execute_result"
    }
   ],
   "source": [
    "from sklearn import metrics\n",
    "y_pred = model.predict(x_test)\n",
    "metrics.accuracy_score(y_test, y_pred)\n",
    "\n",
    "# 정확도가 낮게 나오는 이유는 glass 데이터가 연속형 데이터이기 때문인 것 같다"
   ]
  },
  {
   "cell_type": "code",
   "execution_count": 13,
   "metadata": {},
   "outputs": [
    {
     "data": {
      "text/plain": [
       "array([[15,  1,  1,  0,  1,  0],\n",
       "       [13,  1,  0,  3,  0,  0],\n",
       "       [ 1,  0,  0,  0,  1,  0],\n",
       "       [ 0,  3,  0,  0,  0,  0],\n",
       "       [ 0,  0,  0,  0,  3,  1],\n",
       "       [ 0,  0,  0,  1,  0,  9]], dtype=int64)"
      ]
     },
     "execution_count": 13,
     "metadata": {},
     "output_type": "execute_result"
    }
   ],
   "source": [
    "from sklearn.metrics import confusion_matrix\n",
    "\n",
    "confusion_matrix(y_test, y_pred)"
   ]
  },
  {
   "cell_type": "code",
   "execution_count": 15,
   "metadata": {},
   "outputs": [
    {
     "name": "stdout",
     "output_type": "stream",
     "text": [
      "              precision    recall  f1-score   support\n",
      "\n",
      "           1       0.52      0.83      0.64        18\n",
      "           2       0.20      0.06      0.09        17\n",
      "           3       0.00      0.00      0.00         2\n",
      "           5       0.00      0.00      0.00         3\n",
      "           6       0.60      0.75      0.67         4\n",
      "           7       0.90      0.90      0.90        10\n",
      "\n",
      "    accuracy                           0.52        54\n",
      "   macro avg       0.37      0.42      0.38        54\n",
      "weighted avg       0.45      0.52      0.46        54\n",
      "\n"
     ]
    }
   ],
   "source": [
    "print(metrics.classification_report(y_test, y_pred))"
   ]
  },
  {
   "cell_type": "markdown",
   "metadata": {},
   "source": [
    "## Naive Bayes의 종류 \n",
    "[참고](https://todayisbetterthanyesterday.tistory.com/17)\n",
    "### 가우시안 나이브 베이즈 \n",
    "> 가우시안 나이브 베이즈란? \n",
    "- 표본 평균과 표본 분산을 가진 정규분포 하에서 베이즈 정리를 사용한 것 \n",
    "- 즉, 정규분포를 가정한 표본들을 대상으로 조건부 독립을 나타내, 항상 같은 분모를 갖는 조건하에서, 분자의 값이 가장 큰 경우,즉 확률이 가장 높은 경우를 \"선택\"하는 것이다. \n",
    "\n",
    "> 언제 사용? \n",
    "- 설명변수가 연속형일 대 사용하는 방법 \n",
    "- 적은 데이터로도 효율적인 성능을 낼 수 있다. \n",
    "- 특징들의 값들이 `정규분포(가우시안부포)`되어 있다는 가정하에 조건분 확률을 계산 \n",
    "\n",
    "> 사용시, 고려 \n",
    "- prior(가중치) 설정 가능 (다항분포 나이브 베이즈에서도 가능)\n",
    "\n",
    "### Multinominal Naive Bayes \n",
    "> 다항분포 나이브 베이즈란? \n",
    "- [참고](https://bigdatamaster.tistory.com/109)\n",
    "- 비연손적인 데이터 값에 대해서 여러가지 분류중에서 선택, 분류하는 방법임 \n",
    "\n",
    "\n",
    "> 언제 사용? \n",
    "- 이산형일 때 사용\n",
    "- 데이터의 특징이 출현 횟수로 표현됐을 때 사용 \n",
    "    - ex) 주사위를 10번 던졌을 때, 1이 한 번, 2가 두 번 .. \n",
    "    - 이와 같이 데이터의 출현 횟수에 따라 값을 달리한 데이터 ㅇ사용\n",
    "    - ex) 영화 감상평을 토대로 긍정적/부정적 리뷰 분류 \n",
    "\n",
    "\n",
    "\n",
    "### Bernoulli Naive Bayes \n",
    "> 이항분포 나이브 베이즈란? \n",
    "- 데이터의 특징이 0 또는 1로 표현됐을 때 사용 \n",
    "    - ex) 주사위를 10번 던졌을 때, 1이 한 번, 2가 두번 3이 3번나오면 10번 던진 결과 데이터를 (1,1,1,0,0,0) 이런식으로 표현 \n",
    "    - ex) 스팸 메일 분류 \n",
    "\n",
    "\n",
    "### 기타 \n",
    "> 스무딩이란? \n",
    "- 이산적인 데이터의 경우, 빈도수가 0인 경우 발생 \n",
    "- 학습데이터에 없던 단어가 실제상황에서 나타나게 되면 확률이 0이 되어 스팸 분류가 어려워짐 \n",
    "- 스무딩은 학습데이터에 없던 데이터가 출현해도 빈도수에 1을 더해 확률이 0이 되는 현상을 방지 "
   ]
  },
  {
   "cell_type": "markdown",
   "metadata": {},
   "source": [
    "## Out-of-core 나이브베이즈 모델 fitting \n",
    "\n",
    "- 데이터가 너무 큰 경우, sklearn에서는 `partial-fit`함수 제공한다. "
   ]
  },
  {
   "cell_type": "code",
   "execution_count": null,
   "metadata": {},
   "outputs": [],
   "source": []
  }
 ],
 "metadata": {
  "interpreter": {
   "hash": "8ca95d9937370959fe53b3f81cea8b7fb579a8b2e40b3ed544c9c6bb9cfba242"
  },
  "kernelspec": {
   "display_name": "Python 3.7.3 64-bit ('base': conda)",
   "language": "python",
   "name": "python3"
  },
  "language_info": {
   "codemirror_mode": {
    "name": "ipython",
    "version": 3
   },
   "file_extension": ".py",
   "mimetype": "text/x-python",
   "name": "python",
   "nbconvert_exporter": "python",
   "pygments_lexer": "ipython3",
   "version": "3.7.3"
  },
  "orig_nbformat": 4
 },
 "nbformat": 4,
 "nbformat_minor": 2
}
