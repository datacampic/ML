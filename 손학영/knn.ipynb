{
 "cells": [
  {
   "cell_type": "markdown",
   "metadata": {},
   "source": [
    "# KD tree\n",
    "- k 차원 공간의 점들을 구조화하는 공간 분할 자료구조"
   ]
  },
  {
   "cell_type": "code",
   "execution_count": 2,
   "metadata": {},
   "outputs": [
    {
     "data": {
      "text/html": [
       "<div>\n",
       "<style scoped>\n",
       "    .dataframe tbody tr th:only-of-type {\n",
       "        vertical-align: middle;\n",
       "    }\n",
       "\n",
       "    .dataframe tbody tr th {\n",
       "        vertical-align: top;\n",
       "    }\n",
       "\n",
       "    .dataframe thead th {\n",
       "        text-align: right;\n",
       "    }\n",
       "</style>\n",
       "<table border=\"1\" class=\"dataframe\">\n",
       "  <thead>\n",
       "    <tr style=\"text-align: right;\">\n",
       "      <th></th>\n",
       "      <th>RI</th>\n",
       "      <th>Na</th>\n",
       "      <th>Mg</th>\n",
       "      <th>Al</th>\n",
       "      <th>Si</th>\n",
       "      <th>K</th>\n",
       "      <th>Ca</th>\n",
       "      <th>Ba</th>\n",
       "      <th>Fe</th>\n",
       "      <th>Type</th>\n",
       "    </tr>\n",
       "  </thead>\n",
       "  <tbody>\n",
       "    <tr>\n",
       "      <th>0</th>\n",
       "      <td>1.52101</td>\n",
       "      <td>13.64</td>\n",
       "      <td>4.49</td>\n",
       "      <td>1.10</td>\n",
       "      <td>71.78</td>\n",
       "      <td>0.06</td>\n",
       "      <td>8.75</td>\n",
       "      <td>0.0</td>\n",
       "      <td>0.0</td>\n",
       "      <td>1</td>\n",
       "    </tr>\n",
       "    <tr>\n",
       "      <th>1</th>\n",
       "      <td>1.51761</td>\n",
       "      <td>13.89</td>\n",
       "      <td>3.60</td>\n",
       "      <td>1.36</td>\n",
       "      <td>72.73</td>\n",
       "      <td>0.48</td>\n",
       "      <td>7.83</td>\n",
       "      <td>0.0</td>\n",
       "      <td>0.0</td>\n",
       "      <td>1</td>\n",
       "    </tr>\n",
       "    <tr>\n",
       "      <th>2</th>\n",
       "      <td>1.51618</td>\n",
       "      <td>13.53</td>\n",
       "      <td>3.55</td>\n",
       "      <td>1.54</td>\n",
       "      <td>72.99</td>\n",
       "      <td>0.39</td>\n",
       "      <td>7.78</td>\n",
       "      <td>0.0</td>\n",
       "      <td>0.0</td>\n",
       "      <td>1</td>\n",
       "    </tr>\n",
       "    <tr>\n",
       "      <th>3</th>\n",
       "      <td>1.51766</td>\n",
       "      <td>13.21</td>\n",
       "      <td>3.69</td>\n",
       "      <td>1.29</td>\n",
       "      <td>72.61</td>\n",
       "      <td>0.57</td>\n",
       "      <td>8.22</td>\n",
       "      <td>0.0</td>\n",
       "      <td>0.0</td>\n",
       "      <td>1</td>\n",
       "    </tr>\n",
       "    <tr>\n",
       "      <th>4</th>\n",
       "      <td>1.51742</td>\n",
       "      <td>13.27</td>\n",
       "      <td>3.62</td>\n",
       "      <td>1.24</td>\n",
       "      <td>73.08</td>\n",
       "      <td>0.55</td>\n",
       "      <td>8.07</td>\n",
       "      <td>0.0</td>\n",
       "      <td>0.0</td>\n",
       "      <td>1</td>\n",
       "    </tr>\n",
       "  </tbody>\n",
       "</table>\n",
       "</div>"
      ],
      "text/plain": [
       "        RI     Na    Mg    Al     Si     K    Ca   Ba   Fe  Type\n",
       "0  1.52101  13.64  4.49  1.10  71.78  0.06  8.75  0.0  0.0     1\n",
       "1  1.51761  13.89  3.60  1.36  72.73  0.48  7.83  0.0  0.0     1\n",
       "2  1.51618  13.53  3.55  1.54  72.99  0.39  7.78  0.0  0.0     1\n",
       "3  1.51766  13.21  3.69  1.29  72.61  0.57  8.22  0.0  0.0     1\n",
       "4  1.51742  13.27  3.62  1.24  73.08  0.55  8.07  0.0  0.0     1"
      ]
     },
     "execution_count": 2,
     "metadata": {},
     "output_type": "execute_result"
    }
   ],
   "source": [
    "import pandas as pd \n",
    "import numpy as np \n",
    "\n",
    "df = pd.read_csv('C:/Users/sonso/Desktop/Git/Study/ML/손학영/data/glass.csv')\n",
    "df.head()"
   ]
  },
  {
   "cell_type": "code",
   "execution_count": 3,
   "metadata": {},
   "outputs": [
    {
     "data": {
      "text/plain": [
       "array([1, 2, 3, 5, 6, 7], dtype=int64)"
      ]
     },
     "execution_count": 3,
     "metadata": {},
     "output_type": "execute_result"
    }
   ],
   "source": [
    "df['Type'].unique()"
   ]
  },
  {
   "cell_type": "markdown",
   "metadata": {},
   "source": [
    "## 데이터 전처리"
   ]
  },
  {
   "cell_type": "code",
   "execution_count": 24,
   "metadata": {},
   "outputs": [
    {
     "data": {
      "text/plain": [
       "Index(['RI', 'Na', 'Mg', 'Al', 'Si', 'K', 'Ca', 'Ba', 'Fe'], dtype='object')"
      ]
     },
     "execution_count": 24,
     "metadata": {},
     "output_type": "execute_result"
    }
   ],
   "source": [
    "li_col"
   ]
  },
  {
   "cell_type": "code",
   "execution_count": 25,
   "metadata": {},
   "outputs": [
    {
     "data": {
      "text/html": [
       "<div>\n",
       "<style scoped>\n",
       "    .dataframe tbody tr th:only-of-type {\n",
       "        vertical-align: middle;\n",
       "    }\n",
       "\n",
       "    .dataframe tbody tr th {\n",
       "        vertical-align: top;\n",
       "    }\n",
       "\n",
       "    .dataframe thead th {\n",
       "        text-align: right;\n",
       "    }\n",
       "</style>\n",
       "<table border=\"1\" class=\"dataframe\">\n",
       "  <thead>\n",
       "    <tr style=\"text-align: right;\">\n",
       "      <th></th>\n",
       "      <th>RI</th>\n",
       "      <th>Na</th>\n",
       "      <th>Mg</th>\n",
       "      <th>Al</th>\n",
       "      <th>Si</th>\n",
       "      <th>K</th>\n",
       "      <th>Ca</th>\n",
       "      <th>Ba</th>\n",
       "      <th>Fe</th>\n",
       "      <th>Type</th>\n",
       "    </tr>\n",
       "  </thead>\n",
       "  <tbody>\n",
       "    <tr>\n",
       "      <th>count</th>\n",
       "      <td>214.000000</td>\n",
       "      <td>214.000000</td>\n",
       "      <td>214.000000</td>\n",
       "      <td>214.000000</td>\n",
       "      <td>214.000000</td>\n",
       "      <td>214.000000</td>\n",
       "      <td>214.000000</td>\n",
       "      <td>214.000000</td>\n",
       "      <td>214.000000</td>\n",
       "      <td>214.000000</td>\n",
       "    </tr>\n",
       "    <tr>\n",
       "      <th>mean</th>\n",
       "      <td>1.518365</td>\n",
       "      <td>13.407850</td>\n",
       "      <td>2.684533</td>\n",
       "      <td>1.444907</td>\n",
       "      <td>72.650935</td>\n",
       "      <td>0.497056</td>\n",
       "      <td>8.956963</td>\n",
       "      <td>0.175047</td>\n",
       "      <td>0.057009</td>\n",
       "      <td>2.780374</td>\n",
       "    </tr>\n",
       "    <tr>\n",
       "      <th>std</th>\n",
       "      <td>0.003037</td>\n",
       "      <td>0.816604</td>\n",
       "      <td>1.442408</td>\n",
       "      <td>0.499270</td>\n",
       "      <td>0.774546</td>\n",
       "      <td>0.652192</td>\n",
       "      <td>1.423153</td>\n",
       "      <td>0.497219</td>\n",
       "      <td>0.097439</td>\n",
       "      <td>2.103739</td>\n",
       "    </tr>\n",
       "    <tr>\n",
       "      <th>min</th>\n",
       "      <td>1.511150</td>\n",
       "      <td>10.730000</td>\n",
       "      <td>0.000000</td>\n",
       "      <td>0.290000</td>\n",
       "      <td>69.810000</td>\n",
       "      <td>0.000000</td>\n",
       "      <td>5.430000</td>\n",
       "      <td>0.000000</td>\n",
       "      <td>0.000000</td>\n",
       "      <td>1.000000</td>\n",
       "    </tr>\n",
       "    <tr>\n",
       "      <th>25%</th>\n",
       "      <td>1.516523</td>\n",
       "      <td>12.907500</td>\n",
       "      <td>2.115000</td>\n",
       "      <td>1.190000</td>\n",
       "      <td>72.280000</td>\n",
       "      <td>0.122500</td>\n",
       "      <td>8.240000</td>\n",
       "      <td>0.000000</td>\n",
       "      <td>0.000000</td>\n",
       "      <td>1.000000</td>\n",
       "    </tr>\n",
       "    <tr>\n",
       "      <th>50%</th>\n",
       "      <td>1.517680</td>\n",
       "      <td>13.300000</td>\n",
       "      <td>3.480000</td>\n",
       "      <td>1.360000</td>\n",
       "      <td>72.790000</td>\n",
       "      <td>0.555000</td>\n",
       "      <td>8.600000</td>\n",
       "      <td>0.000000</td>\n",
       "      <td>0.000000</td>\n",
       "      <td>2.000000</td>\n",
       "    </tr>\n",
       "    <tr>\n",
       "      <th>75%</th>\n",
       "      <td>1.519157</td>\n",
       "      <td>13.825000</td>\n",
       "      <td>3.600000</td>\n",
       "      <td>1.630000</td>\n",
       "      <td>73.087500</td>\n",
       "      <td>0.610000</td>\n",
       "      <td>9.172500</td>\n",
       "      <td>0.000000</td>\n",
       "      <td>0.100000</td>\n",
       "      <td>3.000000</td>\n",
       "    </tr>\n",
       "    <tr>\n",
       "      <th>max</th>\n",
       "      <td>1.533930</td>\n",
       "      <td>17.380000</td>\n",
       "      <td>4.490000</td>\n",
       "      <td>3.500000</td>\n",
       "      <td>75.410000</td>\n",
       "      <td>6.210000</td>\n",
       "      <td>16.190000</td>\n",
       "      <td>3.150000</td>\n",
       "      <td>0.510000</td>\n",
       "      <td>7.000000</td>\n",
       "    </tr>\n",
       "  </tbody>\n",
       "</table>\n",
       "</div>"
      ],
      "text/plain": [
       "               RI          Na          Mg          Al          Si           K  \\\n",
       "count  214.000000  214.000000  214.000000  214.000000  214.000000  214.000000   \n",
       "mean     1.518365   13.407850    2.684533    1.444907   72.650935    0.497056   \n",
       "std      0.003037    0.816604    1.442408    0.499270    0.774546    0.652192   \n",
       "min      1.511150   10.730000    0.000000    0.290000   69.810000    0.000000   \n",
       "25%      1.516523   12.907500    2.115000    1.190000   72.280000    0.122500   \n",
       "50%      1.517680   13.300000    3.480000    1.360000   72.790000    0.555000   \n",
       "75%      1.519157   13.825000    3.600000    1.630000   73.087500    0.610000   \n",
       "max      1.533930   17.380000    4.490000    3.500000   75.410000    6.210000   \n",
       "\n",
       "               Ca          Ba          Fe        Type  \n",
       "count  214.000000  214.000000  214.000000  214.000000  \n",
       "mean     8.956963    0.175047    0.057009    2.780374  \n",
       "std      1.423153    0.497219    0.097439    2.103739  \n",
       "min      5.430000    0.000000    0.000000    1.000000  \n",
       "25%      8.240000    0.000000    0.000000    1.000000  \n",
       "50%      8.600000    0.000000    0.000000    2.000000  \n",
       "75%      9.172500    0.000000    0.100000    3.000000  \n",
       "max     16.190000    3.150000    0.510000    7.000000  "
      ]
     },
     "execution_count": 25,
     "metadata": {},
     "output_type": "execute_result"
    }
   ],
   "source": [
    "df.describe()"
   ]
  },
  {
   "cell_type": "code",
   "execution_count": 27,
   "metadata": {},
   "outputs": [
    {
     "data": {
      "text/plain": [
       "(214, 10)"
      ]
     },
     "execution_count": 27,
     "metadata": {},
     "output_type": "execute_result"
    }
   ],
   "source": [
    "df.shape"
   ]
  },
  {
   "cell_type": "code",
   "execution_count": 4,
   "metadata": {},
   "outputs": [
    {
     "data": {
      "text/plain": [
       "<Figure size 3000x600 with 9 Axes>"
      ]
     },
     "metadata": {},
     "output_type": "display_data"
    }
   ],
   "source": [
    "# 이상치 제거 \n",
    "\n",
    "# 이상치 확인 \n",
    "import warnings \n",
    "warnings.filterwarnings('ignore')\n",
    "\n",
    "import matplotlib.pyplot as plt \n",
    "import seaborn as sns \n",
    "\n",
    "\n",
    "li_col = df.columns[:-1]\n",
    "fig, ax = plt.subplots(1,9, figsize = (30,6))\n",
    "count = 0\n",
    "for col in li_col : \n",
    "    sns.boxenplot(data = df[col], ax = ax[count])\n",
    "    ax[count].set_title(col)\n",
    "    count +=1 \n",
    "plt.show()"
   ]
  },
  {
   "cell_type": "code",
   "execution_count": 5,
   "metadata": {},
   "outputs": [],
   "source": [
    "li_col = li_col.drop('Ba')"
   ]
  },
  {
   "cell_type": "code",
   "execution_count": 6,
   "metadata": {},
   "outputs": [],
   "source": [
    "# 이상치 제거 \n",
    "def get_outlier(df, col) : \n",
    "    Q25= np.percentile(df[col].values, 25)\n",
    "    Q75= np.percentile(df[col].values, 75)\n",
    "    \n",
    "    IQR = Q75-Q25 \n",
    "    \n",
    "    lowest = Q25 - 1.5*IQR\n",
    "    highest = Q75 + 1.5*IQR \n",
    "    \n",
    "    outlier_idx = df[col][(df[col] < lowest) | (df[col] > highest)].index \n",
    "    \n",
    "    return outlier_idx \n",
    "\n",
    "for col in li_col : \n",
    "    outlier_idx = get_outlier(df, col)\n",
    "    df.drop(outlier_idx, axis = 0, inplace= True)"
   ]
  },
  {
   "cell_type": "code",
   "execution_count": 7,
   "metadata": {},
   "outputs": [
    {
     "data": {
      "text/html": [
       "<div>\n",
       "<style scoped>\n",
       "    .dataframe tbody tr th:only-of-type {\n",
       "        vertical-align: middle;\n",
       "    }\n",
       "\n",
       "    .dataframe tbody tr th {\n",
       "        vertical-align: top;\n",
       "    }\n",
       "\n",
       "    .dataframe thead th {\n",
       "        text-align: right;\n",
       "    }\n",
       "</style>\n",
       "<table border=\"1\" class=\"dataframe\">\n",
       "  <thead>\n",
       "    <tr style=\"text-align: right;\">\n",
       "      <th></th>\n",
       "      <th>RI</th>\n",
       "      <th>Na</th>\n",
       "      <th>Mg</th>\n",
       "      <th>Al</th>\n",
       "      <th>Si</th>\n",
       "      <th>K</th>\n",
       "      <th>Ca</th>\n",
       "      <th>Ba</th>\n",
       "      <th>Fe</th>\n",
       "      <th>Type</th>\n",
       "    </tr>\n",
       "  </thead>\n",
       "  <tbody>\n",
       "    <tr>\n",
       "      <th>count</th>\n",
       "      <td>111.000000</td>\n",
       "      <td>111.000000</td>\n",
       "      <td>111.000000</td>\n",
       "      <td>111.000000</td>\n",
       "      <td>111.000000</td>\n",
       "      <td>111.000000</td>\n",
       "      <td>111.000000</td>\n",
       "      <td>111.000000</td>\n",
       "      <td>111.000000</td>\n",
       "      <td>111.000000</td>\n",
       "    </tr>\n",
       "    <tr>\n",
       "      <th>mean</th>\n",
       "      <td>1.517329</td>\n",
       "      <td>13.095135</td>\n",
       "      <td>3.499279</td>\n",
       "      <td>1.381712</td>\n",
       "      <td>72.816577</td>\n",
       "      <td>0.585676</td>\n",
       "      <td>8.405586</td>\n",
       "      <td>0.005405</td>\n",
       "      <td>0.049730</td>\n",
       "      <td>1.666667</td>\n",
       "    </tr>\n",
       "    <tr>\n",
       "      <th>std</th>\n",
       "      <td>0.001012</td>\n",
       "      <td>0.352732</td>\n",
       "      <td>0.233085</td>\n",
       "      <td>0.184848</td>\n",
       "      <td>0.372223</td>\n",
       "      <td>0.067145</td>\n",
       "      <td>0.348213</td>\n",
       "      <td>0.023424</td>\n",
       "      <td>0.080965</td>\n",
       "      <td>0.651339</td>\n",
       "    </tr>\n",
       "    <tr>\n",
       "      <th>min</th>\n",
       "      <td>1.515670</td>\n",
       "      <td>12.160000</td>\n",
       "      <td>2.710000</td>\n",
       "      <td>1.050000</td>\n",
       "      <td>71.810000</td>\n",
       "      <td>0.370000</td>\n",
       "      <td>7.780000</td>\n",
       "      <td>0.000000</td>\n",
       "      <td>0.000000</td>\n",
       "      <td>1.000000</td>\n",
       "    </tr>\n",
       "    <tr>\n",
       "      <th>25%</th>\n",
       "      <td>1.516490</td>\n",
       "      <td>12.850000</td>\n",
       "      <td>3.450000</td>\n",
       "      <td>1.250000</td>\n",
       "      <td>72.640000</td>\n",
       "      <td>0.560000</td>\n",
       "      <td>8.105000</td>\n",
       "      <td>0.000000</td>\n",
       "      <td>0.000000</td>\n",
       "      <td>1.000000</td>\n",
       "    </tr>\n",
       "    <tr>\n",
       "      <th>50%</th>\n",
       "      <td>1.517470</td>\n",
       "      <td>13.090000</td>\n",
       "      <td>3.530000</td>\n",
       "      <td>1.350000</td>\n",
       "      <td>72.870000</td>\n",
       "      <td>0.580000</td>\n",
       "      <td>8.410000</td>\n",
       "      <td>0.000000</td>\n",
       "      <td>0.000000</td>\n",
       "      <td>2.000000</td>\n",
       "    </tr>\n",
       "    <tr>\n",
       "      <th>75%</th>\n",
       "      <td>1.517945</td>\n",
       "      <td>13.335000</td>\n",
       "      <td>3.600000</td>\n",
       "      <td>1.520000</td>\n",
       "      <td>73.075000</td>\n",
       "      <td>0.625000</td>\n",
       "      <td>8.620000</td>\n",
       "      <td>0.000000</td>\n",
       "      <td>0.100000</td>\n",
       "      <td>2.000000</td>\n",
       "    </tr>\n",
       "    <tr>\n",
       "      <th>max</th>\n",
       "      <td>1.521770</td>\n",
       "      <td>14.040000</td>\n",
       "      <td>3.980000</td>\n",
       "      <td>1.900000</td>\n",
       "      <td>73.700000</td>\n",
       "      <td>0.730000</td>\n",
       "      <td>9.230000</td>\n",
       "      <td>0.140000</td>\n",
       "      <td>0.260000</td>\n",
       "      <td>3.000000</td>\n",
       "    </tr>\n",
       "  </tbody>\n",
       "</table>\n",
       "</div>"
      ],
      "text/plain": [
       "               RI          Na          Mg          Al          Si           K  \\\n",
       "count  111.000000  111.000000  111.000000  111.000000  111.000000  111.000000   \n",
       "mean     1.517329   13.095135    3.499279    1.381712   72.816577    0.585676   \n",
       "std      0.001012    0.352732    0.233085    0.184848    0.372223    0.067145   \n",
       "min      1.515670   12.160000    2.710000    1.050000   71.810000    0.370000   \n",
       "25%      1.516490   12.850000    3.450000    1.250000   72.640000    0.560000   \n",
       "50%      1.517470   13.090000    3.530000    1.350000   72.870000    0.580000   \n",
       "75%      1.517945   13.335000    3.600000    1.520000   73.075000    0.625000   \n",
       "max      1.521770   14.040000    3.980000    1.900000   73.700000    0.730000   \n",
       "\n",
       "               Ca          Ba          Fe        Type  \n",
       "count  111.000000  111.000000  111.000000  111.000000  \n",
       "mean     8.405586    0.005405    0.049730    1.666667  \n",
       "std      0.348213    0.023424    0.080965    0.651339  \n",
       "min      7.780000    0.000000    0.000000    1.000000  \n",
       "25%      8.105000    0.000000    0.000000    1.000000  \n",
       "50%      8.410000    0.000000    0.000000    2.000000  \n",
       "75%      8.620000    0.000000    0.100000    2.000000  \n",
       "max      9.230000    0.140000    0.260000    3.000000  "
      ]
     },
     "execution_count": 7,
     "metadata": {},
     "output_type": "execute_result"
    }
   ],
   "source": [
    "df.describe()"
   ]
  },
  {
   "cell_type": "code",
   "execution_count": 8,
   "metadata": {},
   "outputs": [
    {
     "data": {
      "text/html": [
       "<div>\n",
       "<style scoped>\n",
       "    .dataframe tbody tr th:only-of-type {\n",
       "        vertical-align: middle;\n",
       "    }\n",
       "\n",
       "    .dataframe tbody tr th {\n",
       "        vertical-align: top;\n",
       "    }\n",
       "\n",
       "    .dataframe thead th {\n",
       "        text-align: right;\n",
       "    }\n",
       "</style>\n",
       "<table border=\"1\" class=\"dataframe\">\n",
       "  <thead>\n",
       "    <tr style=\"text-align: right;\">\n",
       "      <th></th>\n",
       "      <th>RI</th>\n",
       "      <th>Na</th>\n",
       "      <th>Mg</th>\n",
       "      <th>Al</th>\n",
       "      <th>Si</th>\n",
       "      <th>K</th>\n",
       "      <th>Ca</th>\n",
       "      <th>Ba</th>\n",
       "      <th>Fe</th>\n",
       "      <th>Type</th>\n",
       "    </tr>\n",
       "  </thead>\n",
       "  <tbody>\n",
       "    <tr>\n",
       "      <th>1</th>\n",
       "      <td>0.318033</td>\n",
       "      <td>0.920213</td>\n",
       "      <td>0.700787</td>\n",
       "      <td>0.364706</td>\n",
       "      <td>0.486772</td>\n",
       "      <td>0.305556</td>\n",
       "      <td>0.034483</td>\n",
       "      <td>0.0</td>\n",
       "      <td>0.0</td>\n",
       "      <td>1</td>\n",
       "    </tr>\n",
       "    <tr>\n",
       "      <th>2</th>\n",
       "      <td>0.083607</td>\n",
       "      <td>0.728723</td>\n",
       "      <td>0.661417</td>\n",
       "      <td>0.576471</td>\n",
       "      <td>0.624339</td>\n",
       "      <td>0.055556</td>\n",
       "      <td>0.000000</td>\n",
       "      <td>0.0</td>\n",
       "      <td>0.0</td>\n",
       "      <td>1</td>\n",
       "    </tr>\n",
       "    <tr>\n",
       "      <th>3</th>\n",
       "      <td>0.326230</td>\n",
       "      <td>0.558511</td>\n",
       "      <td>0.771654</td>\n",
       "      <td>0.282353</td>\n",
       "      <td>0.423280</td>\n",
       "      <td>0.555556</td>\n",
       "      <td>0.303448</td>\n",
       "      <td>0.0</td>\n",
       "      <td>0.0</td>\n",
       "      <td>1</td>\n",
       "    </tr>\n",
       "    <tr>\n",
       "      <th>4</th>\n",
       "      <td>0.286885</td>\n",
       "      <td>0.590426</td>\n",
       "      <td>0.716535</td>\n",
       "      <td>0.223529</td>\n",
       "      <td>0.671958</td>\n",
       "      <td>0.500000</td>\n",
       "      <td>0.200000</td>\n",
       "      <td>0.0</td>\n",
       "      <td>0.0</td>\n",
       "      <td>1</td>\n",
       "    </tr>\n",
       "    <tr>\n",
       "      <th>5</th>\n",
       "      <td>0.047541</td>\n",
       "      <td>0.335106</td>\n",
       "      <td>0.708661</td>\n",
       "      <td>0.670588</td>\n",
       "      <td>0.613757</td>\n",
       "      <td>0.750000</td>\n",
       "      <td>0.200000</td>\n",
       "      <td>0.0</td>\n",
       "      <td>1.0</td>\n",
       "      <td>1</td>\n",
       "    </tr>\n",
       "  </tbody>\n",
       "</table>\n",
       "</div>"
      ],
      "text/plain": [
       "         RI        Na        Mg        Al        Si         K        Ca   Ba  \\\n",
       "1  0.318033  0.920213  0.700787  0.364706  0.486772  0.305556  0.034483  0.0   \n",
       "2  0.083607  0.728723  0.661417  0.576471  0.624339  0.055556  0.000000  0.0   \n",
       "3  0.326230  0.558511  0.771654  0.282353  0.423280  0.555556  0.303448  0.0   \n",
       "4  0.286885  0.590426  0.716535  0.223529  0.671958  0.500000  0.200000  0.0   \n",
       "5  0.047541  0.335106  0.708661  0.670588  0.613757  0.750000  0.200000  0.0   \n",
       "\n",
       "    Fe  Type  \n",
       "1  0.0     1  \n",
       "2  0.0     1  \n",
       "3  0.0     1  \n",
       "4  0.0     1  \n",
       "5  1.0     1  "
      ]
     },
     "execution_count": 8,
     "metadata": {},
     "output_type": "execute_result"
    }
   ],
   "source": [
    "# 정규화 중 하나 minmax scaler \n",
    "# (x-min(x)) / (max(x) - min(x))\n",
    "\n",
    "for col in li_col : \n",
    "    df[col] = (df[col] - min(df[col])) / (max(df[col]) - min(df[col]))\n",
    "\n",
    "df.head()"
   ]
  },
  {
   "cell_type": "markdown",
   "metadata": {},
   "source": [
    "# KNN"
   ]
  },
  {
   "cell_type": "markdown",
   "metadata": {},
   "source": [
    "> 거리 계산 \n",
    "- L2 distance : 유클리디안거리 \n",
    "- L1 distance :  맨해튼 거리 (차이 절대값의 합 )\n",
    "\n",
    "> k 값 \n",
    "- k의 개수가 짝수이면 안된다. 하지만, 그렇다고 무조건 홀수로 정해야 하는 것은 아니다. \n",
    "- k =3 이라고 했는데, 분류값이 3개이면 결정을 못내릴 수도 있다. \n",
    "- k 측정 거리가 너무 커지면 데이터 주변의 지역분포에 민감하다 \n",
    "- `항목이 빈번한 데이터`가 예측을 지배한다.\n",
    "\n",
    "> 데이터 조건 \n",
    "- 정규화 필요 \n",
    "- 이상치 제거 \n",
    "- 결측치 제거 \n",
    "\n",
    "> 장점 \n",
    "- 단순, 성능이 좋음, 훈련단계가 빠름 \n",
    "\n",
    "> 단점 \n",
    "- 모델 생성이 없기 때문에 특징과 클래스 간의 관계 이해가 제한적이다. \n",
    "- 데이터셋의 특징이 많으면 분류가 느리다\n",
    "- missing value가 있으면 작동 잘 안한다\n",
    "- 관련없는 애들도 들어갈 수 있음 "
   ]
  },
  {
   "cell_type": "code",
   "execution_count": 9,
   "metadata": {},
   "outputs": [],
   "source": [
    "from sklearn.model_selection import train_test_split\n",
    "\n",
    "x = df.drop('Type', axis =1)\n",
    "y = df['Type']\n",
    "\n",
    "\n",
    "x_train, x_test, y_train, y_test = train_test_split(x, y, shuffle=True, test_size=0.2, random_state=20)"
   ]
  },
  {
   "cell_type": "code",
   "execution_count": 10,
   "metadata": {},
   "outputs": [
    {
     "data": {
      "text/plain": [
       "KNeighborsClassifier(algorithm='auto', leaf_size=30, metric='minkowski',\n",
       "                     metric_params=None, n_jobs=None, n_neighbors=5, p=2,\n",
       "                     weights='uniform')"
      ]
     },
     "execution_count": 10,
     "metadata": {},
     "output_type": "execute_result"
    }
   ],
   "source": [
    "#사이킷런에서 knn라이브러리를 불러온다.\n",
    "from sklearn.neighbors import KNeighborsClassifier\n",
    "\n",
    "#부르기 쉽게 kn으로 줄여준다.\n",
    "kn = KNeighborsClassifier()\n",
    "\n",
    "#훈련데이터를 fitting 시켜준다. \n",
    "kn.fit(x_train,y_train)"
   ]
  },
  {
   "cell_type": "code",
   "execution_count": 11,
   "metadata": {},
   "outputs": [
    {
     "data": {
      "text/plain": [
       "0.8636363636363636"
      ]
     },
     "execution_count": 11,
     "metadata": {},
     "output_type": "execute_result"
    }
   ],
   "source": [
    "kn.score(x_train,y_train)"
   ]
  },
  {
   "cell_type": "code",
   "execution_count": 12,
   "metadata": {},
   "outputs": [
    {
     "data": {
      "text/plain": [
       "0.5652173913043478"
      ]
     },
     "execution_count": 12,
     "metadata": {},
     "output_type": "execute_result"
    }
   ],
   "source": [
    "kn.score(x_test,y_test)"
   ]
  },
  {
   "cell_type": "code",
   "execution_count": 35,
   "metadata": {},
   "outputs": [
    {
     "data": {
      "text/plain": [
       "GridSearchCV(cv=5, error_score=nan,\n",
       "             estimator=KNeighborsClassifier(algorithm='auto', leaf_size=30,\n",
       "                                            metric='minkowski',\n",
       "                                            metric_params=None, n_jobs=None,\n",
       "                                            n_neighbors=5, p=2,\n",
       "                                            weights='uniform'),\n",
       "             iid='deprecated', n_jobs=1,\n",
       "             param_grid=[{'n_neighbors': range(3, 10), 'p': [1, 2],\n",
       "                          'weights': ['uniform', 'distance']}],\n",
       "             pre_dispatch='2*n_jobs', refit=True, return_train_score=False,\n",
       "             scoring=None, verbose=0)"
      ]
     },
     "execution_count": 35,
     "metadata": {},
     "output_type": "execute_result"
    }
   ],
   "source": [
    "from sklearn.model_selection import GridSearchCV\n",
    "\n",
    "param_grid = [{'n_neighbors' : range(3,10), 'weights' : ['uniform', 'distance'], 'p' : [1,2]}] # k개에게 독같은 가중치를 주는 것(다수결) / 거리 가중치 투표  # 1 = 맨하튼거리, 2 = 유클리디안\n",
    "\n",
    "gs = GridSearchCV(estimator=kn, param_grid= param_grid, cv=5, n_jobs=1)\n",
    "gs.fit(x_train, y_train)"
   ]
  },
  {
   "cell_type": "code",
   "execution_count": 36,
   "metadata": {},
   "outputs": [
    {
     "name": "stdout",
     "output_type": "stream",
     "text": [
      "{'n_neighbors': 4, 'p': 1, 'weights': 'distance'}\n",
      "0.8183006535947712\n"
     ]
    }
   ],
   "source": [
    "print(gs.best_params_)\n",
    "print(gs.best_score_)"
   ]
  },
  {
   "cell_type": "code",
   "execution_count": 37,
   "metadata": {},
   "outputs": [
    {
     "data": {
      "text/plain": [
       "0.6086956521739131"
      ]
     },
     "execution_count": 37,
     "metadata": {},
     "output_type": "execute_result"
    }
   ],
   "source": [
    "model = gs.best_estimator_\n",
    "model.score(x_test, y_test)"
   ]
  },
  {
   "cell_type": "markdown",
   "metadata": {},
   "source": [
    "# k-nn 회귀 \n",
    "- 영화등급 같은 걸 예측할 때 사용"
   ]
  },
  {
   "cell_type": "markdown",
   "metadata": {},
   "source": [
    "# Radius Neighbors Classifier \n",
    "새로운 예제의 반경에 있는 모든 예제를 사용하여 예측을 수행하는 k-nn의 확장 알고리즘 \n",
    "\n",
    "> 장점 \n",
    "특징 공간에서 멀리 떨어진 데이터(`이상치`)가 예측에 기여하는 것을 방지한다"
   ]
  },
  {
   "cell_type": "code",
   "execution_count": 29,
   "metadata": {},
   "outputs": [
    {
     "data": {
      "text/plain": [
       "GridSearchCV(cv=5, error_score=nan,\n",
       "             estimator=RadiusNeighborsClassifier(algorithm='auto', leaf_size=30,\n",
       "                                                 metric='minkowski',\n",
       "                                                 metric_params=None,\n",
       "                                                 n_jobs=None,\n",
       "                                                 outlier_label=None, p=2,\n",
       "                                                 radius=1.0,\n",
       "                                                 weights='uniform'),\n",
       "             iid='deprecated', n_jobs=1,\n",
       "             param_grid=[{'radius': array([1. , 1.2, 1.4, 1.6, 1.8]),\n",
       "                          'weights': ['uniform', 'distance']}],\n",
       "             pre_dispatch='2*n_jobs', refit=True, return_train_score=False,\n",
       "             scoring=None, verbose=0)"
      ]
     },
     "execution_count": 29,
     "metadata": {},
     "output_type": "execute_result"
    }
   ],
   "source": [
    "from sklearn.neighbors import RadiusNeighborsClassifier\n",
    "\n",
    "# create the model\n",
    "rnc = RadiusNeighborsClassifier()\n",
    "\n",
    "param_grid = [{'radius' : np.arange(1,2,0.2), 'weights' : ['uniform', 'distance']}]\n",
    "\n",
    "gs = GridSearchCV(estimator=rnc, param_grid= param_grid, cv=5, n_jobs=1)\n",
    "gs.fit(x_train, y_train)"
   ]
  },
  {
   "cell_type": "code",
   "execution_count": 30,
   "metadata": {},
   "outputs": [
    {
     "name": "stdout",
     "output_type": "stream",
     "text": [
      "{'radius': 1.2, 'weights': 'distance'}\n",
      "0.7150326797385621\n"
     ]
    }
   ],
   "source": [
    "print(gs.best_params_)\n",
    "print(gs.best_score_)"
   ]
  },
  {
   "cell_type": "code",
   "execution_count": 31,
   "metadata": {},
   "outputs": [
    {
     "data": {
      "text/plain": [
       "0.6086956521739131"
      ]
     },
     "execution_count": 31,
     "metadata": {},
     "output_type": "execute_result"
    }
   ],
   "source": [
    "model = gs.best_estimator_\n",
    "model.score(x_test, y_test)"
   ]
  },
  {
   "cell_type": "markdown",
   "metadata": {},
   "source": [
    "# NCA \n",
    "주변 구성 요소를 활용한 차원 축소 \n",
    "\n",
    "> PCA \n",
    "- 데이터의 분산을 가장 잘 설명하는 속성 조합을 식별함 \n",
    "\n",
    "> LDA \n",
    "- 클래스 간 차이가 가장 큰 속성을 식별함 \n",
    "- PCA와 달리 `지도학습`임 \n",
    "\n",
    "> NCA \n",
    "- 확률적 knn이 최상의 정확도를 제공할 수 있는 feature space 을 찾는 것 \n",
    "- `지도학습`임 "
   ]
  },
  {
   "cell_type": "code",
   "execution_count": 41,
   "metadata": {},
   "outputs": [
    {
     "data": {
      "image/png": "[encoded data removed]",
      "text/plain": [
       "<Figure size 432x288 with 1 Axes>"
      ]
     },
     "metadata": {
      "needs_background": "light"
     },
     "output_type": "display_data"
    }
   ],
   "source": [
    "from sklearn.discriminant_analysis import LinearDiscriminantAnalysis\n",
    "from sklearn.neighbors import KNeighborsClassifier\n",
    "from sklearn.pipeline import make_pipeline\n",
    "from sklearn.preprocessing import StandardScaler\n",
    "\n",
    "n_neighbors = 3\n",
    "random_state = 0\n",
    "\n",
    "\n",
    "knn = KNeighborsClassifier()\n",
    "\n",
    "\n",
    "lda = make_pipeline(StandardScaler(),\n",
    "                    LinearDiscriminantAnalysis(n_components=2))\n",
    "\n",
    "# 가장 가까운 이웃 분류기를 사용하여 방법을 평가합니다.\n",
    "knn = KNeighborsClassifier(n_neighbors=n_neighbors)\n",
    "\n",
    "# 비교할 방법 목록 작성\n",
    "dim_reduction_methods = [('LDA', lda)]\n",
    "\n",
    "# plt.figure()\n",
    "for i, (name, model) in enumerate(dim_reduction_methods):\n",
    "    plt.figure()\n",
    "    # plt.subplot(1, 3, i + 1, aspect=1)\n",
    "\n",
    "    # 방법의 모델 맞추기\n",
    "    model.fit(x_train, y_train)\n",
    "\n",
    "    # 포함 된 훈련 세트에 가장 가까운 이웃 분류기 맞추기\n",
    "    knn.fit(model.transform(x_train), y_train)\n",
    "\n",
    "    # 임베디드 테스트 세트에서 가장 가까운 이웃 정확도 계산\n",
    "    acc_knn = knn.score(model.transform(x_test), y_test)\n",
    "\n",
    "    # 피팅 된 모델을 사용하여 2 차원으로 데이터 세트 포함\n",
    "    X_embedded = model.transform(x)\n",
    "\n",
    "    # 예상 점수를 플로팅하고 평가 점수를 보여줍니다.\n",
    "    plt.scatter(X_embedded[:, 0], X_embedded[:, 1], c=y, s=30, cmap='Set1')\n",
    "    plt.title(\"{}, KNN (k={})\\nTest accuracy = {:.2f}\".format(name,\n",
    "                                                              n_neighbors,\n",
    "                                                              acc_knn))"
   ]
  },
  {
   "cell_type": "code",
   "execution_count": 42,
   "metadata": {},
   "outputs": [
    {
     "data": {
      "text/plain": [
       "GridSearchCV(cv=5, error_score=nan,\n",
       "             estimator=KNeighborsClassifier(algorithm='auto', leaf_size=30,\n",
       "                                            metric='minkowski',\n",
       "                                            metric_params=None, n_jobs=None,\n",
       "                                            n_neighbors=3, p=2,\n",
       "                                            weights='uniform'),\n",
       "             iid='deprecated', n_jobs=1,\n",
       "             param_grid=[{'n_neighbors': range(3, 10), 'p': [1, 2],\n",
       "                          'weights': ['uniform', 'distance']}],\n",
       "             pre_dispatch='2*n_jobs', refit=True, return_train_score=False,\n",
       "             scoring=None, verbose=0)"
      ]
     },
     "execution_count": 42,
     "metadata": {},
     "output_type": "execute_result"
    }
   ],
   "source": [
    "param_grid = [{'n_neighbors' : range(3,10), 'weights' : ['uniform', 'distance'], 'p' : [1,2]}]\n",
    "\n",
    "gs = GridSearchCV(estimator=knn, param_grid= param_grid, cv=5, n_jobs=1)\n",
    "gs.fit(x_train, y_train)"
   ]
  },
  {
   "cell_type": "code",
   "execution_count": 44,
   "metadata": {},
   "outputs": [
    {
     "data": {
      "text/plain": [
       "0.8183006535947712"
      ]
     },
     "execution_count": 44,
     "metadata": {},
     "output_type": "execute_result"
    }
   ],
   "source": [
    "gs.best_score_"
   ]
  },
  {
   "cell_type": "code",
   "execution_count": 45,
   "metadata": {},
   "outputs": [
    {
     "data": {
      "text/plain": [
       "{'n_neighbors': 4, 'p': 1, 'weights': 'distance'}"
      ]
     },
     "execution_count": 45,
     "metadata": {},
     "output_type": "execute_result"
    }
   ],
   "source": [
    "gs.best_params_"
   ]
  },
  {
   "cell_type": "code",
   "execution_count": 46,
   "metadata": {},
   "outputs": [
    {
     "data": {
      "text/plain": [
       "0.6086956521739131"
      ]
     },
     "execution_count": 46,
     "metadata": {},
     "output_type": "execute_result"
    }
   ],
   "source": [
    "model = gs.best_estimator_\n",
    "model.score(x_test, y_test)"
   ]
  },
  {
   "cell_type": "markdown",
   "metadata": {},
   "source": [
    "### study에서 알게 된것 \n",
    "- F1 score 하기 \n",
    "- gca() plt . 왜곡도 표현하는 함수 \n",
    "- model kernel : svm에서 파라미터 \n"
   ]
  },
  {
   "cell_type": "code",
   "execution_count": null,
   "metadata": {},
   "outputs": [],
   "source": []
  }
 ],
 "metadata": {
  "interpreter": {
   "hash": "8ca95d9937370959fe53b3f81cea8b7fb579a8b2e40b3ed544c9c6bb9cfba242"
  },
  "kernelspec": {
   "display_name": "Python 3.7.3 64-bit ('base': conda)",
   "language": "python",
   "name": "python3"
  },
  "language_info": {
   "codemirror_mode": {
    "name": "ipython",
    "version": 3
   },
   "file_extension": ".py",
   "mimetype": "text/x-python",
   "name": "python",
   "nbconvert_exporter": "python",
   "pygments_lexer": "ipython3",
   "version": "3.7.3"
  },
  "orig_nbformat": 4
 },
 "nbformat": 4,
 "nbformat_minor": 2
}
