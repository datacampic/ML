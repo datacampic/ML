{
 "cells": [
  {
   "cell_type": "markdown",
   "metadata": {},
   "source": [
    "# SVM \n",
    "[참고](https://bkshin.tistory.com/entry/%EB%A8%B8%EC%8B%A0%EB%9F%AC%EB%8B%9D-2%EC%84%9C%ED%8F%AC%ED%8A%B8-%EB%B2%A1%ED%84%B0-%EB%A8%B8%EC%8B%A0-SVM)\n",
    "> SVM이란? \n",
    " - 어느 카테고리에 속할지 판단하는 `이진선형분류모델`\n",
    " - `margin` : 선과 서포트 벡터의 거리 \n",
    " - `Support vector` : 선과 가장 가까운 데이터 \n",
    " - `Decision Boundary` : 두 데이터를 구분하는 선 \n",
    " - `Robustness` : outlier에 영향을 받지 않는 정도, margin을 최대화하면 커짐 \n",
    "\n",
    " > 어떤 선이 구분선으로 적절한가? \n",
    " - 데이터를 정확히 분류하는 범위찾음\n",
    " - 그 범위 안에서 margin을 최대화하는 구분선 택함 \n",
    "\n",
    " > outlier 처리 : soft margin \n",
    " - 어느 정도 outlier를 무시하고 최적의 구분선을 찾음 \n",
    "\n",
    " > `Kernel Trick` 란? \n",
    " - lineaar line으로 구분할 수 없는 경우, \n",
    " - `차원`을 바꿔주어 구분선을 그린다 \n",
    " - 즉, 저차원 공간을 고차원 공간으로 매핑해주는 작업 \n",
    "\n",
    " - 데이터를 저차원 공간에서 고차원 공간으로 매핑함 -> 고차원에서 line을 구함 -> 그 line을 다시 저차원 공간에 매핑한다 \n",
    "\n",
    " > 파라미터 \n",
    " - `kernel` : decision boundary의 모양을 선형으로 할지 다항식형으로 할지 결정하는 것 \n",
    "    - `linear` : gamma(y)의 영향이 없음 \n",
    "        - kernel을 적용하지 않은 기본 SVM으로 soft margin을 계산하는데만 사용된다. \n",
    "    - `polynomial` : 다항식 커널 \n",
    "        - 파라미터 : cost, Gamma, coef, degree \n",
    "        - degree : feature space의 차원 개수 \n",
    "\n",
    "    - `sigmoid`\n",
    "        - 파라미터 : cost, Gamma, coef \n",
    "    - `rbf (default)` \n",
    "        - 파라미터 : cost, Gamma \n",
    "        - 작을 수록 마진이 넓어짐, 클수록 작아지면서 세분화 \n",
    "\n",
    "- `C` : decision boundary의 굴곡정도 \n",
    "    - 크면 : 굴곡짐 -> training 포인트를 정확히 구분함 \n",
    "    - 작으면 : 직선에 가까움 -> margin이 커짐\n",
    "\n",
    "- `Gamma(y)` : Gamma가 작다면 reach가 멀다는 뜻, 크면 좁다는 뜻 \n",
    "    - reach : decision boundary의 굴곡에 영향을 주는 데이터의 범위 \n",
    "    - 즉 고려하는 데이터의 수가 많냐 적냐인가..? \n",
    "    - 크면 : decision boundary는 더 굴곡짐 \n",
    "    - 작으면 : 직선에 가까움  -> margin이 커짐 \n",
    "\n",
    "> C와 gamma의 차이점 \n",
    "- C : 두 데이터를 정확히 구분하는 것에 초점 \n",
    "    - 아무리 커져도 decision boundary는 하나임 (이상치가 없을 때)\n",
    "- Gamma : 개별 데이터마다 decision boundary를 만드는 것에 초점 \n",
    "    - 커짐에 따라 여러 decision boundary 만듦 \n",
    "\n",
    "\n",
    "> 장점\n",
    "- 고차원에서 모두 효과적이다. (차원 = 특성개수) \n",
    "- decision function에서 메모리 효율성 \n",
    "- 차원 수 > 데이터 수 일때도 효율적 \n",
    "- 커널함수 커스터마이징 가능 \n",
    "\n",
    "> 단점 \n",
    "- 데이터가 너무 많으면 속도가 느리고 메모리적으로 힘듦\n",
    "- 확률 추정치를 ㅔㅈ공하지 않고, 5분할 교차검증을 사용하여 소비 리소스가 큼 \n",
    "\n"
   ]
  },
  {
   "cell_type": "markdown",
   "metadata": {},
   "source": [
    "## SVM 종류 \n",
    "### SVC \n",
    "- 표준 SVM으로, M을 C로 바꿔서 사용한 것 \n",
    "### NuSVC \n",
    "- 오류 처리방식의 조금 차이 \n",
    "### SVR\n",
    "- Regression 용 \n",
    "\n",
    "### LinearSVC \n",
    "- SVC의 linear kernel의 특화버전\n",
    "- 정답률은 떨어지지만 속도가 비약적으로 상승한다 \n",
    "\n",
    "### LinearSVR \n",
    "- Regreesion 용 \n",
    "\n",
    "### OneClassSVM\n",
    "- 특이점 판별"
   ]
  },
  {
   "cell_type": "markdown",
   "metadata": {},
   "source": [
    "# 적용"
   ]
  },
  {
   "cell_type": "code",
   "execution_count": 1,
   "metadata": {},
   "outputs": [
    {
     "data": {
      "text/html": [
       "<div>\n",
       "<style scoped>\n",
       "    .dataframe tbody tr th:only-of-type {\n",
       "        vertical-align: middle;\n",
       "    }\n",
       "\n",
       "    .dataframe tbody tr th {\n",
       "        vertical-align: top;\n",
       "    }\n",
       "\n",
       "    .dataframe thead th {\n",
       "        text-align: right;\n",
       "    }\n",
       "</style>\n",
       "<table border=\"1\" class=\"dataframe\">\n",
       "  <thead>\n",
       "    <tr style=\"text-align: right;\">\n",
       "      <th></th>\n",
       "      <th>RI</th>\n",
       "      <th>Na</th>\n",
       "      <th>Mg</th>\n",
       "      <th>Al</th>\n",
       "      <th>Si</th>\n",
       "      <th>K</th>\n",
       "      <th>Ca</th>\n",
       "      <th>Ba</th>\n",
       "      <th>Fe</th>\n",
       "      <th>Type</th>\n",
       "    </tr>\n",
       "  </thead>\n",
       "  <tbody>\n",
       "    <tr>\n",
       "      <th>0</th>\n",
       "      <td>1.52101</td>\n",
       "      <td>13.64</td>\n",
       "      <td>4.49</td>\n",
       "      <td>1.10</td>\n",
       "      <td>71.78</td>\n",
       "      <td>0.06</td>\n",
       "      <td>8.75</td>\n",
       "      <td>0.0</td>\n",
       "      <td>0.0</td>\n",
       "      <td>1</td>\n",
       "    </tr>\n",
       "    <tr>\n",
       "      <th>1</th>\n",
       "      <td>1.51761</td>\n",
       "      <td>13.89</td>\n",
       "      <td>3.60</td>\n",
       "      <td>1.36</td>\n",
       "      <td>72.73</td>\n",
       "      <td>0.48</td>\n",
       "      <td>7.83</td>\n",
       "      <td>0.0</td>\n",
       "      <td>0.0</td>\n",
       "      <td>1</td>\n",
       "    </tr>\n",
       "    <tr>\n",
       "      <th>2</th>\n",
       "      <td>1.51618</td>\n",
       "      <td>13.53</td>\n",
       "      <td>3.55</td>\n",
       "      <td>1.54</td>\n",
       "      <td>72.99</td>\n",
       "      <td>0.39</td>\n",
       "      <td>7.78</td>\n",
       "      <td>0.0</td>\n",
       "      <td>0.0</td>\n",
       "      <td>1</td>\n",
       "    </tr>\n",
       "    <tr>\n",
       "      <th>3</th>\n",
       "      <td>1.51766</td>\n",
       "      <td>13.21</td>\n",
       "      <td>3.69</td>\n",
       "      <td>1.29</td>\n",
       "      <td>72.61</td>\n",
       "      <td>0.57</td>\n",
       "      <td>8.22</td>\n",
       "      <td>0.0</td>\n",
       "      <td>0.0</td>\n",
       "      <td>1</td>\n",
       "    </tr>\n",
       "    <tr>\n",
       "      <th>4</th>\n",
       "      <td>1.51742</td>\n",
       "      <td>13.27</td>\n",
       "      <td>3.62</td>\n",
       "      <td>1.24</td>\n",
       "      <td>73.08</td>\n",
       "      <td>0.55</td>\n",
       "      <td>8.07</td>\n",
       "      <td>0.0</td>\n",
       "      <td>0.0</td>\n",
       "      <td>1</td>\n",
       "    </tr>\n",
       "  </tbody>\n",
       "</table>\n",
       "</div>"
      ],
      "text/plain": [
       "        RI     Na    Mg    Al     Si     K    Ca   Ba   Fe  Type\n",
       "0  1.52101  13.64  4.49  1.10  71.78  0.06  8.75  0.0  0.0     1\n",
       "1  1.51761  13.89  3.60  1.36  72.73  0.48  7.83  0.0  0.0     1\n",
       "2  1.51618  13.53  3.55  1.54  72.99  0.39  7.78  0.0  0.0     1\n",
       "3  1.51766  13.21  3.69  1.29  72.61  0.57  8.22  0.0  0.0     1\n",
       "4  1.51742  13.27  3.62  1.24  73.08  0.55  8.07  0.0  0.0     1"
      ]
     },
     "execution_count": 1,
     "metadata": {},
     "output_type": "execute_result"
    }
   ],
   "source": [
    "import pandas as pd \n",
    "\n",
    "df = pd.read_csv('./data/glass.csv')\n",
    "df.head()"
   ]
  },
  {
   "cell_type": "code",
   "execution_count": 2,
   "metadata": {},
   "outputs": [],
   "source": [
    "from sklearn.preprocessing import MinMaxScaler\n",
    "scaler = MinMaxScaler()\n",
    "\n",
    "df_x = scaler.fit_transform(df.drop('Type', axis = 1))"
   ]
  },
  {
   "cell_type": "code",
   "execution_count": 3,
   "metadata": {},
   "outputs": [],
   "source": [
    "from sklearn.model_selection import train_test_split\n",
    "\n",
    "x_train, x_test, y_train, y_test = train_test_split(df_x, df['Type'])"
   ]
  },
  {
   "cell_type": "code",
   "execution_count": 4,
   "metadata": {},
   "outputs": [
    {
     "name": "stdout",
     "output_type": "stream",
     "text": [
      "0.5282392026578073\n"
     ]
    }
   ],
   "source": [
    "# 선형분리 \n",
    "from sklearn.model_selection import cross_val_score, cross_validate\n",
    "import sklearn.svm as svm\n",
    "svm_clf = svm.SVC(kernel= 'linear')\n",
    "\n",
    "scores = cross_val_score(svm_clf, df_x, df['Type'], cv = 5 ) # cv는 폴드의 수\n",
    "print(scores.mean())"
   ]
  },
  {
   "cell_type": "code",
   "execution_count": 5,
   "metadata": {},
   "outputs": [
    {
     "name": "stdout",
     "output_type": "stream",
     "text": [
      "0.5985603543743079\n"
     ]
    }
   ],
   "source": [
    "# 비선형분리 \n",
    "\n",
    "svm_clf = svm.SVC(kernel= 'rbf')\n",
    "\n",
    "scores = cross_val_score(svm_clf, df_x, df['Type'], cv = 5 ) # cv는 폴드의 수\n",
    "print(scores.mean())"
   ]
  },
  {
   "cell_type": "markdown",
   "metadata": {},
   "source": [
    "- 선형분리, 비선형분리 중 비선형분리에서 좀 더 높은 평균 스코어를 보임 \n",
    "- svm은 `스케일링`에 민감함 "
   ]
  },
  {
   "cell_type": "markdown",
   "metadata": {},
   "source": [
    "## 1) Sclaer 바꿔보기 \n",
    "- minmax -> standard"
   ]
  },
  {
   "cell_type": "code",
   "execution_count": 6,
   "metadata": {},
   "outputs": [
    {
     "name": "stdout",
     "output_type": "stream",
     "text": [
      "0.6497231450719824\n"
     ]
    }
   ],
   "source": [
    "# StandardScaling으로 해보기 \n",
    "df = pd.read_csv('./data/glass.csv')\n",
    "\n",
    "from sklearn.preprocessing import StandardScaler\n",
    "scaler = StandardScaler()\n",
    "df_x = scaler.fit_transform(df.drop('Type', axis = 1))\n",
    "\n",
    "svm_clf = svm.SVC(kernel= 'rbf')\n",
    "\n",
    "scores = cross_val_score(svm_clf, df_x, df['Type'], cv = 5 ) # cv는 폴드의 수\n",
    "print(scores.mean())\n"
   ]
  },
  {
   "cell_type": "markdown",
   "metadata": {},
   "source": [
    "- Standard Scaler가 좀 더 스코어가 높군 "
   ]
  },
  {
   "cell_type": "code",
   "execution_count": 7,
   "metadata": {},
   "outputs": [],
   "source": [
    "x_train, x_test, y_train, y_test = train_test_split(df_x, df['Type'])"
   ]
  },
  {
   "cell_type": "code",
   "execution_count": 12,
   "metadata": {},
   "outputs": [
    {
     "name": "stdout",
     "output_type": "stream",
     "text": [
      "   fit_time  score_time  test_score\n",
      "0  0.005983    0.000998    0.581395\n",
      "1  0.003989    0.001008    0.697674\n",
      "2  0.001993    0.000000    0.534884\n",
      "3  0.005016    0.003963    0.744186\n",
      "4  0.002990    0.000997    0.690476\n",
      "평균:  0.6497231450719824\n"
     ]
    }
   ],
   "source": [
    "svm_clf =svm.SVC(kernel = 'rbf', random_state=100)\n",
    "scores = cross_val_score(svm_clf, df_x, df['Type'], cv = 5 ) # cv는 폴드의 수\n",
    "\n",
    "print(pd.DataFrame(cross_validate(svm_clf, df_x, df['Type'], cv =5)))\n",
    "\n",
    "print('평균: ', scores.mean())"
   ]
  },
  {
   "cell_type": "markdown",
   "metadata": {},
   "source": [
    "## 2) 하이퍼파라미터 튜닝"
   ]
  },
  {
   "cell_type": "code",
   "execution_count": 14,
   "metadata": {},
   "outputs": [
    {
     "name": "stderr",
     "output_type": "stream",
     "text": [
      "C:\\Users\\sonso\\Anaconda3\\lib\\site-packages\\sklearn\\model_selection\\_split.py:667: UserWarning: The least populated class in y has only 4 members, which is less than n_splits=5.\n",
      "  % (min_groups, self.n_splits)), UserWarning)\n"
     ]
    },
    {
     "data": {
      "text/html": [
       "<div>\n",
       "<style scoped>\n",
       "    .dataframe tbody tr th:only-of-type {\n",
       "        vertical-align: middle;\n",
       "    }\n",
       "\n",
       "    .dataframe tbody tr th {\n",
       "        vertical-align: top;\n",
       "    }\n",
       "\n",
       "    .dataframe thead th {\n",
       "        text-align: right;\n",
       "    }\n",
       "</style>\n",
       "<table border=\"1\" class=\"dataframe\">\n",
       "  <thead>\n",
       "    <tr style=\"text-align: right;\">\n",
       "      <th></th>\n",
       "      <th>C</th>\n",
       "      <th>gamma</th>\n",
       "      <th>mean_test_score</th>\n",
       "    </tr>\n",
       "  </thead>\n",
       "  <tbody>\n",
       "    <tr>\n",
       "      <th>50</th>\n",
       "      <td>50.000</td>\n",
       "      <td>0.100</td>\n",
       "      <td>0.72500</td>\n",
       "    </tr>\n",
       "    <tr>\n",
       "      <th>42</th>\n",
       "      <td>25.000</td>\n",
       "      <td>0.100</td>\n",
       "      <td>0.71250</td>\n",
       "    </tr>\n",
       "    <tr>\n",
       "      <th>58</th>\n",
       "      <td>100.000</td>\n",
       "      <td>0.100</td>\n",
       "      <td>0.71250</td>\n",
       "    </tr>\n",
       "    <tr>\n",
       "      <th>26</th>\n",
       "      <td>1.000</td>\n",
       "      <td>0.100</td>\n",
       "      <td>0.70625</td>\n",
       "    </tr>\n",
       "    <tr>\n",
       "      <th>34</th>\n",
       "      <td>10.000</td>\n",
       "      <td>0.100</td>\n",
       "      <td>0.70625</td>\n",
       "    </tr>\n",
       "    <tr>\n",
       "      <th>...</th>\n",
       "      <td>...</td>\n",
       "      <td>...</td>\n",
       "      <td>...</td>\n",
       "    </tr>\n",
       "    <tr>\n",
       "      <th>21</th>\n",
       "      <td>0.100</td>\n",
       "      <td>25.000</td>\n",
       "      <td>0.36875</td>\n",
       "    </tr>\n",
       "    <tr>\n",
       "      <th>22</th>\n",
       "      <td>0.100</td>\n",
       "      <td>50.000</td>\n",
       "      <td>0.36875</td>\n",
       "    </tr>\n",
       "    <tr>\n",
       "      <th>23</th>\n",
       "      <td>0.100</td>\n",
       "      <td>100.000</td>\n",
       "      <td>0.36875</td>\n",
       "    </tr>\n",
       "    <tr>\n",
       "      <th>24</th>\n",
       "      <td>1.000</td>\n",
       "      <td>0.001</td>\n",
       "      <td>0.36875</td>\n",
       "    </tr>\n",
       "    <tr>\n",
       "      <th>0</th>\n",
       "      <td>0.001</td>\n",
       "      <td>0.001</td>\n",
       "      <td>0.36875</td>\n",
       "    </tr>\n",
       "  </tbody>\n",
       "</table>\n",
       "<p>64 rows × 3 columns</p>\n",
       "</div>"
      ],
      "text/plain": [
       "          C    gamma  mean_test_score\n",
       "50   50.000    0.100          0.72500\n",
       "42   25.000    0.100          0.71250\n",
       "58  100.000    0.100          0.71250\n",
       "26    1.000    0.100          0.70625\n",
       "34   10.000    0.100          0.70625\n",
       "..      ...      ...              ...\n",
       "21    0.100   25.000          0.36875\n",
       "22    0.100   50.000          0.36875\n",
       "23    0.100  100.000          0.36875\n",
       "24    1.000    0.001          0.36875\n",
       "0     0.001    0.001          0.36875\n",
       "\n",
       "[64 rows x 3 columns]"
      ]
     },
     "execution_count": 14,
     "metadata": {},
     "output_type": "execute_result"
    }
   ],
   "source": [
    "from sklearn.model_selection import GridSearchCV\n",
    "\n",
    "svm_clf =svm.SVC(kernel = 'rbf', random_state=100)\n",
    "\n",
    "\n",
    "# 테스트하고자 하는 파라미터 dict 타입으로 정의 \n",
    "parameters = {'C' : [0.001, 0.01, 0.1, 1, 10, 25, 50, 100] , \n",
    "              # C가 클수록 데이터 잘 구분, 작을수록 margin 커짐 ,\n",
    "              # C값이 낮을 수록 서포트 벡터가 많이 생성되어, 예측 시간이 늘어남  \n",
    "              # 범위 : -10^3 ~ 10^3\n",
    "              'gamma' : [0.001, 0.01, 0.1, 1, 10, 25, 50, 100] }\n",
    "\n",
    "grid_svm = GridSearchCV(svm_clf, param_grid= parameters, cv = 5)\n",
    "\n",
    "grid_svm.fit(x_train, y_train)\n",
    "\n",
    "result = pd.DataFrame(grid_svm.cv_results_['params'])\n",
    "result['mean_test_score'] = grid_svm.cv_results_['mean_test_score']\n",
    "result.sort_values(by = 'mean_test_score', ascending= False)"
   ]
  },
  {
   "cell_type": "markdown",
   "metadata": {},
   "source": [
    "trainset으로 했을 때랑 전체 데이터셋으로 했을 때랑 점수가 다르네"
   ]
  },
  {
   "cell_type": "code",
   "execution_count": 15,
   "metadata": {},
   "outputs": [
    {
     "data": {
      "text/html": [
       "<div>\n",
       "<style scoped>\n",
       "    .dataframe tbody tr th:only-of-type {\n",
       "        vertical-align: middle;\n",
       "    }\n",
       "\n",
       "    .dataframe tbody tr th {\n",
       "        vertical-align: top;\n",
       "    }\n",
       "\n",
       "    .dataframe thead th {\n",
       "        text-align: right;\n",
       "    }\n",
       "</style>\n",
       "<table border=\"1\" class=\"dataframe\">\n",
       "  <thead>\n",
       "    <tr style=\"text-align: right;\">\n",
       "      <th></th>\n",
       "      <th>C</th>\n",
       "      <th>gamma</th>\n",
       "      <th>mean_test_score</th>\n",
       "    </tr>\n",
       "  </thead>\n",
       "  <tbody>\n",
       "    <tr>\n",
       "      <th>49</th>\n",
       "      <td>50.000</td>\n",
       "      <td>0.010</td>\n",
       "      <td>0.659025</td>\n",
       "    </tr>\n",
       "    <tr>\n",
       "      <th>57</th>\n",
       "      <td>100.000</td>\n",
       "      <td>0.010</td>\n",
       "      <td>0.649612</td>\n",
       "    </tr>\n",
       "    <tr>\n",
       "      <th>26</th>\n",
       "      <td>1.000</td>\n",
       "      <td>0.100</td>\n",
       "      <td>0.645072</td>\n",
       "    </tr>\n",
       "    <tr>\n",
       "      <th>50</th>\n",
       "      <td>50.000</td>\n",
       "      <td>0.100</td>\n",
       "      <td>0.640089</td>\n",
       "    </tr>\n",
       "    <tr>\n",
       "      <th>41</th>\n",
       "      <td>25.000</td>\n",
       "      <td>0.010</td>\n",
       "      <td>0.626357</td>\n",
       "    </tr>\n",
       "    <tr>\n",
       "      <th>...</th>\n",
       "      <td>...</td>\n",
       "      <td>...</td>\n",
       "      <td>...</td>\n",
       "    </tr>\n",
       "    <tr>\n",
       "      <th>21</th>\n",
       "      <td>0.100</td>\n",
       "      <td>25.000</td>\n",
       "      <td>0.355150</td>\n",
       "    </tr>\n",
       "    <tr>\n",
       "      <th>22</th>\n",
       "      <td>0.100</td>\n",
       "      <td>50.000</td>\n",
       "      <td>0.355150</td>\n",
       "    </tr>\n",
       "    <tr>\n",
       "      <th>23</th>\n",
       "      <td>0.100</td>\n",
       "      <td>100.000</td>\n",
       "      <td>0.355150</td>\n",
       "    </tr>\n",
       "    <tr>\n",
       "      <th>24</th>\n",
       "      <td>1.000</td>\n",
       "      <td>0.001</td>\n",
       "      <td>0.355150</td>\n",
       "    </tr>\n",
       "    <tr>\n",
       "      <th>0</th>\n",
       "      <td>0.001</td>\n",
       "      <td>0.001</td>\n",
       "      <td>0.355150</td>\n",
       "    </tr>\n",
       "  </tbody>\n",
       "</table>\n",
       "<p>64 rows × 3 columns</p>\n",
       "</div>"
      ],
      "text/plain": [
       "          C    gamma  mean_test_score\n",
       "49   50.000    0.010         0.659025\n",
       "57  100.000    0.010         0.649612\n",
       "26    1.000    0.100         0.645072\n",
       "50   50.000    0.100         0.640089\n",
       "41   25.000    0.010         0.626357\n",
       "..      ...      ...              ...\n",
       "21    0.100   25.000         0.355150\n",
       "22    0.100   50.000         0.355150\n",
       "23    0.100  100.000         0.355150\n",
       "24    1.000    0.001         0.355150\n",
       "0     0.001    0.001         0.355150\n",
       "\n",
       "[64 rows x 3 columns]"
      ]
     },
     "execution_count": 15,
     "metadata": {},
     "output_type": "execute_result"
    }
   ],
   "source": [
    "grid_svm = GridSearchCV(svm_clf, param_grid= parameters, cv = 5)\n",
    "\n",
    "grid_svm.fit(df_x, df['Type'])\n",
    "\n",
    "result = pd.DataFrame(grid_svm.cv_results_['params'])\n",
    "result['mean_test_score'] = grid_svm.cv_results_['mean_test_score']\n",
    "result.sort_values(by = 'mean_test_score', ascending= False)"
   ]
  },
  {
   "cell_type": "code",
   "execution_count": null,
   "metadata": {},
   "outputs": [],
   "source": []
  }
 ],
 "metadata": {
  "interpreter": {
   "hash": "8ca95d9937370959fe53b3f81cea8b7fb579a8b2e40b3ed544c9c6bb9cfba242"
  },
  "kernelspec": {
   "display_name": "Python 3.7.3 64-bit ('base': conda)",
   "language": "python",
   "name": "python3"
  },
  "language_info": {
   "codemirror_mode": {
    "name": "ipython",
    "version": 3
   },
   "file_extension": ".py",
   "mimetype": "text/x-python",
   "name": "python",
   "nbconvert_exporter": "python",
   "pygments_lexer": "ipython3",
   "version": "3.7.3"
  },
  "orig_nbformat": 4
 },
 "nbformat": 4,
 "nbformat_minor": 2
}
