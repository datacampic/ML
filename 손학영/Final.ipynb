{
 "cells": [
  {
   "cell_type": "code",
   "execution_count": 1,
   "metadata": {},
   "outputs": [],
   "source": [
    "# 데이터 프레임 \n",
    "import pandas as pd \n",
    "import numpy as np\n",
    "\n",
    "# 이상치제거 모델 \n",
    "from sklearn.cluster import DBSCAN\n",
    "from sklearn.ensemble import IsolationForest\n",
    "from sklearn.neighbors import LocalOutlierFactor \n",
    "from random import seed\n",
    "\n",
    "\n",
    "# 스케일링 \n",
    "from sklearn.preprocessing import MinMaxScaler \n",
    "\n",
    "\n",
    "# 변수 그룹 별 전처리 \n",
    "from sklearn.compose import make_column_transformer\n",
    "\n",
    "\n",
    "# 파이프라인 \n",
    "from sklearn.pipeline import Pipeline\n",
    "\n",
    "# 훈련, 테스트 데이터 준비 \n",
    "from sklearn.model_selection import train_test_split\n",
    "\n",
    "# 특성 추출 모델 \n",
    "from sklearn.linear_model import LinearRegression\n",
    "from sklearn.linear_model import Lasso \n",
    "from sklearn.linear_model import Ridge\n",
    "from sklearn.linear_model import ElasticNet"
   ]
  },
  {
   "cell_type": "code",
   "execution_count": null,
   "metadata": {},
   "outputs": [],
   "source": []
  }
 ],
 "metadata": {
  "interpreter": {
   "hash": "8ca95d9937370959fe53b3f81cea8b7fb579a8b2e40b3ed544c9c6bb9cfba242"
  },
  "kernelspec": {
   "display_name": "Python 3.7.3 64-bit ('base': conda)",
   "language": "python",
   "name": "python3"
  },
  "language_info": {
   "codemirror_mode": {
    "name": "ipython",
    "version": 3
   },
   "file_extension": ".py",
   "mimetype": "text/x-python",
   "name": "python",
   "nbconvert_exporter": "python",
   "pygments_lexer": "ipython3",
   "version": "3.7.3"
  },
  "orig_nbformat": 4
 },
 "nbformat": 4,
 "nbformat_minor": 2
}
