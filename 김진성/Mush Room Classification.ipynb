{
 "cells": [
  {
   "cell_type": "markdown",
   "id": "6f8762c3",
   "metadata": {},
   "source": [
    "# Mush Room Classification"
   ]
  },
  {
   "cell_type": "markdown",
   "id": "4844d8ed",
   "metadata": {},
   "source": [
    "## Kaggle 필사 및 참고\n",
    "- https://www.kaggle.com/prashant111/comprehensive-guide-on-feature-selection"
   ]
  },
  {
   "cell_type": "markdown",
   "id": "fdefa5a4",
   "metadata": {},
   "source": [
    "## 1. 특징 추출 개요"
   ]
  },
  {
   "cell_type": "markdown",
   "id": "889cc875",
   "metadata": {},
   "source": [
    "### 특징 추출에 대한 이해\n",
    "- 특징을 추출한다는 것은 거대한 크기의 데이터에서 적절한 수치 데이터를 선택하는 과정이다. \n",
    "- Feature Selection or Variable Selection 은 머신러닝 알고리즘을 빌드하는 과정에서 관련 특징 및 변수를 선택하는 것이다."
   ]
  },
  {
   "cell_type": "markdown",
   "id": "00357f1d",
   "metadata": {},
   "source": [
    "### 특징 추출의 장점\n",
    "1. 정확성 향상\n",
    "2. 해석하기 쉬운 간단한 모델\n",
    "3. 더 짧은 훈련 시간\n",
    "4. Overfitting을 줄이면서 일반화를 향상\n",
    "5. 소프트웨어 개발자가 적용하기 쉬움\n",
    "6. 모델 사용에 따르는 오류 위험을 줄일 수 있음\n",
    "7. 변수 중복\n",
    "8. 높은 차원 공간에서의 안좋은 학습 경험"
   ]
  },
  {
   "cell_type": "markdown",
   "id": "d1ea76bc",
   "metadata": {},
   "source": [
    "### 특징 추출 기술\n",
    "1. Filter methods\n",
    "2. Wrapper methods\n",
    "3. Embedded methods"
   ]
  },
  {
   "cell_type": "markdown",
   "id": "a4dfa33d",
   "metadata": {},
   "source": [
    "### 필터 방법\n",
    "1. Basic Methods\n",
    "2. Univariate methods\n",
    "3. Information gain\n",
    "4. Fischer score\n",
    "5. Correlation Matrix with Heatmap"
   ]
  },
  {
   "cell_type": "markdown",
   "id": "4aef8952",
   "metadata": {},
   "source": [
    "### Wrapper Methods\n",
    "1. Forward Selection\n",
    "2. Backward Elimination\n",
    "3. Exhaustive Feature Selection\n",
    "4. Recursive Feature Elimination\n",
    "5. Recursive Feature Elimination with Cross-Validation"
   ]
  },
  {
   "cell_type": "markdown",
   "id": "8b3c9a53",
   "metadata": {},
   "source": [
    "### Embedded Methods\n",
    "1. LASSO\n",
    "2. RIDGE\n",
    "3. Tree Importance"
   ]
  },
  {
   "cell_type": "markdown",
   "id": "4669d863",
   "metadata": {},
   "source": [
    "## 2. Filter Methods (필터 방법)\n",
    "- 필터 방법은 전처리 과정엣 일반적인  과정으로 특징을 추출하는 것은 머신러닝 알고리즘과 독립된 과정이다. 대신에, 특징이 결과 변수에 따라오는 다양한 통계 테스트 점수에 의해 선택된다. \n",
    "    - 데이터 특징에 따라 방법이 결정된다.\n",
    "    - 머신러닝 알고리즘을 사용하지 않는다.\n",
    "    - 모델을 확실히 알고 있지 않는다.\n",
    "    - 수치적으로 덜 비싼 과정인 경향이 보인다.\n",
    "    - Wrapper method 보다 더 낮은 예측 성능을 보인다.\n",
    "    - 관련없는 특징을 제거하고 빠르게 적합시키는데 좋다. \n",
    "\n",
    "\n",
    "- 필터 방법은 아래와 같은 다양한 기술들을 가지고 있다.\n",
    "    - 2.1 Basic Methods\n",
    "    - 2.2 Univariate feature selection\n",
    "    - 2.3 Information gain\n",
    "    - 2.4 Fischer score\n",
    "    - 2.5 ANOVA F-Value for Feature Selection\n",
    "    - 2.6 Correlation Matrix with Heatmap"
   ]
  },
  {
   "cell_type": "code",
   "execution_count": 3,
   "id": "caab17e4",
   "metadata": {},
   "outputs": [
    {
     "data": {
      "image/png": "[encoded data removed]",
      "text/plain": [
       "<IPython.core.display.Image object>"
      ]
     },
     "metadata": {},
     "output_type": "display_data"
    }
   ],
   "source": [
    "from IPython.display import display, Image\n",
    "display(Image(filename=\"Feature-Selection.png\"))"
   ]
  },
  {
   "cell_type": "markdown",
   "id": "e2c5eb69",
   "metadata": {},
   "source": [
    "## 2.1 Basic Methods\n",
    "- 기본 방법은 quasi-constant 특징을 제거하는 것"
   ]
  },
  {
   "cell_type": "markdown",
   "id": "bd21daca",
   "metadata": {},
   "source": [
    "### 2.1.1 상수 특징을 제거하기\n",
    "- Constant features는 데이터 셋을 관찰하면서 오로지 같은 값만 보이는 것을 말한다. 즉, 데이터셋의 row 에 같은 값이 있고 이러한 특징은 머신러닝 모델을 사용하면서 어떠한 정보도 주지 않는다.\n",
    "- 상수 특징을 확인하고 제거하는 것은 기본적으로 특징 추출하는 첫 과정이자 머신러닝 모델 이해가 쉬워지게 하는 것이다. 이러한 특징을 확인하기 위해 \"VarianaceThreshold\" 함수를 사용할 수 있다.\n",
    "- Santander Customer Satisfaction dataset from kaggle 을 사용해 상수 특징이 무엇인지 감을 잡을 수 있다. \n",
    "- https://scikit-learn.org/stable/modules/generated/sklearn.feature_selection.VarianceThreshold.html\n",
    "- https://scikit-learn.org/stable/modules/feature_selection.html"
   ]
  },
  {
   "cell_type": "code",
   "execution_count": 2,
   "id": "008dffea",
   "metadata": {},
   "outputs": [],
   "source": [
    "import numpy as np\n",
    "import pandas as pd\n",
    "import matplotlib.pyplot as plt\n",
    "import seaborn as sns\n",
    "\n",
    "import warnings\n",
    "warnings.filterwarnings('ignore')"
   ]
  },
  {
   "cell_type": "code",
   "execution_count": 5,
   "id": "67d984e5",
   "metadata": {},
   "outputs": [],
   "source": [
    "X_train = pd.read_csv('./Santander-Customer-Satisfaction/train.csv',\n",
    "                     nrows=35000)\n",
    "X_test = pd.read_csv('./Santander-Customer-Satisfaction/test.csv',\n",
    "                    nrows=15000)"
   ]
  },
  {
   "cell_type": "code",
   "execution_count": 6,
   "id": "85b952da",
   "metadata": {},
   "outputs": [],
   "source": [
    "X_train.drop(labels=['TARGET'], axis=1, inplace=True)"
   ]
  },
  {
   "cell_type": "code",
   "execution_count": 7,
   "id": "f9829db4",
   "metadata": {},
   "outputs": [
    {
     "data": {
      "text/plain": [
       "((35000, 370), (15000, 370))"
      ]
     },
     "execution_count": 7,
     "metadata": {},
     "output_type": "execute_result"
    }
   ],
   "source": [
    "X_train.shape, X_test.shape"
   ]
  },
  {
   "cell_type": "markdown",
   "id": "4f5ec701",
   "metadata": {},
   "source": [
    "#### 명심할 사항!!\n",
    "- 모든 특징 추출과정에서, 트레인 셋에서 좋은 특징을 뽑는 것이 중요하다."
   ]
  },
  {
   "cell_type": "markdown",
   "id": "8eb3bf3c",
   "metadata": {},
   "source": [
    "#### sklearn에서 variance threshold 사용하기\n",
    "- Variance threshold(분류 기준)는 특징 추출을 위해 가장 기본적인 접근 방법이다. 이 기준은 몇몇 기준에 충족하지 않는 편향들을 제거하고 기본적으로 모든 0 값이 특징이나 모든 샘플에서 같은 값을 가지는 특징도 제거해준다. "
   ]
  },
  {
   "cell_type": "code",
   "execution_count": 8,
   "id": "a7f3edd6",
   "metadata": {},
   "outputs": [
    {
     "data": {
      "text/plain": [
       "VarianceThreshold(threshold=0)"
      ]
     },
     "execution_count": 8,
     "metadata": {},
     "output_type": "execute_result"
    }
   ],
   "source": [
    "from sklearn.feature_selection import VarianceThreshold\n",
    "sel = VarianceThreshold(threshold=0)\n",
    "\n",
    "# fit은 0 값을 가지는 특징을 찾아준다. \n",
    "sel.fit(X_train)"
   ]
  },
  {
   "cell_type": "code",
   "execution_count": 9,
   "id": "16d4977f",
   "metadata": {},
   "outputs": [
    {
     "data": {
      "text/plain": [
       "319"
      ]
     },
     "execution_count": 9,
     "metadata": {},
     "output_type": "execute_result"
    }
   ],
   "source": [
    "# get_support는 어떤 특징들이 재훈련되었는지 True or False vector를 말한다.\n",
    "# 만약에 우리가 get_support를 합하면, 상수가 아닌 특징들의 수를 얻을 수 있다.\n",
    "sum(sel.get_support())"
   ]
  },
  {
   "cell_type": "code",
   "execution_count": 10,
   "id": "c80a715f",
   "metadata": {},
   "outputs": [
    {
     "data": {
      "text/plain": [
       "319"
      ]
     },
     "execution_count": 10,
     "metadata": {},
     "output_type": "execute_result"
    }
   ],
   "source": [
    "# 상수가 아닌 특징을 찾는 다른 방법\n",
    "len(X_train.columns[sel.get_support()])"
   ]
  },
  {
   "cell_type": "code",
   "execution_count": 11,
   "id": "02114e17",
   "metadata": {
    "scrolled": true
   },
   "outputs": [
    {
     "name": "stdout",
     "output_type": "stream",
     "text": [
      "51\n"
     ]
    },
    {
     "data": {
      "text/plain": [
       "['ind_var2_0',\n",
       " 'ind_var2',\n",
       " 'ind_var18_0',\n",
       " 'ind_var18',\n",
       " 'ind_var27_0',\n",
       " 'ind_var28_0',\n",
       " 'ind_var28',\n",
       " 'ind_var27',\n",
       " 'ind_var34_0',\n",
       " 'ind_var34',\n",
       " 'ind_var41',\n",
       " 'ind_var46_0',\n",
       " 'ind_var46',\n",
       " 'num_var18_0',\n",
       " 'num_var18',\n",
       " 'num_var27_0',\n",
       " 'num_var28_0',\n",
       " 'num_var28',\n",
       " 'num_var27',\n",
       " 'num_var34_0',\n",
       " 'num_var34',\n",
       " 'num_var41',\n",
       " 'num_var46_0',\n",
       " 'num_var46',\n",
       " 'saldo_var18',\n",
       " 'saldo_var28',\n",
       " 'saldo_var27',\n",
       " 'saldo_var34',\n",
       " 'saldo_var41',\n",
       " 'saldo_var46',\n",
       " 'delta_imp_amort_var18_1y3',\n",
       " 'delta_imp_amort_var34_1y3',\n",
       " 'imp_amort_var18_hace3',\n",
       " 'imp_amort_var18_ult1',\n",
       " 'imp_amort_var34_hace3',\n",
       " 'imp_amort_var34_ult1',\n",
       " 'imp_reemb_var13_hace3',\n",
       " 'imp_reemb_var17_hace3',\n",
       " 'imp_reemb_var33_hace3',\n",
       " 'imp_trasp_var17_out_hace3',\n",
       " 'imp_trasp_var33_out_hace3',\n",
       " 'num_var2_0_ult1',\n",
       " 'num_var2_ult1',\n",
       " 'num_reemb_var13_hace3',\n",
       " 'num_reemb_var17_hace3',\n",
       " 'num_reemb_var33_hace3',\n",
       " 'num_trasp_var17_out_hace3',\n",
       " 'num_trasp_var33_out_hace3',\n",
       " 'saldo_var2_ult1',\n",
       " 'saldo_medio_var13_medio_hace3',\n",
       " 'saldo_medio_var29_hace3']"
      ]
     },
     "execution_count": 11,
     "metadata": {},
     "output_type": "execute_result"
    }
   ],
   "source": [
    "# 상수 특징 찾기\n",
    "print(\n",
    "    len([\n",
    "        x for x in X_train.columns\n",
    "        if x not in X_train.columns[sel.get_support()]\n",
    "    ])\n",
    ")\n",
    "[x for x in X_train.columns if x not in X_train.columns[sel.get_support()]]"
   ]
  },
  {
   "cell_type": "markdown",
   "id": "dd0cc2f9",
   "metadata": {},
   "source": [
    "- 위에서 볼 수 있듯이 51개의 columns 및 변수가 상수임을 알 수 있다. 이것은 51개의 변수가 같은 값, 즉 하나의 값만 모든 훈련 세트에서 가지고 있다는 것을 의미한ㄴ다.\n",
    "- 우리는 훈련 및 테스트 세트를 줄이는 변형 함수를 쓰면 된다."
   ]
  },
  {
   "cell_type": "code",
   "execution_count": 12,
   "id": "f61e731b",
   "metadata": {},
   "outputs": [],
   "source": [
    "# train 과 test 세트에서 columns 들을 줄이자\n",
    "X_train = sel.transform(X_train)\n",
    "X_test =sel.transform(X_test)"
   ]
  },
  {
   "cell_type": "code",
   "execution_count": 13,
   "id": "c02439e4",
   "metadata": {},
   "outputs": [
    {
     "data": {
      "text/plain": [
       "((35000, 319), (15000, 319))"
      ]
     },
     "execution_count": 13,
     "metadata": {},
     "output_type": "execute_result"
    }
   ],
   "source": [
    "# training 과 test 세트의 모양을 확인해보자\n",
    "X_train.shape, X_test.shape"
   ]
  },
  {
   "cell_type": "markdown",
   "id": "7b3ed463",
   "metadata": {},
   "source": [
    "- 이를 통해 우리가 상수 특징을 어떻게 제거하거나 차원을 줄이는지 알 수 있었다."
   ]
  },
  {
   "cell_type": "markdown",
   "id": "c6165a3f",
   "metadata": {},
   "source": [
    "### 2.1.2 Quasi-constant 특징들 제거하기\n",
    "- 쿼시 상수(Quasi-constant) 특징들은 데이터셋 관찰과정에서 대다수가 같은 값을 보이는 것이다. 일반적으로, 이러한 특징들은 만약 우리의 타겟을 예측하고 구분하는 머신러닝 모델 정보에 어느 정도 제공을 한다. 하지만 예외는 있다. 그래서 우리는 이러한 타입의 특징들을 제거하는데 조심해야 한다. Quasi-constant 특징들을 제거하고 확인하는 과정은 특징 추출의 첫 과정이고 머신러닝 모델 이해하는데 중요한 발판이다. \n",
    "- 쿼시 상수를 확인하기 위해서 우리는 다시 VarianceThreshold 함수를 사용할 것이다."
   ]
  },
  {
   "cell_type": "code",
   "execution_count": 15,
   "id": "f6d6cc33",
   "metadata": {},
   "outputs": [
    {
     "data": {
      "text/plain": [
       "((35000, 370), (15000, 370))"
      ]
     },
     "execution_count": 15,
     "metadata": {},
     "output_type": "execute_result"
    }
   ],
   "source": [
    "X_train = pd.read_csv('./Santander-Customer-Satisfaction/train.csv',\n",
    "                     nrows=35000)\n",
    "X_test = pd.read_csv('./Santander-Customer-Satisfaction/test.csv',\n",
    "                    nrows=15000)\n",
    "X_train.drop(labels=['TARGET'], axis=1, inplace = True)\n",
    "X_train.shape, X_test.shape"
   ]
  },
  {
   "cell_type": "markdown",
   "id": "5c5ea230",
   "metadata": {},
   "source": [
    "#### Variance threshold 사용하기\n",
    "- 여기서 우리는 쿼시 상수 특징을 바꿀 것이다."
   ]
  },
  {
   "cell_type": "code",
   "execution_count": 17,
   "id": "116a10b9",
   "metadata": {},
   "outputs": [
    {
     "data": {
      "text/plain": [
       "VarianceThreshold(threshold=0.01)"
      ]
     },
     "execution_count": 17,
     "metadata": {},
     "output_type": "execute_result"
    }
   ],
   "source": [
    "# 0.1은 대략적으로 관찰값의 99%를 의미함\n",
    "sel = VarianceThreshold(threshold=0.01)\n",
    "sel.fit(X_train)"
   ]
  },
  {
   "cell_type": "code",
   "execution_count": 18,
   "id": "f1497533",
   "metadata": {},
   "outputs": [
    {
     "data": {
      "text/plain": [
       "263"
      ]
     },
     "execution_count": 18,
     "metadata": {},
     "output_type": "execute_result"
    }
   ],
   "source": [
    "sum(sel.get_support())"
   ]
  },
  {
   "cell_type": "code",
   "execution_count": 19,
   "id": "cd1cb369",
   "metadata": {},
   "outputs": [
    {
     "data": {
      "text/plain": [
       "263"
      ]
     },
     "execution_count": 19,
     "metadata": {},
     "output_type": "execute_result"
    }
   ],
   "source": [
    "len(X_train.columns[sel.get_support()])"
   ]
  },
  {
   "cell_type": "code",
   "execution_count": 20,
   "id": "c07942c4",
   "metadata": {},
   "outputs": [
    {
     "name": "stdout",
     "output_type": "stream",
     "text": [
      "107\n"
     ]
    },
    {
     "data": {
      "text/plain": [
       "['ind_var1',\n",
       " 'ind_var2_0',\n",
       " 'ind_var2',\n",
       " 'ind_var6_0',\n",
       " 'ind_var6',\n",
       " 'ind_var13_largo',\n",
       " 'ind_var13_medio_0',\n",
       " 'ind_var13_medio',\n",
       " 'ind_var14',\n",
       " 'ind_var17_0',\n",
       " 'ind_var17',\n",
       " 'ind_var18_0',\n",
       " 'ind_var18',\n",
       " 'ind_var19',\n",
       " 'ind_var20_0',\n",
       " 'ind_var20',\n",
       " 'ind_var27_0',\n",
       " 'ind_var28_0',\n",
       " 'ind_var28',\n",
       " 'ind_var27',\n",
       " 'ind_var29_0',\n",
       " 'ind_var29',\n",
       " 'ind_var30_0',\n",
       " 'ind_var31_0',\n",
       " 'ind_var31',\n",
       " 'ind_var32_cte',\n",
       " 'ind_var32_0',\n",
       " 'ind_var32',\n",
       " 'ind_var33_0',\n",
       " 'ind_var33',\n",
       " 'ind_var34_0',\n",
       " 'ind_var34',\n",
       " 'ind_var40',\n",
       " 'ind_var41',\n",
       " 'ind_var39',\n",
       " 'ind_var44_0',\n",
       " 'ind_var44',\n",
       " 'ind_var46_0',\n",
       " 'ind_var46',\n",
       " 'num_var6_0',\n",
       " 'num_var6',\n",
       " 'num_var13_medio_0',\n",
       " 'num_var13_medio',\n",
       " 'num_var18_0',\n",
       " 'num_var18',\n",
       " 'num_op_var40_hace3',\n",
       " 'num_var27_0',\n",
       " 'num_var28_0',\n",
       " 'num_var28',\n",
       " 'num_var27',\n",
       " 'num_var29_0',\n",
       " 'num_var29',\n",
       " 'num_var33',\n",
       " 'num_var34_0',\n",
       " 'num_var34',\n",
       " 'num_var41',\n",
       " 'num_var46_0',\n",
       " 'num_var46',\n",
       " 'saldo_var18',\n",
       " 'saldo_var28',\n",
       " 'saldo_var27',\n",
       " 'saldo_var34',\n",
       " 'saldo_var41',\n",
       " 'saldo_var46',\n",
       " 'delta_imp_amort_var18_1y3',\n",
       " 'delta_imp_amort_var34_1y3',\n",
       " 'delta_imp_aport_var33_1y3',\n",
       " 'delta_num_aport_var33_1y3',\n",
       " 'imp_amort_var18_hace3',\n",
       " 'imp_amort_var18_ult1',\n",
       " 'imp_amort_var34_hace3',\n",
       " 'imp_amort_var34_ult1',\n",
       " 'imp_reemb_var13_hace3',\n",
       " 'imp_reemb_var17_hace3',\n",
       " 'imp_reemb_var33_hace3',\n",
       " 'imp_trasp_var17_out_hace3',\n",
       " 'imp_trasp_var33_out_hace3',\n",
       " 'ind_var7_emit_ult1',\n",
       " 'ind_var7_recib_ult1',\n",
       " 'num_var2_0_ult1',\n",
       " 'num_var2_ult1',\n",
       " 'num_aport_var33_hace3',\n",
       " 'num_aport_var33_ult1',\n",
       " 'num_var7_emit_ult1',\n",
       " 'num_meses_var13_medio_ult3',\n",
       " 'num_meses_var17_ult3',\n",
       " 'num_meses_var29_ult3',\n",
       " 'num_meses_var33_ult3',\n",
       " 'num_meses_var44_ult3',\n",
       " 'num_reemb_var13_hace3',\n",
       " 'num_reemb_var13_ult1',\n",
       " 'num_reemb_var17_hace3',\n",
       " 'num_reemb_var17_ult1',\n",
       " 'num_reemb_var33_hace3',\n",
       " 'num_reemb_var33_ult1',\n",
       " 'num_trasp_var17_in_hace3',\n",
       " 'num_trasp_var17_in_ult1',\n",
       " 'num_trasp_var17_out_hace3',\n",
       " 'num_trasp_var17_out_ult1',\n",
       " 'num_trasp_var33_in_hace3',\n",
       " 'num_trasp_var33_in_ult1',\n",
       " 'num_trasp_var33_out_hace3',\n",
       " 'num_trasp_var33_out_ult1',\n",
       " 'num_venta_var44_hace3',\n",
       " 'saldo_var2_ult1',\n",
       " 'saldo_medio_var13_medio_hace3',\n",
       " 'saldo_medio_var29_hace3']"
      ]
     },
     "execution_count": 20,
     "metadata": {},
     "output_type": "execute_result"
    }
   ],
   "source": [
    "print(\n",
    "    len([\n",
    "        x for x in X_train.columns\n",
    "        if x not in X_train.columns[sel.get_support()]\n",
    "    ])\n",
    ")\n",
    "\n",
    "[x for x in X_train.columns if x not in X_train.columns[sel.get_support()]]"
   ]
  },
  {
   "cell_type": "markdown",
   "id": "59b9f0c7",
   "metadata": {},
   "source": [
    "- 107개의 변수가 대부분 상수라는 것을 알 수 있다. 이 의미는 훈련 세트에서 99%가 하나의 값으로 도배되어있다는 것이다."
   ]
  },
  {
   "cell_type": "code",
   "execution_count": 21,
   "id": "40c21fcc",
   "metadata": {},
   "outputs": [
    {
     "data": {
      "text/plain": [
       "0    0.996286\n",
       "1    0.003714\n",
       "Name: ind_var31, dtype: float64"
      ]
     },
     "execution_count": 21,
     "metadata": {},
     "output_type": "execute_result"
    }
   ],
   "source": [
    "X_train['ind_var31'].value_counts() / np.float(len(X_train))"
   ]
  },
  {
   "cell_type": "markdown",
   "id": "d47b7403",
   "metadata": {},
   "source": [
    "- 여기서 이 변수는 99% 이상이 0으로 이루어져 있다는 것을 알 수 있다."
   ]
  },
  {
   "cell_type": "code",
   "execution_count": 22,
   "id": "680ff253",
   "metadata": {},
   "outputs": [
    {
     "data": {
      "text/plain": [
       "((35000, 263), (15000, 263))"
      ]
     },
     "execution_count": 22,
     "metadata": {},
     "output_type": "execute_result"
    }
   ],
   "source": [
    "# 쿼시 상수 특징들을 훈련 세트와 테스트 세트에서 제거할 수 있다.\n",
    "X_train = sel.transform(X_train)\n",
    "X_test = sel.transform(X_test)\n",
    "X_train.shape, X_test.shape"
   ]
  },
  {
   "cell_type": "markdown",
   "id": "ef2b0960",
   "metadata": {},
   "source": [
    "- 상수 및 쿼시 상수 특징들을 제거하고 우리는 370에서 263으로 특징 차원을 줄일 수 있었다. "
   ]
  },
  {
   "cell_type": "markdown",
   "id": "7d8ffe26",
   "metadata": {},
   "source": [
    "## 2.2 단변량 selection methods\n",
    "- 단변량 특징 추출 방법은 ANOVA 같은 단변량 통계 테스트를 기반으로 최고의 특징들을 선택해 작동시키는 것을 말한다. 이는 측정 지표로서의 전처리 과정으로 보일 수 있지만 Scikit-learn은 특징 추출 선택 루틴이 변형 방법을 적용하는 방법으로서 적용된다.\n",
    "- F-test 기반 방법은 2개의 랜덤 변수 사이에서 선형 의존성 정도를 측정하는 것이다. 특징과 목표 사이에서 선형관계를 추정하고 가우시안 분포를 따라하는 변수도 추정한다.\n",
    "- 여기에 4개의 방식을 사용한다. \n",
    "    1. SelectKBest\n",
    "    2. SelectPercentile\n",
    "    3. SelectFpr, SelectFdr, or family wise error SelectFwe\n",
    "    4. GenericUnivariateSelection\n",
    "- 출처 : https://scikit-learn.org/stable/modules/feature_selection.html\n",
    "- SelectKBest나 SelectPercentile에 대한 논의가 부족하지만 이 2개는 실행 과정에서 흔히 쓰이는 방법이다. "
   ]
  },
  {
   "cell_type": "markdown",
   "id": "d2dcaec1",
   "metadata": {},
   "source": [
    "### 2.2.1 SelectKBest\n",
    "- 이 방식은 K 높은 점수에 따른 특징을 선택하는 것이다.\n",
    "- 예를 들어, Chi-Square 테스트에서 오로지 2개의 최고 특징들만 반환하도록 하는 것이다. \n",
    "- 출처 : https://scikit-learn.org/stable/modules/generated/sklearn.feature_selection.SelectKBest.html#sklearn.feature_selection.SelectKBest"
   ]
  },
  {
   "cell_type": "code",
   "execution_count": 24,
   "id": "00e5d82d",
   "metadata": {},
   "outputs": [
    {
     "data": {
      "text/plain": [
       "(150, 4)"
      ]
     },
     "execution_count": 24,
     "metadata": {},
     "output_type": "execute_result"
    }
   ],
   "source": [
    "from sklearn.datasets import load_iris\n",
    "from sklearn.feature_selection import SelectKBest, chi2\n",
    "X, y = load_iris(return_X_y=True)\n",
    "X.shape"
   ]
  },
  {
   "cell_type": "code",
   "execution_count": 25,
   "id": "acb1e5e0",
   "metadata": {},
   "outputs": [
    {
     "data": {
      "text/plain": [
       "(150, 2)"
      ]
     },
     "execution_count": 25,
     "metadata": {},
     "output_type": "execute_result"
    }
   ],
   "source": [
    "X_new = SelectKBest(chi2, k=2).fit_transform(X, y)\n",
    "X_new.shape"
   ]
  },
  {
   "cell_type": "markdown",
   "id": "3027b426",
   "metadata": {},
   "source": [
    "### 2.2.2 SelectPercentile\n",
    "- 높은 점수 비율에 따른 특징 추출\n",
    "- 출처 : https://scikit-learn.org/stable/modules/generated/sklearn.feature_selection.SelectPercentile.html#sklearn.feature_selection.SelectPercentile"
   ]
  },
  {
   "cell_type": "code",
   "execution_count": 26,
   "id": "6af42aa2",
   "metadata": {},
   "outputs": [
    {
     "data": {
      "text/plain": [
       "(1797, 64)"
      ]
     },
     "execution_count": 26,
     "metadata": {},
     "output_type": "execute_result"
    }
   ],
   "source": [
    "from sklearn.datasets import load_digits\n",
    "from sklearn.feature_selection import SelectPercentile, chi2\n",
    "X, y = load_digits(return_X_y=True)\n",
    "X.shape"
   ]
  },
  {
   "cell_type": "code",
   "execution_count": 27,
   "id": "27124b51",
   "metadata": {},
   "outputs": [
    {
     "data": {
      "text/plain": [
       "(1797, 7)"
      ]
     },
     "execution_count": 27,
     "metadata": {},
     "output_type": "execute_result"
    }
   ],
   "source": [
    "X_new = SelectPercentile(chi2, percentile=10).fit_transform(X, y)\n",
    "X_new.shape"
   ]
  },
  {
   "cell_type": "markdown",
   "id": "d3b5087c",
   "metadata": {},
   "source": [
    "### 중요한 정보\n",
    "- SelectKBest, SelectPercentile은 단변량 값과 P-value를 반환하는 점수 함수이다.\n",
    "- 회기 분석 과정 : f_regression, mutual_info_regression\n",
    "- 분류 과정 : chi2, f_classif, mutual_info_classif\n",
    "\n",
    "- 이 방법들은 2개의 랜덤 변수 사이에서 선형 의존성을 측정하는 F-test에 기반을 두고 있다. 반대로, 상호 정보 방법들은 통계적 의존성이라는 정보를 가지고 잇다. 그러나 변수를 선택하지 않는 다면 그들은 정확한 측정을 위한 샘플을 요구하고 있다. \n",
    "\n",
    "### 분산 데이터에서 특징 추출하기\n",
    "- 만약 분산 데이터를 사용한다면 chi2, mutual_info_classif, mutual_info_regression가 데이터 밀집시키는 것 없이 데이터를 다룰 수 있다. \n",
    "\n",
    "### 조심해야 할 것\n",
    "- 분류 문제에서 회기 점수 함수를 사용해도 쓸모없는 결과를 얻기에 사용하지 안하아야 한다."
   ]
  },
  {
   "cell_type": "markdown",
   "id": "0b4515c7",
   "metadata": {},
   "source": [
    "## 2.3 Information Gain\n",
    "- Informatin Gain or Mutual Information은 얼마나 많은 정보들이 정확한 목표 예측에 특징들이 기여하는지 Presence/Absence로 측정한다.\n",
    "- Mutual Information이란 ? Mutual information measures the information that X and Y share: It measures how much knowing one of these variables reduces uncertainty about the other. For example, if X and Y are independent, then knowing X does not give any information about Y and vice versa, so their mutual information is zero. At the other extreme, if X is a deterministic function of Y and Y is a deterministic function of X then all information conveyed by X is shared with Y: knowing X determines the value of Y and vice versa. As a result, in this case the mutual information is the same as the uncertainty contained in Y (or X) alone, namely the entropy of Y (or X). Moreover, this mutual information is the same as the entropy of X and as the entropy of Y. (A very special case of this is when X and Y are the same random variable.)"
   ]
  },
  {
   "cell_type": "markdown",
   "id": "72867efc",
   "metadata": {},
   "source": [
    "### mutual_info_classif\n",
    "- 분리된 목표 변수에 대한 상호 의존성 정보를 측정함\n",
    "- 2개의 랜덤 변수 사이에서 Mutual Information(MI)은 음수가 아닌 값으로 변수간 의존성을 체크하고 오로지 2개의 변수가 독립적일 때 0을 반환한다. 만약 높은 값이면 높은 의존성을 의미한다.\n",
    "- 이 함수는 KNN 거리에서 entropy 측정을 기반으로한 nonparametic 방법에 의존한다.\n",
    "- 단변량 특징 추출에도 사용 가능하다."
   ]
  },
  {
   "cell_type": "markdown",
   "id": "c8e06800",
   "metadata": {},
   "source": [
    "### mutual_info_regression\n",
    "- 연속적인 목표 변수에 대한 상호 의존성 정보를 측정함\n",
    "- 이것도 음수가 아닌 값이고 mutual_info_classif와 같은 해석을 가진다."
   ]
  },
  {
   "cell_type": "markdown",
   "id": "d2e78e20",
   "metadata": {},
   "source": [
    "## 2.4 Fisher Score (chi-suqare implementation)\n",
    "- Scikit-learn에서 chi-square implementation으로 2개의 음수가 아닌 특징과 class 사이에서 chi-squared stats를 계산한다.\n",
    "- 이 점수는 분류 작업에서 카테고리 변수를 평가하는데 사용해야 한다. 서로 다른 카테고리 특징 사이에서 Y를 다른 클래스로 분류하고 관찰하는데 비교한다."
   ]
  },
  {
   "cell_type": "code",
   "execution_count": 28,
   "id": "72e81d43",
   "metadata": {},
   "outputs": [],
   "source": [
    "from sklearn.datasets import load_iris\n",
    "from sklearn.feature_selection import SelectKBest, chi2"
   ]
  },
  {
   "cell_type": "code",
   "execution_count": 30,
   "id": "cd6b1c25",
   "metadata": {},
   "outputs": [],
   "source": [
    "iris = load_iris()\n",
    "\n",
    "X = iris.data\n",
    "y = iris.target\n",
    "\n",
    "# 카테고리 데이터를 정수로 변환\n",
    "X = x.astype(int)"
   ]
  },
  {
   "cell_type": "code",
   "execution_count": 31,
   "id": "d4b16904",
   "metadata": {},
   "outputs": [],
   "source": [
    "# Chi-Square 통계치 비교\n",
    "# 더 높은 수치인 2개의 특징을 선택\n",
    "chi2_selector = SelectKBest(chi2, k=2)\n",
    "X_kbest = chi2_selector.fit_transform(X, y)"
   ]
  },
  {
   "cell_type": "code",
   "execution_count": 32,
   "id": "905e8b42",
   "metadata": {},
   "outputs": [
    {
     "name": "stdout",
     "output_type": "stream",
     "text": [
      "기존 특징 개수:  4\n",
      "줄어든 특징 개수:  2\n"
     ]
    }
   ],
   "source": [
    "print('기존 특징 개수: ', X.shape[1])\n",
    "print('줄어든 특징 개수: ', X_kbest.shape[1])"
   ]
  },
  {
   "cell_type": "markdown",
   "id": "d0d28a30",
   "metadata": {},
   "source": [
    "## 2.5 ANOVA F-value For Feature Selection\n",
    "- 제공된 샘플에서 ANOVA F-value를 계산하기\n",
    "- 만약 특징이 카테고리라면 우리는 각 특징과 목표 벡터 사이에서 Chi-Square 통계치를 계산할 것이다. 그러나 만약 특징이 양적인 요소이면 ANOVA F-value를 계산할 것이다.\n",
    "- F-value 점수에서 목표 벡터에 의한 수적인 특징을 그룹화했을 때 평균은 상당히 다를 것이다."
   ]
  },
  {
   "cell_type": "code",
   "execution_count": 33,
   "id": "6e683371",
   "metadata": {},
   "outputs": [],
   "source": [
    "from sklearn.datasets import load_iris\n",
    "from sklearn.feature_selection import SelectKBest\n",
    "from sklearn.feature_selection import f_classif"
   ]
  },
  {
   "cell_type": "code",
   "execution_count": 34,
   "id": "49e9c9c8",
   "metadata": {},
   "outputs": [],
   "source": [
    "iris = load_iris()\n",
    "\n",
    "X = iris.data\n",
    "y = iris.target"
   ]
  },
  {
   "cell_type": "code",
   "execution_count": 35,
   "id": "dde03826",
   "metadata": {},
   "outputs": [],
   "source": [
    "fvalue_selector = SelectKBest(f_classif, k=2)\n",
    "X_kbest = fvalue_selector.fit_transform(X, y)"
   ]
  },
  {
   "cell_type": "code",
   "execution_count": 36,
   "id": "089b7fd4",
   "metadata": {},
   "outputs": [
    {
     "name": "stdout",
     "output_type": "stream",
     "text": [
      "기본 특징 개수:  4\n",
      "줄어든 특징 개수:  2\n"
     ]
    }
   ],
   "source": [
    "print('기본 특징 개수: ', X.shape[1])\n",
    "print('줄어든 특징 개수: ', X_kbest.shape[1])"
   ]
  },
  {
   "cell_type": "markdown",
   "id": "5c579f78",
   "metadata": {},
   "source": [
    "## 2.6 히트맵을 활용한 상관관계 행렬\n",
    "- 상관관계는 2개 혹은 그 이상의 변수 사이에서의 선형 관계 측정지표이다. 이를 통해 우리는 다른 것으로 부터 하나의 변수를 예측할 수 있다. \n",
    "- 좋은 변수는 목표치와 매우 높은 상관관계를 가지고 있는 것이다.\n",
    "- 연관된 예측 변수는 풍부한 정보를 제공해준다.\n",
    "- 변수들은 목표와 관계가 있어야 하지만 서로는 관계 없어야 한다.\n",
    "- 상관관계를 통한 특징 추출은 위와 같은 원칙을 기반으로 특징 평가하게 된다."
   ]
  },
  {
   "cell_type": "markdown",
   "id": "e7bf3070",
   "metadata": {},
   "source": [
    "- 피어슨 상관계수를 이용하면 -1에서 1로 다양하게 분포될 것이다.\n",
    "- 만약 2개 사이의 상관계수가 0이면 서로 그 어떤 영향도 주지 않을 것이다.\n",
    "- 만약 0 이상이면 한 쪽 값이 커지면 다른 값도 커지게 된다. 따라서, 1에 가까울 수록 서로 강하게 엮여있다는 것을 의미한다.\n",
    "- 만약 0 이하이면 한 쪽 값이 커지면 다른 값은 줄어들게 된다는 것으로 서로 역행하는 관계를 의미한다. "
   ]
  },
  {
   "cell_type": "code",
   "execution_count": 37,
   "id": "d0f6ece6",
   "metadata": {},
   "outputs": [],
   "source": [
    "from sklearn.datasets import load_iris\n",
    "iris = load_iris()\n",
    "\n",
    "X = iris.data\n",
    "y = iris.target"
   ]
  },
  {
   "cell_type": "code",
   "execution_count": 38,
   "id": "e4b06343",
   "metadata": {},
   "outputs": [
    {
     "name": "stdout",
     "output_type": "stream",
     "text": [
      "       0    1    2    3\n",
      "0    5.1  3.5  1.4  0.2\n",
      "1    4.9  3.0  1.4  0.2\n",
      "2    4.7  3.2  1.3  0.2\n",
      "3    4.6  3.1  1.5  0.2\n",
      "4    5.0  3.6  1.4  0.2\n",
      "..   ...  ...  ...  ...\n",
      "145  6.7  3.0  5.2  2.3\n",
      "146  6.3  2.5  5.0  1.9\n",
      "147  6.5  3.0  5.2  2.0\n",
      "148  6.2  3.4  5.4  2.3\n",
      "149  5.9  3.0  5.1  1.8\n",
      "\n",
      "[150 rows x 4 columns]\n"
     ]
    }
   ],
   "source": [
    "df = pd.DataFrame(X)\n",
    "\n",
    "print(df)"
   ]
  },
  {
   "cell_type": "code",
   "execution_count": 39,
   "id": "a8203dbc",
   "metadata": {},
   "outputs": [
    {
     "name": "stdout",
     "output_type": "stream",
     "text": [
      "          0         1         2         3\n",
      "0  1.000000 -0.117570  0.871754  0.817941\n",
      "1 -0.117570  1.000000 -0.428440 -0.366126\n",
      "2  0.871754 -0.428440  1.000000  0.962865\n",
      "3  0.817941 -0.366126  0.962865  1.000000\n"
     ]
    }
   ],
   "source": [
    "corr_matrix = df.corr()\n",
    "print(corr_matrix)"
   ]
  },
  {
   "cell_type": "code",
   "execution_count": 40,
   "id": "8e3d2c2c",
   "metadata": {},
   "outputs": [
    {
     "data": {
      "image/png": "[encoded data removed]",
      "text/plain": [
       "<Figure size 576x432 with 2 Axes>"
      ]
     },
     "metadata": {
      "needs_background": "light"
     },
     "output_type": "display_data"
    }
   ],
   "source": [
    "plt.figure(figsize=(8, 6))\n",
    "plt.title('Iris Data에서의 상관계수 히트맵')\n",
    "a = sns.heatmap(corr_matrix, square=True, annot=True, fmt='.2f', linecolor='black')\n",
    "a.set_xticklabels(a.get_xticklabels(), rotation=30)\n",
    "a.set_yticklabels(a.get_yticklabels(), rotation=30)\n",
    "plt.show()"
   ]
  },
  {
   "cell_type": "code",
   "execution_count": 41,
   "id": "44a2c2e0",
   "metadata": {},
   "outputs": [
    {
     "data": {
      "text/html": [
       "<div>\n",
       "<style scoped>\n",
       "    .dataframe tbody tr th:only-of-type {\n",
       "        vertical-align: middle;\n",
       "    }\n",
       "\n",
       "    .dataframe tbody tr th {\n",
       "        vertical-align: top;\n",
       "    }\n",
       "\n",
       "    .dataframe thead th {\n",
       "        text-align: right;\n",
       "    }\n",
       "</style>\n",
       "<table border=\"1\" class=\"dataframe\">\n",
       "  <thead>\n",
       "    <tr style=\"text-align: right;\">\n",
       "      <th></th>\n",
       "      <th>0</th>\n",
       "      <th>1</th>\n",
       "      <th>2</th>\n",
       "      <th>3</th>\n",
       "    </tr>\n",
       "  </thead>\n",
       "  <tbody>\n",
       "    <tr>\n",
       "      <th>0</th>\n",
       "      <td>NaN</td>\n",
       "      <td>-0.11757</td>\n",
       "      <td>0.871754</td>\n",
       "      <td>0.817941</td>\n",
       "    </tr>\n",
       "    <tr>\n",
       "      <th>1</th>\n",
       "      <td>NaN</td>\n",
       "      <td>NaN</td>\n",
       "      <td>-0.428440</td>\n",
       "      <td>-0.366126</td>\n",
       "    </tr>\n",
       "    <tr>\n",
       "      <th>2</th>\n",
       "      <td>NaN</td>\n",
       "      <td>NaN</td>\n",
       "      <td>NaN</td>\n",
       "      <td>0.962865</td>\n",
       "    </tr>\n",
       "    <tr>\n",
       "      <th>3</th>\n",
       "      <td>NaN</td>\n",
       "      <td>NaN</td>\n",
       "      <td>NaN</td>\n",
       "      <td>NaN</td>\n",
       "    </tr>\n",
       "  </tbody>\n",
       "</table>\n",
       "</div>"
      ],
      "text/plain": [
       "    0        1         2         3\n",
       "0 NaN -0.11757  0.871754  0.817941\n",
       "1 NaN      NaN -0.428440 -0.366126\n",
       "2 NaN      NaN       NaN  0.962865\n",
       "3 NaN      NaN       NaN       NaN"
      ]
     },
     "execution_count": 41,
     "metadata": {},
     "output_type": "execute_result"
    }
   ],
   "source": [
    "# 대각선을 기준으로 위쪽 삼각형을 선택한다\n",
    "upper = corr_matrix.where(np.triu(np.ones(corr_matrix.shape), k=1).astype(np.bool))\n",
    "upper"
   ]
  },
  {
   "cell_type": "code",
   "execution_count": 42,
   "id": "8f0abe58",
   "metadata": {},
   "outputs": [
    {
     "name": "stdout",
     "output_type": "stream",
     "text": [
      "[3]\n"
     ]
    }
   ],
   "source": [
    "to_drop = [column for column in upper.columns if any(upper[column] > 0.9)]\n",
    "print(to_drop)"
   ]
  },
  {
   "cell_type": "code",
   "execution_count": 43,
   "id": "2f4882e9",
   "metadata": {},
   "outputs": [
    {
     "name": "stdout",
     "output_type": "stream",
     "text": [
      "       0    1    2\n",
      "0    5.1  3.5  1.4\n",
      "1    4.9  3.0  1.4\n",
      "2    4.7  3.2  1.3\n",
      "3    4.6  3.1  1.5\n",
      "4    5.0  3.6  1.4\n",
      "..   ...  ...  ...\n",
      "145  6.7  3.0  5.2\n",
      "146  6.3  2.5  5.0\n",
      "147  6.5  3.0  5.2\n",
      "148  6.2  3.4  5.4\n",
      "149  5.9  3.0  5.1\n",
      "\n",
      "[150 rows x 3 columns]\n"
     ]
    }
   ],
   "source": [
    "df1 = df.drop(df.columns[to_drop], axis=1)\n",
    "print(df1)"
   ]
  },
  {
   "cell_type": "markdown",
   "id": "693efa92",
   "metadata": {},
   "source": [
    "# 3. Wrapper Methods\n",
    "- wrapper methods로 특징들의 하위 세트를 만들어 모델에 적용해 훈련할 수 있다. 이전 모델로 부터 가져온 추론을 기반으로 우리는 하위 세트를 추가할지 제거할지 결정할 수 있다. 이 문제는 특히는 조사 과정을 줄이는데 필수적이다. \n",
    "- Wrapper Methods를 사용하는 예는 아래와 같다.\n",
    "    1. Forward Seleciton\n",
    "    2. Backward Elimination\n",
    "    3. Exhaustive Feature Selection\n",
    "    4. Recursive Feature Elimination\n",
    "    5. Recursive Feature Elimination with cross-validation\n",
    "- 이를 그림으로 표현하면 아래와 같다."
   ]
  }
 ],
 "metadata": {
  "kernelspec": {
   "display_name": "Python 3",
   "language": "python",
   "name": "python3"
  },
  "language_info": {
   "codemirror_mode": {
    "name": "ipython",
    "version": 3
   },
   "file_extension": ".py",
   "mimetype": "text/x-python",
   "name": "python",
   "nbconvert_exporter": "python",
   "pygments_lexer": "ipython3",
   "version": "3.7.7"
  }
 },
 "nbformat": 4,
 "nbformat_minor": 5
}
