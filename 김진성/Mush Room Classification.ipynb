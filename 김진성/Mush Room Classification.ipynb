{
 "cells": [
  {
   "cell_type": "markdown",
   "id": "6f8762c3",
   "metadata": {},
   "source": [
    "# Mush Room Classification"
   ]
  },
  {
   "cell_type": "markdown",
   "id": "4844d8ed",
   "metadata": {},
   "source": [
    "## Kaggle 필사 및 참고\n",
    "- https://www.kaggle.com/prashant111/comprehensive-guide-on-feature-selection"
   ]
  },
  {
   "cell_type": "markdown",
   "id": "fdefa5a4",
   "metadata": {},
   "source": [
    "## 1. 특징 추출 개요"
   ]
  },
  {
   "cell_type": "markdown",
   "id": "889cc875",
   "metadata": {},
   "source": [
    "### 특징 추출에 대한 이해\n",
    "- 특징을 추출한다는 것은 거대한 크기의 데이터에서 적절한 수치 데이터를 선택하는 과정이다. \n",
    "- Feature Selection or Variable Selection 은 머신러닝 알고리즘을 빌드하는 과정에서 관련 특징 및 변수를 선택하는 것이다."
   ]
  },
  {
   "cell_type": "markdown",
   "id": "00357f1d",
   "metadata": {},
   "source": [
    "### 특징 추출의 장점\n",
    "1. 정확성 향상\n",
    "2. 해석하기 쉬운 간단한 모델\n",
    "3. 더 짧은 훈련 시간\n",
    "4. Overfitting을 줄이면서 일반화를 향상\n",
    "5. 소프트웨어 개발자가 적용하기 쉬움\n",
    "6. 모델 사용에 따르는 오류 위험을 줄일 수 있음\n",
    "7. 변수 중복\n",
    "8. 높은 차원 공간에서의 안좋은 학습 경험"
   ]
  },
  {
   "cell_type": "markdown",
   "id": "d1ea76bc",
   "metadata": {},
   "source": [
    "### 특징 추출 기술\n",
    "1. Filter methods\n",
    "2. Wrapper methods\n",
    "3. Embedded methods"
   ]
  },
  {
   "cell_type": "markdown",
   "id": "a4dfa33d",
   "metadata": {},
   "source": [
    "### 필터 방법\n",
    "1. Basic Methods\n",
    "2. Univariate methods\n",
    "3. Information gain\n",
    "4. Fischer score\n",
    "5. Correlation Matrix with Heatmap"
   ]
  },
  {
   "cell_type": "markdown",
   "id": "4aef8952",
   "metadata": {},
   "source": [
    "### Wrapper Methods\n",
    "1. Forward Selection\n",
    "2. Backward Elimination\n",
    "3. Exhaustive Feature Selection\n",
    "4. Recursive Feature Elimination\n",
    "5. Recursive Feature Elimination with Cross-Validation"
   ]
  },
  {
   "cell_type": "markdown",
   "id": "8b3c9a53",
   "metadata": {},
   "source": [
    "### Embedded Methods\n",
    "1. LASSO\n",
    "2. RIDGE\n",
    "3. Tree Importance"
   ]
  },
  {
   "cell_type": "markdown",
   "id": "4669d863",
   "metadata": {},
   "source": [
    "## 2. Filter Methods (필터 방법)\n",
    "- 필터 방법은 전처리 과정엣 일반적인  과정으로 특징을 추출하는 것은 머신러닝 알고리즘과 독립된 과정이다. 대신에, 특징이 결과 변수에 따라오는 다양한 통계 테스트 점수에 의해 선택된다. \n",
    "    - 데이터 특징에 따라 방법이 결정된다.\n",
    "    - 머신러닝 알고리즘을 사용하지 않는다.\n",
    "    - 모델을 확실히 알고 있지 않는다.\n",
    "    - 수치적으로 덜 비싼 과정인 경향이 보인다.\n",
    "    - Wrapper method 보다 더 낮은 예측 성능을 보인다.\n",
    "    - 관련없는 특징을 제거하고 빠르게 적합시키는데 좋다. \n",
    "\n",
    "\n",
    "- 필터 방법은 아래와 같은 다양한 기술들을 가지고 있다.\n",
    "    - 2.1 Basic Methods\n",
    "    - 2.2 Univariate feature selection\n",
    "    - 2.3 Information gain\n",
    "    - 2.4 Fischer score\n",
    "    - 2.5 ANOVA F-Value for Feature Selection\n",
    "    - 2.6 Correlation Matrix with Heatmap"
   ]
  },
  {
   "cell_type": "code",
   "execution_count": 3,
   "id": "caab17e4",
   "metadata": {},
   "outputs": [
    {
     "data": {
      "image/png": "[encoded data removed]",
      "text/plain": [
       "<IPython.core.display.Image object>"
      ]
     },
     "metadata": {},
     "output_type": "display_data"
    }
   ],
   "source": [
    "from IPython.display import display, Image\n",
    "display(Image(filename=\"Feature-Selection.png\"))"
   ]
  },
  {
   "cell_type": "markdown",
   "id": "e2c5eb69",
   "metadata": {},
   "source": [
    "## 2.1 Basic Methods\n",
    "- 기본 방법은 quasi-constant 특징을 제거하는 것"
   ]
  },
  {
   "cell_type": "markdown",
   "id": "bd21daca",
   "metadata": {},
   "source": [
    "### 2.1.1 상수 특징을 제거하기\n",
    "- Constant features는 데이터 셋을 관찰하면서 오로지 같은 값만 보이는 것을 말한다. 즉, 데이터셋의 row 에 같은 값이 있고 이러한 특징은 머신러닝 모델을 사용하면서 어떠한 정보도 주지 않는다.\n",
    "- 상수 특징을 확인하고 제거하는 것은 기본적으로 특징 추출하는 첫 과정이자 머신러닝 모델 이해가 쉬워지게 하는 것이다. 이러한 특징을 확인하기 위해 \"VarianaceThreshold\" 함수를 사용할 수 있다.\n",
    "- Santander Customer Satisfaction dataset from kaggle 을 사용해 상수 특징이 무엇인지 감을 잡을 수 있다. \n",
    "- https://scikit-learn.org/stable/modules/generated/sklearn.feature_selection.VarianceThreshold.html\n",
    "- https://scikit-learn.org/stable/modules/feature_selection.html"
   ]
  },
  {
   "cell_type": "code",
   "execution_count": 4,
   "id": "008dffea",
   "metadata": {},
   "outputs": [],
   "source": [
    "import numpy as np\n",
    "import pandas as pd\n",
    "import matplotlib.pyplot as plt\n",
    "import seaborn as sns\n",
    "\n",
    "import warnings\n",
    "warnings.filterwarnings('ignore')"
   ]
  },
  {
   "cell_type": "code",
   "execution_count": 3,
   "id": "67d984e5",
   "metadata": {},
   "outputs": [],
   "source": [
    "X_train = pd.read_csv('./Santander-Customer-Satisfaction/train.csv',\n",
    "                     nrows=35000)\n",
    "X_test = pd.read_csv('./Santander-Customer-Satisfaction/test.csv',\n",
    "                    nrows=15000)"
   ]
  },
  {
   "cell_type": "code",
   "execution_count": 4,
   "id": "85b952da",
   "metadata": {},
   "outputs": [],
   "source": [
    "X_train.drop(labels=['TARGET'], axis=1, inplace=True)"
   ]
  },
  {
   "cell_type": "code",
   "execution_count": 5,
   "id": "f9829db4",
   "metadata": {},
   "outputs": [
    {
     "data": {
      "text/plain": [
       "((35000, 370), (15000, 370))"
      ]
     },
     "execution_count": 5,
     "metadata": {},
     "output_type": "execute_result"
    }
   ],
   "source": [
    "X_train.shape, X_test.shape"
   ]
  },
  {
   "cell_type": "markdown",
   "id": "4f5ec701",
   "metadata": {},
   "source": [
    "#### 명심할 사항!!\n",
    "- 모든 특징 추출과정에서, 트레인 셋에서 좋은 특징을 뽑는 것이 중요하다."
   ]
  },
  {
   "cell_type": "markdown",
   "id": "8eb3bf3c",
   "metadata": {},
   "source": [
    "#### sklearn에서 variance threshold 사용하기\n",
    "- Variance threshold(분류 기준)는 특징 추출을 위해 가장 기본적인 접근 방법이다. 이 기준은 몇몇 기준에 충족하지 않는 편향들을 제거하고 기본적으로 모든 0 값이 특징이나 모든 샘플에서 같은 값을 가지는 특징도 제거해준다. "
   ]
  },
  {
   "cell_type": "code",
   "execution_count": 6,
   "id": "a7f3edd6",
   "metadata": {},
   "outputs": [
    {
     "data": {
      "text/plain": [
       "VarianceThreshold(threshold=0)"
      ]
     },
     "execution_count": 6,
     "metadata": {},
     "output_type": "execute_result"
    }
   ],
   "source": [
    "from sklearn.feature_selection import VarianceThreshold\n",
    "sel = VarianceThreshold(threshold=0)\n",
    "\n",
    "# fit은 0 값을 가지는 특징을 찾아준다. \n",
    "sel.fit(X_train)"
   ]
  },
  {
   "cell_type": "code",
   "execution_count": 7,
   "id": "16d4977f",
   "metadata": {},
   "outputs": [
    {
     "data": {
      "text/plain": [
       "319"
      ]
     },
     "execution_count": 7,
     "metadata": {},
     "output_type": "execute_result"
    }
   ],
   "source": [
    "# get_support는 어떤 특징들이 재훈련되었는지 True or False vector를 말한다.\n",
    "# 만약에 우리가 get_support를 합하면, 상수가 아닌 특징들의 수를 얻을 수 있다.\n",
    "sum(sel.get_support())"
   ]
  },
  {
   "cell_type": "code",
   "execution_count": 8,
   "id": "c80a715f",
   "metadata": {},
   "outputs": [
    {
     "data": {
      "text/plain": [
       "319"
      ]
     },
     "execution_count": 8,
     "metadata": {},
     "output_type": "execute_result"
    }
   ],
   "source": [
    "# 상수가 아닌 특징을 찾는 다른 방법\n",
    "len(X_train.columns[sel.get_support()])"
   ]
  },
  {
   "cell_type": "code",
   "execution_count": 9,
   "id": "02114e17",
   "metadata": {
    "scrolled": true
   },
   "outputs": [
    {
     "name": "stdout",
     "output_type": "stream",
     "text": [
      "51\n"
     ]
    },
    {
     "data": {
      "text/plain": [
       "['ind_var2_0',\n",
       " 'ind_var2',\n",
       " 'ind_var18_0',\n",
       " 'ind_var18',\n",
       " 'ind_var27_0',\n",
       " 'ind_var28_0',\n",
       " 'ind_var28',\n",
       " 'ind_var27',\n",
       " 'ind_var34_0',\n",
       " 'ind_var34',\n",
       " 'ind_var41',\n",
       " 'ind_var46_0',\n",
       " 'ind_var46',\n",
       " 'num_var18_0',\n",
       " 'num_var18',\n",
       " 'num_var27_0',\n",
       " 'num_var28_0',\n",
       " 'num_var28',\n",
       " 'num_var27',\n",
       " 'num_var34_0',\n",
       " 'num_var34',\n",
       " 'num_var41',\n",
       " 'num_var46_0',\n",
       " 'num_var46',\n",
       " 'saldo_var18',\n",
       " 'saldo_var28',\n",
       " 'saldo_var27',\n",
       " 'saldo_var34',\n",
       " 'saldo_var41',\n",
       " 'saldo_var46',\n",
       " 'delta_imp_amort_var18_1y3',\n",
       " 'delta_imp_amort_var34_1y3',\n",
       " 'imp_amort_var18_hace3',\n",
       " 'imp_amort_var18_ult1',\n",
       " 'imp_amort_var34_hace3',\n",
       " 'imp_amort_var34_ult1',\n",
       " 'imp_reemb_var13_hace3',\n",
       " 'imp_reemb_var17_hace3',\n",
       " 'imp_reemb_var33_hace3',\n",
       " 'imp_trasp_var17_out_hace3',\n",
       " 'imp_trasp_var33_out_hace3',\n",
       " 'num_var2_0_ult1',\n",
       " 'num_var2_ult1',\n",
       " 'num_reemb_var13_hace3',\n",
       " 'num_reemb_var17_hace3',\n",
       " 'num_reemb_var33_hace3',\n",
       " 'num_trasp_var17_out_hace3',\n",
       " 'num_trasp_var33_out_hace3',\n",
       " 'saldo_var2_ult1',\n",
       " 'saldo_medio_var13_medio_hace3',\n",
       " 'saldo_medio_var29_hace3']"
      ]
     },
     "execution_count": 9,
     "metadata": {},
     "output_type": "execute_result"
    }
   ],
   "source": [
    "# 상수 특징 찾기\n",
    "print(\n",
    "    len([\n",
    "        x for x in X_train.columns\n",
    "        if x not in X_train.columns[sel.get_support()]\n",
    "    ])\n",
    ")\n",
    "[x for x in X_train.columns if x not in X_train.columns[sel.get_support()]]"
   ]
  },
  {
   "cell_type": "markdown",
   "id": "dd0cc2f9",
   "metadata": {},
   "source": [
    "- 위에서 볼 수 있듯이 51개의 columns 및 변수가 상수임을 알 수 있다. 이것은 51개의 변수가 같은 값, 즉 하나의 값만 모든 훈련 세트에서 가지고 있다는 것을 의미한ㄴ다.\n",
    "- 우리는 훈련 및 테스트 세트를 줄이는 변형 함수를 쓰면 된다."
   ]
  },
  {
   "cell_type": "code",
   "execution_count": 10,
   "id": "f61e731b",
   "metadata": {},
   "outputs": [],
   "source": [
    "# train 과 test 세트에서 columns 들을 줄이자\n",
    "X_train = sel.transform(X_train)\n",
    "X_test =sel.transform(X_test)"
   ]
  },
  {
   "cell_type": "code",
   "execution_count": 11,
   "id": "c02439e4",
   "metadata": {},
   "outputs": [
    {
     "data": {
      "text/plain": [
       "((35000, 319), (15000, 319))"
      ]
     },
     "execution_count": 11,
     "metadata": {},
     "output_type": "execute_result"
    }
   ],
   "source": [
    "# training 과 test 세트의 모양을 확인해보자\n",
    "X_train.shape, X_test.shape"
   ]
  },
  {
   "cell_type": "markdown",
   "id": "7b3ed463",
   "metadata": {},
   "source": [
    "- 이를 통해 우리가 상수 특징을 어떻게 제거하거나 차원을 줄이는지 알 수 있었다."
   ]
  },
  {
   "cell_type": "markdown",
   "id": "c6165a3f",
   "metadata": {},
   "source": [
    "### 2.1.2 Quasi-constant 특징들 제거하기\n",
    "- 쿼시 상수(Quasi-constant) 특징들은 데이터셋 관찰과정에서 대다수가 같은 값을 보이는 것이다. 일반적으로, 이러한 특징들은 만약 우리의 타겟을 예측하고 구분하는 머신러닝 모델 정보에 어느 정도 제공을 한다. 하지만 예외는 있다. 그래서 우리는 이러한 타입의 특징들을 제거하는데 조심해야 한다. Quasi-constant 특징들을 제거하고 확인하는 과정은 특징 추출의 첫 과정이고 머신러닝 모델 이해하는데 중요한 발판이다. \n",
    "- 쿼시 상수를 확인하기 위해서 우리는 다시 VarianceThreshold 함수를 사용할 것이다."
   ]
  },
  {
   "cell_type": "code",
   "execution_count": 12,
   "id": "f6d6cc33",
   "metadata": {},
   "outputs": [
    {
     "data": {
      "text/plain": [
       "((35000, 370), (15000, 370))"
      ]
     },
     "execution_count": 12,
     "metadata": {},
     "output_type": "execute_result"
    }
   ],
   "source": [
    "X_train = pd.read_csv('./Santander-Customer-Satisfaction/train.csv',\n",
    "                     nrows=35000)\n",
    "X_test = pd.read_csv('./Santander-Customer-Satisfaction/test.csv',\n",
    "                    nrows=15000)\n",
    "X_train.drop(labels=['TARGET'], axis=1, inplace = True)\n",
    "X_train.shape, X_test.shape"
   ]
  },
  {
   "cell_type": "markdown",
   "id": "5c5ea230",
   "metadata": {},
   "source": [
    "#### Variance threshold 사용하기\n",
    "- 여기서 우리는 쿼시 상수 특징을 바꿀 것이다."
   ]
  },
  {
   "cell_type": "code",
   "execution_count": 13,
   "id": "116a10b9",
   "metadata": {},
   "outputs": [
    {
     "data": {
      "text/plain": [
       "VarianceThreshold(threshold=0.01)"
      ]
     },
     "execution_count": 13,
     "metadata": {},
     "output_type": "execute_result"
    }
   ],
   "source": [
    "# 0.1은 대략적으로 관찰값의 99%를 의미함\n",
    "sel = VarianceThreshold(threshold=0.01)\n",
    "sel.fit(X_train)"
   ]
  },
  {
   "cell_type": "code",
   "execution_count": 14,
   "id": "f1497533",
   "metadata": {},
   "outputs": [
    {
     "data": {
      "text/plain": [
       "263"
      ]
     },
     "execution_count": 14,
     "metadata": {},
     "output_type": "execute_result"
    }
   ],
   "source": [
    "sum(sel.get_support())"
   ]
  },
  {
   "cell_type": "code",
   "execution_count": 15,
   "id": "cd1cb369",
   "metadata": {},
   "outputs": [
    {
     "data": {
      "text/plain": [
       "263"
      ]
     },
     "execution_count": 15,
     "metadata": {},
     "output_type": "execute_result"
    }
   ],
   "source": [
    "len(X_train.columns[sel.get_support()])"
   ]
  },
  {
   "cell_type": "code",
   "execution_count": 16,
   "id": "c07942c4",
   "metadata": {},
   "outputs": [
    {
     "name": "stdout",
     "output_type": "stream",
     "text": [
      "107\n"
     ]
    },
    {
     "data": {
      "text/plain": [
       "['ind_var1',\n",
       " 'ind_var2_0',\n",
       " 'ind_var2',\n",
       " 'ind_var6_0',\n",
       " 'ind_var6',\n",
       " 'ind_var13_largo',\n",
       " 'ind_var13_medio_0',\n",
       " 'ind_var13_medio',\n",
       " 'ind_var14',\n",
       " 'ind_var17_0',\n",
       " 'ind_var17',\n",
       " 'ind_var18_0',\n",
       " 'ind_var18',\n",
       " 'ind_var19',\n",
       " 'ind_var20_0',\n",
       " 'ind_var20',\n",
       " 'ind_var27_0',\n",
       " 'ind_var28_0',\n",
       " 'ind_var28',\n",
       " 'ind_var27',\n",
       " 'ind_var29_0',\n",
       " 'ind_var29',\n",
       " 'ind_var30_0',\n",
       " 'ind_var31_0',\n",
       " 'ind_var31',\n",
       " 'ind_var32_cte',\n",
       " 'ind_var32_0',\n",
       " 'ind_var32',\n",
       " 'ind_var33_0',\n",
       " 'ind_var33',\n",
       " 'ind_var34_0',\n",
       " 'ind_var34',\n",
       " 'ind_var40',\n",
       " 'ind_var41',\n",
       " 'ind_var39',\n",
       " 'ind_var44_0',\n",
       " 'ind_var44',\n",
       " 'ind_var46_0',\n",
       " 'ind_var46',\n",
       " 'num_var6_0',\n",
       " 'num_var6',\n",
       " 'num_var13_medio_0',\n",
       " 'num_var13_medio',\n",
       " 'num_var18_0',\n",
       " 'num_var18',\n",
       " 'num_op_var40_hace3',\n",
       " 'num_var27_0',\n",
       " 'num_var28_0',\n",
       " 'num_var28',\n",
       " 'num_var27',\n",
       " 'num_var29_0',\n",
       " 'num_var29',\n",
       " 'num_var33',\n",
       " 'num_var34_0',\n",
       " 'num_var34',\n",
       " 'num_var41',\n",
       " 'num_var46_0',\n",
       " 'num_var46',\n",
       " 'saldo_var18',\n",
       " 'saldo_var28',\n",
       " 'saldo_var27',\n",
       " 'saldo_var34',\n",
       " 'saldo_var41',\n",
       " 'saldo_var46',\n",
       " 'delta_imp_amort_var18_1y3',\n",
       " 'delta_imp_amort_var34_1y3',\n",
       " 'delta_imp_aport_var33_1y3',\n",
       " 'delta_num_aport_var33_1y3',\n",
       " 'imp_amort_var18_hace3',\n",
       " 'imp_amort_var18_ult1',\n",
       " 'imp_amort_var34_hace3',\n",
       " 'imp_amort_var34_ult1',\n",
       " 'imp_reemb_var13_hace3',\n",
       " 'imp_reemb_var17_hace3',\n",
       " 'imp_reemb_var33_hace3',\n",
       " 'imp_trasp_var17_out_hace3',\n",
       " 'imp_trasp_var33_out_hace3',\n",
       " 'ind_var7_emit_ult1',\n",
       " 'ind_var7_recib_ult1',\n",
       " 'num_var2_0_ult1',\n",
       " 'num_var2_ult1',\n",
       " 'num_aport_var33_hace3',\n",
       " 'num_aport_var33_ult1',\n",
       " 'num_var7_emit_ult1',\n",
       " 'num_meses_var13_medio_ult3',\n",
       " 'num_meses_var17_ult3',\n",
       " 'num_meses_var29_ult3',\n",
       " 'num_meses_var33_ult3',\n",
       " 'num_meses_var44_ult3',\n",
       " 'num_reemb_var13_hace3',\n",
       " 'num_reemb_var13_ult1',\n",
       " 'num_reemb_var17_hace3',\n",
       " 'num_reemb_var17_ult1',\n",
       " 'num_reemb_var33_hace3',\n",
       " 'num_reemb_var33_ult1',\n",
       " 'num_trasp_var17_in_hace3',\n",
       " 'num_trasp_var17_in_ult1',\n",
       " 'num_trasp_var17_out_hace3',\n",
       " 'num_trasp_var17_out_ult1',\n",
       " 'num_trasp_var33_in_hace3',\n",
       " 'num_trasp_var33_in_ult1',\n",
       " 'num_trasp_var33_out_hace3',\n",
       " 'num_trasp_var33_out_ult1',\n",
       " 'num_venta_var44_hace3',\n",
       " 'saldo_var2_ult1',\n",
       " 'saldo_medio_var13_medio_hace3',\n",
       " 'saldo_medio_var29_hace3']"
      ]
     },
     "execution_count": 16,
     "metadata": {},
     "output_type": "execute_result"
    }
   ],
   "source": [
    "print(\n",
    "    len([\n",
    "        x for x in X_train.columns\n",
    "        if x not in X_train.columns[sel.get_support()]\n",
    "    ])\n",
    ")\n",
    "\n",
    "[x for x in X_train.columns if x not in X_train.columns[sel.get_support()]]"
   ]
  },
  {
   "cell_type": "markdown",
   "id": "59b9f0c7",
   "metadata": {},
   "source": [
    "- 107개의 변수가 대부분 상수라는 것을 알 수 있다. 이 의미는 훈련 세트에서 99%가 하나의 값으로 도배되어있다는 것이다."
   ]
  },
  {
   "cell_type": "code",
   "execution_count": 17,
   "id": "40c21fcc",
   "metadata": {},
   "outputs": [
    {
     "data": {
      "text/plain": [
       "0    0.996286\n",
       "1    0.003714\n",
       "Name: ind_var31, dtype: float64"
      ]
     },
     "execution_count": 17,
     "metadata": {},
     "output_type": "execute_result"
    }
   ],
   "source": [
    "X_train['ind_var31'].value_counts() / np.float(len(X_train))"
   ]
  },
  {
   "cell_type": "markdown",
   "id": "d47b7403",
   "metadata": {},
   "source": [
    "- 여기서 이 변수는 99% 이상이 0으로 이루어져 있다는 것을 알 수 있다."
   ]
  },
  {
   "cell_type": "code",
   "execution_count": 18,
   "id": "680ff253",
   "metadata": {},
   "outputs": [
    {
     "data": {
      "text/plain": [
       "((35000, 263), (15000, 263))"
      ]
     },
     "execution_count": 18,
     "metadata": {},
     "output_type": "execute_result"
    }
   ],
   "source": [
    "# 쿼시 상수 특징들을 훈련 세트와 테스트 세트에서 제거할 수 있다.\n",
    "X_train = sel.transform(X_train)\n",
    "X_test = sel.transform(X_test)\n",
    "X_train.shape, X_test.shape"
   ]
  },
  {
   "cell_type": "markdown",
   "id": "ef2b0960",
   "metadata": {},
   "source": [
    "- 상수 및 쿼시 상수 특징들을 제거하고 우리는 370에서 263으로 특징 차원을 줄일 수 있었다. "
   ]
  },
  {
   "cell_type": "markdown",
   "id": "7d8ffe26",
   "metadata": {},
   "source": [
    "## 2.2 단변량 selection methods\n",
    "- 단변량 특징 추출 방법은 ANOVA 같은 단변량 통계 테스트를 기반으로 최고의 특징들을 선택해 작동시키는 것을 말한다. 이는 측정 지표로서의 전처리 과정으로 보일 수 있지만 Scikit-learn은 특징 추출 선택 루틴이 변형 방법을 적용하는 방법으로서 적용된다.\n",
    "- F-test 기반 방법은 2개의 랜덤 변수 사이에서 선형 의존성 정도를 측정하는 것이다. 특징과 목표 사이에서 선형관계를 추정하고 가우시안 분포를 따라하는 변수도 추정한다.\n",
    "- 여기에 4개의 방식을 사용한다. \n",
    "    1. SelectKBest\n",
    "    2. SelectPercentile\n",
    "    3. SelectFpr, SelectFdr, or family wise error SelectFwe\n",
    "    4. GenericUnivariateSelection\n",
    "- 출처 : https://scikit-learn.org/stable/modules/feature_selection.html\n",
    "- SelectKBest나 SelectPercentile에 대한 논의가 부족하지만 이 2개는 실행 과정에서 흔히 쓰이는 방법이다. "
   ]
  },
  {
   "cell_type": "markdown",
   "id": "d2dcaec1",
   "metadata": {},
   "source": [
    "### 2.2.1 SelectKBest\n",
    "- 이 방식은 K 높은 점수에 따른 특징을 선택하는 것이다.\n",
    "- 예를 들어, Chi-Square 테스트에서 오로지 2개의 최고 특징들만 반환하도록 하는 것이다. \n",
    "- 출처 : https://scikit-learn.org/stable/modules/generated/sklearn.feature_selection.SelectKBest.html#sklearn.feature_selection.SelectKBest"
   ]
  },
  {
   "cell_type": "code",
   "execution_count": 19,
   "id": "00e5d82d",
   "metadata": {},
   "outputs": [
    {
     "data": {
      "text/plain": [
       "(150, 4)"
      ]
     },
     "execution_count": 19,
     "metadata": {},
     "output_type": "execute_result"
    }
   ],
   "source": [
    "from sklearn.datasets import load_iris\n",
    "from sklearn.feature_selection import SelectKBest, chi2\n",
    "X, y = load_iris(return_X_y=True)\n",
    "X.shape"
   ]
  },
  {
   "cell_type": "code",
   "execution_count": 20,
   "id": "acb1e5e0",
   "metadata": {},
   "outputs": [
    {
     "data": {
      "text/plain": [
       "(150, 2)"
      ]
     },
     "execution_count": 20,
     "metadata": {},
     "output_type": "execute_result"
    }
   ],
   "source": [
    "X_new = SelectKBest(chi2, k=2).fit_transform(X, y)\n",
    "X_new.shape"
   ]
  },
  {
   "cell_type": "markdown",
   "id": "3027b426",
   "metadata": {},
   "source": [
    "### 2.2.2 SelectPercentile\n",
    "- 높은 점수 비율에 따른 특징 추출\n",
    "- 출처 : https://scikit-learn.org/stable/modules/generated/sklearn.feature_selection.SelectPercentile.html#sklearn.feature_selection.SelectPercentile"
   ]
  },
  {
   "cell_type": "code",
   "execution_count": 21,
   "id": "6af42aa2",
   "metadata": {},
   "outputs": [
    {
     "data": {
      "text/plain": [
       "(1797, 64)"
      ]
     },
     "execution_count": 21,
     "metadata": {},
     "output_type": "execute_result"
    }
   ],
   "source": [
    "from sklearn.datasets import load_digits\n",
    "from sklearn.feature_selection import SelectPercentile, chi2\n",
    "X, y = load_digits(return_X_y=True)\n",
    "X.shape"
   ]
  },
  {
   "cell_type": "code",
   "execution_count": 22,
   "id": "27124b51",
   "metadata": {},
   "outputs": [
    {
     "data": {
      "text/plain": [
       "(1797, 7)"
      ]
     },
     "execution_count": 22,
     "metadata": {},
     "output_type": "execute_result"
    }
   ],
   "source": [
    "X_new = SelectPercentile(chi2, percentile=10).fit_transform(X, y)\n",
    "X_new.shape"
   ]
  },
  {
   "cell_type": "markdown",
   "id": "d3b5087c",
   "metadata": {},
   "source": [
    "### 중요한 정보\n",
    "- SelectKBest, SelectPercentile은 단변량 값과 P-value를 반환하는 점수 함수이다.\n",
    "- 회기 분석 과정 : f_regression, mutual_info_regression\n",
    "- 분류 과정 : chi2, f_classif, mutual_info_classif\n",
    "\n",
    "- 이 방법들은 2개의 랜덤 변수 사이에서 선형 의존성을 측정하는 F-test에 기반을 두고 있다. 반대로, 상호 정보 방법들은 통계적 의존성이라는 정보를 가지고 잇다. 그러나 변수를 선택하지 않는 다면 그들은 정확한 측정을 위한 샘플을 요구하고 있다. \n",
    "\n",
    "### 분산 데이터에서 특징 추출하기\n",
    "- 만약 분산 데이터를 사용한다면 chi2, mutual_info_classif, mutual_info_regression가 데이터 밀집시키는 것 없이 데이터를 다룰 수 있다. \n",
    "\n",
    "### 조심해야 할 것\n",
    "- 분류 문제에서 회기 점수 함수를 사용해도 쓸모없는 결과를 얻기에 사용하지 안하아야 한다."
   ]
  },
  {
   "cell_type": "markdown",
   "id": "0b4515c7",
   "metadata": {},
   "source": [
    "## 2.3 Information Gain\n",
    "- Informatin Gain or Mutual Information은 얼마나 많은 정보들이 정확한 목표 예측에 특징들이 기여하는지 Presence/Absence로 측정한다.\n",
    "- Mutual Information이란 ? Mutual information measures the information that X and Y share: It measures how much knowing one of these variables reduces uncertainty about the other. For example, if X and Y are independent, then knowing X does not give any information about Y and vice versa, so their mutual information is zero. At the other extreme, if X is a deterministic function of Y and Y is a deterministic function of X then all information conveyed by X is shared with Y: knowing X determines the value of Y and vice versa. As a result, in this case the mutual information is the same as the uncertainty contained in Y (or X) alone, namely the entropy of Y (or X). Moreover, this mutual information is the same as the entropy of X and as the entropy of Y. (A very special case of this is when X and Y are the same random variable.)"
   ]
  },
  {
   "cell_type": "markdown",
   "id": "72867efc",
   "metadata": {},
   "source": [
    "### mutual_info_classif\n",
    "- 분리된 목표 변수에 대한 상호 의존성 정보를 측정함\n",
    "- 2개의 랜덤 변수 사이에서 Mutual Information(MI)은 음수가 아닌 값으로 변수간 의존성을 체크하고 오로지 2개의 변수가 독립적일 때 0을 반환한다. 만약 높은 값이면 높은 의존성을 의미한다.\n",
    "- 이 함수는 KNN 거리에서 entropy 측정을 기반으로한 nonparametic 방법에 의존한다.\n",
    "- 단변량 특징 추출에도 사용 가능하다."
   ]
  },
  {
   "cell_type": "markdown",
   "id": "c8e06800",
   "metadata": {},
   "source": [
    "### mutual_info_regression\n",
    "- 연속적인 목표 변수에 대한 상호 의존성 정보를 측정함\n",
    "- 이것도 음수가 아닌 값이고 mutual_info_classif와 같은 해석을 가진다."
   ]
  },
  {
   "cell_type": "markdown",
   "id": "d2e78e20",
   "metadata": {},
   "source": [
    "## 2.4 Fisher Score (chi-suqare implementation)\n",
    "- Scikit-learn에서 chi-square implementation으로 2개의 음수가 아닌 특징과 class 사이에서 chi-squared stats를 계산한다.\n",
    "- 이 점수는 분류 작업에서 카테고리 변수를 평가하는데 사용해야 한다. 서로 다른 카테고리 특징 사이에서 Y를 다른 클래스로 분류하고 관찰하는데 비교한다."
   ]
  },
  {
   "cell_type": "code",
   "execution_count": 23,
   "id": "72e81d43",
   "metadata": {},
   "outputs": [],
   "source": [
    "from sklearn.datasets import load_iris\n",
    "from sklearn.feature_selection import SelectKBest, chi2"
   ]
  },
  {
   "cell_type": "code",
   "execution_count": 25,
   "id": "cd6b1c25",
   "metadata": {},
   "outputs": [],
   "source": [
    "iris = load_iris()\n",
    "\n",
    "X = iris.data\n",
    "y = iris.target\n",
    "\n",
    "# 카테고리 데이터를 정수로 변환\n",
    "X = X.astype(int)"
   ]
  },
  {
   "cell_type": "code",
   "execution_count": 26,
   "id": "d4b16904",
   "metadata": {},
   "outputs": [],
   "source": [
    "# Chi-Square 통계치 비교\n",
    "# 더 높은 수치인 2개의 특징을 선택\n",
    "chi2_selector = SelectKBest(chi2, k=2)\n",
    "X_kbest = chi2_selector.fit_transform(X, y)"
   ]
  },
  {
   "cell_type": "code",
   "execution_count": 27,
   "id": "905e8b42",
   "metadata": {},
   "outputs": [
    {
     "name": "stdout",
     "output_type": "stream",
     "text": [
      "기존 특징 개수:  4\n",
      "줄어든 특징 개수:  2\n"
     ]
    }
   ],
   "source": [
    "print('기존 특징 개수: ', X.shape[1])\n",
    "print('줄어든 특징 개수: ', X_kbest.shape[1])"
   ]
  },
  {
   "cell_type": "markdown",
   "id": "d0d28a30",
   "metadata": {},
   "source": [
    "## 2.5 ANOVA F-value For Feature Selection\n",
    "- 제공된 샘플에서 ANOVA F-value를 계산하기\n",
    "- 만약 특징이 카테고리라면 우리는 각 특징과 목표 벡터 사이에서 Chi-Square 통계치를 계산할 것이다. 그러나 만약 특징이 양적인 요소이면 ANOVA F-value를 계산할 것이다.\n",
    "- F-value 점수에서 목표 벡터에 의한 수적인 특징을 그룹화했을 때 평균은 상당히 다를 것이다."
   ]
  },
  {
   "cell_type": "code",
   "execution_count": 28,
   "id": "6e683371",
   "metadata": {},
   "outputs": [],
   "source": [
    "from sklearn.datasets import load_iris\n",
    "from sklearn.feature_selection import SelectKBest\n",
    "from sklearn.feature_selection import f_classif"
   ]
  },
  {
   "cell_type": "code",
   "execution_count": 29,
   "id": "49e9c9c8",
   "metadata": {},
   "outputs": [],
   "source": [
    "iris = load_iris()\n",
    "\n",
    "X = iris.data\n",
    "y = iris.target"
   ]
  },
  {
   "cell_type": "code",
   "execution_count": 30,
   "id": "dde03826",
   "metadata": {},
   "outputs": [],
   "source": [
    "fvalue_selector = SelectKBest(f_classif, k=2)\n",
    "X_kbest = fvalue_selector.fit_transform(X, y)"
   ]
  },
  {
   "cell_type": "code",
   "execution_count": 31,
   "id": "089b7fd4",
   "metadata": {},
   "outputs": [
    {
     "name": "stdout",
     "output_type": "stream",
     "text": [
      "기본 특징 개수:  4\n",
      "줄어든 특징 개수:  2\n"
     ]
    }
   ],
   "source": [
    "print('기본 특징 개수: ', X.shape[1])\n",
    "print('줄어든 특징 개수: ', X_kbest.shape[1])"
   ]
  },
  {
   "cell_type": "markdown",
   "id": "5c579f78",
   "metadata": {},
   "source": [
    "## 2.6 히트맵을 활용한 상관관계 행렬\n",
    "- 상관관계는 2개 혹은 그 이상의 변수 사이에서의 선형 관계 측정지표이다. 이를 통해 우리는 다른 것으로 부터 하나의 변수를 예측할 수 있다. \n",
    "- 좋은 변수는 목표치와 매우 높은 상관관계를 가지고 있는 것이다.\n",
    "- 연관된 예측 변수는 풍부한 정보를 제공해준다.\n",
    "- 변수들은 목표와 관계가 있어야 하지만 서로는 관계 없어야 한다.\n",
    "- 상관관계를 통한 특징 추출은 위와 같은 원칙을 기반으로 특징 평가하게 된다."
   ]
  },
  {
   "cell_type": "markdown",
   "id": "e7bf3070",
   "metadata": {},
   "source": [
    "- 피어슨 상관계수를 이용하면 -1에서 1로 다양하게 분포될 것이다.\n",
    "- 만약 2개 사이의 상관계수가 0이면 서로 그 어떤 영향도 주지 않을 것이다.\n",
    "- 만약 0 이상이면 한 쪽 값이 커지면 다른 값도 커지게 된다. 따라서, 1에 가까울 수록 서로 강하게 엮여있다는 것을 의미한다.\n",
    "- 만약 0 이하이면 한 쪽 값이 커지면 다른 값은 줄어들게 된다는 것으로 서로 역행하는 관계를 의미한다. "
   ]
  },
  {
   "cell_type": "code",
   "execution_count": 32,
   "id": "d0f6ece6",
   "metadata": {},
   "outputs": [],
   "source": [
    "from sklearn.datasets import load_iris\n",
    "iris = load_iris()\n",
    "\n",
    "X = iris.data\n",
    "y = iris.target"
   ]
  },
  {
   "cell_type": "code",
   "execution_count": 33,
   "id": "e4b06343",
   "metadata": {},
   "outputs": [
    {
     "name": "stdout",
     "output_type": "stream",
     "text": [
      "       0    1    2    3\n",
      "0    5.1  3.5  1.4  0.2\n",
      "1    4.9  3.0  1.4  0.2\n",
      "2    4.7  3.2  1.3  0.2\n",
      "3    4.6  3.1  1.5  0.2\n",
      "4    5.0  3.6  1.4  0.2\n",
      "..   ...  ...  ...  ...\n",
      "145  6.7  3.0  5.2  2.3\n",
      "146  6.3  2.5  5.0  1.9\n",
      "147  6.5  3.0  5.2  2.0\n",
      "148  6.2  3.4  5.4  2.3\n",
      "149  5.9  3.0  5.1  1.8\n",
      "\n",
      "[150 rows x 4 columns]\n"
     ]
    }
   ],
   "source": [
    "df = pd.DataFrame(X)\n",
    "\n",
    "print(df)"
   ]
  },
  {
   "cell_type": "code",
   "execution_count": 34,
   "id": "a8203dbc",
   "metadata": {},
   "outputs": [
    {
     "name": "stdout",
     "output_type": "stream",
     "text": [
      "          0         1         2         3\n",
      "0  1.000000 -0.117570  0.871754  0.817941\n",
      "1 -0.117570  1.000000 -0.428440 -0.366126\n",
      "2  0.871754 -0.428440  1.000000  0.962865\n",
      "3  0.817941 -0.366126  0.962865  1.000000\n"
     ]
    }
   ],
   "source": [
    "corr_matrix = df.corr()\n",
    "print(corr_matrix)"
   ]
  },
  {
   "cell_type": "code",
   "execution_count": 35,
   "id": "8e3d2c2c",
   "metadata": {},
   "outputs": [
    {
     "data": {
      "image/png": "[encoded data removed]",
      "text/plain": [
       "<Figure size 576x432 with 2 Axes>"
      ]
     },
     "metadata": {
      "needs_background": "light"
     },
     "output_type": "display_data"
    }
   ],
   "source": [
    "plt.figure(figsize=(8, 6))\n",
    "plt.title('Iris Data에서의 상관계수 히트맵')\n",
    "a = sns.heatmap(corr_matrix, square=True, annot=True, fmt='.2f', linecolor='black')\n",
    "a.set_xticklabels(a.get_xticklabels(), rotation=30)\n",
    "a.set_yticklabels(a.get_yticklabels(), rotation=30)\n",
    "plt.show()"
   ]
  },
  {
   "cell_type": "code",
   "execution_count": 36,
   "id": "44a2c2e0",
   "metadata": {},
   "outputs": [
    {
     "data": {
      "text/html": [
       "<div>\n",
       "<style scoped>\n",
       "    .dataframe tbody tr th:only-of-type {\n",
       "        vertical-align: middle;\n",
       "    }\n",
       "\n",
       "    .dataframe tbody tr th {\n",
       "        vertical-align: top;\n",
       "    }\n",
       "\n",
       "    .dataframe thead th {\n",
       "        text-align: right;\n",
       "    }\n",
       "</style>\n",
       "<table border=\"1\" class=\"dataframe\">\n",
       "  <thead>\n",
       "    <tr style=\"text-align: right;\">\n",
       "      <th></th>\n",
       "      <th>0</th>\n",
       "      <th>1</th>\n",
       "      <th>2</th>\n",
       "      <th>3</th>\n",
       "    </tr>\n",
       "  </thead>\n",
       "  <tbody>\n",
       "    <tr>\n",
       "      <th>0</th>\n",
       "      <td>NaN</td>\n",
       "      <td>-0.11757</td>\n",
       "      <td>0.871754</td>\n",
       "      <td>0.817941</td>\n",
       "    </tr>\n",
       "    <tr>\n",
       "      <th>1</th>\n",
       "      <td>NaN</td>\n",
       "      <td>NaN</td>\n",
       "      <td>-0.428440</td>\n",
       "      <td>-0.366126</td>\n",
       "    </tr>\n",
       "    <tr>\n",
       "      <th>2</th>\n",
       "      <td>NaN</td>\n",
       "      <td>NaN</td>\n",
       "      <td>NaN</td>\n",
       "      <td>0.962865</td>\n",
       "    </tr>\n",
       "    <tr>\n",
       "      <th>3</th>\n",
       "      <td>NaN</td>\n",
       "      <td>NaN</td>\n",
       "      <td>NaN</td>\n",
       "      <td>NaN</td>\n",
       "    </tr>\n",
       "  </tbody>\n",
       "</table>\n",
       "</div>"
      ],
      "text/plain": [
       "    0        1         2         3\n",
       "0 NaN -0.11757  0.871754  0.817941\n",
       "1 NaN      NaN -0.428440 -0.366126\n",
       "2 NaN      NaN       NaN  0.962865\n",
       "3 NaN      NaN       NaN       NaN"
      ]
     },
     "execution_count": 36,
     "metadata": {},
     "output_type": "execute_result"
    }
   ],
   "source": [
    "# 대각선을 기준으로 위쪽 삼각형을 선택한다\n",
    "upper = corr_matrix.where(np.triu(np.ones(corr_matrix.shape), k=1).astype(np.bool))\n",
    "upper"
   ]
  },
  {
   "cell_type": "code",
   "execution_count": 37,
   "id": "8f0abe58",
   "metadata": {},
   "outputs": [
    {
     "name": "stdout",
     "output_type": "stream",
     "text": [
      "[3]\n"
     ]
    }
   ],
   "source": [
    "to_drop = [column for column in upper.columns if any(upper[column] > 0.9)]\n",
    "print(to_drop)"
   ]
  },
  {
   "cell_type": "code",
   "execution_count": 38,
   "id": "2f4882e9",
   "metadata": {},
   "outputs": [
    {
     "name": "stdout",
     "output_type": "stream",
     "text": [
      "       0    1    2\n",
      "0    5.1  3.5  1.4\n",
      "1    4.9  3.0  1.4\n",
      "2    4.7  3.2  1.3\n",
      "3    4.6  3.1  1.5\n",
      "4    5.0  3.6  1.4\n",
      "..   ...  ...  ...\n",
      "145  6.7  3.0  5.2\n",
      "146  6.3  2.5  5.0\n",
      "147  6.5  3.0  5.2\n",
      "148  6.2  3.4  5.4\n",
      "149  5.9  3.0  5.1\n",
      "\n",
      "[150 rows x 3 columns]\n"
     ]
    }
   ],
   "source": [
    "df1 = df.drop(df.columns[to_drop], axis=1)\n",
    "print(df1)"
   ]
  },
  {
   "cell_type": "markdown",
   "id": "693efa92",
   "metadata": {},
   "source": [
    "# 3. Wrapper Methods\n",
    "- wrapper methods로 특징들의 하위 세트를 만들어 모델에 적용해 훈련할 수 있다. 이전 모델로 부터 가져온 추론을 기반으로 우리는 하위 세트를 추가할지 제거할지 결정할 수 있다. 이 문제는 특히는 조사 과정을 줄이는데 필수적이다. \n",
    "- Wrapper Methods를 사용하는 예는 아래와 같다.\n",
    "    1. Forward Seleciton\n",
    "    2. Backward Elimination\n",
    "    3. Exhaustive Feature Selection\n",
    "    4. Recursive Feature Elimination\n",
    "    5. Recursive Feature Elimination with cross-validation\n",
    "- 이를 그림으로 표현하면 아래와 같다."
   ]
  },
  {
   "cell_type": "code",
   "execution_count": 40,
   "id": "7f8eddd3",
   "metadata": {},
   "outputs": [
    {
     "data": {
      "image/png": "[encoded data removed]",
      "text/plain": [
       "<IPython.core.display.Image object>"
      ]
     },
     "metadata": {},
     "output_type": "display_data"
    }
   ],
   "source": [
    "display(Image(filename=\"Wrapper-Method.png\"))"
   ]
  },
  {
   "cell_type": "markdown",
   "id": "c08de985",
   "metadata": {},
   "source": [
    "## 3.1 Forward Selection\n",
    "- Forward Selection은 모델에서 새로운 변수의 추가가 모델의 성능을 향상시키지 못할 때까지 특징들을 더해가는 반복적인 작업이다.\n",
    "- 이 과정은 빈 배열[reduced set]로 시작해서 최고의 기본 특징들이 더해지고 [reduced set]로 여러 특징들이 계속해서 들어가게 된다.\n",
    "- 먼저, 특징을 선택하는 것은 특징 개별로 평가하며 시작하고 그 전 세트를 기준으로 최고의 성능을 지닌 알고리즘을 생산하는 것을 선택하게 된다. 두번째 작업에서는 그것들은 선택된 특징들의 모든 조합을 평가하고 그 전 기준 세트를 기반으로 가장 성능이 좋은 알고리즘을 생성해내게 된다.\n",
    "- 이 선택 과정은 탐욕적이라고 불린다. 왜냐하면 한개든 여러개든 모든 조합을 평가하기 때문이다. 그래서 계산 비용이 많이 들어가고 특징 차원이 너무 커질 때가 있다. \n",
    "- 이러한 Forward Selection을 실행하는 특별한 패키지가 파이썬에는 있다. \n",
    "- 여러 Forward Selection을 적용하고 혼합하는 과정에서 중단 기준은 임의의 특징 조합이다. 그 과정은 선택된 특징들이 적당한 수치에 도달할 때 중단된다. "
   ]
  },
  {
   "cell_type": "code",
   "execution_count": 1,
   "id": "d3bb389c",
   "metadata": {},
   "outputs": [],
   "source": [
    "from sklearn.model_selection import train_test_split\n",
    "from sklearn.ensemble import RandomForestRegressor\n",
    "from sklearn.metrics import r2_score\n",
    "from mlxtend.feature_selection import SequentialFeatureSelector as SFS"
   ]
  },
  {
   "cell_type": "code",
   "execution_count": 6,
   "id": "37e7ea9e",
   "metadata": {},
   "outputs": [
    {
     "data": {
      "text/plain": [
       "(1460, 81)"
      ]
     },
     "execution_count": 6,
     "metadata": {},
     "output_type": "execute_result"
    }
   ],
   "source": [
    "data = pd.read_csv('./House-Price/train.csv')\n",
    "data.shape"
   ]
  },
  {
   "cell_type": "code",
   "execution_count": 7,
   "id": "18b9ce55",
   "metadata": {},
   "outputs": [
    {
     "data": {
      "text/plain": [
       "(1460, 38)"
      ]
     },
     "execution_count": 7,
     "metadata": {},
     "output_type": "execute_result"
    }
   ],
   "source": [
    "# 모든 전처리 과정에서 카테고리 변수가 숫자로 해석된다는 것이 가장 이상적이고\n",
    "# 우리는 어떤 것을 목표로 정할지 선택해야 한다. \n",
    "numerics = ['int16', 'int32', 'int64', 'float16', 'float32', 'float64']\n",
    "numerical_vars = list(data.select_dtypes(include=numerics).columns)\n",
    "data = data[numerical_vars]\n",
    "data.shape"
   ]
  },
  {
   "cell_type": "code",
   "execution_count": 8,
   "id": "55295830",
   "metadata": {},
   "outputs": [
    {
     "data": {
      "text/plain": [
       "((1022, 37), (438, 37))"
      ]
     },
     "execution_count": 8,
     "metadata": {},
     "output_type": "execute_result"
    }
   ],
   "source": [
    "X_train, X_test, y_train, y_test = train_test_split(\n",
    "    data.drop(labels=['SalePrice'], axis=1),\n",
    "    data['SalePrice'],\n",
    "    test_size=0.3,\n",
    "    random_state=0\n",
    ")\n",
    "\n",
    "X_train.shape, X_test.shape"
   ]
  },
  {
   "cell_type": "code",
   "execution_count": 9,
   "id": "d5d27fb1",
   "metadata": {},
   "outputs": [
    {
     "name": "stdout",
     "output_type": "stream",
     "text": [
      "correlated features:  3\n"
     ]
    }
   ],
   "source": [
    "def correlation(dataset, threshold):\n",
    "    col_corr = set()\n",
    "    corr_matrix = dataset.corr()\n",
    "    for i in range(len(corr_matrix.columns)):\n",
    "        for j in range(i):\n",
    "            if abs(corr_matrix.iloc[i, j]) > threshold:\n",
    "                colname = corr_matrix.columns[i]\n",
    "                col_corr.add(colname)\n",
    "    return col_corr\n",
    "\n",
    "corr_features = correlation(X_train, 0.8)\n",
    "print('correlated features: ', len(set(corr_features)))"
   ]
  },
  {
   "cell_type": "code",
   "execution_count": 10,
   "id": "4df99cfe",
   "metadata": {},
   "outputs": [
    {
     "data": {
      "text/plain": [
       "((1022, 34), (438, 34))"
      ]
     },
     "execution_count": 10,
     "metadata": {},
     "output_type": "execute_result"
    }
   ],
   "source": [
    "# 상관관계 특징들을 제거\n",
    "X_train.drop(labels=corr_features, axis=1, inplace=True)\n",
    "X_test.drop(labels=corr_features, axis=1, inplace=True)\n",
    "\n",
    "X_train.shape, X_test.shape"
   ]
  },
  {
   "cell_type": "code",
   "execution_count": 12,
   "id": "c3b0b65c",
   "metadata": {},
   "outputs": [],
   "source": [
    "X_train.fillna(0, inplace=True)"
   ]
  },
  {
   "cell_type": "code",
   "execution_count": 13,
   "id": "c305bf7b",
   "metadata": {
    "scrolled": true
   },
   "outputs": [
    {
     "name": "stderr",
     "output_type": "stream",
     "text": [
      "[Parallel(n_jobs=1)]: Using backend SequentialBackend with 1 concurrent workers.\n",
      "[Parallel(n_jobs=1)]: Done   1 out of   1 | elapsed:    0.4s remaining:    0.0s\n",
      "[Parallel(n_jobs=1)]: Done  34 out of  34 | elapsed:   10.2s finished\n",
      "\n",
      "[2021-11-08 14:10:46] Features: 1/10 -- score: 0.6682572085074266[Parallel(n_jobs=1)]: Using backend SequentialBackend with 1 concurrent workers.\n",
      "[Parallel(n_jobs=1)]: Done   1 out of   1 | elapsed:    0.4s remaining:    0.0s\n",
      "[Parallel(n_jobs=1)]: Done  33 out of  33 | elapsed:   10.7s finished\n",
      "\n",
      "[2021-11-08 14:10:56] Features: 2/10 -- score: 0.7226832352604351[Parallel(n_jobs=1)]: Using backend SequentialBackend with 1 concurrent workers.\n",
      "[Parallel(n_jobs=1)]: Done   1 out of   1 | elapsed:    0.4s remaining:    0.0s\n",
      "[Parallel(n_jobs=1)]: Done  32 out of  32 | elapsed:   10.7s finished\n",
      "\n",
      "[2021-11-08 14:11:07] Features: 3/10 -- score: 0.7474551840722571[Parallel(n_jobs=1)]: Using backend SequentialBackend with 1 concurrent workers.\n",
      "[Parallel(n_jobs=1)]: Done   1 out of   1 | elapsed:    0.4s remaining:    0.0s\n",
      "[Parallel(n_jobs=1)]: Done  31 out of  31 | elapsed:   12.1s finished\n",
      "\n",
      "[2021-11-08 14:11:19] Features: 4/10 -- score: 0.7636520853898371[Parallel(n_jobs=1)]: Using backend SequentialBackend with 1 concurrent workers.\n",
      "[Parallel(n_jobs=1)]: Done   1 out of   1 | elapsed:    0.5s remaining:    0.0s\n",
      "[Parallel(n_jobs=1)]: Done  30 out of  30 | elapsed:   11.6s finished\n",
      "\n",
      "[2021-11-08 14:11:31] Features: 5/10 -- score: 0.7702927757987488[Parallel(n_jobs=1)]: Using backend SequentialBackend with 1 concurrent workers.\n",
      "[Parallel(n_jobs=1)]: Done   1 out of   1 | elapsed:    0.5s remaining:    0.0s\n",
      "[Parallel(n_jobs=1)]: Done  29 out of  29 | elapsed:   13.2s finished\n",
      "\n",
      "[2021-11-08 14:11:44] Features: 6/10 -- score: 0.7834118750165535[Parallel(n_jobs=1)]: Using backend SequentialBackend with 1 concurrent workers.\n",
      "[Parallel(n_jobs=1)]: Done   1 out of   1 | elapsed:    0.5s remaining:    0.0s\n",
      "[Parallel(n_jobs=1)]: Done  28 out of  28 | elapsed:   18.0s finished\n",
      "\n",
      "[2021-11-08 14:12:02] Features: 7/10 -- score: 0.8241942548600182[Parallel(n_jobs=1)]: Using backend SequentialBackend with 1 concurrent workers.\n",
      "[Parallel(n_jobs=1)]: Done   1 out of   1 | elapsed:    0.8s remaining:    0.0s\n",
      "[Parallel(n_jobs=1)]: Done  27 out of  27 | elapsed:   20.3s finished\n",
      "\n",
      "[2021-11-08 14:12:22] Features: 8/10 -- score: 0.8385212910678267[Parallel(n_jobs=1)]: Using backend SequentialBackend with 1 concurrent workers.\n",
      "[Parallel(n_jobs=1)]: Done   1 out of   1 | elapsed:    1.0s remaining:    0.0s\n",
      "[Parallel(n_jobs=1)]: Done  26 out of  26 | elapsed:   23.7s finished\n",
      "\n",
      "[2021-11-08 14:12:46] Features: 9/10 -- score: 0.8512317744217176[Parallel(n_jobs=1)]: Using backend SequentialBackend with 1 concurrent workers.\n",
      "[Parallel(n_jobs=1)]: Done   1 out of   1 | elapsed:    1.0s remaining:    0.0s\n",
      "[Parallel(n_jobs=1)]: Done  25 out of  25 | elapsed:   25.5s finished\n",
      "\n",
      "[2021-11-08 14:13:11] Features: 10/10 -- score: 0.8564016152302214"
     ]
    }
   ],
   "source": [
    "from mlxtend.feature_selection import SequentialFeatureSelector as SFS\n",
    "\n",
    "sfs1 = SFS(RandomForestRegressor(),\n",
    "           k_features=10,\n",
    "           forward=True,\n",
    "           floating=False,\n",
    "           verbose=2,\n",
    "           scoring='r2',\n",
    "           cv=3\n",
    "          )\n",
    "\n",
    "sfs1 = sfs1.fit(np.array(X_train), y_train)"
   ]
  },
  {
   "cell_type": "code",
   "execution_count": 14,
   "id": "27e9935c",
   "metadata": {},
   "outputs": [
    {
     "data": {
      "text/plain": [
       "(4, 5, 6, 9, 14, 16, 17, 19, 21, 24)"
      ]
     },
     "execution_count": 14,
     "metadata": {},
     "output_type": "execute_result"
    }
   ],
   "source": [
    "sfs1.k_feature_idx_"
   ]
  },
  {
   "cell_type": "code",
   "execution_count": 15,
   "id": "7bad0eeb",
   "metadata": {},
   "outputs": [
    {
     "data": {
      "text/plain": [
       "Index(['OverallQual', 'OverallCond', 'YearBuilt', 'BsmtFinSF1', '2ndFlrSF',\n",
       "       'GrLivArea', 'BsmtFullBath', 'FullBath', 'BedroomAbvGr', 'GarageCars'],\n",
       "      dtype='object')"
      ]
     },
     "execution_count": 15,
     "metadata": {},
     "output_type": "execute_result"
    }
   ],
   "source": [
    "X_train.columns[list(sfs1.k_feature_idx_)]"
   ]
  },
  {
   "cell_type": "markdown",
   "id": "3bbcf2d3",
   "metadata": {},
   "source": [
    "## 3.2 Backward Elimination\n",
    "- Backward Elimination은 모든 특징들을 가지고 있다가 각 반복마다 모델 성능을 샹상시켜주는 반복에서 가장 적게 영향을 주는 특징을 제거하며 시작한다. 우리는 더이상 제거할 특징이 없어질 때까지 반복한다."
   ]
  },
  {
   "cell_type": "code",
   "execution_count": 16,
   "id": "4882544b",
   "metadata": {},
   "outputs": [
    {
     "name": "stderr",
     "output_type": "stream",
     "text": [
      "[Parallel(n_jobs=1)]: Using backend SequentialBackend with 1 concurrent workers.\n",
      "[Parallel(n_jobs=1)]: Done   1 out of   1 | elapsed:    1.4s remaining:    0.0s\n",
      "[Parallel(n_jobs=1)]: Done  34 out of  34 | elapsed:   47.9s finished\n",
      "\n",
      "[2021-11-08 14:27:18] Features: 33/10 -- score: 0.8568683989075794[Parallel(n_jobs=1)]: Using backend SequentialBackend with 1 concurrent workers.\n",
      "[Parallel(n_jobs=1)]: Done   1 out of   1 | elapsed:    1.4s remaining:    0.0s\n",
      "[Parallel(n_jobs=1)]: Done  33 out of  33 | elapsed:   45.3s finished\n",
      "\n",
      "[2021-11-08 14:28:03] Features: 32/10 -- score: 0.8572589717815081[Parallel(n_jobs=1)]: Using backend SequentialBackend with 1 concurrent workers.\n",
      "[Parallel(n_jobs=1)]: Done   1 out of   1 | elapsed:    1.4s remaining:    0.0s\n",
      "[Parallel(n_jobs=1)]: Done  32 out of  32 | elapsed:   42.6s finished\n",
      "\n",
      "[2021-11-08 14:28:46] Features: 31/10 -- score: 0.8595408865614398[Parallel(n_jobs=1)]: Using backend SequentialBackend with 1 concurrent workers.\n",
      "[Parallel(n_jobs=1)]: Done   1 out of   1 | elapsed:    1.3s remaining:    0.0s\n",
      "[Parallel(n_jobs=1)]: Done  31 out of  31 | elapsed:   40.7s finished\n",
      "\n",
      "[2021-11-08 14:29:27] Features: 30/10 -- score: 0.8594099691142721[Parallel(n_jobs=1)]: Using backend SequentialBackend with 1 concurrent workers.\n",
      "[Parallel(n_jobs=1)]: Done   1 out of   1 | elapsed:    1.4s remaining:    0.0s\n",
      "[Parallel(n_jobs=1)]: Done  30 out of  30 | elapsed:   39.1s finished\n",
      "\n",
      "[2021-11-08 14:30:06] Features: 29/10 -- score: 0.8592790696160014[Parallel(n_jobs=1)]: Using backend SequentialBackend with 1 concurrent workers.\n",
      "[Parallel(n_jobs=1)]: Done   1 out of   1 | elapsed:    1.2s remaining:    0.0s\n",
      "[Parallel(n_jobs=1)]: Done  29 out of  29 | elapsed:   36.8s finished\n",
      "\n",
      "[2021-11-08 14:30:42] Features: 28/10 -- score: 0.8607837874780797[Parallel(n_jobs=1)]: Using backend SequentialBackend with 1 concurrent workers.\n",
      "[Parallel(n_jobs=1)]: Done   1 out of   1 | elapsed:    1.3s remaining:    0.0s\n",
      "[Parallel(n_jobs=1)]: Done  28 out of  28 | elapsed:   35.9s finished\n",
      "\n",
      "[2021-11-08 14:31:18] Features: 27/10 -- score: 0.8591775821305143[Parallel(n_jobs=1)]: Using backend SequentialBackend with 1 concurrent workers.\n",
      "[Parallel(n_jobs=1)]: Done   1 out of   1 | elapsed:    1.2s remaining:    0.0s\n",
      "[Parallel(n_jobs=1)]: Done  27 out of  27 | elapsed:   33.1s finished\n",
      "\n",
      "[2021-11-08 14:31:52] Features: 26/10 -- score: 0.8588090208761344[Parallel(n_jobs=1)]: Using backend SequentialBackend with 1 concurrent workers.\n",
      "[Parallel(n_jobs=1)]: Done   1 out of   1 | elapsed:    1.2s remaining:    0.0s\n",
      "[Parallel(n_jobs=1)]: Done  26 out of  26 | elapsed:   31.0s finished\n",
      "\n",
      "[2021-11-08 14:32:23] Features: 25/10 -- score: 0.858472293780085[Parallel(n_jobs=1)]: Using backend SequentialBackend with 1 concurrent workers.\n",
      "[Parallel(n_jobs=1)]: Done   1 out of   1 | elapsed:    1.1s remaining:    0.0s\n",
      "[Parallel(n_jobs=1)]: Done  25 out of  25 | elapsed:   28.5s finished\n",
      "\n",
      "[2021-11-08 14:32:51] Features: 24/10 -- score: 0.8625221892459436[Parallel(n_jobs=1)]: Using backend SequentialBackend with 1 concurrent workers.\n",
      "[Parallel(n_jobs=1)]: Done   1 out of   1 | elapsed:    1.1s remaining:    0.0s\n",
      "[Parallel(n_jobs=1)]: Done  24 out of  24 | elapsed:   26.4s finished\n",
      "\n",
      "[2021-11-08 14:33:17] Features: 23/10 -- score: 0.8614670415356015[Parallel(n_jobs=1)]: Using backend SequentialBackend with 1 concurrent workers.\n",
      "[Parallel(n_jobs=1)]: Done   1 out of   1 | elapsed:    1.1s remaining:    0.0s\n",
      "[Parallel(n_jobs=1)]: Done  23 out of  23 | elapsed:   24.8s finished\n",
      "\n",
      "[2021-11-08 14:33:42] Features: 22/10 -- score: 0.8599585957550794[Parallel(n_jobs=1)]: Using backend SequentialBackend with 1 concurrent workers.\n",
      "[Parallel(n_jobs=1)]: Done   1 out of   1 | elapsed:    1.0s remaining:    0.0s\n",
      "[Parallel(n_jobs=1)]: Done  22 out of  22 | elapsed:   22.9s finished\n",
      "\n",
      "[2021-11-08 14:34:05] Features: 21/10 -- score: 0.8631272027058877[Parallel(n_jobs=1)]: Using backend SequentialBackend with 1 concurrent workers.\n",
      "[Parallel(n_jobs=1)]: Done   1 out of   1 | elapsed:    1.0s remaining:    0.0s\n",
      "[Parallel(n_jobs=1)]: Done  21 out of  21 | elapsed:   21.2s finished\n",
      "\n",
      "[2021-11-08 14:34:26] Features: 20/10 -- score: 0.8615350171306261[Parallel(n_jobs=1)]: Using backend SequentialBackend with 1 concurrent workers.\n",
      "[Parallel(n_jobs=1)]: Done   1 out of   1 | elapsed:    1.0s remaining:    0.0s\n",
      "[Parallel(n_jobs=1)]: Done  20 out of  20 | elapsed:   19.9s finished\n",
      "\n",
      "[2021-11-08 14:34:46] Features: 19/10 -- score: 0.8603791073074257[Parallel(n_jobs=1)]: Using backend SequentialBackend with 1 concurrent workers.\n",
      "[Parallel(n_jobs=1)]: Done   1 out of   1 | elapsed:    0.9s remaining:    0.0s\n",
      "[Parallel(n_jobs=1)]: Done  19 out of  19 | elapsed:   18.4s finished\n",
      "\n",
      "[2021-11-08 14:35:05] Features: 18/10 -- score: 0.8614362937887449[Parallel(n_jobs=1)]: Using backend SequentialBackend with 1 concurrent workers.\n",
      "[Parallel(n_jobs=1)]: Done   1 out of   1 | elapsed:    1.0s remaining:    0.0s\n",
      "[Parallel(n_jobs=1)]: Done  18 out of  18 | elapsed:   16.4s finished\n",
      "\n",
      "[2021-11-08 14:35:21] Features: 17/10 -- score: 0.8603559195934086[Parallel(n_jobs=1)]: Using backend SequentialBackend with 1 concurrent workers.\n",
      "[Parallel(n_jobs=1)]: Done   1 out of   1 | elapsed:    0.9s remaining:    0.0s\n",
      "[Parallel(n_jobs=1)]: Done  17 out of  17 | elapsed:   15.0s finished\n",
      "\n",
      "[2021-11-08 14:35:36] Features: 16/10 -- score: 0.8600165438137992[Parallel(n_jobs=1)]: Using backend SequentialBackend with 1 concurrent workers.\n",
      "[Parallel(n_jobs=1)]: Done   1 out of   1 | elapsed:    0.9s remaining:    0.0s\n",
      "[Parallel(n_jobs=1)]: Done  16 out of  16 | elapsed:   14.3s finished\n",
      "\n",
      "[2021-11-08 14:35:50] Features: 15/10 -- score: 0.8583079616707766[Parallel(n_jobs=1)]: Using backend SequentialBackend with 1 concurrent workers.\n",
      "[Parallel(n_jobs=1)]: Done   1 out of   1 | elapsed:    0.9s remaining:    0.0s\n",
      "[Parallel(n_jobs=1)]: Done  15 out of  15 | elapsed:   13.0s finished\n",
      "\n",
      "[2021-11-08 14:36:03] Features: 14/10 -- score: 0.8612289204009241[Parallel(n_jobs=1)]: Using backend SequentialBackend with 1 concurrent workers.\n",
      "[Parallel(n_jobs=1)]: Done   1 out of   1 | elapsed:    0.8s remaining:    0.0s\n",
      "[Parallel(n_jobs=1)]: Done  14 out of  14 | elapsed:   11.6s finished\n",
      "\n",
      "[2021-11-08 14:36:15] Features: 13/10 -- score: 0.8622183473935227[Parallel(n_jobs=1)]: Using backend SequentialBackend with 1 concurrent workers.\n",
      "[Parallel(n_jobs=1)]: Done   1 out of   1 | elapsed:    0.8s remaining:    0.0s\n",
      "[Parallel(n_jobs=1)]: Done  13 out of  13 | elapsed:   10.7s finished\n",
      "\n",
      "[2021-11-08 14:36:25] Features: 12/10 -- score: 0.856171396265303[Parallel(n_jobs=1)]: Using backend SequentialBackend with 1 concurrent workers.\n",
      "[Parallel(n_jobs=1)]: Done   1 out of   1 | elapsed:    0.8s remaining:    0.0s\n",
      "[Parallel(n_jobs=1)]: Done  12 out of  12 | elapsed:    9.5s finished\n",
      "\n",
      "[2021-11-08 14:36:35] Features: 11/10 -- score: 0.858684750858495[Parallel(n_jobs=1)]: Using backend SequentialBackend with 1 concurrent workers.\n",
      "[Parallel(n_jobs=1)]: Done   1 out of   1 | elapsed:    0.8s remaining:    0.0s\n",
      "[Parallel(n_jobs=1)]: Done  11 out of  11 | elapsed:    8.4s finished\n",
      "\n",
      "[2021-11-08 14:36:43] Features: 10/10 -- score: 0.8553976009665165"
     ]
    }
   ],
   "source": [
    "sfs1 = SFS(RandomForestRegressor(),\n",
    "           k_features=10,\n",
    "           forward=False,\n",
    "           floating=False,\n",
    "           verbose=2,\n",
    "           scoring='r2',\n",
    "           cv=3\n",
    "          )\n",
    "\n",
    "sfs1 = sfs1.fit(np.array(X_train), y_train)"
   ]
  },
  {
   "cell_type": "code",
   "execution_count": 17,
   "id": "c31c33ca",
   "metadata": {},
   "outputs": [
    {
     "data": {
      "text/plain": [
       "(3, 4, 5, 7, 9, 14, 16, 22, 24, 32)"
      ]
     },
     "execution_count": 17,
     "metadata": {},
     "output_type": "execute_result"
    }
   ],
   "source": [
    "sfs1.k_feature_idx_"
   ]
  },
  {
   "cell_type": "code",
   "execution_count": 22,
   "id": "3f3a0b20",
   "metadata": {},
   "outputs": [
    {
     "data": {
      "text/plain": [
       "Index(['LotArea', 'OverallQual', 'OverallCond', 'YearRemodAdd', 'BsmtFinSF1',\n",
       "       '2ndFlrSF', 'GrLivArea', 'KitchenAbvGr', 'GarageCars', 'MoSold'],\n",
       "      dtype='object')"
      ]
     },
     "execution_count": 22,
     "metadata": {},
     "output_type": "execute_result"
    }
   ],
   "source": [
    "X_train.columns[list(sfs1.k_feature_idx_)]"
   ]
  },
  {
   "cell_type": "markdown",
   "id": "97618814",
   "metadata": {},
   "source": [
    "## 3.3 Exhaustive Feature Selection\n",
    "- Exhaustive Feature Selectiond은 최고의 특징 조합을 찾는데 모든 가능성 있는 특징 세트 중에서 특정 머신러닝 알고리즘에서 특이한 성능 메트릭에 최적화하며 찾는다. 예를 들어, 분류작업이 로지스틱 회기이고 4개의 특징으로 이루어져 있는 데이터셋이면 알고리즘은 총 15개의 특징 조합을 살펴본다. 그리고 최고의 성능을 내는 조합을 선택한다.\n",
    "- 이 방법은 또다른 탐욕법으로 모든 가능성 있는 특징 조합을 평가한다. 따라서, 이것도 계산 비용이 많이들고 특징 추출과정이 무겁다.\n",
    "- 나머지 특징은 Backward Selection과 유사하다."
   ]
  },
  {
   "cell_type": "markdown",
   "id": "f8f59eed",
   "metadata": {},
   "source": [
    "## 3.4 Recursive Feature Elimination\n",
    "- Recursive Feature Elimination은 최고의 성능을 내는 특징 조합을 찾는 것을 목표로 하는 탐욕 최적 알고리즘이다. 반복적으로 최고 또는 최악의 특징을 찾공 모델을 창조해낸다. 이것은 모든 특징들이 소진될 때까지 모델을 만들어나가고 제거된 특징 순서를 기반으로 랭킹이 매겨진다.\n",
    "- 최악의 경우에는 데이터셋이 N개의 특징을 포함하고 RPE 가 2N의 특징 조합을 탐색할 것이다.\n",
    "- 출처 : https://scikit-learn.org/stable/auto_examples/feature_selection/plot_rfe_digits.html#sphx-glr-auto-examples-feature-selection-plot-rfe-digits-py"
   ]
  },
  {
   "cell_type": "markdown",
   "id": "6aa2084a",
   "metadata": {},
   "source": [
    "## 3.5 Recursive Feature Elimination with Cross-Validation\n",
    "- 줄여말하면 RFECV는 재귀 특징 제거를 사용해 반복적으로 0에서 N까지의 특징을 제거하면서 최고의 특징 조합을 찾는 과정이다. \n",
    "- 따라서, 이것은 정확성 및 교차 검증 점수 혹은 roc-auc을 기반으로 최고의 하위 세트를 만들어낸다. RFECV는 또한, 가장 약한 특징들을 각 단계에서 제거하면서 여러번 모델을 최적화 한다.\n",
    "- 출처 : https://scikit-learn.org/stable/auto_examples/feature_selection/plot_rfe_with_cross_validation.html#sphx-glr-auto-examples-feature-selection-plot-rfe-with-cross-validation-py"
   ]
  },
  {
   "cell_type": "markdown",
   "id": "33954ecc",
   "metadata": {},
   "source": [
    "# 4. Embedded Methods\n",
    "- Embedded Methods는 모델 훈련과정의 각 반복에서 조심스럽게 특정 반복시점의 최고 훈련 과정에서 특징을 추출하는 것이다. 정규화 작업은 변수의 계수 기준을 더 정교화하기 위해 Embedded Methods를 사용한다. \n",
    "- 이러한 정규화 작업은 예측 알고리즘에서의 최적화 과정에서 추가적인 제약을 가하는 방법으로 실행하고 복잡성을 낮추는 방향으로 모델을 만들어간다.\n",
    "- 몇몇 유명한 예는 LASSO, RIDGE 회기로 오버피팅을 줄이기 위해 내장 함수를 지니고 있다. "
   ]
  },
  {
   "cell_type": "code",
   "execution_count": 21,
   "id": "4e3742a8",
   "metadata": {},
   "outputs": [
    {
     "data": {
      "image/png": "[encoded data removed]",
      "text/plain": [
       "<IPython.core.display.Image object>"
      ]
     },
     "metadata": {},
     "output_type": "display_data"
    }
   ],
   "source": [
    "display(Image(filename=\"Embedded-Methods.png\"))"
   ]
  },
  {
   "cell_type": "markdown",
   "id": "3e20dd8c",
   "metadata": {},
   "source": [
    "## 4.1 LASSO Regression\n",
    "- LASSO 회기는 계수의 절대 값과 동일한 페널티를 더하면 L1 정규화 작업을 수행한다.\n",
    "- 정규화는 머신러닝 모델의 다른 매개변수에 페널티를 더하는 것으로 구성되어 있으며 이는 모델의 자유도를 줄이고 다르게 말하면 오버피팅을 줄일 수 있게 된다. 이러한 선형 모델 정규화 작업에서 페널티는 각 예측을 반복하는 과정에서 계수에 적용되게 된다. 다른 타입의 정규화, LASSO나 L1은 몇몇 계수를 0으로 축소하게 된다. 그 특징은 모델에서 제거될 수 있다."
   ]
  },
  {
   "cell_type": "code",
   "execution_count": 23,
   "id": "efb0d08b",
   "metadata": {},
   "outputs": [],
   "source": [
    "from sklearn.model_selection import train_test_split\n",
    "from sklearn.linear_model import Lasso\n",
    "from sklearn.feature_selection import SelectFromModel\n",
    "from sklearn.preprocessing import StandardScaler"
   ]
  },
  {
   "cell_type": "code",
   "execution_count": 25,
   "id": "22e68642",
   "metadata": {},
   "outputs": [
    {
     "data": {
      "text/plain": [
       "(1460, 81)"
      ]
     },
     "execution_count": 25,
     "metadata": {},
     "output_type": "execute_result"
    }
   ],
   "source": [
    "data = pd.read_csv('./House-Price/train.csv')\n",
    "data.shape"
   ]
  },
  {
   "cell_type": "code",
   "execution_count": 26,
   "id": "f4f08fa1",
   "metadata": {},
   "outputs": [
    {
     "data": {
      "text/plain": [
       "(1460, 38)"
      ]
     },
     "execution_count": 26,
     "metadata": {},
     "output_type": "execute_result"
    }
   ],
   "source": [
    "numerics = ['int16', 'int32', 'int64', 'float16', 'float32', 'float64']\n",
    "numerical_vars = list(data.select_dtypes(include=numerics).columns)\n",
    "data = data[numerical_vars]\n",
    "data.shape"
   ]
  },
  {
   "cell_type": "code",
   "execution_count": 27,
   "id": "58d07228",
   "metadata": {},
   "outputs": [
    {
     "data": {
      "text/plain": [
       "((1022, 37), (438, 37))"
      ]
     },
     "execution_count": 27,
     "metadata": {},
     "output_type": "execute_result"
    }
   ],
   "source": [
    "X_train, X_test, y_train, y_test = train_test_split(\n",
    "    data.drop(labels=['SalePrice'], axis=1),\n",
    "    data['SalePrice'],\n",
    "    test_size=0.3,\n",
    "    random_state=0\n",
    ")\n",
    "\n",
    "X_train.shape, X_test.shape"
   ]
  },
  {
   "cell_type": "code",
   "execution_count": 30,
   "id": "2120aaf8",
   "metadata": {},
   "outputs": [
    {
     "data": {
      "text/plain": [
       "StandardScaler()"
      ]
     },
     "execution_count": 30,
     "metadata": {},
     "output_type": "execute_result"
    }
   ],
   "source": [
    "scaler = StandardScaler()\n",
    "scaler.fit(X_train.fillna(0))"
   ]
  },
  {
   "cell_type": "code",
   "execution_count": 31,
   "id": "fd810a91",
   "metadata": {},
   "outputs": [
    {
     "data": {
      "text/plain": [
       "SelectFromModel(estimator=Lasso(alpha=100))"
      ]
     },
     "execution_count": 31,
     "metadata": {},
     "output_type": "execute_result"
    }
   ],
   "source": [
    "sel_ = SelectFromModel(Lasso(alpha=100))\n",
    "sel_.fit(scaler.transform(X_train.fillna(0)), y_train)"
   ]
  },
  {
   "cell_type": "code",
   "execution_count": 32,
   "id": "b5b9e507",
   "metadata": {},
   "outputs": [
    {
     "data": {
      "text/plain": [
       "array([False,  True,  True,  True,  True,  True,  True,  True,  True,\n",
       "        True,  True, False,  True, False,  True,  True,  True,  True,\n",
       "        True,  True,  True,  True,  True,  True,  True,  True,  True,\n",
       "        True,  True,  True,  True,  True,  True,  True, False,  True,\n",
       "        True])"
      ]
     },
     "execution_count": 32,
     "metadata": {},
     "output_type": "execute_result"
    }
   ],
   "source": [
    "sel_.get_support()"
   ]
  },
  {
   "cell_type": "code",
   "execution_count": 33,
   "id": "3afa8e9e",
   "metadata": {},
   "outputs": [
    {
     "name": "stdout",
     "output_type": "stream",
     "text": [
      "total features: 37\n",
      "selected features: 33\n",
      "features with coefficients shrank to zero: 4\n"
     ]
    }
   ],
   "source": [
    "selected_feat = X_train.columns[(sel_.get_support())]\n",
    "\n",
    "print('total features: {}'.format((X_train.shape[1])))\n",
    "print('selected features: {}'.format(len(selected_feat)))\n",
    "print('features with coefficients shrank to zero: {}'.format(\n",
    "    np.sum(sel_.estimator_.coef_ == 0)))"
   ]
  },
  {
   "cell_type": "markdown",
   "id": "069e6c03",
   "metadata": {},
   "source": [
    "- 여기서 볼 수 있듯이 LASSO는 데이터셋에서 중요하지 않은 특징들을 제거하는데 도움을 준다. 그래서 증가하는 페널티는 제거된 특징들의 개수가 증가하는 결과를 낳았다. 따라서, 우리는 중요한 특징들이 제거되지 않도록 페널티를 너무 높은 수준으로 설정해서는 안되고, 중요하지 않은 특징들이 남아있지 않게 너무 낮게 설정해서도 안된다."
   ]
  },
  {
   "cell_type": "markdown",
   "id": "7e35ae8a",
   "metadata": {},
   "source": [
    "## 4.2 Random Forest Importance\n",
    "- 랜덤 포레스트는 머신러닝 알고리즘에 가장 많이 사용되는 유명한 알고리즘이다. 낮은 오버피팅, 쉬운 해석, 좋은 예측 성능을 제공해주고 트리 결정에서의 각 변수의 중요성을 이끌어내는데 직관적이다. 다른 말로 하면, 각 변수가 결정과정에서 어느정도 기여를 하는지 계산하기가 쉽다는 말이다. \n",
    "- 랜덤 포레스트는 4-12 백단위의 결정 나무로 이루어져 있고 각각은 데이테 셋에서 탐색 과정에서의 추출 및 랜덤 추출로 만들어진다. 모든 트리가 모든 특징이나 모든 탐색을 하지 않고 이는 오버피팅을 줄이고 덜 상관관계를 나타내게 하는 경향이 있다. 각 트리는 yes or no로 구성되어 하나 혹은 여러 조합의 연속성으로 이루어져 있고 각 노드에서 the three는 2개의 버킷으로 들어가게 되고 각각은 다른 버킷에 들어있는 것과 자신 사이에서 더 유사한 것을 알 수 있다. 그래서 각 특징은 얼마나 버킷이 순수하고 깨끗한지로부터 이끌어져 나온다.\n",
    "- 분류과정에서 불순물 측정은 Gini 계수나 다른 information gain/entropy로 이루어진다. 회귀과정에서 불순물 측정은 편차가 된다. 그래서 트리를 훈련할 때, 얼마낙 각 특징들이 불순물을 줄이는지 계산하게 된다. 특징들이 불순물을 줄일 수록 더 중요한 특징이다. 랜덤 포레스트는 각 특징에서 불순물을 줄이고 이는 변수의 최종 중요성을 결정하기 위해 트리 전체는 평균화 될 수 있다.\n",
    "- 더 나은 직관을 주기 위해서 트리의 높은 붑ㄴ에서 선택된 특징들은 보편적으로 아래에 있는 노드보다 더 중요하다. "
   ]
  },
  {
   "cell_type": "code",
   "execution_count": 34,
   "id": "ac1c7d4a",
   "metadata": {},
   "outputs": [],
   "source": [
    "from sklearn import preprocessing\n",
    "from sklearn.preprocessing import LabelEncoder, StandardScaler\n",
    "from sklearn.model_selection import train_test_split\n",
    "from sklearn import tree\n",
    "from sklearn.ensemble import RandomForestClassifier"
   ]
  },
  {
   "cell_type": "code",
   "execution_count": 35,
   "id": "a5215616",
   "metadata": {},
   "outputs": [],
   "source": [
    "df = pd.read_csv('./Mushrooms/mushrooms.csv')"
   ]
  },
  {
   "cell_type": "code",
   "execution_count": 36,
   "id": "cd4a6c42",
   "metadata": {},
   "outputs": [],
   "source": [
    "X = df.drop(['class'], axis=1)\n",
    "y = df['class']"
   ]
  },
  {
   "cell_type": "code",
   "execution_count": 37,
   "id": "20ab1baa",
   "metadata": {},
   "outputs": [],
   "source": [
    "X = pd.get_dummies(X, prefix_sep='_')\n",
    "y = LabelEncoder().fit_transform(y)"
   ]
  },
  {
   "cell_type": "code",
   "execution_count": 38,
   "id": "96c3dbc4",
   "metadata": {},
   "outputs": [],
   "source": [
    "X2 = StandardScaler().fit_transform(X)"
   ]
  },
  {
   "cell_type": "code",
   "execution_count": 39,
   "id": "e71b68f3",
   "metadata": {},
   "outputs": [],
   "source": [
    "X_train, X_test, y_train, y_test = train_test_split(X2, y, test_size = 0.30, random_state = 0)"
   ]
  },
  {
   "cell_type": "code",
   "execution_count": 40,
   "id": "3b8a8056",
   "metadata": {},
   "outputs": [],
   "source": [
    "clf = RandomForestClassifier(n_estimators=100, random_state=0)"
   ]
  },
  {
   "cell_type": "code",
   "execution_count": 41,
   "id": "75178ba1",
   "metadata": {},
   "outputs": [
    {
     "data": {
      "text/plain": [
       "RandomForestClassifier(random_state=0)"
      ]
     },
     "execution_count": 41,
     "metadata": {},
     "output_type": "execute_result"
    }
   ],
   "source": [
    "clf.fit(X_train, y_train)"
   ]
  },
  {
   "cell_type": "code",
   "execution_count": 42,
   "id": "1612513e",
   "metadata": {},
   "outputs": [],
   "source": [
    "y_pred = clf.predict(X_test)"
   ]
  },
  {
   "cell_type": "markdown",
   "id": "35d026c0",
   "metadata": {},
   "source": [
    "### Feature Importance\n",
    "- 결정 나무 모델은 앙상블에 기반을 두고 있고 다른 특징들의 중요성으로 순위를 매기는데 사용될 수 있다. 어떤 특징이 우리 모델에 중요한지 아는 것은 예측을 만드는데 우리의 모델을 이해하는데 필수적으로 중요하다. 동시에, 우리는 모델에 중요하지 않은 특징들을 제거할 수 있다."
   ]
  },
  {
   "cell_type": "code",
   "execution_count": 43,
   "id": "8edd111f",
   "metadata": {},
   "outputs": [
    {
     "data": {
      "text/plain": [
       "<AxesSubplot:>"
      ]
     },
     "execution_count": 43,
     "metadata": {},
     "output_type": "execute_result"
    },
    {
     "data": {
      "image/png": "[encoded data removed]",
      "text/plain": [
       "<Figure size 800x640 with 1 Axes>"
      ]
     },
     "metadata": {},
     "output_type": "display_data"
    }
   ],
   "source": [
    "plt.figure(num=None, figsize=(10, 8), dpi=80, facecolor='w', edgecolor='k')\n",
    "feat_importances = pd.Series(clf.feature_importances_, index=X.columns)\n",
    "feat_importances.nlargest(7).plot(kind='barh')"
   ]
  },
  {
   "cell_type": "markdown",
   "id": "c0e8cae0",
   "metadata": {},
   "source": [
    "## 5. 특징 추출 방법을 선택하는 좋은 방법"
   ]
  },
  {
   "cell_type": "code",
   "execution_count": 44,
   "id": "918f4e69",
   "metadata": {},
   "outputs": [
    {
     "data": {
      "image/png": "[encoded data removed]",
      "text/plain": [
       "<IPython.core.display.Image object>"
      ]
     },
     "metadata": {},
     "output_type": "display_data"
    }
   ],
   "source": [
    "display(Image(filename=\"choose-feature-selection.png\"))"
   ]
  },
  {
   "cell_type": "markdown",
   "id": "a4fc8ae6",
   "metadata": {},
   "source": [
    "### Numeriacl Input, Numerical Output\n",
    "- 이 경우 회기 예측 모델을 적용하는 것이 좋다.\n",
    "- 가장 흔하게 사용하는 기술은 Pearson의 선형 계수 또는, 비선형 계수인 순위 기반 방법을 사용하는 것이 좋다. \n",
    "- Pearson(linear)/Spearman(nonlinear)"
   ]
  },
  {
   "cell_type": "markdown",
   "id": "9cfaf22e",
   "metadata": {},
   "source": [
    "### Numerical Input, Categorical Output\n",
    "- 이 경우 분류 예측 모델로 가장 흔하게 발생하는 문제이다. \n",
    "- 가장 흔하게 사용하는 기술은 범주형 목표를 가지고 있지만 상관관계 기반을 두고 있다.\n",
    "- ANOVA(linear)/Kendall's rank coefficient(nonlinear)"
   ]
  },
  {
   "cell_type": "markdown",
   "id": "9dcbf143",
   "metadata": {},
   "source": [
    "### Categorical Input, Numerical Output\n",
    "- 이 경우 범주형 인풋에 예측 모델 문제이다. \n",
    "- 회기 문제에서 마주하기 힘든 이상한 예이다. \n",
    "- 우리는 'Numerical Input, Categorical Output' 방법을 사용하면 된다."
   ]
  },
  {
   "cell_type": "markdown",
   "id": "a34a1873",
   "metadata": {},
   "source": [
    "### Categorical Input, Categorical Output\n",
    "- 이 경우 범주형 인풋에 범주형 출력을 가지는 분류 예측 문제이다.\n",
    "- 범주형 데이터에서 가장 많이 사용되는 상관계수 측정 기준은 Chi-Square test이다. 또한, mutual information을 적용할 수 있다. "
   ]
  },
  {
   "cell_type": "markdown",
   "id": "26a8b35c",
   "metadata": {},
   "source": [
    "# 6. Decision Tree(의사 결정 나무)\n",
    "- DT란 non-parametric 지도 핛븡 방법으로 데이터 특징을 유추해 학습된 결정 규칙을 목표 변수에 적용해 예측값을 찾아내는 모델을 말한다. \n",
    "- 예를 들어, 아래의 예처럼 의사결정 나무는 데이터로 부터 대략적인 수치를 학습하고 트리가 깊으면 깊을 수록 의사 결정 규칙도 더 복잡해진다."
   ]
  },
  {
   "cell_type": "markdown",
   "id": "05834d59",
   "metadata": {},
   "source": [
    "## 의사 결정 나무 장점\n",
    "1. 나무가 시각화되어 이해하기 쉽고 해석하기 좋다.\n",
    "2. 데이터 사전 준비를 요구한다. 다른 기술들은 보통 데이터 정규화를 요구하고 더비 변수가 창조되고 빈 값은 제거되어야 한다. 하지만 의사결정 나무는 누락 데이터를 요구하지 않는다.\n",
    "3. 트리를 사용하는 비용은 트리를 훈련하는데 사용되는 데이터 포인트 수의 대수이다.\n",
    "4. 숫자 및 범주 데이터를 모두 처리할 수 있다. 그러나 Scikit-learn은 현재 범주형 변수를 지원하지 않는다.\n",
    "5. 다중 출력 문제를 처리할 수 있다.\n",
    "6. 흰색 상자 모델을 사용한다. 주어진 상황을 모델에서 관찰할 수 있는 경우 조건에 대한 설명은 부울 논리로 쉽게 설명된다. \n",
    "7. 통계 테스트를 사용하여 모델을 검증할 수 있다.\n",
    "8. 데이터가 생성된 실제 모델이 가정을 어느 정도 위반하더라도 잘 수행된다. "
   ]
  },
  {
   "cell_type": "markdown",
   "id": "f1545d44",
   "metadata": {},
   "source": [
    "## 의사 결정 나무 단점\n",
    "1. 의사 결정 나무 학습자는 데이터를 잘 일반화하지 않도록 지나치게 복잡한 트리를 생성할 수 있다. 즉, 과적합이 발생하기에 가지치기 리프 노드에 필요한 최소 샘플 숭 설정 또는 트리의 최대 깊이 설정과 같은 메커니즘이 필요하다.\n",
    "2. 데이터의 작은 변동으로 인해 완전히 다른 트리가 생성될 수 있으므로 의사결정 트리가 불안정할 수 있다. 이 문제는 앙상블 내에서 결정 트리를 사용하면 완화된다.\n",
    "3. 결정 트리의 예측은 매끄럽지도 연속적이지도 않고 조각ㅂㄹ 상수의 근사값이다. 외삽법에 능숙하지 않다.\n",
    "4. 최적의 의사결정 트리를 학습하는 문제는 최적의 여러 측면에서 간단한 개념에 대해서도 NP-완전한 것으로 알려져 있다. 따라서 실용적인 의사결정 나무 알고리즘은 "
   ]
  },
  {
   "cell_type": "code",
   "execution_count": null,
   "id": "842d2b7b",
   "metadata": {},
   "outputs": [],
   "source": []
  }
 ],
 "metadata": {
  "kernelspec": {
   "display_name": "Python 3",
   "language": "python",
   "name": "python3"
  },
  "language_info": {
   "codemirror_mode": {
    "name": "ipython",
    "version": 3
   },
   "file_extension": ".py",
   "mimetype": "text/x-python",
   "name": "python",
   "nbconvert_exporter": "python",
   "pygments_lexer": "ipython3",
   "version": "3.7.7"
  }
 },
 "nbformat": 4,
 "nbformat_minor": 5
}
