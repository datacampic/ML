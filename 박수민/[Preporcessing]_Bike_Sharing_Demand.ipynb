{
  "nbformat": 4,
  "nbformat_minor": 0,
  "metadata": {
    "colab": {
      "name": "[Preporcessing] Bike_Sharing_Demand",
      "provenance": [],
      "collapsed_sections": []
    },
    "kernelspec": {
      "name": "python3",
      "display_name": "Python 3"
    },
    "language_info": {
      "name": "python"
    }
  },
  "cells": [
    {
      "cell_type": "markdown",
      "metadata": {
        "id": "LCcjOJV1NQF1"
      },
      "source": [
        "## **Project Description**\n",
        "You are provided hourly rental data spanning two years. For this competition, the training set is comprised of the first 19 days of each month, while the test set is the 20th to the end of the month. You must predict the total count of bikes rented during each hour covered by the test set, using only information available prior to the rental period."
      ]
    },
    {
      "cell_type": "markdown",
      "metadata": {
        "id": "GFhvLacBMuh6"
      },
      "source": [
        "## **Columns Description**\n",
        "**datetime** - hourly date + timestamp\n",
        "\n",
        "**season** -  1 = spring, 2 = summer, 3 = fall, 4 = winter \n",
        "\n",
        "**holiday** - whether the day is considered a holiday\n",
        "\n",
        "**workingday** - whether the day is neither a weekend nor holiday\n",
        "\n",
        "**weather** \n",
        "  - 1: Clear, Few clouds, Partly cloudy\n",
        "  - 2: Mist + Cloudy, Mist + Broken clouds, Mist + Few clouds, Mist\n",
        "  - 3: Light Snow, Light Rain + Thunderstorm + Scattered clouds, Light Rain + Scattered clouds\n",
        "  - 4: Heavy Rain + Ice Pallets + Thunderstorm + Mist, Snow + Fog \n",
        "\n",
        "**temp** - temperature in Celsius\n",
        "\n",
        "**atemp** - \"feels like\" temperature in Celsius\n",
        "\n",
        "**humidity** - relative humidity\n",
        "\n",
        "**windspeed** - wind speed\n",
        "\n",
        "**casual** - number of non-registered user rentals initiated\n",
        "\n",
        "**registered** - number of registered user rentals initiated\n",
        "\n",
        "**count** - number of total rentals"
      ]
    },
    {
      "cell_type": "markdown",
      "metadata": {
        "id": "ej89b3XHSHMz"
      },
      "source": [
        "# **EDA**\n"
      ]
    },
    {
      "cell_type": "code",
      "metadata": {
        "id": "-4laJ5RxGeO5"
      },
      "source": [
        "import numpy as np\n",
        "import pandas as pd\n",
        "import matplotlib.pyplot as plt\n",
        "import seaborn as sns"
      ],
      "execution_count": 260,
      "outputs": []
    },
    {
      "cell_type": "code",
      "metadata": {
        "id": "4b_lmlrRIVwO"
      },
      "source": [
        "test_df = pd.read_csv(\"/content/test.csv\")\n",
        "train_df = pd.read_csv(\"/content/train.csv\")"
      ],
      "execution_count": 263,
      "outputs": []
    },
    {
      "cell_type": "code",
      "metadata": {
        "colab": {
          "base_uri": "https://localhost:8080/",
          "height": 204
        },
        "id": "jjRbH1wBJJ1U",
        "outputId": "28a3922b-0b4f-4aa6-c6df-05a03db51197"
      },
      "source": [
        "train_df.head(5)"
      ],
      "execution_count": 264,
      "outputs": [
        {
          "output_type": "execute_result",
          "data": {
            "text/html": [
              "<div>\n",
              "<style scoped>\n",
              "    .dataframe tbody tr th:only-of-type {\n",
              "        vertical-align: middle;\n",
              "    }\n",
              "\n",
              "    .dataframe tbody tr th {\n",
              "        vertical-align: top;\n",
              "    }\n",
              "\n",
              "    .dataframe thead th {\n",
              "        text-align: right;\n",
              "    }\n",
              "</style>\n",
              "<table border=\"1\" class=\"dataframe\">\n",
              "  <thead>\n",
              "    <tr style=\"text-align: right;\">\n",
              "      <th></th>\n",
              "      <th>datetime</th>\n",
              "      <th>season</th>\n",
              "      <th>holiday</th>\n",
              "      <th>workingday</th>\n",
              "      <th>weather</th>\n",
              "      <th>temp</th>\n",
              "      <th>atemp</th>\n",
              "      <th>humidity</th>\n",
              "      <th>windspeed</th>\n",
              "      <th>casual</th>\n",
              "      <th>registered</th>\n",
              "      <th>count</th>\n",
              "    </tr>\n",
              "  </thead>\n",
              "  <tbody>\n",
              "    <tr>\n",
              "      <th>0</th>\n",
              "      <td>2011-01-01 00:00:00</td>\n",
              "      <td>1</td>\n",
              "      <td>0</td>\n",
              "      <td>0</td>\n",
              "      <td>1</td>\n",
              "      <td>9.84</td>\n",
              "      <td>14.395</td>\n",
              "      <td>81</td>\n",
              "      <td>0.0</td>\n",
              "      <td>3</td>\n",
              "      <td>13</td>\n",
              "      <td>16</td>\n",
              "    </tr>\n",
              "    <tr>\n",
              "      <th>1</th>\n",
              "      <td>2011-01-01 01:00:00</td>\n",
              "      <td>1</td>\n",
              "      <td>0</td>\n",
              "      <td>0</td>\n",
              "      <td>1</td>\n",
              "      <td>9.02</td>\n",
              "      <td>13.635</td>\n",
              "      <td>80</td>\n",
              "      <td>0.0</td>\n",
              "      <td>8</td>\n",
              "      <td>32</td>\n",
              "      <td>40</td>\n",
              "    </tr>\n",
              "    <tr>\n",
              "      <th>2</th>\n",
              "      <td>2011-01-01 02:00:00</td>\n",
              "      <td>1</td>\n",
              "      <td>0</td>\n",
              "      <td>0</td>\n",
              "      <td>1</td>\n",
              "      <td>9.02</td>\n",
              "      <td>13.635</td>\n",
              "      <td>80</td>\n",
              "      <td>0.0</td>\n",
              "      <td>5</td>\n",
              "      <td>27</td>\n",
              "      <td>32</td>\n",
              "    </tr>\n",
              "    <tr>\n",
              "      <th>3</th>\n",
              "      <td>2011-01-01 03:00:00</td>\n",
              "      <td>1</td>\n",
              "      <td>0</td>\n",
              "      <td>0</td>\n",
              "      <td>1</td>\n",
              "      <td>9.84</td>\n",
              "      <td>14.395</td>\n",
              "      <td>75</td>\n",
              "      <td>0.0</td>\n",
              "      <td>3</td>\n",
              "      <td>10</td>\n",
              "      <td>13</td>\n",
              "    </tr>\n",
              "    <tr>\n",
              "      <th>4</th>\n",
              "      <td>2011-01-01 04:00:00</td>\n",
              "      <td>1</td>\n",
              "      <td>0</td>\n",
              "      <td>0</td>\n",
              "      <td>1</td>\n",
              "      <td>9.84</td>\n",
              "      <td>14.395</td>\n",
              "      <td>75</td>\n",
              "      <td>0.0</td>\n",
              "      <td>0</td>\n",
              "      <td>1</td>\n",
              "      <td>1</td>\n",
              "    </tr>\n",
              "  </tbody>\n",
              "</table>\n",
              "</div>"
            ],
            "text/plain": [
              "              datetime  season  holiday  ...  casual  registered  count\n",
              "0  2011-01-01 00:00:00       1        0  ...       3          13     16\n",
              "1  2011-01-01 01:00:00       1        0  ...       8          32     40\n",
              "2  2011-01-01 02:00:00       1        0  ...       5          27     32\n",
              "3  2011-01-01 03:00:00       1        0  ...       3          10     13\n",
              "4  2011-01-01 04:00:00       1        0  ...       0           1      1\n",
              "\n",
              "[5 rows x 12 columns]"
            ]
          },
          "metadata": {},
          "execution_count": 264
        }
      ]
    },
    {
      "cell_type": "code",
      "metadata": {
        "colab": {
          "base_uri": "https://localhost:8080/",
          "height": 204
        },
        "id": "f3imrgk2QoJO",
        "outputId": "1faff908-f276-469d-be17-a24a461a66dc"
      },
      "source": [
        "test_df.head(5)"
      ],
      "execution_count": 265,
      "outputs": [
        {
          "output_type": "execute_result",
          "data": {
            "text/html": [
              "<div>\n",
              "<style scoped>\n",
              "    .dataframe tbody tr th:only-of-type {\n",
              "        vertical-align: middle;\n",
              "    }\n",
              "\n",
              "    .dataframe tbody tr th {\n",
              "        vertical-align: top;\n",
              "    }\n",
              "\n",
              "    .dataframe thead th {\n",
              "        text-align: right;\n",
              "    }\n",
              "</style>\n",
              "<table border=\"1\" class=\"dataframe\">\n",
              "  <thead>\n",
              "    <tr style=\"text-align: right;\">\n",
              "      <th></th>\n",
              "      <th>datetime</th>\n",
              "      <th>season</th>\n",
              "      <th>holiday</th>\n",
              "      <th>workingday</th>\n",
              "      <th>weather</th>\n",
              "      <th>temp</th>\n",
              "      <th>atemp</th>\n",
              "      <th>humidity</th>\n",
              "      <th>windspeed</th>\n",
              "    </tr>\n",
              "  </thead>\n",
              "  <tbody>\n",
              "    <tr>\n",
              "      <th>0</th>\n",
              "      <td>2011-01-20 00:00:00</td>\n",
              "      <td>1</td>\n",
              "      <td>0</td>\n",
              "      <td>1</td>\n",
              "      <td>1</td>\n",
              "      <td>10.66</td>\n",
              "      <td>11.365</td>\n",
              "      <td>56</td>\n",
              "      <td>26.0027</td>\n",
              "    </tr>\n",
              "    <tr>\n",
              "      <th>1</th>\n",
              "      <td>2011-01-20 01:00:00</td>\n",
              "      <td>1</td>\n",
              "      <td>0</td>\n",
              "      <td>1</td>\n",
              "      <td>1</td>\n",
              "      <td>10.66</td>\n",
              "      <td>13.635</td>\n",
              "      <td>56</td>\n",
              "      <td>0.0000</td>\n",
              "    </tr>\n",
              "    <tr>\n",
              "      <th>2</th>\n",
              "      <td>2011-01-20 02:00:00</td>\n",
              "      <td>1</td>\n",
              "      <td>0</td>\n",
              "      <td>1</td>\n",
              "      <td>1</td>\n",
              "      <td>10.66</td>\n",
              "      <td>13.635</td>\n",
              "      <td>56</td>\n",
              "      <td>0.0000</td>\n",
              "    </tr>\n",
              "    <tr>\n",
              "      <th>3</th>\n",
              "      <td>2011-01-20 03:00:00</td>\n",
              "      <td>1</td>\n",
              "      <td>0</td>\n",
              "      <td>1</td>\n",
              "      <td>1</td>\n",
              "      <td>10.66</td>\n",
              "      <td>12.880</td>\n",
              "      <td>56</td>\n",
              "      <td>11.0014</td>\n",
              "    </tr>\n",
              "    <tr>\n",
              "      <th>4</th>\n",
              "      <td>2011-01-20 04:00:00</td>\n",
              "      <td>1</td>\n",
              "      <td>0</td>\n",
              "      <td>1</td>\n",
              "      <td>1</td>\n",
              "      <td>10.66</td>\n",
              "      <td>12.880</td>\n",
              "      <td>56</td>\n",
              "      <td>11.0014</td>\n",
              "    </tr>\n",
              "  </tbody>\n",
              "</table>\n",
              "</div>"
            ],
            "text/plain": [
              "              datetime  season  holiday  ...   atemp  humidity  windspeed\n",
              "0  2011-01-20 00:00:00       1        0  ...  11.365        56    26.0027\n",
              "1  2011-01-20 01:00:00       1        0  ...  13.635        56     0.0000\n",
              "2  2011-01-20 02:00:00       1        0  ...  13.635        56     0.0000\n",
              "3  2011-01-20 03:00:00       1        0  ...  12.880        56    11.0014\n",
              "4  2011-01-20 04:00:00       1        0  ...  12.880        56    11.0014\n",
              "\n",
              "[5 rows x 9 columns]"
            ]
          },
          "metadata": {},
          "execution_count": 265
        }
      ]
    },
    {
      "cell_type": "code",
      "metadata": {
        "colab": {
          "base_uri": "https://localhost:8080/"
        },
        "id": "7zosoI6TRvT0",
        "outputId": "0f11fa8d-2247-4344-8a49-ce46a5c3aeca"
      },
      "source": [
        "train_df.info()"
      ],
      "execution_count": 39,
      "outputs": [
        {
          "output_type": "stream",
          "name": "stdout",
          "text": [
            "<class 'pandas.core.frame.DataFrame'>\n",
            "RangeIndex: 10886 entries, 0 to 10885\n",
            "Data columns (total 12 columns):\n",
            " #   Column      Non-Null Count  Dtype  \n",
            "---  ------      --------------  -----  \n",
            " 0   datetime    10886 non-null  object \n",
            " 1   season      10886 non-null  int64  \n",
            " 2   holiday     10886 non-null  int64  \n",
            " 3   workingday  10886 non-null  int64  \n",
            " 4   weather     10886 non-null  int64  \n",
            " 5   temp        10886 non-null  float64\n",
            " 6   atemp       10886 non-null  float64\n",
            " 7   humidity    10886 non-null  int64  \n",
            " 8   windspeed   10886 non-null  float64\n",
            " 9   casual      10886 non-null  int64  \n",
            " 10  registered  10886 non-null  int64  \n",
            " 11  count       10886 non-null  int64  \n",
            "dtypes: float64(3), int64(8), object(1)\n",
            "memory usage: 1020.7+ KB\n"
          ]
        }
      ]
    },
    {
      "cell_type": "code",
      "metadata": {
        "colab": {
          "base_uri": "https://localhost:8080/",
          "height": 296
        },
        "id": "vCH9iwDYSJ2g",
        "outputId": "18fc031e-8dc2-4d77-bb20-7bca869b15e1"
      },
      "source": [
        "train_df.describe()"
      ],
      "execution_count": 11,
      "outputs": [
        {
          "output_type": "execute_result",
          "data": {
            "text/html": [
              "<div>\n",
              "<style scoped>\n",
              "    .dataframe tbody tr th:only-of-type {\n",
              "        vertical-align: middle;\n",
              "    }\n",
              "\n",
              "    .dataframe tbody tr th {\n",
              "        vertical-align: top;\n",
              "    }\n",
              "\n",
              "    .dataframe thead th {\n",
              "        text-align: right;\n",
              "    }\n",
              "</style>\n",
              "<table border=\"1\" class=\"dataframe\">\n",
              "  <thead>\n",
              "    <tr style=\"text-align: right;\">\n",
              "      <th></th>\n",
              "      <th>season</th>\n",
              "      <th>holiday</th>\n",
              "      <th>workingday</th>\n",
              "      <th>weather</th>\n",
              "      <th>temp</th>\n",
              "      <th>atemp</th>\n",
              "      <th>humidity</th>\n",
              "      <th>windspeed</th>\n",
              "      <th>casual</th>\n",
              "      <th>registered</th>\n",
              "      <th>count</th>\n",
              "    </tr>\n",
              "  </thead>\n",
              "  <tbody>\n",
              "    <tr>\n",
              "      <th>count</th>\n",
              "      <td>10886.000000</td>\n",
              "      <td>10886.000000</td>\n",
              "      <td>10886.000000</td>\n",
              "      <td>10886.000000</td>\n",
              "      <td>10886.00000</td>\n",
              "      <td>10886.000000</td>\n",
              "      <td>10886.000000</td>\n",
              "      <td>10886.000000</td>\n",
              "      <td>10886.000000</td>\n",
              "      <td>10886.000000</td>\n",
              "      <td>10886.000000</td>\n",
              "    </tr>\n",
              "    <tr>\n",
              "      <th>mean</th>\n",
              "      <td>2.506614</td>\n",
              "      <td>0.028569</td>\n",
              "      <td>0.680875</td>\n",
              "      <td>1.418427</td>\n",
              "      <td>20.23086</td>\n",
              "      <td>23.655084</td>\n",
              "      <td>61.886460</td>\n",
              "      <td>12.799395</td>\n",
              "      <td>36.021955</td>\n",
              "      <td>155.552177</td>\n",
              "      <td>191.574132</td>\n",
              "    </tr>\n",
              "    <tr>\n",
              "      <th>std</th>\n",
              "      <td>1.116174</td>\n",
              "      <td>0.166599</td>\n",
              "      <td>0.466159</td>\n",
              "      <td>0.633839</td>\n",
              "      <td>7.79159</td>\n",
              "      <td>8.474601</td>\n",
              "      <td>19.245033</td>\n",
              "      <td>8.164537</td>\n",
              "      <td>49.960477</td>\n",
              "      <td>151.039033</td>\n",
              "      <td>181.144454</td>\n",
              "    </tr>\n",
              "    <tr>\n",
              "      <th>min</th>\n",
              "      <td>1.000000</td>\n",
              "      <td>0.000000</td>\n",
              "      <td>0.000000</td>\n",
              "      <td>1.000000</td>\n",
              "      <td>0.82000</td>\n",
              "      <td>0.760000</td>\n",
              "      <td>0.000000</td>\n",
              "      <td>0.000000</td>\n",
              "      <td>0.000000</td>\n",
              "      <td>0.000000</td>\n",
              "      <td>1.000000</td>\n",
              "    </tr>\n",
              "    <tr>\n",
              "      <th>25%</th>\n",
              "      <td>2.000000</td>\n",
              "      <td>0.000000</td>\n",
              "      <td>0.000000</td>\n",
              "      <td>1.000000</td>\n",
              "      <td>13.94000</td>\n",
              "      <td>16.665000</td>\n",
              "      <td>47.000000</td>\n",
              "      <td>7.001500</td>\n",
              "      <td>4.000000</td>\n",
              "      <td>36.000000</td>\n",
              "      <td>42.000000</td>\n",
              "    </tr>\n",
              "    <tr>\n",
              "      <th>50%</th>\n",
              "      <td>3.000000</td>\n",
              "      <td>0.000000</td>\n",
              "      <td>1.000000</td>\n",
              "      <td>1.000000</td>\n",
              "      <td>20.50000</td>\n",
              "      <td>24.240000</td>\n",
              "      <td>62.000000</td>\n",
              "      <td>12.998000</td>\n",
              "      <td>17.000000</td>\n",
              "      <td>118.000000</td>\n",
              "      <td>145.000000</td>\n",
              "    </tr>\n",
              "    <tr>\n",
              "      <th>75%</th>\n",
              "      <td>4.000000</td>\n",
              "      <td>0.000000</td>\n",
              "      <td>1.000000</td>\n",
              "      <td>2.000000</td>\n",
              "      <td>26.24000</td>\n",
              "      <td>31.060000</td>\n",
              "      <td>77.000000</td>\n",
              "      <td>16.997900</td>\n",
              "      <td>49.000000</td>\n",
              "      <td>222.000000</td>\n",
              "      <td>284.000000</td>\n",
              "    </tr>\n",
              "    <tr>\n",
              "      <th>max</th>\n",
              "      <td>4.000000</td>\n",
              "      <td>1.000000</td>\n",
              "      <td>1.000000</td>\n",
              "      <td>4.000000</td>\n",
              "      <td>41.00000</td>\n",
              "      <td>45.455000</td>\n",
              "      <td>100.000000</td>\n",
              "      <td>56.996900</td>\n",
              "      <td>367.000000</td>\n",
              "      <td>886.000000</td>\n",
              "      <td>977.000000</td>\n",
              "    </tr>\n",
              "  </tbody>\n",
              "</table>\n",
              "</div>"
            ],
            "text/plain": [
              "             season       holiday  ...    registered         count\n",
              "count  10886.000000  10886.000000  ...  10886.000000  10886.000000\n",
              "mean       2.506614      0.028569  ...    155.552177    191.574132\n",
              "std        1.116174      0.166599  ...    151.039033    181.144454\n",
              "min        1.000000      0.000000  ...      0.000000      1.000000\n",
              "25%        2.000000      0.000000  ...     36.000000     42.000000\n",
              "50%        3.000000      0.000000  ...    118.000000    145.000000\n",
              "75%        4.000000      0.000000  ...    222.000000    284.000000\n",
              "max        4.000000      1.000000  ...    886.000000    977.000000\n",
              "\n",
              "[8 rows x 11 columns]"
            ]
          },
          "metadata": {},
          "execution_count": 11
        }
      ]
    },
    {
      "cell_type": "code",
      "metadata": {
        "id": "br2SSHz1a3Hu"
      },
      "source": [
        "train_df.describe(include=np.object)      # if you wanna get statistics for object dtype"
      ],
      "execution_count": null,
      "outputs": []
    },
    {
      "cell_type": "markdown",
      "metadata": {
        "id": "ib3yYcfcRyuC"
      },
      "source": [
        "## **1. Null 값 확인 및 처리**\n",
        "- 이 dataset 에는 모든 column 의 값이 다 non-null 이라 필요없긴 함"
      ]
    },
    {
      "cell_type": "code",
      "metadata": {
        "id": "tf0JaffoGiru"
      },
      "source": [
        "train_df_2.isnull().sum()   # null 값 확인\n",
        "train_df_2 = train_df_2.dropna()"
      ],
      "execution_count": 102,
      "outputs": []
    },
    {
      "cell_type": "markdown",
      "metadata": {
        "id": "myrcHpqhTM0t"
      },
      "source": [
        "## **2. Outliers 처리**\n",
        "- seanson, holiday, workingday, weather 은 categorical value \n",
        "- numeric data 만 선별해서 이상치 visualization"
      ]
    },
    {
      "cell_type": "code",
      "metadata": {
        "colab": {
          "base_uri": "https://localhost:8080/",
          "height": 204
        },
        "id": "KjFxmvKpTROn",
        "outputId": "5eda44f7-a64d-4688-b565-b802d71ff88d"
      },
      "source": [
        "numeric_df = train_df.iloc[:, 5:-3]\n",
        "numeric_df.head(5)"
      ],
      "execution_count": 267,
      "outputs": [
        {
          "output_type": "execute_result",
          "data": {
            "text/html": [
              "<div>\n",
              "<style scoped>\n",
              "    .dataframe tbody tr th:only-of-type {\n",
              "        vertical-align: middle;\n",
              "    }\n",
              "\n",
              "    .dataframe tbody tr th {\n",
              "        vertical-align: top;\n",
              "    }\n",
              "\n",
              "    .dataframe thead th {\n",
              "        text-align: right;\n",
              "    }\n",
              "</style>\n",
              "<table border=\"1\" class=\"dataframe\">\n",
              "  <thead>\n",
              "    <tr style=\"text-align: right;\">\n",
              "      <th></th>\n",
              "      <th>temp</th>\n",
              "      <th>atemp</th>\n",
              "      <th>humidity</th>\n",
              "      <th>windspeed</th>\n",
              "    </tr>\n",
              "  </thead>\n",
              "  <tbody>\n",
              "    <tr>\n",
              "      <th>0</th>\n",
              "      <td>9.84</td>\n",
              "      <td>14.395</td>\n",
              "      <td>81</td>\n",
              "      <td>0.0</td>\n",
              "    </tr>\n",
              "    <tr>\n",
              "      <th>1</th>\n",
              "      <td>9.02</td>\n",
              "      <td>13.635</td>\n",
              "      <td>80</td>\n",
              "      <td>0.0</td>\n",
              "    </tr>\n",
              "    <tr>\n",
              "      <th>2</th>\n",
              "      <td>9.02</td>\n",
              "      <td>13.635</td>\n",
              "      <td>80</td>\n",
              "      <td>0.0</td>\n",
              "    </tr>\n",
              "    <tr>\n",
              "      <th>3</th>\n",
              "      <td>9.84</td>\n",
              "      <td>14.395</td>\n",
              "      <td>75</td>\n",
              "      <td>0.0</td>\n",
              "    </tr>\n",
              "    <tr>\n",
              "      <th>4</th>\n",
              "      <td>9.84</td>\n",
              "      <td>14.395</td>\n",
              "      <td>75</td>\n",
              "      <td>0.0</td>\n",
              "    </tr>\n",
              "  </tbody>\n",
              "</table>\n",
              "</div>"
            ],
            "text/plain": [
              "   temp   atemp  humidity  windspeed\n",
              "0  9.84  14.395        81        0.0\n",
              "1  9.02  13.635        80        0.0\n",
              "2  9.02  13.635        80        0.0\n",
              "3  9.84  14.395        75        0.0\n",
              "4  9.84  14.395        75        0.0"
            ]
          },
          "metadata": {},
          "execution_count": 267
        }
      ]
    },
    {
      "cell_type": "code",
      "metadata": {
        "id": "XO44ibz0WBNL"
      },
      "source": [
        "cols = numeric_df.columns"
      ],
      "execution_count": 270,
      "outputs": []
    },
    {
      "cell_type": "markdown",
      "metadata": {
        "id": "GTtWyr6UVPRj"
      },
      "source": [
        "### **Visualization with Box-Plot**\n",
        "- median, Q1, Q3, IQR(Q3 - Q1)\n",
        "- **outliers** : dots out of lower, upper fence which represents [Q1 - 1.5xIQR] or [Q3 + 1.5xIQR] for each\n",
        "\n"
      ]
    },
    {
      "cell_type": "code",
      "metadata": {
        "colab": {
          "base_uri": "https://localhost:8080/",
          "height": 428
        },
        "id": "KwfboC92VSI6",
        "outputId": "26bb71b1-2970-4267-cbfc-543d4965ce93"
      },
      "source": [
        "cols = numeric_df.columns\n",
        "\n",
        "fig, axes = plt.subplots(2, 1, figsize=(15, 7))\n",
        "ax = axes.flatten()\n",
        "numeric_df[cols[:4]].boxplot(ax=ax[0])\n",
        "numeric_df[cols[4:]].boxplot(ax=ax[1])\n",
        "plt.show()"
      ],
      "execution_count": 31,
      "outputs": [
        {
          "output_type": "display_data",
          "data": {
            "image/png": "[encoded data removed]",
            "text/plain": [
              "<Figure size 1080x504 with 2 Axes>"
            ]
          },
          "metadata": {
            "needs_background": "light"
          }
        }
      ]
    },
    {
      "cell_type": "markdown",
      "metadata": {
        "id": "7DD_CaDIXFFl"
      },
      "source": [
        "- windspeed : \n",
        "  - 풍속을 의미하는데, 평균이 12 언저리, Q3 가 대략 16 인데 max 값은 거의 60 가까이 된다. 실제로 boxplot 을 보면 outlier 들이 upper fence 위에 존해하는 것을 확인할 수 있다.\n",
        "- casual, registered, count\n",
        "  - 애초에 describe 를 보면 std 값이 mena 값보다 더 크게 형성되어 있다. boxplot 을 봐도 outlier 들이 굉장히 많이 존재하는 것을 확인할 수 있다.\n"
      ]
    },
    {
      "cell_type": "markdown",
      "metadata": {
        "id": "GJmDfPVMX6pK"
      },
      "source": [
        "### **Sigma-Clipping Operation**\n",
        "-  Compute its median m and its standard deviation sigma . Keep only the data that falls in the range ( m-a*sigma , m+a*sigma ) for some value of a , and discard everything else.\n",
        "- **df.query** : extract data only that matches with set condition \n",
        "  "
      ]
    },
    {
      "cell_type": "code",
      "metadata": {
        "colab": {
          "base_uri": "https://localhost:8080/"
        },
        "id": "XZEiUlZNcIZ8",
        "outputId": "85c1ae27-c1f1-42bd-fd25-9477371138a5"
      },
      "source": [
        "for col in cols:\n",
        "  quartiles = np.percentile(numeric_df[col], [25, 50, 75])\n",
        "  q1, mu, q3 = [x for x in quartiles]\n",
        "  IQR = q3 - q1\n",
        "  str_exp1 = f'{col} > {mu}-1.5*{IQR}'\n",
        "  str_exp2 = f'{col} < {mu}+1.5*{IQR}'\n",
        "  train_df = train_df.query(str_exp1 and str_exp2)\n",
        "  print(\"{0} - 평균 : {1} / Q1 : {2} / Q3 : {3}\".format(col, mu, q1, q3))"
      ],
      "execution_count": 271,
      "outputs": [
        {
          "output_type": "stream",
          "name": "stdout",
          "text": [
            "temp - 평균 : 20.5 / Q1 : 13.94 / Q3 : 26.24\n",
            "atemp - 평균 : 24.24 / Q1 : 16.665 / Q3 : 31.06\n",
            "humidity - 평균 : 62.0 / Q1 : 47.0 / Q3 : 77.0\n",
            "windspeed - 평균 : 12.998 / Q1 : 7.0015 / Q3 : 16.9979\n"
          ]
        }
      ]
    },
    {
      "cell_type": "code",
      "metadata": {
        "colab": {
          "base_uri": "https://localhost:8080/"
        },
        "id": "vPDeZx7BjINA",
        "outputId": "01760562-b372-4a48-eb60-ac825180606c"
      },
      "source": [
        "# 이상치 제거 전 : 10886\n",
        "\n",
        "train_df.info()"
      ],
      "execution_count": 272,
      "outputs": [
        {
          "output_type": "stream",
          "name": "stdout",
          "text": [
            "<class 'pandas.core.frame.DataFrame'>\n",
            "Int64Index: 10265 entries, 0 to 10885\n",
            "Data columns (total 12 columns):\n",
            " #   Column      Non-Null Count  Dtype  \n",
            "---  ------      --------------  -----  \n",
            " 0   datetime    10265 non-null  object \n",
            " 1   season      10265 non-null  int64  \n",
            " 2   holiday     10265 non-null  int64  \n",
            " 3   workingday  10265 non-null  int64  \n",
            " 4   weather     10265 non-null  int64  \n",
            " 5   temp        10265 non-null  float64\n",
            " 6   atemp       10265 non-null  float64\n",
            " 7   humidity    10265 non-null  int64  \n",
            " 8   windspeed   10265 non-null  float64\n",
            " 9   casual      10265 non-null  int64  \n",
            " 10  registered  10265 non-null  int64  \n",
            " 11  count       10265 non-null  int64  \n",
            "dtypes: float64(3), int64(8), object(1)\n",
            "memory usage: 1.0+ MB\n"
          ]
        }
      ]
    },
    {
      "cell_type": "code",
      "metadata": {
        "id": "BMfvDQDwdDRY"
      },
      "source": [
        "# 이상치 제거 후  : 10123\n",
        "\n",
        "train_df.info()"
      ],
      "execution_count": null,
      "outputs": []
    },
    {
      "cell_type": "code",
      "metadata": {
        "colab": {
          "base_uri": "https://localhost:8080/",
          "height": 296
        },
        "id": "WuRAz2PGkZoh",
        "outputId": "39695fd5-1963-4651-b496-cb19456463a3"
      },
      "source": [
        "train_df_2 = train_df_2\n",
        "train_df_2.describe()"
      ],
      "execution_count": 162,
      "outputs": [
        {
          "output_type": "execute_result",
          "data": {
            "text/html": [
              "<div>\n",
              "<style scoped>\n",
              "    .dataframe tbody tr th:only-of-type {\n",
              "        vertical-align: middle;\n",
              "    }\n",
              "\n",
              "    .dataframe tbody tr th {\n",
              "        vertical-align: top;\n",
              "    }\n",
              "\n",
              "    .dataframe thead th {\n",
              "        text-align: right;\n",
              "    }\n",
              "</style>\n",
              "<table border=\"1\" class=\"dataframe\">\n",
              "  <thead>\n",
              "    <tr style=\"text-align: right;\">\n",
              "      <th></th>\n",
              "      <th>season</th>\n",
              "      <th>holiday</th>\n",
              "      <th>workingday</th>\n",
              "      <th>weather</th>\n",
              "      <th>temp</th>\n",
              "      <th>atemp</th>\n",
              "      <th>humidity</th>\n",
              "      <th>windspeed</th>\n",
              "      <th>casual</th>\n",
              "      <th>registered</th>\n",
              "      <th>count</th>\n",
              "    </tr>\n",
              "  </thead>\n",
              "  <tbody>\n",
              "    <tr>\n",
              "      <th>count</th>\n",
              "      <td>10123.000000</td>\n",
              "      <td>10123.000000</td>\n",
              "      <td>10123.000000</td>\n",
              "      <td>10123.000000</td>\n",
              "      <td>10123.000000</td>\n",
              "      <td>10123.000000</td>\n",
              "      <td>10123.000000</td>\n",
              "      <td>10123.000000</td>\n",
              "      <td>10123.000000</td>\n",
              "      <td>10123.000000</td>\n",
              "      <td>10123.000000</td>\n",
              "    </tr>\n",
              "    <tr>\n",
              "      <th>mean</th>\n",
              "      <td>2.489578</td>\n",
              "      <td>0.029438</td>\n",
              "      <td>0.678554</td>\n",
              "      <td>1.430702</td>\n",
              "      <td>19.825969</td>\n",
              "      <td>23.222557</td>\n",
              "      <td>62.694853</td>\n",
              "      <td>12.688538</td>\n",
              "      <td>30.121999</td>\n",
              "      <td>127.562383</td>\n",
              "      <td>157.684382</td>\n",
              "    </tr>\n",
              "    <tr>\n",
              "      <th>std</th>\n",
              "      <td>1.129251</td>\n",
              "      <td>0.169039</td>\n",
              "      <td>0.467055</td>\n",
              "      <td>0.641092</td>\n",
              "      <td>7.758019</td>\n",
              "      <td>8.456155</td>\n",
              "      <td>19.163366</td>\n",
              "      <td>8.174705</td>\n",
              "      <td>40.043560</td>\n",
              "      <td>108.905534</td>\n",
              "      <td>134.387158</td>\n",
              "    </tr>\n",
              "    <tr>\n",
              "      <th>min</th>\n",
              "      <td>1.000000</td>\n",
              "      <td>0.000000</td>\n",
              "      <td>0.000000</td>\n",
              "      <td>1.000000</td>\n",
              "      <td>0.820000</td>\n",
              "      <td>0.760000</td>\n",
              "      <td>0.000000</td>\n",
              "      <td>0.000000</td>\n",
              "      <td>0.000000</td>\n",
              "      <td>0.000000</td>\n",
              "      <td>1.000000</td>\n",
              "    </tr>\n",
              "    <tr>\n",
              "      <th>25%</th>\n",
              "      <td>1.000000</td>\n",
              "      <td>0.000000</td>\n",
              "      <td>0.000000</td>\n",
              "      <td>1.000000</td>\n",
              "      <td>13.940000</td>\n",
              "      <td>16.665000</td>\n",
              "      <td>48.000000</td>\n",
              "      <td>7.001500</td>\n",
              "      <td>3.000000</td>\n",
              "      <td>31.000000</td>\n",
              "      <td>36.000000</td>\n",
              "    </tr>\n",
              "    <tr>\n",
              "      <th>50%</th>\n",
              "      <td>2.000000</td>\n",
              "      <td>0.000000</td>\n",
              "      <td>1.000000</td>\n",
              "      <td>1.000000</td>\n",
              "      <td>19.680000</td>\n",
              "      <td>23.485000</td>\n",
              "      <td>63.000000</td>\n",
              "      <td>11.001400</td>\n",
              "      <td>14.000000</td>\n",
              "      <td>107.000000</td>\n",
              "      <td>129.000000</td>\n",
              "    </tr>\n",
              "    <tr>\n",
              "      <th>75%</th>\n",
              "      <td>4.000000</td>\n",
              "      <td>0.000000</td>\n",
              "      <td>1.000000</td>\n",
              "      <td>2.000000</td>\n",
              "      <td>26.240000</td>\n",
              "      <td>30.305000</td>\n",
              "      <td>78.000000</td>\n",
              "      <td>16.997900</td>\n",
              "      <td>41.000000</td>\n",
              "      <td>196.000000</td>\n",
              "      <td>247.000000</td>\n",
              "    </tr>\n",
              "    <tr>\n",
              "      <th>max</th>\n",
              "      <td>4.000000</td>\n",
              "      <td>1.000000</td>\n",
              "      <td>1.000000</td>\n",
              "      <td>4.000000</td>\n",
              "      <td>41.000000</td>\n",
              "      <td>45.455000</td>\n",
              "      <td>100.000000</td>\n",
              "      <td>56.996900</td>\n",
              "      <td>272.000000</td>\n",
              "      <td>498.000000</td>\n",
              "      <td>507.000000</td>\n",
              "    </tr>\n",
              "  </tbody>\n",
              "</table>\n",
              "</div>"
            ],
            "text/plain": [
              "             season       holiday  ...    registered         count\n",
              "count  10123.000000  10123.000000  ...  10123.000000  10123.000000\n",
              "mean       2.489578      0.029438  ...    127.562383    157.684382\n",
              "std        1.129251      0.169039  ...    108.905534    134.387158\n",
              "min        1.000000      0.000000  ...      0.000000      1.000000\n",
              "25%        1.000000      0.000000  ...     31.000000     36.000000\n",
              "50%        2.000000      0.000000  ...    107.000000    129.000000\n",
              "75%        4.000000      0.000000  ...    196.000000    247.000000\n",
              "max        4.000000      1.000000  ...    498.000000    507.000000\n",
              "\n",
              "[8 rows x 11 columns]"
            ]
          },
          "metadata": {},
          "execution_count": 162
        }
      ]
    },
    {
      "cell_type": "code",
      "metadata": {
        "id": "SqvPDdzojxgP"
      },
      "source": [
        "# numeric_df_2 = train_df_2.iloc[:, 5:]\n",
        "# cols = numeric_df_2.columns\n",
        "\n",
        "# fig, axes = plt.subplots(2, 1, figsize=(15, 7))\n",
        "# ax = axes.flatten()\n",
        "# numeric_df_2[cols[:4]].boxplot(ax=ax[0])\n",
        "# numeric_df_2[cols[4:]].boxplot(ax=ax[1])\n",
        "# plt.show()"
      ],
      "execution_count": null,
      "outputs": []
    },
    {
      "cell_type": "markdown",
      "metadata": {
        "id": "pV0EnLY5nlnl"
      },
      "source": [
        "## **3. Scaling : Standardization vs Normalization**\n",
        "- **Standard Scaling** (using Z-score) : 표준화\n",
        "   - rescales data to have a mean of 0 and a standard deviation of 1\n",
        "   - 표준화 이후 z-score 의 절댓값이 2 를 넘어가는 data 를 지워주어 이상치 제거하는 데에도 사용될 수 있다.\n",
        "   - SVM, 선형회귀, 로지스틱 회귀의 경우에는 데이터가 가우시안 분포(연속확률분포)를 가지고 있다고 가정하고 구현되었기 때문에 표준화 하는게 바람직 함\n",
        "- **Min-Max Scaling** : 정규화\n",
        " - rescale the value ranging from 0 ~ 1\n",
        "- **Robust Scaling**\n",
        "  - StandardScaler와 비슷 하지만 평균과 분산대신 중간값(median)과 사분위값(quartile)을 사용 \n",
        "  - 중앙값을 0, IQR 이 1 이 되도록 데이터를 변환함\n",
        "  - 이상치의 영향을 최소한으로 줄여준다.\n",
        "\n",
        "- [Scailing 방법론 별 비교](https://mkjjo.github.io/python/2019/01/10/scaler.html)\n",
        "<br/>\n",
        "\n",
        "**주의 !**\n",
        "학습 데이터로 fit(), transform()을 적용하고 테스트 데이터에서 다시 fit()을 수행하지 않고 학습데이터로 fit() 적용한 결과를 이용해서 transform()을 적용해야 한다"
      ]
    },
    {
      "cell_type": "markdown",
      "metadata": {
        "id": "SAeafSsgpaRZ"
      },
      "source": [
        "### **3-1) Standard Score (Z-score) Scaling** \n",
        "- code 구현\n",
        "- StandardScaler() 사용\n",
        "\n",
        " "
      ]
    },
    {
      "cell_type": "code",
      "metadata": {
        "id": "0AYGl081qYE0"
      },
      "source": [
        "std_scaled_1 = train_df_2"
      ],
      "execution_count": 142,
      "outputs": []
    },
    {
      "cell_type": "code",
      "metadata": {
        "id": "wd2R51Fenp0r"
      },
      "source": [
        "# 직접\n",
        "for col in cols:\n",
        "    mean = std_scaled_1[col].mean()\n",
        "    std = std_scaled_1[col].std()\n",
        "    std_scaled_1[col] = std_scaled_1[col].apply(lambda x: (x-mean)/std)"
      ],
      "execution_count": null,
      "outputs": []
    },
    {
      "cell_type": "code",
      "metadata": {
        "colab": {
          "base_uri": "https://localhost:8080/",
          "height": 296
        },
        "id": "yUnlZ8e7qVCV",
        "outputId": "71c10d0e-c531-4a83-a985-e3685d5461ac"
      },
      "source": [
        "std_scaled_1.describe()"
      ],
      "execution_count": 114,
      "outputs": [
        {
          "output_type": "execute_result",
          "data": {
            "text/html": [
              "<div>\n",
              "<style scoped>\n",
              "    .dataframe tbody tr th:only-of-type {\n",
              "        vertical-align: middle;\n",
              "    }\n",
              "\n",
              "    .dataframe tbody tr th {\n",
              "        vertical-align: top;\n",
              "    }\n",
              "\n",
              "    .dataframe thead th {\n",
              "        text-align: right;\n",
              "    }\n",
              "</style>\n",
              "<table border=\"1\" class=\"dataframe\">\n",
              "  <thead>\n",
              "    <tr style=\"text-align: right;\">\n",
              "      <th></th>\n",
              "      <th>season</th>\n",
              "      <th>holiday</th>\n",
              "      <th>workingday</th>\n",
              "      <th>weather</th>\n",
              "      <th>temp</th>\n",
              "      <th>atemp</th>\n",
              "      <th>humidity</th>\n",
              "      <th>windspeed</th>\n",
              "      <th>casual</th>\n",
              "      <th>registered</th>\n",
              "      <th>count</th>\n",
              "    </tr>\n",
              "  </thead>\n",
              "  <tbody>\n",
              "    <tr>\n",
              "      <th>count</th>\n",
              "      <td>10123.000000</td>\n",
              "      <td>10123.000000</td>\n",
              "      <td>10123.000000</td>\n",
              "      <td>10123.000000</td>\n",
              "      <td>1.012300e+04</td>\n",
              "      <td>1.012300e+04</td>\n",
              "      <td>1.012300e+04</td>\n",
              "      <td>1.012300e+04</td>\n",
              "      <td>1.012300e+04</td>\n",
              "      <td>1.012300e+04</td>\n",
              "      <td>1.012300e+04</td>\n",
              "    </tr>\n",
              "    <tr>\n",
              "      <th>mean</th>\n",
              "      <td>2.489578</td>\n",
              "      <td>0.029438</td>\n",
              "      <td>0.678554</td>\n",
              "      <td>1.430702</td>\n",
              "      <td>3.712584e-15</td>\n",
              "      <td>3.886493e-15</td>\n",
              "      <td>5.401082e-16</td>\n",
              "      <td>-3.649851e-14</td>\n",
              "      <td>6.459759e-17</td>\n",
              "      <td>-5.098603e-16</td>\n",
              "      <td>2.870041e-16</td>\n",
              "    </tr>\n",
              "    <tr>\n",
              "      <th>std</th>\n",
              "      <td>1.129251</td>\n",
              "      <td>0.169039</td>\n",
              "      <td>0.467055</td>\n",
              "      <td>0.641092</td>\n",
              "      <td>1.000000e+00</td>\n",
              "      <td>1.000000e+00</td>\n",
              "      <td>1.000000e+00</td>\n",
              "      <td>1.000000e+00</td>\n",
              "      <td>1.000000e+00</td>\n",
              "      <td>1.000000e+00</td>\n",
              "      <td>1.000000e+00</td>\n",
              "    </tr>\n",
              "    <tr>\n",
              "      <th>min</th>\n",
              "      <td>1.000000</td>\n",
              "      <td>0.000000</td>\n",
              "      <td>0.000000</td>\n",
              "      <td>1.000000</td>\n",
              "      <td>-2.449848e+00</td>\n",
              "      <td>-2.656356e+00</td>\n",
              "      <td>-3.271599e+00</td>\n",
              "      <td>-1.552171e+00</td>\n",
              "      <td>-7.522308e-01</td>\n",
              "      <td>-1.171312e+00</td>\n",
              "      <td>-1.165918e+00</td>\n",
              "    </tr>\n",
              "    <tr>\n",
              "      <th>25%</th>\n",
              "      <td>1.000000</td>\n",
              "      <td>0.000000</td>\n",
              "      <td>0.000000</td>\n",
              "      <td>1.000000</td>\n",
              "      <td>-7.586948e-01</td>\n",
              "      <td>-7.754774e-01</td>\n",
              "      <td>-7.668201e-01</td>\n",
              "      <td>-6.956872e-01</td>\n",
              "      <td>-6.773124e-01</td>\n",
              "      <td>-8.866619e-01</td>\n",
              "      <td>-9.054763e-01</td>\n",
              "    </tr>\n",
              "    <tr>\n",
              "      <th>50%</th>\n",
              "      <td>2.000000</td>\n",
              "      <td>0.000000</td>\n",
              "      <td>1.000000</td>\n",
              "      <td>1.000000</td>\n",
              "      <td>-1.881519e-02</td>\n",
              "      <td>3.103579e-02</td>\n",
              "      <td>1.592344e-02</td>\n",
              "      <td>-2.063852e-01</td>\n",
              "      <td>-4.026115e-01</td>\n",
              "      <td>-1.888093e-01</td>\n",
              "      <td>-2.134459e-01</td>\n",
              "    </tr>\n",
              "    <tr>\n",
              "      <th>75%</th>\n",
              "      <td>4.000000</td>\n",
              "      <td>0.000000</td>\n",
              "      <td>1.000000</td>\n",
              "      <td>2.000000</td>\n",
              "      <td>8.267615e-01</td>\n",
              "      <td>8.375490e-01</td>\n",
              "      <td>7.986669e-01</td>\n",
              "      <td>5.271581e-01</td>\n",
              "      <td>2.716542e-01</td>\n",
              "      <td>6.284127e-01</td>\n",
              "      <td>6.646142e-01</td>\n",
              "    </tr>\n",
              "    <tr>\n",
              "      <th>max</th>\n",
              "      <td>4.000000</td>\n",
              "      <td>1.000000</td>\n",
              "      <td>1.000000</td>\n",
              "      <td>4.000000</td>\n",
              "      <td>2.729309e+00</td>\n",
              "      <td>2.629143e+00</td>\n",
              "      <td>1.946691e+00</td>\n",
              "      <td>5.420179e+00</td>\n",
              "      <td>6.040372e+00</td>\n",
              "      <td>3.401458e+00</td>\n",
              "      <td>2.599323e+00</td>\n",
              "    </tr>\n",
              "  </tbody>\n",
              "</table>\n",
              "</div>"
            ],
            "text/plain": [
              "             season       holiday  ...    registered         count\n",
              "count  10123.000000  10123.000000  ...  1.012300e+04  1.012300e+04\n",
              "mean       2.489578      0.029438  ... -5.098603e-16  2.870041e-16\n",
              "std        1.129251      0.169039  ...  1.000000e+00  1.000000e+00\n",
              "min        1.000000      0.000000  ... -1.171312e+00 -1.165918e+00\n",
              "25%        1.000000      0.000000  ... -8.866619e-01 -9.054763e-01\n",
              "50%        2.000000      0.000000  ... -1.888093e-01 -2.134459e-01\n",
              "75%        4.000000      0.000000  ...  6.284127e-01  6.646142e-01\n",
              "max        4.000000      1.000000  ...  3.401458e+00  2.599323e+00\n",
              "\n",
              "[8 rows x 11 columns]"
            ]
          },
          "metadata": {},
          "execution_count": 114
        }
      ]
    },
    {
      "cell_type": "code",
      "metadata": {
        "colab": {
          "base_uri": "https://localhost:8080/",
          "height": 204
        },
        "id": "_EwHZpSAp7p2",
        "outputId": "57b42532-6770-441e-b296-cf29780ed8f2"
      },
      "source": [
        "# sklearn modue : StandardScaler()\n",
        "from sklearn.preprocessing import StandardScaler\n",
        "\n",
        "std_scaled_2 = train_df_2\n",
        "scaler_std = StandardScaler()\n",
        "\n",
        "std_scaled_2.head(5)"
      ],
      "execution_count": 184,
      "outputs": [
        {
          "output_type": "execute_result",
          "data": {
            "text/html": [
              "<div>\n",
              "<style scoped>\n",
              "    .dataframe tbody tr th:only-of-type {\n",
              "        vertical-align: middle;\n",
              "    }\n",
              "\n",
              "    .dataframe tbody tr th {\n",
              "        vertical-align: top;\n",
              "    }\n",
              "\n",
              "    .dataframe thead th {\n",
              "        text-align: right;\n",
              "    }\n",
              "</style>\n",
              "<table border=\"1\" class=\"dataframe\">\n",
              "  <thead>\n",
              "    <tr style=\"text-align: right;\">\n",
              "      <th></th>\n",
              "      <th>datetime</th>\n",
              "      <th>season</th>\n",
              "      <th>holiday</th>\n",
              "      <th>workingday</th>\n",
              "      <th>weather</th>\n",
              "      <th>temp</th>\n",
              "      <th>atemp</th>\n",
              "      <th>humidity</th>\n",
              "      <th>windspeed</th>\n",
              "      <th>casual</th>\n",
              "      <th>registered</th>\n",
              "      <th>count</th>\n",
              "    </tr>\n",
              "  </thead>\n",
              "  <tbody>\n",
              "    <tr>\n",
              "      <th>0</th>\n",
              "      <td>2011-01-01 00:00:00</td>\n",
              "      <td>1</td>\n",
              "      <td>0</td>\n",
              "      <td>0</td>\n",
              "      <td>1</td>\n",
              "      <td>9.84</td>\n",
              "      <td>14.395</td>\n",
              "      <td>81</td>\n",
              "      <td>0.0</td>\n",
              "      <td>3</td>\n",
              "      <td>13</td>\n",
              "      <td>16</td>\n",
              "    </tr>\n",
              "    <tr>\n",
              "      <th>1</th>\n",
              "      <td>2011-01-01 01:00:00</td>\n",
              "      <td>1</td>\n",
              "      <td>0</td>\n",
              "      <td>0</td>\n",
              "      <td>1</td>\n",
              "      <td>9.02</td>\n",
              "      <td>13.635</td>\n",
              "      <td>80</td>\n",
              "      <td>0.0</td>\n",
              "      <td>8</td>\n",
              "      <td>32</td>\n",
              "      <td>40</td>\n",
              "    </tr>\n",
              "    <tr>\n",
              "      <th>2</th>\n",
              "      <td>2011-01-01 02:00:00</td>\n",
              "      <td>1</td>\n",
              "      <td>0</td>\n",
              "      <td>0</td>\n",
              "      <td>1</td>\n",
              "      <td>9.02</td>\n",
              "      <td>13.635</td>\n",
              "      <td>80</td>\n",
              "      <td>0.0</td>\n",
              "      <td>5</td>\n",
              "      <td>27</td>\n",
              "      <td>32</td>\n",
              "    </tr>\n",
              "    <tr>\n",
              "      <th>3</th>\n",
              "      <td>2011-01-01 03:00:00</td>\n",
              "      <td>1</td>\n",
              "      <td>0</td>\n",
              "      <td>0</td>\n",
              "      <td>1</td>\n",
              "      <td>9.84</td>\n",
              "      <td>14.395</td>\n",
              "      <td>75</td>\n",
              "      <td>0.0</td>\n",
              "      <td>3</td>\n",
              "      <td>10</td>\n",
              "      <td>13</td>\n",
              "    </tr>\n",
              "    <tr>\n",
              "      <th>4</th>\n",
              "      <td>2011-01-01 04:00:00</td>\n",
              "      <td>1</td>\n",
              "      <td>0</td>\n",
              "      <td>0</td>\n",
              "      <td>1</td>\n",
              "      <td>9.84</td>\n",
              "      <td>14.395</td>\n",
              "      <td>75</td>\n",
              "      <td>0.0</td>\n",
              "      <td>0</td>\n",
              "      <td>1</td>\n",
              "      <td>1</td>\n",
              "    </tr>\n",
              "  </tbody>\n",
              "</table>\n",
              "</div>"
            ],
            "text/plain": [
              "              datetime  season  holiday  ...  casual  registered  count\n",
              "0  2011-01-01 00:00:00       1        0  ...       3          13     16\n",
              "1  2011-01-01 01:00:00       1        0  ...       8          32     40\n",
              "2  2011-01-01 02:00:00       1        0  ...       5          27     32\n",
              "3  2011-01-01 03:00:00       1        0  ...       3          10     13\n",
              "4  2011-01-01 04:00:00       1        0  ...       0           1      1\n",
              "\n",
              "[5 rows x 12 columns]"
            ]
          },
          "metadata": {},
          "execution_count": 184
        }
      ]
    },
    {
      "cell_type": "code",
      "metadata": {
        "id": "u6H-q6zorBdB"
      },
      "source": [
        "for col in cols:\n",
        "    new_name = f\"{col}_scaled\"\n",
        "    scaler_std = scaler_std.fit(std_scaled_2[col].values.reshape(-1,1))\n",
        "    std_scaled_2[new_name] = scaler_std.transform(std_scaled_2[col].values.reshape(-1,1))\n",
        "    std_scaled_2.drop(col, axis=1, inplace=True)"
      ],
      "execution_count": null,
      "outputs": []
    },
    {
      "cell_type": "code",
      "metadata": {
        "colab": {
          "base_uri": "https://localhost:8080/",
          "height": 296
        },
        "id": "4a0wT6kxr4Wb",
        "outputId": "c7b1a90a-3353-41ab-90d9-14668e2a3a45"
      },
      "source": [
        "std_scaled_2.describe()\n",
        "\n",
        "# 결과는 직접한 것과 거의 유사하지만 mean 값이 서로 다르게 구해짐. 이유는...?"
      ],
      "execution_count": 186,
      "outputs": [
        {
          "output_type": "execute_result",
          "data": {
            "text/html": [
              "<div>\n",
              "<style scoped>\n",
              "    .dataframe tbody tr th:only-of-type {\n",
              "        vertical-align: middle;\n",
              "    }\n",
              "\n",
              "    .dataframe tbody tr th {\n",
              "        vertical-align: top;\n",
              "    }\n",
              "\n",
              "    .dataframe thead th {\n",
              "        text-align: right;\n",
              "    }\n",
              "</style>\n",
              "<table border=\"1\" class=\"dataframe\">\n",
              "  <thead>\n",
              "    <tr style=\"text-align: right;\">\n",
              "      <th></th>\n",
              "      <th>season</th>\n",
              "      <th>holiday</th>\n",
              "      <th>workingday</th>\n",
              "      <th>weather</th>\n",
              "      <th>temp_scaled</th>\n",
              "      <th>atemp_scaled</th>\n",
              "      <th>humidity_scaled</th>\n",
              "      <th>windspeed_scaled</th>\n",
              "      <th>casual_scaled</th>\n",
              "      <th>registered_scaled</th>\n",
              "      <th>count_scaled</th>\n",
              "    </tr>\n",
              "  </thead>\n",
              "  <tbody>\n",
              "    <tr>\n",
              "      <th>count</th>\n",
              "      <td>10123.000000</td>\n",
              "      <td>10123.000000</td>\n",
              "      <td>10123.000000</td>\n",
              "      <td>10123.000000</td>\n",
              "      <td>1.012300e+04</td>\n",
              "      <td>1.012300e+04</td>\n",
              "      <td>1.012300e+04</td>\n",
              "      <td>1.012300e+04</td>\n",
              "      <td>1.012300e+04</td>\n",
              "      <td>1.012300e+04</td>\n",
              "      <td>1.012300e+04</td>\n",
              "    </tr>\n",
              "    <tr>\n",
              "      <th>mean</th>\n",
              "      <td>2.489578</td>\n",
              "      <td>0.029438</td>\n",
              "      <td>0.678554</td>\n",
              "      <td>1.430702</td>\n",
              "      <td>1.591360e-16</td>\n",
              "      <td>7.275289e-16</td>\n",
              "      <td>1.832806e-16</td>\n",
              "      <td>2.506737e-15</td>\n",
              "      <td>3.222860e-16</td>\n",
              "      <td>-1.384691e-15</td>\n",
              "      <td>-8.549584e-16</td>\n",
              "    </tr>\n",
              "    <tr>\n",
              "      <th>std</th>\n",
              "      <td>1.129251</td>\n",
              "      <td>0.169039</td>\n",
              "      <td>0.467055</td>\n",
              "      <td>0.641092</td>\n",
              "      <td>1.000049e+00</td>\n",
              "      <td>1.000049e+00</td>\n",
              "      <td>1.000049e+00</td>\n",
              "      <td>1.000049e+00</td>\n",
              "      <td>1.000049e+00</td>\n",
              "      <td>1.000049e+00</td>\n",
              "      <td>1.000049e+00</td>\n",
              "    </tr>\n",
              "    <tr>\n",
              "      <th>min</th>\n",
              "      <td>1.000000</td>\n",
              "      <td>0.000000</td>\n",
              "      <td>0.000000</td>\n",
              "      <td>1.000000</td>\n",
              "      <td>-2.449969e+00</td>\n",
              "      <td>-2.656487e+00</td>\n",
              "      <td>-3.271761e+00</td>\n",
              "      <td>-1.552247e+00</td>\n",
              "      <td>-7.522680e-01</td>\n",
              "      <td>-1.171370e+00</td>\n",
              "      <td>-1.165975e+00</td>\n",
              "    </tr>\n",
              "    <tr>\n",
              "      <th>25%</th>\n",
              "      <td>1.000000</td>\n",
              "      <td>0.000000</td>\n",
              "      <td>0.000000</td>\n",
              "      <td>1.000000</td>\n",
              "      <td>-7.587323e-01</td>\n",
              "      <td>-7.755157e-01</td>\n",
              "      <td>-7.668579e-01</td>\n",
              "      <td>-6.957216e-01</td>\n",
              "      <td>-6.773458e-01</td>\n",
              "      <td>-8.867057e-01</td>\n",
              "      <td>-9.055210e-01</td>\n",
              "    </tr>\n",
              "    <tr>\n",
              "      <th>50%</th>\n",
              "      <td>2.000000</td>\n",
              "      <td>0.000000</td>\n",
              "      <td>1.000000</td>\n",
              "      <td>1.000000</td>\n",
              "      <td>-1.881612e-02</td>\n",
              "      <td>3.103732e-02</td>\n",
              "      <td>1.592423e-02</td>\n",
              "      <td>-2.063954e-01</td>\n",
              "      <td>-4.026314e-01</td>\n",
              "      <td>-1.888187e-01</td>\n",
              "      <td>-2.134564e-01</td>\n",
              "    </tr>\n",
              "    <tr>\n",
              "      <th>75%</th>\n",
              "      <td>4.000000</td>\n",
              "      <td>0.000000</td>\n",
              "      <td>1.000000</td>\n",
              "      <td>2.000000</td>\n",
              "      <td>8.268024e-01</td>\n",
              "      <td>8.375903e-01</td>\n",
              "      <td>7.987064e-01</td>\n",
              "      <td>5.271842e-01</td>\n",
              "      <td>2.716676e-01</td>\n",
              "      <td>6.284437e-01</td>\n",
              "      <td>6.646471e-01</td>\n",
              "    </tr>\n",
              "    <tr>\n",
              "      <th>max</th>\n",
              "      <td>4.000000</td>\n",
              "      <td>1.000000</td>\n",
              "      <td>1.000000</td>\n",
              "      <td>4.000000</td>\n",
              "      <td>2.729444e+00</td>\n",
              "      <td>2.629273e+00</td>\n",
              "      <td>1.946787e+00</td>\n",
              "      <td>5.420447e+00</td>\n",
              "      <td>6.040670e+00</td>\n",
              "      <td>3.401626e+00</td>\n",
              "      <td>2.599451e+00</td>\n",
              "    </tr>\n",
              "  </tbody>\n",
              "</table>\n",
              "</div>"
            ],
            "text/plain": [
              "             season       holiday  ...  registered_scaled  count_scaled\n",
              "count  10123.000000  10123.000000  ...       1.012300e+04  1.012300e+04\n",
              "mean       2.489578      0.029438  ...      -1.384691e-15 -8.549584e-16\n",
              "std        1.129251      0.169039  ...       1.000049e+00  1.000049e+00\n",
              "min        1.000000      0.000000  ...      -1.171370e+00 -1.165975e+00\n",
              "25%        1.000000      0.000000  ...      -8.867057e-01 -9.055210e-01\n",
              "50%        2.000000      0.000000  ...      -1.888187e-01 -2.134564e-01\n",
              "75%        4.000000      0.000000  ...       6.284437e-01  6.646471e-01\n",
              "max        4.000000      1.000000  ...       3.401626e+00  2.599451e+00\n",
              "\n",
              "[8 rows x 11 columns]"
            ]
          },
          "metadata": {},
          "execution_count": 186
        }
      ]
    },
    {
      "cell_type": "code",
      "metadata": {
        "id": "cxUPtq3Z1bVp"
      },
      "source": [
        "std_scaled_2.info()"
      ],
      "execution_count": null,
      "outputs": []
    },
    {
      "cell_type": "markdown",
      "metadata": {
        "id": "6R71voGJugfU"
      },
      "source": [
        "### **3-2) Min-Max Scaling**\n"
      ]
    },
    {
      "cell_type": "code",
      "metadata": {
        "id": "bZtT82jUuv_C"
      },
      "source": [
        "# sklearn modue : StandardScaler()\n",
        "from sklearn.preprocessing import MinMaxScaler\n",
        "\n",
        "mm_scaled = train_df_2\n",
        "scaler_mm = MinMaxScaler()"
      ],
      "execution_count": 188,
      "outputs": []
    },
    {
      "cell_type": "code",
      "metadata": {
        "id": "6nGQQJg5uv_D"
      },
      "source": [
        "for col in cols:\n",
        "    scaler_mm.fit(mm_scaled[col].values.reshape(-1,1))      # fitting\n",
        "    mm_scaled[col] = scaler_mm.transform(mm_scaled[col].values.reshape(-1,1))     # transform"
      ],
      "execution_count": null,
      "outputs": []
    },
    {
      "cell_type": "code",
      "metadata": {
        "colab": {
          "base_uri": "https://localhost:8080/",
          "height": 296
        },
        "id": "wxHiu6hbuv_E",
        "outputId": "f3a85d49-cbcb-4696-c549-322f261e2a82"
      },
      "source": [
        "mm_scaled.describe()\n",
        "\n",
        "# 결과는 직접한 것과 거의 유사"
      ],
      "execution_count": 190,
      "outputs": [
        {
          "output_type": "execute_result",
          "data": {
            "text/html": [
              "<div>\n",
              "<style scoped>\n",
              "    .dataframe tbody tr th:only-of-type {\n",
              "        vertical-align: middle;\n",
              "    }\n",
              "\n",
              "    .dataframe tbody tr th {\n",
              "        vertical-align: top;\n",
              "    }\n",
              "\n",
              "    .dataframe thead th {\n",
              "        text-align: right;\n",
              "    }\n",
              "</style>\n",
              "<table border=\"1\" class=\"dataframe\">\n",
              "  <thead>\n",
              "    <tr style=\"text-align: right;\">\n",
              "      <th></th>\n",
              "      <th>season</th>\n",
              "      <th>holiday</th>\n",
              "      <th>workingday</th>\n",
              "      <th>weather</th>\n",
              "      <th>temp</th>\n",
              "      <th>atemp</th>\n",
              "      <th>humidity</th>\n",
              "      <th>windspeed</th>\n",
              "      <th>casual</th>\n",
              "      <th>registered</th>\n",
              "      <th>count</th>\n",
              "    </tr>\n",
              "  </thead>\n",
              "  <tbody>\n",
              "    <tr>\n",
              "      <th>count</th>\n",
              "      <td>10123.000000</td>\n",
              "      <td>10123.000000</td>\n",
              "      <td>10123.000000</td>\n",
              "      <td>10123.000000</td>\n",
              "      <td>10123.000000</td>\n",
              "      <td>10123.000000</td>\n",
              "      <td>10123.000000</td>\n",
              "      <td>10123.000000</td>\n",
              "      <td>10123.000000</td>\n",
              "      <td>10123.000000</td>\n",
              "      <td>10123.000000</td>\n",
              "    </tr>\n",
              "    <tr>\n",
              "      <th>mean</th>\n",
              "      <td>2.489578</td>\n",
              "      <td>0.029438</td>\n",
              "      <td>0.678554</td>\n",
              "      <td>1.430702</td>\n",
              "      <td>0.473021</td>\n",
              "      <td>0.502574</td>\n",
              "      <td>0.626949</td>\n",
              "      <td>0.222618</td>\n",
              "      <td>0.110743</td>\n",
              "      <td>0.256149</td>\n",
              "      <td>0.309653</td>\n",
              "    </tr>\n",
              "    <tr>\n",
              "      <th>std</th>\n",
              "      <td>1.129251</td>\n",
              "      <td>0.169039</td>\n",
              "      <td>0.467055</td>\n",
              "      <td>0.641092</td>\n",
              "      <td>0.193082</td>\n",
              "      <td>0.189197</td>\n",
              "      <td>0.191634</td>\n",
              "      <td>0.143424</td>\n",
              "      <td>0.147219</td>\n",
              "      <td>0.218686</td>\n",
              "      <td>0.265587</td>\n",
              "    </tr>\n",
              "    <tr>\n",
              "      <th>min</th>\n",
              "      <td>1.000000</td>\n",
              "      <td>0.000000</td>\n",
              "      <td>0.000000</td>\n",
              "      <td>1.000000</td>\n",
              "      <td>0.000000</td>\n",
              "      <td>0.000000</td>\n",
              "      <td>0.000000</td>\n",
              "      <td>0.000000</td>\n",
              "      <td>0.000000</td>\n",
              "      <td>0.000000</td>\n",
              "      <td>0.000000</td>\n",
              "    </tr>\n",
              "    <tr>\n",
              "      <th>25%</th>\n",
              "      <td>1.000000</td>\n",
              "      <td>0.000000</td>\n",
              "      <td>0.000000</td>\n",
              "      <td>1.000000</td>\n",
              "      <td>0.326531</td>\n",
              "      <td>0.355856</td>\n",
              "      <td>0.480000</td>\n",
              "      <td>0.122840</td>\n",
              "      <td>0.011029</td>\n",
              "      <td>0.062249</td>\n",
              "      <td>0.069170</td>\n",
              "    </tr>\n",
              "    <tr>\n",
              "      <th>50%</th>\n",
              "      <td>2.000000</td>\n",
              "      <td>0.000000</td>\n",
              "      <td>1.000000</td>\n",
              "      <td>1.000000</td>\n",
              "      <td>0.469388</td>\n",
              "      <td>0.508446</td>\n",
              "      <td>0.630000</td>\n",
              "      <td>0.193018</td>\n",
              "      <td>0.051471</td>\n",
              "      <td>0.214859</td>\n",
              "      <td>0.252964</td>\n",
              "    </tr>\n",
              "    <tr>\n",
              "      <th>75%</th>\n",
              "      <td>4.000000</td>\n",
              "      <td>0.000000</td>\n",
              "      <td>1.000000</td>\n",
              "      <td>2.000000</td>\n",
              "      <td>0.632653</td>\n",
              "      <td>0.661036</td>\n",
              "      <td>0.780000</td>\n",
              "      <td>0.298225</td>\n",
              "      <td>0.150735</td>\n",
              "      <td>0.393574</td>\n",
              "      <td>0.486166</td>\n",
              "    </tr>\n",
              "    <tr>\n",
              "      <th>max</th>\n",
              "      <td>4.000000</td>\n",
              "      <td>1.000000</td>\n",
              "      <td>1.000000</td>\n",
              "      <td>4.000000</td>\n",
              "      <td>1.000000</td>\n",
              "      <td>1.000000</td>\n",
              "      <td>1.000000</td>\n",
              "      <td>1.000000</td>\n",
              "      <td>1.000000</td>\n",
              "      <td>1.000000</td>\n",
              "      <td>1.000000</td>\n",
              "    </tr>\n",
              "  </tbody>\n",
              "</table>\n",
              "</div>"
            ],
            "text/plain": [
              "             season       holiday  ...    registered         count\n",
              "count  10123.000000  10123.000000  ...  10123.000000  10123.000000\n",
              "mean       2.489578      0.029438  ...      0.256149      0.309653\n",
              "std        1.129251      0.169039  ...      0.218686      0.265587\n",
              "min        1.000000      0.000000  ...      0.000000      0.000000\n",
              "25%        1.000000      0.000000  ...      0.062249      0.069170\n",
              "50%        2.000000      0.000000  ...      0.214859      0.252964\n",
              "75%        4.000000      0.000000  ...      0.393574      0.486166\n",
              "max        4.000000      1.000000  ...      1.000000      1.000000\n",
              "\n",
              "[8 rows x 11 columns]"
            ]
          },
          "metadata": {},
          "execution_count": 190
        }
      ]
    },
    {
      "cell_type": "markdown",
      "metadata": {
        "id": "T45EctwJGj8g"
      },
      "source": [
        "### **3-3) Robust Scaling**\n"
      ]
    },
    {
      "cell_type": "code",
      "metadata": {
        "id": "34KUTRjUGkSJ"
      },
      "source": [
        "from sklearn.preprocessing import RobustScaler\n",
        "\n",
        "scaler_rb = RobustScaler()\n",
        "rb_scaled = train_df_2"
      ],
      "execution_count": 208,
      "outputs": []
    },
    {
      "cell_type": "code",
      "metadata": {
        "id": "v521I-lhGkaC"
      },
      "source": [
        "for col in cols:\n",
        "    scaler_rb.fit(rb_scaled[col].values.reshape(-1,1))      # fitting\n",
        "    rb_scaled[col] = scaler_rb.transform(rb_scaled[col].values.reshape(-1,1))     # transform"
      ],
      "execution_count": null,
      "outputs": []
    },
    {
      "cell_type": "code",
      "metadata": {
        "colab": {
          "base_uri": "https://localhost:8080/",
          "height": 296
        },
        "id": "--m2LVOvGkcL",
        "outputId": "3616fdaf-0adc-4bda-e6ab-ca16a7cbe829"
      },
      "source": [
        "rb_scaled.describe()"
      ],
      "execution_count": 210,
      "outputs": [
        {
          "output_type": "execute_result",
          "data": {
            "text/html": [
              "<div>\n",
              "<style scoped>\n",
              "    .dataframe tbody tr th:only-of-type {\n",
              "        vertical-align: middle;\n",
              "    }\n",
              "\n",
              "    .dataframe tbody tr th {\n",
              "        vertical-align: top;\n",
              "    }\n",
              "\n",
              "    .dataframe thead th {\n",
              "        text-align: right;\n",
              "    }\n",
              "</style>\n",
              "<table border=\"1\" class=\"dataframe\">\n",
              "  <thead>\n",
              "    <tr style=\"text-align: right;\">\n",
              "      <th></th>\n",
              "      <th>season</th>\n",
              "      <th>holiday</th>\n",
              "      <th>workingday</th>\n",
              "      <th>weather</th>\n",
              "      <th>temp</th>\n",
              "      <th>atemp</th>\n",
              "      <th>humidity</th>\n",
              "      <th>windspeed</th>\n",
              "      <th>casual</th>\n",
              "      <th>registered</th>\n",
              "      <th>count</th>\n",
              "    </tr>\n",
              "  </thead>\n",
              "  <tbody>\n",
              "    <tr>\n",
              "      <th>count</th>\n",
              "      <td>10123.000000</td>\n",
              "      <td>10123.000000</td>\n",
              "      <td>10123.000000</td>\n",
              "      <td>10123.000000</td>\n",
              "      <td>10123.000000</td>\n",
              "      <td>10123.000000</td>\n",
              "      <td>10123.000000</td>\n",
              "      <td>10123.000000</td>\n",
              "      <td>10123.000000</td>\n",
              "      <td>10123.000000</td>\n",
              "      <td>10123.000000</td>\n",
              "    </tr>\n",
              "    <tr>\n",
              "      <th>mean</th>\n",
              "      <td>2.489578</td>\n",
              "      <td>0.029438</td>\n",
              "      <td>0.678554</td>\n",
              "      <td>1.430702</td>\n",
              "      <td>0.011867</td>\n",
              "      <td>-0.019241</td>\n",
              "      <td>-0.010172</td>\n",
              "      <td>0.168775</td>\n",
              "      <td>0.424263</td>\n",
              "      <td>0.124621</td>\n",
              "      <td>0.135945</td>\n",
              "    </tr>\n",
              "    <tr>\n",
              "      <th>std</th>\n",
              "      <td>1.129251</td>\n",
              "      <td>0.169039</td>\n",
              "      <td>0.467055</td>\n",
              "      <td>0.641092</td>\n",
              "      <td>0.630733</td>\n",
              "      <td>0.619953</td>\n",
              "      <td>0.638779</td>\n",
              "      <td>0.817765</td>\n",
              "      <td>1.053778</td>\n",
              "      <td>0.660034</td>\n",
              "      <td>0.636906</td>\n",
              "    </tr>\n",
              "    <tr>\n",
              "      <th>min</th>\n",
              "      <td>1.000000</td>\n",
              "      <td>0.000000</td>\n",
              "      <td>0.000000</td>\n",
              "      <td>1.000000</td>\n",
              "      <td>-1.533333</td>\n",
              "      <td>-1.666056</td>\n",
              "      <td>-2.100000</td>\n",
              "      <td>-1.100536</td>\n",
              "      <td>-0.368421</td>\n",
              "      <td>-0.648485</td>\n",
              "      <td>-0.606635</td>\n",
              "    </tr>\n",
              "    <tr>\n",
              "      <th>25%</th>\n",
              "      <td>1.000000</td>\n",
              "      <td>0.000000</td>\n",
              "      <td>0.000000</td>\n",
              "      <td>1.000000</td>\n",
              "      <td>-0.466667</td>\n",
              "      <td>-0.500000</td>\n",
              "      <td>-0.500000</td>\n",
              "      <td>-0.400134</td>\n",
              "      <td>-0.289474</td>\n",
              "      <td>-0.460606</td>\n",
              "      <td>-0.440758</td>\n",
              "    </tr>\n",
              "    <tr>\n",
              "      <th>50%</th>\n",
              "      <td>2.000000</td>\n",
              "      <td>0.000000</td>\n",
              "      <td>1.000000</td>\n",
              "      <td>1.000000</td>\n",
              "      <td>0.000000</td>\n",
              "      <td>0.000000</td>\n",
              "      <td>0.000000</td>\n",
              "      <td>0.000000</td>\n",
              "      <td>0.000000</td>\n",
              "      <td>0.000000</td>\n",
              "      <td>0.000000</td>\n",
              "    </tr>\n",
              "    <tr>\n",
              "      <th>75%</th>\n",
              "      <td>4.000000</td>\n",
              "      <td>0.000000</td>\n",
              "      <td>1.000000</td>\n",
              "      <td>2.000000</td>\n",
              "      <td>0.533333</td>\n",
              "      <td>0.500000</td>\n",
              "      <td>0.500000</td>\n",
              "      <td>0.599866</td>\n",
              "      <td>0.710526</td>\n",
              "      <td>0.539394</td>\n",
              "      <td>0.559242</td>\n",
              "    </tr>\n",
              "    <tr>\n",
              "      <th>max</th>\n",
              "      <td>4.000000</td>\n",
              "      <td>1.000000</td>\n",
              "      <td>1.000000</td>\n",
              "      <td>4.000000</td>\n",
              "      <td>1.733333</td>\n",
              "      <td>1.610704</td>\n",
              "      <td>1.233333</td>\n",
              "      <td>4.601206</td>\n",
              "      <td>6.789474</td>\n",
              "      <td>2.369697</td>\n",
              "      <td>1.791469</td>\n",
              "    </tr>\n",
              "  </tbody>\n",
              "</table>\n",
              "</div>"
            ],
            "text/plain": [
              "             season       holiday  ...    registered         count\n",
              "count  10123.000000  10123.000000  ...  10123.000000  10123.000000\n",
              "mean       2.489578      0.029438  ...      0.124621      0.135945\n",
              "std        1.129251      0.169039  ...      0.660034      0.636906\n",
              "min        1.000000      0.000000  ...     -0.648485     -0.606635\n",
              "25%        1.000000      0.000000  ...     -0.460606     -0.440758\n",
              "50%        2.000000      0.000000  ...      0.000000      0.000000\n",
              "75%        4.000000      0.000000  ...      0.539394      0.559242\n",
              "max        4.000000      1.000000  ...      2.369697      1.791469\n",
              "\n",
              "[8 rows x 11 columns]"
            ]
          },
          "metadata": {},
          "execution_count": 210
        }
      ]
    },
    {
      "cell_type": "markdown",
      "metadata": {
        "id": "FtJ6OUxYJg-2"
      },
      "source": [
        "### **Comparison of Each Scaler**"
      ]
    },
    {
      "cell_type": "code",
      "metadata": {
        "colab": {
          "base_uri": "https://localhost:8080/",
          "height": 461
        },
        "id": "qfFnh-uK70dW",
        "outputId": "30285fd3-f587-4d21-dd67-011fb0302467"
      },
      "source": [
        "fig, axes = plt.subplots(1, 3, figsize=(20, 7))\n",
        "ax = axes.flatten()\n",
        "\n",
        "sns.kdeplot(x=std_scaled_2['casual_scaled'], ax=ax[0], label='casual')\n",
        "sns.kdeplot(x=std_scaled_2['registered_scaled'], ax=ax[0], label='registered')\n",
        "sns.kdeplot(x=std_scaled_2['count_scaled'], ax=ax[0], label='count')\n",
        "ax[0].legend()\n",
        "ax[0].set_title(\"Standard-Scaler\", fontsize=15)\n",
        "\n",
        "sns.kdeplot(x=mm_scaled['casual'], ax=ax[1], label='casual')\n",
        "sns.kdeplot(x=mm_scaled['registered'], ax=ax[1], label='registered')\n",
        "sns.kdeplot(x=mm_scaled['count'], ax=ax[1], label='count')\n",
        "ax[1].legend()\n",
        "ax[1].set_title(\"MinMax-Scaler\", fontsize=15)\n",
        "\n",
        "sns.kdeplot(x=rb_scaled['casual'], ax=ax[2], label='casual')\n",
        "sns.kdeplot(x=rb_scaled['registered'], ax=ax[2], label='registered')\n",
        "sns.kdeplot(x=rb_scaled['count'], ax=ax[2], label='count')\n",
        "ax[2].legend()\n",
        "ax[2].set_title(\"Robust-Scaler\", fontsize=15)\n",
        "\n",
        "plt.show()"
      ],
      "execution_count": 194,
      "outputs": [
        {
          "output_type": "display_data",
          "data": {
            "image/png": "[encoded data removed]",
            "text/plain": [
              "<Figure size 1440x504 with 3 Axes>"
            ]
          },
          "metadata": {
            "needs_background": "light"
          }
        }
      ]
    },
    {
      "cell_type": "markdown",
      "metadata": {
        "id": "GmpmFZktOb4_"
      },
      "source": [
        "Robust-Scaler 적용한 traindata set rb_scaled 사용"
      ]
    },
    {
      "cell_type": "code",
      "metadata": {
        "id": "SGTzAHqaQiU3"
      },
      "source": [
        "test_df"
      ],
      "execution_count": null,
      "outputs": []
    },
    {
      "cell_type": "markdown",
      "metadata": {
        "id": "qm-TiMBQGjki"
      },
      "source": [
        "## **4. Encoding**\n",
        "- Label Encoding\n",
        "- One-Hot Encoding"
      ]
    },
    {
      "cell_type": "code",
      "metadata": {
        "id": "7Mzn7TikGjna"
      },
      "source": [
        "rb_scaled.head(10)"
      ],
      "execution_count": null,
      "outputs": []
    },
    {
      "cell_type": "code",
      "metadata": {
        "id": "Myn4FRtqGjra"
      },
      "source": [
        "train = pd.DataFrame(rb_scaled)"
      ],
      "execution_count": 211,
      "outputs": []
    },
    {
      "cell_type": "markdown",
      "metadata": {
        "id": "u_bjwCWWGjwL"
      },
      "source": [
        "# **Feature Selection**"
      ]
    },
    {
      "cell_type": "code",
      "metadata": {
        "id": "V4ggXS_fUufo"
      },
      "source": [
        "test_df = pd.read_csv(\"/content/test.csv\")\n",
        "train_df = pd.read_csv(\"/content/train.csv\")"
      ],
      "execution_count": 236,
      "outputs": []
    },
    {
      "cell_type": "code",
      "metadata": {
        "colab": {
          "base_uri": "https://localhost:8080/",
          "height": 418
        },
        "id": "5LjJ9447Tfya",
        "outputId": "42d36818-8584-400b-d3d8-0bd67f095501"
      },
      "source": [
        "train_df"
      ],
      "execution_count": 273,
      "outputs": [
        {
          "output_type": "execute_result",
          "data": {
            "text/html": [
              "<div>\n",
              "<style scoped>\n",
              "    .dataframe tbody tr th:only-of-type {\n",
              "        vertical-align: middle;\n",
              "    }\n",
              "\n",
              "    .dataframe tbody tr th {\n",
              "        vertical-align: top;\n",
              "    }\n",
              "\n",
              "    .dataframe thead th {\n",
              "        text-align: right;\n",
              "    }\n",
              "</style>\n",
              "<table border=\"1\" class=\"dataframe\">\n",
              "  <thead>\n",
              "    <tr style=\"text-align: right;\">\n",
              "      <th></th>\n",
              "      <th>datetime</th>\n",
              "      <th>season</th>\n",
              "      <th>holiday</th>\n",
              "      <th>workingday</th>\n",
              "      <th>weather</th>\n",
              "      <th>temp</th>\n",
              "      <th>atemp</th>\n",
              "      <th>humidity</th>\n",
              "      <th>windspeed</th>\n",
              "      <th>casual</th>\n",
              "      <th>registered</th>\n",
              "      <th>count</th>\n",
              "    </tr>\n",
              "  </thead>\n",
              "  <tbody>\n",
              "    <tr>\n",
              "      <th>0</th>\n",
              "      <td>2011-01-01 00:00:00</td>\n",
              "      <td>1</td>\n",
              "      <td>0</td>\n",
              "      <td>0</td>\n",
              "      <td>1</td>\n",
              "      <td>9.84</td>\n",
              "      <td>14.395</td>\n",
              "      <td>81</td>\n",
              "      <td>0.0000</td>\n",
              "      <td>3</td>\n",
              "      <td>13</td>\n",
              "      <td>16</td>\n",
              "    </tr>\n",
              "    <tr>\n",
              "      <th>1</th>\n",
              "      <td>2011-01-01 01:00:00</td>\n",
              "      <td>1</td>\n",
              "      <td>0</td>\n",
              "      <td>0</td>\n",
              "      <td>1</td>\n",
              "      <td>9.02</td>\n",
              "      <td>13.635</td>\n",
              "      <td>80</td>\n",
              "      <td>0.0000</td>\n",
              "      <td>8</td>\n",
              "      <td>32</td>\n",
              "      <td>40</td>\n",
              "    </tr>\n",
              "    <tr>\n",
              "      <th>2</th>\n",
              "      <td>2011-01-01 02:00:00</td>\n",
              "      <td>1</td>\n",
              "      <td>0</td>\n",
              "      <td>0</td>\n",
              "      <td>1</td>\n",
              "      <td>9.02</td>\n",
              "      <td>13.635</td>\n",
              "      <td>80</td>\n",
              "      <td>0.0000</td>\n",
              "      <td>5</td>\n",
              "      <td>27</td>\n",
              "      <td>32</td>\n",
              "    </tr>\n",
              "    <tr>\n",
              "      <th>3</th>\n",
              "      <td>2011-01-01 03:00:00</td>\n",
              "      <td>1</td>\n",
              "      <td>0</td>\n",
              "      <td>0</td>\n",
              "      <td>1</td>\n",
              "      <td>9.84</td>\n",
              "      <td>14.395</td>\n",
              "      <td>75</td>\n",
              "      <td>0.0000</td>\n",
              "      <td>3</td>\n",
              "      <td>10</td>\n",
              "      <td>13</td>\n",
              "    </tr>\n",
              "    <tr>\n",
              "      <th>4</th>\n",
              "      <td>2011-01-01 04:00:00</td>\n",
              "      <td>1</td>\n",
              "      <td>0</td>\n",
              "      <td>0</td>\n",
              "      <td>1</td>\n",
              "      <td>9.84</td>\n",
              "      <td>14.395</td>\n",
              "      <td>75</td>\n",
              "      <td>0.0000</td>\n",
              "      <td>0</td>\n",
              "      <td>1</td>\n",
              "      <td>1</td>\n",
              "    </tr>\n",
              "    <tr>\n",
              "      <th>...</th>\n",
              "      <td>...</td>\n",
              "      <td>...</td>\n",
              "      <td>...</td>\n",
              "      <td>...</td>\n",
              "      <td>...</td>\n",
              "      <td>...</td>\n",
              "      <td>...</td>\n",
              "      <td>...</td>\n",
              "      <td>...</td>\n",
              "      <td>...</td>\n",
              "      <td>...</td>\n",
              "      <td>...</td>\n",
              "    </tr>\n",
              "    <tr>\n",
              "      <th>10881</th>\n",
              "      <td>2012-12-19 19:00:00</td>\n",
              "      <td>4</td>\n",
              "      <td>0</td>\n",
              "      <td>1</td>\n",
              "      <td>1</td>\n",
              "      <td>15.58</td>\n",
              "      <td>19.695</td>\n",
              "      <td>50</td>\n",
              "      <td>26.0027</td>\n",
              "      <td>7</td>\n",
              "      <td>329</td>\n",
              "      <td>336</td>\n",
              "    </tr>\n",
              "    <tr>\n",
              "      <th>10882</th>\n",
              "      <td>2012-12-19 20:00:00</td>\n",
              "      <td>4</td>\n",
              "      <td>0</td>\n",
              "      <td>1</td>\n",
              "      <td>1</td>\n",
              "      <td>14.76</td>\n",
              "      <td>17.425</td>\n",
              "      <td>57</td>\n",
              "      <td>15.0013</td>\n",
              "      <td>10</td>\n",
              "      <td>231</td>\n",
              "      <td>241</td>\n",
              "    </tr>\n",
              "    <tr>\n",
              "      <th>10883</th>\n",
              "      <td>2012-12-19 21:00:00</td>\n",
              "      <td>4</td>\n",
              "      <td>0</td>\n",
              "      <td>1</td>\n",
              "      <td>1</td>\n",
              "      <td>13.94</td>\n",
              "      <td>15.910</td>\n",
              "      <td>61</td>\n",
              "      <td>15.0013</td>\n",
              "      <td>4</td>\n",
              "      <td>164</td>\n",
              "      <td>168</td>\n",
              "    </tr>\n",
              "    <tr>\n",
              "      <th>10884</th>\n",
              "      <td>2012-12-19 22:00:00</td>\n",
              "      <td>4</td>\n",
              "      <td>0</td>\n",
              "      <td>1</td>\n",
              "      <td>1</td>\n",
              "      <td>13.94</td>\n",
              "      <td>17.425</td>\n",
              "      <td>61</td>\n",
              "      <td>6.0032</td>\n",
              "      <td>12</td>\n",
              "      <td>117</td>\n",
              "      <td>129</td>\n",
              "    </tr>\n",
              "    <tr>\n",
              "      <th>10885</th>\n",
              "      <td>2012-12-19 23:00:00</td>\n",
              "      <td>4</td>\n",
              "      <td>0</td>\n",
              "      <td>1</td>\n",
              "      <td>1</td>\n",
              "      <td>13.12</td>\n",
              "      <td>16.665</td>\n",
              "      <td>66</td>\n",
              "      <td>8.9981</td>\n",
              "      <td>4</td>\n",
              "      <td>84</td>\n",
              "      <td>88</td>\n",
              "    </tr>\n",
              "  </tbody>\n",
              "</table>\n",
              "<p>10265 rows × 12 columns</p>\n",
              "</div>"
            ],
            "text/plain": [
              "                  datetime  season  holiday  ...  casual  registered  count\n",
              "0      2011-01-01 00:00:00       1        0  ...       3          13     16\n",
              "1      2011-01-01 01:00:00       1        0  ...       8          32     40\n",
              "2      2011-01-01 02:00:00       1        0  ...       5          27     32\n",
              "3      2011-01-01 03:00:00       1        0  ...       3          10     13\n",
              "4      2011-01-01 04:00:00       1        0  ...       0           1      1\n",
              "...                    ...     ...      ...  ...     ...         ...    ...\n",
              "10881  2012-12-19 19:00:00       4        0  ...       7         329    336\n",
              "10882  2012-12-19 20:00:00       4        0  ...      10         231    241\n",
              "10883  2012-12-19 21:00:00       4        0  ...       4         164    168\n",
              "10884  2012-12-19 22:00:00       4        0  ...      12         117    129\n",
              "10885  2012-12-19 23:00:00       4        0  ...       4          84     88\n",
              "\n",
              "[10265 rows x 12 columns]"
            ]
          },
          "metadata": {},
          "execution_count": 273
        }
      ]
    },
    {
      "cell_type": "code",
      "metadata": {
        "colab": {
          "base_uri": "https://localhost:8080/",
          "height": 352
        },
        "id": "tnygTqIPSM27",
        "outputId": "989250d3-df79-4cb7-8dcb-997b0677df39"
      },
      "source": [
        "import warnings\n",
        "warnings.simplefilter(action='ignore', category=FutureWarning)\n",
        "\n",
        "fig, axes = plt.subplots(3,1, figsize = (10,5))\n",
        "\n",
        "sns.countplot(train_df[\"season\"], ax = axes[0])\n",
        "sns.countplot(train_df[\"weather\"], ax = axes[1])\n",
        "sns.countplot(train_df[\"windspeed\"], ax = axes[2])"
      ],
      "execution_count": 274,
      "outputs": [
        {
          "output_type": "execute_result",
          "data": {
            "text/plain": [
              "<matplotlib.axes._subplots.AxesSubplot at 0x7f4779f884d0>"
            ]
          },
          "metadata": {},
          "execution_count": 274
        },
        {
          "output_type": "display_data",
          "data": {
            "image/png": "[encoded data removed]",
            "text/plain": [
              "<Figure size 720x360 with 3 Axes>"
            ]
          },
          "metadata": {
            "needs_background": "light"
          }
        }
      ]
    },
    {
      "cell_type": "code",
      "metadata": {
        "id": "VnJjtciHUcU0"
      },
      "source": [
        "x_df = train_df.iloc[:, :-3]\n",
        "y_df = train_df.iloc[:, -1:]"
      ],
      "execution_count": 275,
      "outputs": []
    },
    {
      "cell_type": "code",
      "metadata": {
        "colab": {
          "base_uri": "https://localhost:8080/",
          "height": 418
        },
        "id": "lQJ_R55AVA4c",
        "outputId": "9fe3f91c-f209-4b5d-a7c0-0af5c731037d"
      },
      "source": [
        "x_df\n",
        "y_df"
      ],
      "execution_count": 276,
      "outputs": [
        {
          "output_type": "execute_result",
          "data": {
            "text/html": [
              "<div>\n",
              "<style scoped>\n",
              "    .dataframe tbody tr th:only-of-type {\n",
              "        vertical-align: middle;\n",
              "    }\n",
              "\n",
              "    .dataframe tbody tr th {\n",
              "        vertical-align: top;\n",
              "    }\n",
              "\n",
              "    .dataframe thead th {\n",
              "        text-align: right;\n",
              "    }\n",
              "</style>\n",
              "<table border=\"1\" class=\"dataframe\">\n",
              "  <thead>\n",
              "    <tr style=\"text-align: right;\">\n",
              "      <th></th>\n",
              "      <th>count</th>\n",
              "    </tr>\n",
              "  </thead>\n",
              "  <tbody>\n",
              "    <tr>\n",
              "      <th>0</th>\n",
              "      <td>16</td>\n",
              "    </tr>\n",
              "    <tr>\n",
              "      <th>1</th>\n",
              "      <td>40</td>\n",
              "    </tr>\n",
              "    <tr>\n",
              "      <th>2</th>\n",
              "      <td>32</td>\n",
              "    </tr>\n",
              "    <tr>\n",
              "      <th>3</th>\n",
              "      <td>13</td>\n",
              "    </tr>\n",
              "    <tr>\n",
              "      <th>4</th>\n",
              "      <td>1</td>\n",
              "    </tr>\n",
              "    <tr>\n",
              "      <th>...</th>\n",
              "      <td>...</td>\n",
              "    </tr>\n",
              "    <tr>\n",
              "      <th>10881</th>\n",
              "      <td>336</td>\n",
              "    </tr>\n",
              "    <tr>\n",
              "      <th>10882</th>\n",
              "      <td>241</td>\n",
              "    </tr>\n",
              "    <tr>\n",
              "      <th>10883</th>\n",
              "      <td>168</td>\n",
              "    </tr>\n",
              "    <tr>\n",
              "      <th>10884</th>\n",
              "      <td>129</td>\n",
              "    </tr>\n",
              "    <tr>\n",
              "      <th>10885</th>\n",
              "      <td>88</td>\n",
              "    </tr>\n",
              "  </tbody>\n",
              "</table>\n",
              "<p>10265 rows × 1 columns</p>\n",
              "</div>"
            ],
            "text/plain": [
              "       count\n",
              "0         16\n",
              "1         40\n",
              "2         32\n",
              "3         13\n",
              "4          1\n",
              "...      ...\n",
              "10881    336\n",
              "10882    241\n",
              "10883    168\n",
              "10884    129\n",
              "10885     88\n",
              "\n",
              "[10265 rows x 1 columns]"
            ]
          },
          "metadata": {},
          "execution_count": 276
        }
      ]
    },
    {
      "cell_type": "code",
      "metadata": {
        "id": "XFOleCpqGj1N"
      },
      "source": [
        "dt = pd.DatetimeIndex(x_df['datetime'])"
      ],
      "execution_count": 277,
      "outputs": []
    },
    {
      "cell_type": "code",
      "metadata": {
        "id": "PZW4JwUKGkgC"
      },
      "source": [
        "x_df['date'] = dt.date\n",
        "x_df['month'] = dt.month\n",
        "x_df['year'] = dt.year\n",
        "x_df['hour'] = dt.hour\n",
        "x_df['dow'] = dt.dayofweek"
      ],
      "execution_count": 278,
      "outputs": []
    },
    {
      "cell_type": "code",
      "metadata": {
        "id": "YuZXmWOrGkiw"
      },
      "source": [
        "x_df.drop('datetime', axis=1, inplace=True)"
      ],
      "execution_count": null,
      "outputs": []
    },
    {
      "cell_type": "code",
      "metadata": {
        "colab": {
          "base_uri": "https://localhost:8080/",
          "height": 418
        },
        "id": "uE9EEut_Gklt",
        "outputId": "c3290d44-eafa-4bb5-9ac6-86efcb1446cb"
      },
      "source": [
        "x_df"
      ],
      "execution_count": 281,
      "outputs": [
        {
          "output_type": "execute_result",
          "data": {
            "text/html": [
              "<div>\n",
              "<style scoped>\n",
              "    .dataframe tbody tr th:only-of-type {\n",
              "        vertical-align: middle;\n",
              "    }\n",
              "\n",
              "    .dataframe tbody tr th {\n",
              "        vertical-align: top;\n",
              "    }\n",
              "\n",
              "    .dataframe thead th {\n",
              "        text-align: right;\n",
              "    }\n",
              "</style>\n",
              "<table border=\"1\" class=\"dataframe\">\n",
              "  <thead>\n",
              "    <tr style=\"text-align: right;\">\n",
              "      <th></th>\n",
              "      <th>season</th>\n",
              "      <th>holiday</th>\n",
              "      <th>workingday</th>\n",
              "      <th>weather</th>\n",
              "      <th>temp</th>\n",
              "      <th>atemp</th>\n",
              "      <th>humidity</th>\n",
              "      <th>windspeed</th>\n",
              "      <th>date</th>\n",
              "      <th>month</th>\n",
              "      <th>year</th>\n",
              "      <th>hour</th>\n",
              "      <th>dow</th>\n",
              "    </tr>\n",
              "  </thead>\n",
              "  <tbody>\n",
              "    <tr>\n",
              "      <th>0</th>\n",
              "      <td>1</td>\n",
              "      <td>0</td>\n",
              "      <td>0</td>\n",
              "      <td>1</td>\n",
              "      <td>9.84</td>\n",
              "      <td>14.395</td>\n",
              "      <td>81</td>\n",
              "      <td>0.0000</td>\n",
              "      <td>2011-01-01</td>\n",
              "      <td>1</td>\n",
              "      <td>2011</td>\n",
              "      <td>0</td>\n",
              "      <td>5</td>\n",
              "    </tr>\n",
              "    <tr>\n",
              "      <th>1</th>\n",
              "      <td>1</td>\n",
              "      <td>0</td>\n",
              "      <td>0</td>\n",
              "      <td>1</td>\n",
              "      <td>9.02</td>\n",
              "      <td>13.635</td>\n",
              "      <td>80</td>\n",
              "      <td>0.0000</td>\n",
              "      <td>2011-01-01</td>\n",
              "      <td>1</td>\n",
              "      <td>2011</td>\n",
              "      <td>1</td>\n",
              "      <td>5</td>\n",
              "    </tr>\n",
              "    <tr>\n",
              "      <th>2</th>\n",
              "      <td>1</td>\n",
              "      <td>0</td>\n",
              "      <td>0</td>\n",
              "      <td>1</td>\n",
              "      <td>9.02</td>\n",
              "      <td>13.635</td>\n",
              "      <td>80</td>\n",
              "      <td>0.0000</td>\n",
              "      <td>2011-01-01</td>\n",
              "      <td>1</td>\n",
              "      <td>2011</td>\n",
              "      <td>2</td>\n",
              "      <td>5</td>\n",
              "    </tr>\n",
              "    <tr>\n",
              "      <th>3</th>\n",
              "      <td>1</td>\n",
              "      <td>0</td>\n",
              "      <td>0</td>\n",
              "      <td>1</td>\n",
              "      <td>9.84</td>\n",
              "      <td>14.395</td>\n",
              "      <td>75</td>\n",
              "      <td>0.0000</td>\n",
              "      <td>2011-01-01</td>\n",
              "      <td>1</td>\n",
              "      <td>2011</td>\n",
              "      <td>3</td>\n",
              "      <td>5</td>\n",
              "    </tr>\n",
              "    <tr>\n",
              "      <th>4</th>\n",
              "      <td>1</td>\n",
              "      <td>0</td>\n",
              "      <td>0</td>\n",
              "      <td>1</td>\n",
              "      <td>9.84</td>\n",
              "      <td>14.395</td>\n",
              "      <td>75</td>\n",
              "      <td>0.0000</td>\n",
              "      <td>2011-01-01</td>\n",
              "      <td>1</td>\n",
              "      <td>2011</td>\n",
              "      <td>4</td>\n",
              "      <td>5</td>\n",
              "    </tr>\n",
              "    <tr>\n",
              "      <th>...</th>\n",
              "      <td>...</td>\n",
              "      <td>...</td>\n",
              "      <td>...</td>\n",
              "      <td>...</td>\n",
              "      <td>...</td>\n",
              "      <td>...</td>\n",
              "      <td>...</td>\n",
              "      <td>...</td>\n",
              "      <td>...</td>\n",
              "      <td>...</td>\n",
              "      <td>...</td>\n",
              "      <td>...</td>\n",
              "      <td>...</td>\n",
              "    </tr>\n",
              "    <tr>\n",
              "      <th>10881</th>\n",
              "      <td>4</td>\n",
              "      <td>0</td>\n",
              "      <td>1</td>\n",
              "      <td>1</td>\n",
              "      <td>15.58</td>\n",
              "      <td>19.695</td>\n",
              "      <td>50</td>\n",
              "      <td>26.0027</td>\n",
              "      <td>2012-12-19</td>\n",
              "      <td>12</td>\n",
              "      <td>2012</td>\n",
              "      <td>19</td>\n",
              "      <td>2</td>\n",
              "    </tr>\n",
              "    <tr>\n",
              "      <th>10882</th>\n",
              "      <td>4</td>\n",
              "      <td>0</td>\n",
              "      <td>1</td>\n",
              "      <td>1</td>\n",
              "      <td>14.76</td>\n",
              "      <td>17.425</td>\n",
              "      <td>57</td>\n",
              "      <td>15.0013</td>\n",
              "      <td>2012-12-19</td>\n",
              "      <td>12</td>\n",
              "      <td>2012</td>\n",
              "      <td>20</td>\n",
              "      <td>2</td>\n",
              "    </tr>\n",
              "    <tr>\n",
              "      <th>10883</th>\n",
              "      <td>4</td>\n",
              "      <td>0</td>\n",
              "      <td>1</td>\n",
              "      <td>1</td>\n",
              "      <td>13.94</td>\n",
              "      <td>15.910</td>\n",
              "      <td>61</td>\n",
              "      <td>15.0013</td>\n",
              "      <td>2012-12-19</td>\n",
              "      <td>12</td>\n",
              "      <td>2012</td>\n",
              "      <td>21</td>\n",
              "      <td>2</td>\n",
              "    </tr>\n",
              "    <tr>\n",
              "      <th>10884</th>\n",
              "      <td>4</td>\n",
              "      <td>0</td>\n",
              "      <td>1</td>\n",
              "      <td>1</td>\n",
              "      <td>13.94</td>\n",
              "      <td>17.425</td>\n",
              "      <td>61</td>\n",
              "      <td>6.0032</td>\n",
              "      <td>2012-12-19</td>\n",
              "      <td>12</td>\n",
              "      <td>2012</td>\n",
              "      <td>22</td>\n",
              "      <td>2</td>\n",
              "    </tr>\n",
              "    <tr>\n",
              "      <th>10885</th>\n",
              "      <td>4</td>\n",
              "      <td>0</td>\n",
              "      <td>1</td>\n",
              "      <td>1</td>\n",
              "      <td>13.12</td>\n",
              "      <td>16.665</td>\n",
              "      <td>66</td>\n",
              "      <td>8.9981</td>\n",
              "      <td>2012-12-19</td>\n",
              "      <td>12</td>\n",
              "      <td>2012</td>\n",
              "      <td>23</td>\n",
              "      <td>2</td>\n",
              "    </tr>\n",
              "  </tbody>\n",
              "</table>\n",
              "<p>10265 rows × 13 columns</p>\n",
              "</div>"
            ],
            "text/plain": [
              "       season  holiday  workingday  weather  ...  month  year  hour  dow\n",
              "0           1        0           0        1  ...      1  2011     0    5\n",
              "1           1        0           0        1  ...      1  2011     1    5\n",
              "2           1        0           0        1  ...      1  2011     2    5\n",
              "3           1        0           0        1  ...      1  2011     3    5\n",
              "4           1        0           0        1  ...      1  2011     4    5\n",
              "...       ...      ...         ...      ...  ...    ...   ...   ...  ...\n",
              "10881       4        0           1        1  ...     12  2012    19    2\n",
              "10882       4        0           1        1  ...     12  2012    20    2\n",
              "10883       4        0           1        1  ...     12  2012    21    2\n",
              "10884       4        0           1        1  ...     12  2012    22    2\n",
              "10885       4        0           1        1  ...     12  2012    23    2\n",
              "\n",
              "[10265 rows x 13 columns]"
            ]
          },
          "metadata": {},
          "execution_count": 281
        }
      ]
    },
    {
      "cell_type": "code",
      "metadata": {
        "colab": {
          "base_uri": "https://localhost:8080/",
          "height": 797
        },
        "id": "P116dV-7GkoM",
        "outputId": "db5743de-5be5-4259-9691-980ca611108b"
      },
      "source": [
        "sns.set(style='darkgrid')\n",
        "fig, axes = plt.subplots(3, 2, figsize=(16, 11))\n",
        "sns.boxplot(x=x_df[\"hour\"], y=y_df[\"count\"], ax=axes[0][0])\n",
        "sns.boxplot(x=x_df[\"dow\"], y=y_df[\"count\"], ax=axes[0][1])\n",
        "sns.boxplot(x=x_df[\"year\"], y=y_df[\"count\"], ax=axes[1][0])\n",
        "sns.boxplot(x=x_df[\"month\"], y=y_df[\"count\"], ax=axes[1][1])\n",
        "sns.boxplot(x=x_df[\"workingday\"], y=y_df[\"count\"], ax=axes[2][0])\n",
        "sns.boxplot(x=x_df[\"temp\"], y=y_df[\"count\"], ax=axes[2][1])\n",
        "plt.tight_layout()"
      ],
      "execution_count": 326,
      "outputs": [
        {
          "output_type": "display_data",
          "data": {
            "image/png": "[encoded data removed]",
            "text/plain": [
              "<Figure size 1152x792 with 6 Axes>"
            ]
          },
          "metadata": {}
        }
      ]
    },
    {
      "cell_type": "code",
      "metadata": {
        "id": "_qmQQ9INaH2E"
      },
      "source": [
        "train_df\n",
        "\n",
        "train_df['date'] = dt.date\n",
        "train_df['month'] = dt.month\n",
        "train_df['year'] = dt.year\n",
        "train_df['hour'] = dt.hour\n",
        "train_df['dow'] = dt.dayofweek\n",
        "\n",
        "train_df"
      ],
      "execution_count": null,
      "outputs": []
    },
    {
      "cell_type": "code",
      "metadata": {
        "colab": {
          "base_uri": "https://localhost:8080/",
          "height": 761
        },
        "id": "bZh2Z-tiZng3",
        "outputId": "dec8db86-5207-4318-9cd3-f2bf3d49ad2a"
      },
      "source": [
        "sns.set(style='darkgrid')\n",
        "plt.figure(figsize=(18, 13))\n",
        "sns.lmplot(x=\"humidity\", y=\"count\", data=train_df, col=\"weather\", col_wrap=2)   # col_wrap : 한 줄에 표시할 column 개수"
      ],
      "execution_count": 311,
      "outputs": [
        {
          "output_type": "execute_result",
          "data": {
            "text/plain": [
              "<seaborn.axisgrid.FacetGrid at 0x7f4776a22750>"
            ]
          },
          "metadata": {},
          "execution_count": 311
        },
        {
          "output_type": "display_data",
          "data": {
            "text/plain": [
              "<Figure size 1296x936 with 0 Axes>"
            ]
          },
          "metadata": {}
        },
        {
          "output_type": "display_data",
          "data": {
            "image/png": "[encoded data removed]",
            "text/plain": [
              "<Figure size 720x720 with 4 Axes>"
            ]
          },
          "metadata": {}
        }
      ]
    },
    {
      "cell_type": "code",
      "metadata": {
        "id": "LDE_43nScozM"
      },
      "source": [
        "sns.set(style='darkgrid')\n",
        "plt.figure(figsize=(18, 13))\n",
        "sns.relplot(x=\"hour\", y=\"count\", data=train_df)"
      ],
      "execution_count": null,
      "outputs": []
    },
    {
      "cell_type": "code",
      "metadata": {
        "colab": {
          "base_uri": "https://localhost:8080/",
          "height": 367
        },
        "id": "WQrmQ4xfGkrY",
        "outputId": "aa7a2496-bb51-4415-e025-9fe4d72611e0"
      },
      "source": [
        "plt.figure(figsize=(24, 5))\n",
        "g = sns.boxplot(x=x_df[\"atemp\"], y=y_df[\"count\"])\n",
        "g.set_xticklabels(g.get_xticklabels(), rotation=90)\n",
        "plt.show()"
      ],
      "execution_count": 339,
      "outputs": [
        {
          "output_type": "display_data",
          "data": {
            "image/png": "[encoded data removed]",
            "text/plain": [
              "<Figure size 1728x360 with 1 Axes>"
            ]
          },
          "metadata": {}
        }
      ]
    },
    {
      "cell_type": "markdown",
      "metadata": {
        "id": "HPM0QvVKGkxK"
      },
      "source": [
        "## **중요 feature**\n",
        "- date : month, hour\n",
        "- weather : weather, humidity, temp, atemp"
      ]
    }
  ]
}
